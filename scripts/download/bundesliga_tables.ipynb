{
 "cells": [
  {
   "cell_type": "code",
   "execution_count": 1,
   "metadata": {},
   "outputs": [],
   "source": [
    "%load_ext autoreload\n",
    "%autoreload 2"
   ]
  },
  {
   "cell_type": "code",
   "execution_count": 2,
   "metadata": {},
   "outputs": [],
   "source": [
    "from betting.scraping import *\n",
    "\n",
    "import urllib.request\n",
    "import re\n",
    "from dataclasses import dataclass\n",
    "from datetime import datetime\n",
    "import pandas as pd\n",
    "from pathlib import Path"
   ]
  },
  {
   "cell_type": "markdown",
   "metadata": {},
   "source": [
    "# Scraping for bundesliga data"
   ]
  },
  {
   "cell_type": "code",
   "execution_count": 3,
   "metadata": {},
   "outputs": [],
   "source": [
    "base_url = 'https://www.sport.de'\n",
    "example_url = base_url + '/fussball/deutschland-bundesliga/se580/2006-2007/ergebnisse-und-tabelle'"
   ]
  },
  {
   "cell_type": "code",
   "execution_count": 4,
   "metadata": {},
   "outputs": [],
   "source": [
    "bs = get_html(example_url)"
   ]
  },
  {
   "cell_type": "markdown",
   "metadata": {},
   "source": [
    "## Find season links"
   ]
  },
  {
   "cell_type": "code",
   "execution_count": 5,
   "metadata": {},
   "outputs": [],
   "source": [
    "select_element = bs.find_all('select', {'class': 'navigation season-navigation'})[0]\n",
    "seasons_urls = {}\n",
    "\n",
    "for option in select_element.find_all('option'):\n",
    "    match = re.match(r'''/fussball/deutschland-bundesliga/.+/(\\d\\d\\d\\d-\\d\\d\\d\\d)/ergebnisse-und-tabelle/''', option['value'])\n",
    "    if match is None:\n",
    "        print(option['value'])\n",
    "        continue\n",
    "    url = match.group(0)\n",
    "    season = match.group(1)\n",
    "    season = season[2] + season[3] + season[7] + season[8]\n",
    "    seasons_urls[season] = url"
   ]
  },
  {
   "cell_type": "code",
   "execution_count": 6,
   "metadata": {},
   "outputs": [
    {
     "data": {
      "text/plain": [
       "{'2021': '/fussball/deutschland-bundesliga/se35753/2020-2021/ergebnisse-und-tabelle/',\n",
       " '1920': '/fussball/deutschland-bundesliga/se31723/2019-2020/ergebnisse-und-tabelle/',\n",
       " '1819': '/fussball/deutschland-bundesliga/se28567/2018-2019/ergebnisse-und-tabelle/',\n",
       " '1718': '/fussball/deutschland-bundesliga/se23906/2017-2018/ergebnisse-und-tabelle/',\n",
       " '1617': '/fussball/deutschland-bundesliga/se20812/2016-2017/ergebnisse-und-tabelle/',\n",
       " '1516': '/fussball/deutschland-bundesliga/se18336/2015-2016/ergebnisse-und-tabelle/',\n",
       " '1415': '/fussball/deutschland-bundesliga/se15388/2014-2015/ergebnisse-und-tabelle/',\n",
       " '1314': '/fussball/deutschland-bundesliga/se11976/2013-2014/ergebnisse-und-tabelle/',\n",
       " '1213': '/fussball/deutschland-bundesliga/se9024/2012-2013/ergebnisse-und-tabelle/',\n",
       " '1112': '/fussball/deutschland-bundesliga/se7094/2011-2012/ergebnisse-und-tabelle/',\n",
       " '1011': '/fussball/deutschland-bundesliga/se5823/2010-2011/ergebnisse-und-tabelle/',\n",
       " '0910': '/fussball/deutschland-bundesliga/se1459/2009-2010/ergebnisse-und-tabelle/',\n",
       " '0809': '/fussball/deutschland-bundesliga/se12/2008-2009/ergebnisse-und-tabelle/',\n",
       " '0708': '/fussball/deutschland-bundesliga/se579/2007-2008/ergebnisse-und-tabelle/',\n",
       " '0607': '/fussball/deutschland-bundesliga/se580/2006-2007/ergebnisse-und-tabelle/',\n",
       " '0506': '/fussball/deutschland-bundesliga/se4034/2005-2006/ergebnisse-und-tabelle/',\n",
       " '0405': '/fussball/deutschland-bundesliga/se3785/2004-2005/ergebnisse-und-tabelle/',\n",
       " '0304': '/fussball/deutschland-bundesliga/se3146/2003-2004/ergebnisse-und-tabelle/',\n",
       " '0203': '/fussball/deutschland-bundesliga/se2747/2002-2003/ergebnisse-und-tabelle/',\n",
       " '0102': '/fussball/deutschland-bundesliga/se2623/2001-2002/ergebnisse-und-tabelle/',\n",
       " '0001': '/fussball/deutschland-bundesliga/se2622/2000-2001/ergebnisse-und-tabelle/',\n",
       " '9900': '/fussball/deutschland-bundesliga/se2621/1999-2000/ergebnisse-und-tabelle/',\n",
       " '9899': '/fussball/deutschland-bundesliga/se2620/1998-1999/ergebnisse-und-tabelle/',\n",
       " '9798': '/fussball/deutschland-bundesliga/se2619/1997-1998/ergebnisse-und-tabelle/',\n",
       " '9697': '/fussball/deutschland-bundesliga/se2618/1996-1997/ergebnisse-und-tabelle/',\n",
       " '9596': '/fussball/deutschland-bundesliga/se2617/1995-1996/ergebnisse-und-tabelle/',\n",
       " '9495': '/fussball/deutschland-bundesliga/se2616/1994-1995/ergebnisse-und-tabelle/',\n",
       " '9394': '/fussball/deutschland-bundesliga/se2615/1993-1994/ergebnisse-und-tabelle/',\n",
       " '9293': '/fussball/deutschland-bundesliga/se2614/1992-1993/ergebnisse-und-tabelle/',\n",
       " '9192': '/fussball/deutschland-bundesliga/se2613/1991-1992/ergebnisse-und-tabelle/',\n",
       " '9091': '/fussball/deutschland-bundesliga/se2612/1990-1991/ergebnisse-und-tabelle/',\n",
       " '8990': '/fussball/deutschland-bundesliga/se2611/1989-1990/ergebnisse-und-tabelle/',\n",
       " '8889': '/fussball/deutschland-bundesliga/se2610/1988-1989/ergebnisse-und-tabelle/',\n",
       " '8788': '/fussball/deutschland-bundesliga/se2609/1987-1988/ergebnisse-und-tabelle/',\n",
       " '8687': '/fussball/deutschland-bundesliga/se2608/1986-1987/ergebnisse-und-tabelle/',\n",
       " '8586': '/fussball/deutschland-bundesliga/se2607/1985-1986/ergebnisse-und-tabelle/',\n",
       " '8485': '/fussball/deutschland-bundesliga/se2606/1984-1985/ergebnisse-und-tabelle/',\n",
       " '8384': '/fussball/deutschland-bundesliga/se2605/1983-1984/ergebnisse-und-tabelle/',\n",
       " '8283': '/fussball/deutschland-bundesliga/se2604/1982-1983/ergebnisse-und-tabelle/',\n",
       " '8182': '/fussball/deutschland-bundesliga/se2603/1981-1982/ergebnisse-und-tabelle/',\n",
       " '8081': '/fussball/deutschland-bundesliga/se2602/1980-1981/ergebnisse-und-tabelle/',\n",
       " '7980': '/fussball/deutschland-bundesliga/se2601/1979-1980/ergebnisse-und-tabelle/',\n",
       " '7879': '/fussball/deutschland-bundesliga/se2600/1978-1979/ergebnisse-und-tabelle/',\n",
       " '7778': '/fussball/deutschland-bundesliga/se2599/1977-1978/ergebnisse-und-tabelle/',\n",
       " '7677': '/fussball/deutschland-bundesliga/se2598/1976-1977/ergebnisse-und-tabelle/',\n",
       " '7576': '/fussball/deutschland-bundesliga/se2597/1975-1976/ergebnisse-und-tabelle/',\n",
       " '7475': '/fussball/deutschland-bundesliga/se2596/1974-1975/ergebnisse-und-tabelle/',\n",
       " '7374': '/fussball/deutschland-bundesliga/se2595/1973-1974/ergebnisse-und-tabelle/',\n",
       " '7273': '/fussball/deutschland-bundesliga/se2594/1972-1973/ergebnisse-und-tabelle/',\n",
       " '7172': '/fussball/deutschland-bundesliga/se2593/1971-1972/ergebnisse-und-tabelle/',\n",
       " '7071': '/fussball/deutschland-bundesliga/se2592/1970-1971/ergebnisse-und-tabelle/',\n",
       " '6970': '/fussball/deutschland-bundesliga/se2591/1969-1970/ergebnisse-und-tabelle/',\n",
       " '6869': '/fussball/deutschland-bundesliga/se2590/1968-1969/ergebnisse-und-tabelle/',\n",
       " '6768': '/fussball/deutschland-bundesliga/se2589/1967-1968/ergebnisse-und-tabelle/',\n",
       " '6667': '/fussball/deutschland-bundesliga/se2588/1966-1967/ergebnisse-und-tabelle/',\n",
       " '6566': '/fussball/deutschland-bundesliga/se2587/1965-1966/ergebnisse-und-tabelle/',\n",
       " '6465': '/fussball/deutschland-bundesliga/se2586/1964-1965/ergebnisse-und-tabelle/',\n",
       " '6364': '/fussball/deutschland-bundesliga/se2585/1963-1964/ergebnisse-und-tabelle/'}"
      ]
     },
     "execution_count": 6,
     "metadata": {},
     "output_type": "execute_result"
    }
   ],
   "source": [
    "seasons_urls"
   ]
  },
  {
   "cell_type": "markdown",
   "metadata": {},
   "source": [
    "## Matchday information"
   ]
  },
  {
   "cell_type": "markdown",
   "metadata": {
    "heading_collapsed": "true"
   },
   "source": [
    "### Matchday links"
   ]
  },
  {
   "cell_type": "code",
   "execution_count": 7,
   "metadata": {},
   "outputs": [],
   "source": [
    "season = seasons_urls['1213']\n",
    "bs = get_html(base_url+season)"
   ]
  },
  {
   "cell_type": "code",
   "execution_count": 8,
   "metadata": {},
   "outputs": [],
   "source": [
    "def get_matchday_links(bs, expected_length=34):\n",
    "    matchday_links = []\n",
    "    for li in bs.find_all('li'):\n",
    "        try:\n",
    "            matchday_links.append(li['data'])\n",
    "        except:\n",
    "            pass\n",
    "\n",
    "    assert len(matchday_links)==expected_length, f'Expected: {expected_length}. Actual: {len(matchday_links)}'\n",
    "    return matchday_links"
   ]
  },
  {
   "cell_type": "code",
   "execution_count": 9,
   "metadata": {},
   "outputs": [
    {
     "data": {
      "text/plain": [
       "['/fussball/deutschland-bundesliga/se9024/2012-2013/ro29872/spieltag/md1/ergebnisse-und-tabelle/',\n",
       " '/fussball/deutschland-bundesliga/se9024/2012-2013/ro29872/spieltag/md2/ergebnisse-und-tabelle/',\n",
       " '/fussball/deutschland-bundesliga/se9024/2012-2013/ro29872/spieltag/md3/ergebnisse-und-tabelle/',\n",
       " '/fussball/deutschland-bundesliga/se9024/2012-2013/ro29872/spieltag/md4/ergebnisse-und-tabelle/',\n",
       " '/fussball/deutschland-bundesliga/se9024/2012-2013/ro29872/spieltag/md5/ergebnisse-und-tabelle/']"
      ]
     },
     "execution_count": 9,
     "metadata": {},
     "output_type": "execute_result"
    }
   ],
   "source": [
    "matchday_links = get_matchday_links(bs)\n",
    "matchday_links[:5]"
   ]
  },
  {
   "cell_type": "markdown",
   "metadata": {
    "heading_collapsed": "true"
   },
   "source": [
    "### Dates"
   ]
  },
  {
   "cell_type": "code",
   "execution_count": 10,
   "metadata": {},
   "outputs": [],
   "source": [
    "matchday_link = matchday_links[0]\n",
    "bs = get_html(base_url+matchday_link)"
   ]
  },
  {
   "cell_type": "code",
   "execution_count": 11,
   "metadata": {},
   "outputs": [],
   "source": [
    "def get_matchday_dates(matchday_bs):\n",
    "    divs = bs.find_all('div', {'class': 'match-date'})\n",
    "    dates = [div.text.split(' ')[0] for div in divs]\n",
    "    dates = list(map(lambda d: datetime.strptime(d, '%d.%m.%Y'), dates))\n",
    "    return dates"
   ]
  },
  {
   "cell_type": "code",
   "execution_count": 12,
   "metadata": {},
   "outputs": [
    {
     "data": {
      "text/plain": [
       "[datetime.datetime(2012, 8, 24, 0, 0),\n",
       " datetime.datetime(2012, 8, 25, 0, 0),\n",
       " datetime.datetime(2012, 8, 25, 0, 0),\n",
       " datetime.datetime(2012, 8, 25, 0, 0),\n",
       " datetime.datetime(2012, 8, 26, 0, 0)]"
      ]
     },
     "execution_count": 12,
     "metadata": {},
     "output_type": "execute_result"
    }
   ],
   "source": [
    "dates = get_matchday_dates(bs)\n",
    "dates"
   ]
  },
  {
   "cell_type": "code",
   "execution_count": 13,
   "metadata": {},
   "outputs": [
    {
     "data": {
      "text/plain": [
       "'/fussball/deutschland-bundesliga/se9024/2012-2013/ro29872/spieltag/md1/ergebnisse-und-tabelle/'"
      ]
     },
     "execution_count": 13,
     "metadata": {},
     "output_type": "execute_result"
    }
   ],
   "source": [
    "matchday_link"
   ]
  },
  {
   "cell_type": "markdown",
   "metadata": {
    "heading_collapsed": "true"
   },
   "source": [
    "### Matches"
   ]
  },
  {
   "cell_type": "code",
   "execution_count": 14,
   "metadata": {},
   "outputs": [],
   "source": [
    "def get_match_infos(matchday_bs):\n",
    "    divs = [div for div in matchday_bs.find_all('div') if 'position' in div.attrs.keys()]\n",
    "    matches = []\n",
    "    for div in divs:\n",
    "        home_team = div.find('div', {'class', 'team-shortname-home'}).text\n",
    "        away_team = div.find('div', {'class', 'team-shortname-away'}).text\n",
    "        \n",
    "        home_div = div.find('div', {'class', 'match-result match-result-home'})\n",
    "        home_goals = int(home_div.find('div', {'class': 'match-result match-result-0'}).text)\n",
    "        \n",
    "        away_div = div.find('div', {'class', 'match-result match-result-away'})\n",
    "        away_goals = int(away_div.find('div', {'class': 'match-result match-result-0'}).text)\n",
    "\n",
    "        match = [home_team, away_team, home_goals, away_goals]\n",
    "        matches.append(match)\n",
    "        \n",
    "    return matches"
   ]
  },
  {
   "cell_type": "code",
   "execution_count": 15,
   "metadata": {},
   "outputs": [
    {
     "data": {
      "text/plain": [
       "[['Dortmund', 'SV Werder', 2, 1],\n",
       " [\"M'gladbach\", 'Hoffenheim', 2, 1],\n",
       " ['SC Freiburg', 'Mainz 05', 1, 1],\n",
       " ['Augsburg', 'Düsseldorf', 0, 2],\n",
       " ['Hamburger SV', 'Nürnberg', 0, 1],\n",
       " ['Gr. Fürth', 'FC Bayern', 0, 3],\n",
       " ['Frankfurt', 'Leverkusen', 2, 1],\n",
       " ['VfB Stuttgart', 'Wolfsburg', 0, 1],\n",
       " ['Hannover 96', 'Schalke 04', 2, 2]]"
      ]
     },
     "execution_count": 15,
     "metadata": {},
     "output_type": "execute_result"
    }
   ],
   "source": [
    "matches = get_match_infos(bs)\n",
    "matches"
   ]
  },
  {
   "cell_type": "markdown",
   "metadata": {
    "heading_collapsed": "true"
   },
   "source": [
    "### Standings"
   ]
  },
  {
   "cell_type": "code",
   "execution_count": 16,
   "metadata": {},
   "outputs": [],
   "source": [
    "def get_standings(matchday_bs):\n",
    "    standing_divs = matchday_bs.find_all('tr', {'class': 'standing'})\n",
    "    standings = []\n",
    "\n",
    "    for div in standing_divs:\n",
    "        rank = div.find('td', {'class': 'standing-rank'}).text\n",
    "        team = div.find('td', {'class': 'team-shortname'}).text\n",
    "        games_played = div.find('td', {'class': 'standing-games_played'}).text\n",
    "\n",
    "        wins = div.find('td', {'class': 'standing-win'}).text\n",
    "        draw = div.find('td', {'class': 'standing-draw'}).text\n",
    "        lost = div.find('td', {'class': 'standing-lost'}).text\n",
    "\n",
    "        total_goals = div.find('td', {'class': 'standing-goaldiff'}).text\n",
    "        total_goals_scored, total_goals_received = total_goals.split(':')\n",
    "\n",
    "        points = div.find('td', {'class': 'standing-points'}).text\n",
    "\n",
    "        standing = [rank, team, games_played, wins, draw, lost, total_goals_scored, total_goals_received, points]\n",
    "        standings.append(standing)\n",
    "\n",
    "    return standings"
   ]
  },
  {
   "cell_type": "code",
   "execution_count": 17,
   "metadata": {},
   "outputs": [
    {
     "data": {
      "text/plain": [
       "[['1', 'FC Bayern', '1', '1', '0', '0', '3', '0', '3'],\n",
       " ['2', 'Düsseldorf', '1', '1', '0', '0', '2', '0', '3'],\n",
       " ['3', \"M'gladbach\", '1', '1', '0', '0', '2', '1', '3'],\n",
       " ['3', 'Dortmund', '1', '1', '0', '0', '2', '1', '3'],\n",
       " ['3', 'Frankfurt', '1', '1', '0', '0', '2', '1', '3'],\n",
       " ['6', 'Nürnberg', '1', '1', '0', '0', '1', '0', '3'],\n",
       " ['6', 'Wolfsburg', '1', '1', '0', '0', '1', '0', '3'],\n",
       " ['8', 'Schalke 04', '1', '0', '1', '0', '2', '2', '1'],\n",
       " ['8', 'Hannover 96', '1', '0', '1', '0', '2', '2', '1'],\n",
       " ['10', 'Mainz 05', '1', '0', '1', '0', '1', '1', '1'],\n",
       " ['10', 'SC Freiburg', '1', '0', '1', '0', '1', '1', '1'],\n",
       " ['12', 'Hoffenheim', '1', '0', '0', '1', '1', '2', '0'],\n",
       " ['12', 'Leverkusen', '1', '0', '0', '1', '1', '2', '0'],\n",
       " ['12', 'SV Werder', '1', '0', '0', '1', '1', '2', '0'],\n",
       " ['15', 'Hamburger SV', '1', '0', '0', '1', '0', '1', '0'],\n",
       " ['15', 'VfB Stuttgart', '1', '0', '0', '1', '0', '1', '0'],\n",
       " ['17', 'Augsburg', '1', '0', '0', '1', '0', '2', '0'],\n",
       " ['18', 'Gr. Fürth', '1', '0', '0', '1', '0', '3', '0']]"
      ]
     },
     "execution_count": 17,
     "metadata": {},
     "output_type": "execute_result"
    }
   ],
   "source": [
    "get_standings(bs)"
   ]
  },
  {
   "cell_type": "markdown",
   "metadata": {},
   "source": [
    "# Scrape"
   ]
  },
  {
   "cell_type": "code",
   "execution_count": 24,
   "metadata": {},
   "outputs": [],
   "source": [
    "def scrape_season(season):\n",
    "    season_link = seasons_urls[season]\n",
    "    season_bs = get_html(base_url+season_link)\n",
    "    matchday_links = get_matchday_links(season_bs)\n",
    "\n",
    "    standings = []\n",
    "    matchdays = []\n",
    "    games = []\n",
    "\n",
    "    for matchday_link in matchday_links:\n",
    "        matchday = re.search('/md([^/]+)/', matchday_link).group(1)\n",
    "        print(matchday)\n",
    "\n",
    "        matchday_bs = get_html(base_url+matchday_link)\n",
    "\n",
    "        dates = get_matchday_dates(matchday_bs)\n",
    "        matchdays.append([season, matchday, min(dates), max(dates)])\n",
    "\n",
    "        day_standings = get_standings(matchday_bs)\n",
    "        for day_standing in day_standings:\n",
    "            row = [season, matchday, *day_standing]\n",
    "            standings.append(row)\n",
    "\n",
    "        day_games = get_match_infos(matchday_bs)\n",
    "        for day_game in day_games:\n",
    "            row = [season, matchday, *day_game]\n",
    "            games.append(row)\n",
    "            \n",
    "    return standings, matchdays, games"
   ]
  },
  {
   "cell_type": "markdown",
   "metadata": {},
   "source": [
    "## Save"
   ]
  },
  {
   "cell_type": "code",
   "execution_count": 25,
   "metadata": {},
   "outputs": [],
   "source": [
    "save_path = Path('../../data/sportde/bundesliga')"
   ]
  },
  {
   "cell_type": "code",
   "execution_count": 30,
   "metadata": {},
   "outputs": [],
   "source": [
    "def set_dtypes(df, dtypes):\n",
    "    n_cols = df.shape[1]\n",
    "    for col,dtype in enumerate(dtypes):\n",
    "        df.iloc[:,col] = df.iloc[:,col].astype(dtype)\n",
    "    return df\n",
    "\n",
    "def save_season(standings, matchdays, games, league):\n",
    "    matchday_df = pd.DataFrame(matchdays, columns=['season', 'matchday', 'start_date', 'end_date'])\n",
    "    matchday_df.matchday = matchday_df.matchday.astype(int)\n",
    "    matchday_df['league'] = league\n",
    "    matchday_df.to_feather(save_path/f'{season}_matchdays.feather')\n",
    "    \n",
    "    standings_df = pd.DataFrame(standings, columns=['season', 'matchday', 'rank', 'team', 'games_played', 'wins', 'draw', 'lost', 'total_goals_scored', 'total_goals_received', 'points'])\n",
    "    standings_df = set_dtypes(standings_df, [str, int, int, str, int, int, int, int, int, int, int])\n",
    "    standings_df['league'] = league\n",
    "    standings_df.to_feather(save_path/f'{season}_standings.feather')\n",
    "    \n",
    "    games_df = pd.DataFrame(games, columns=['season', 'matchday', 'home_team', 'away_team', 'home_goals', 'away_goals'])\n",
    "    games_df = set_dtypes(games_df, [str, int, str, str, int, int])\n",
    "    games_df['league'] = league\n",
    "    games_df.to_feather(save_path/f'{season}_games.feather')"
   ]
  },
  {
   "cell_type": "markdown",
   "metadata": {
    "heading_collapsed": "true"
   },
   "source": [
    "## Run"
   ]
  },
  {
   "cell_type": "code",
   "execution_count": 28,
   "metadata": {},
   "outputs": [],
   "source": [
    "seasons = ['0809', '0910', '1011', '1112', '1213', '1314', '1415', '1516', '1617', '1718', '1819', '1920']"
   ]
  },
  {
   "cell_type": "code",
   "execution_count": 29,
   "metadata": {},
   "outputs": [
    {
     "name": "stdout",
     "output_type": "stream",
     "text": [
      "0809\n",
      "1\n",
      "2\n",
      "3\n",
      "4\n",
      "5\n",
      "6\n",
      "7\n",
      "8\n",
      "9\n",
      "10\n",
      "11\n",
      "12\n",
      "13\n",
      "14\n",
      "15\n",
      "16\n",
      "17\n",
      "18\n",
      "19\n",
      "20\n",
      "21\n",
      "22\n",
      "23\n",
      "24\n",
      "25\n",
      "26\n",
      "27\n",
      "28\n",
      "29\n",
      "30\n",
      "31\n",
      "32\n",
      "33\n",
      "34\n",
      "0910\n",
      "1\n",
      "2\n",
      "3\n",
      "4\n",
      "5\n",
      "6\n",
      "7\n",
      "8\n",
      "9\n",
      "10\n",
      "11\n",
      "12\n",
      "13\n",
      "14\n",
      "15\n",
      "16\n",
      "17\n",
      "18\n",
      "19\n",
      "20\n",
      "21\n",
      "22\n",
      "23\n",
      "24\n",
      "25\n",
      "26\n",
      "27\n",
      "28\n",
      "29\n",
      "30\n",
      "31\n",
      "32\n",
      "33\n",
      "34\n",
      "1011\n",
      "1\n",
      "2\n",
      "3\n",
      "4\n",
      "5\n",
      "6\n",
      "7\n",
      "8\n",
      "9\n",
      "10\n",
      "11\n",
      "12\n",
      "13\n",
      "14\n",
      "15\n",
      "16\n",
      "17\n",
      "18\n",
      "19\n",
      "20\n",
      "21\n",
      "22\n",
      "23\n",
      "24\n",
      "25\n",
      "26\n",
      "27\n",
      "28\n",
      "29\n",
      "30\n",
      "31\n",
      "32\n",
      "33\n",
      "34\n",
      "1112\n",
      "1\n",
      "2\n",
      "3\n",
      "4\n",
      "5\n",
      "6\n",
      "7\n",
      "8\n",
      "9\n",
      "10\n",
      "11\n",
      "12\n",
      "13\n",
      "14\n",
      "15\n",
      "16\n",
      "17\n",
      "18\n",
      "19\n",
      "20\n",
      "21\n",
      "22\n",
      "23\n",
      "24\n",
      "25\n",
      "26\n",
      "27\n",
      "28\n",
      "29\n",
      "30\n",
      "31\n",
      "32\n",
      "33\n",
      "34\n",
      "1213\n",
      "1\n",
      "2\n",
      "3\n",
      "4\n",
      "5\n",
      "6\n",
      "7\n",
      "8\n",
      "9\n",
      "10\n",
      "11\n",
      "12\n",
      "13\n",
      "14\n",
      "15\n",
      "16\n",
      "17\n",
      "18\n",
      "19\n",
      "20\n",
      "21\n",
      "22\n",
      "23\n",
      "24\n",
      "25\n",
      "26\n",
      "27\n",
      "28\n",
      "29\n",
      "30\n",
      "31\n",
      "32\n",
      "33\n",
      "34\n",
      "1314\n",
      "1\n",
      "2\n",
      "3\n",
      "4\n",
      "5\n",
      "6\n",
      "7\n",
      "8\n",
      "9\n",
      "10\n",
      "11\n",
      "12\n",
      "13\n",
      "14\n",
      "15\n",
      "16\n",
      "17\n",
      "18\n",
      "19\n",
      "20\n",
      "21\n",
      "22\n",
      "23\n",
      "24\n",
      "25\n",
      "26\n",
      "27\n",
      "28\n",
      "29\n",
      "30\n",
      "31\n",
      "32\n",
      "33\n",
      "34\n",
      "1415\n",
      "1\n",
      "2\n",
      "3\n",
      "4\n",
      "5\n",
      "6\n",
      "7\n",
      "8\n",
      "9\n",
      "10\n",
      "11\n",
      "12\n",
      "13\n",
      "14\n",
      "15\n",
      "16\n",
      "17\n",
      "18\n",
      "19\n",
      "20\n",
      "21\n",
      "22\n",
      "23\n",
      "24\n",
      "25\n",
      "26\n",
      "27\n",
      "28\n",
      "29\n",
      "30\n",
      "31\n",
      "32\n",
      "33\n",
      "34\n",
      "1516\n",
      "1\n",
      "2\n",
      "3\n",
      "4\n",
      "5\n",
      "6\n",
      "7\n",
      "8\n",
      "9\n",
      "10\n",
      "11\n",
      "12\n",
      "13\n",
      "14\n",
      "15\n",
      "16\n",
      "17\n",
      "18\n",
      "19\n",
      "20\n",
      "21\n",
      "22\n",
      "23\n",
      "24\n",
      "25\n",
      "26\n",
      "27\n",
      "28\n",
      "29\n",
      "30\n",
      "31\n",
      "32\n",
      "33\n",
      "34\n",
      "1617\n",
      "1\n",
      "2\n",
      "3\n",
      "4\n",
      "5\n",
      "6\n",
      "7\n",
      "8\n",
      "9\n",
      "10\n",
      "11\n",
      "12\n",
      "13\n",
      "14\n",
      "15\n",
      "16\n",
      "17\n",
      "18\n",
      "19\n",
      "20\n",
      "21\n",
      "22\n",
      "23\n",
      "24\n",
      "25\n",
      "26\n",
      "27\n",
      "28\n",
      "29\n",
      "30\n",
      "31\n",
      "32\n",
      "33\n",
      "34\n",
      "1718\n",
      "1\n",
      "2\n",
      "3\n",
      "4\n",
      "5\n",
      "6\n",
      "7\n",
      "8\n",
      "9\n",
      "10\n",
      "11\n",
      "12\n",
      "13\n",
      "14\n",
      "15\n",
      "16\n",
      "17\n",
      "18\n",
      "19\n",
      "20\n",
      "21\n",
      "22\n",
      "23\n",
      "24\n",
      "25\n",
      "26\n",
      "27\n",
      "28\n",
      "29\n",
      "30\n",
      "31\n",
      "32\n",
      "33\n",
      "34\n",
      "1819\n",
      "1\n",
      "2\n",
      "3\n",
      "4\n",
      "5\n",
      "6\n",
      "7\n",
      "8\n",
      "9\n",
      "10\n",
      "11\n",
      "12\n",
      "13\n",
      "14\n",
      "15\n",
      "16\n",
      "17\n",
      "18\n",
      "19\n",
      "20\n",
      "21\n",
      "22\n",
      "23\n",
      "24\n",
      "25\n",
      "26\n",
      "27\n",
      "28\n",
      "29\n",
      "30\n",
      "31\n",
      "32\n",
      "33\n",
      "34\n",
      "1920\n",
      "1\n",
      "2\n",
      "3\n",
      "4\n",
      "5\n",
      "6\n",
      "7\n",
      "8\n",
      "9\n",
      "10\n",
      "11\n",
      "12\n",
      "13\n",
      "14\n",
      "15\n",
      "16\n",
      "17\n",
      "18\n",
      "19\n",
      "20\n",
      "21\n",
      "22\n",
      "23\n",
      "24\n",
      "25\n",
      "26\n",
      "27\n",
      "28\n",
      "29\n",
      "30\n",
      "31\n",
      "32\n",
      "33\n",
      "34\n"
     ]
    }
   ],
   "source": [
    "for season in seasons:\n",
    "    print(season)\n",
    "    standings, matchdays, games = scrape_season(season)\n",
    "    save_season(standings, matchdays, games, season)"
   ]
  },
  {
   "cell_type": "code",
   "execution_count": null,
   "metadata": {},
   "outputs": [],
   "source": []
  }
 ],
 "metadata": {
  "kernelspec": {
   "display_name": "Python 3",
   "language": "python",
   "name": "python3"
  },
  "language_info": {
   "codemirror_mode": {
    "name": "ipython",
    "version": 3
   },
   "file_extension": ".py",
   "mimetype": "text/x-python",
   "name": "python",
   "nbconvert_exporter": "python",
   "pygments_lexer": "ipython3",
   "version": "3.8.3"
  }
 },
 "nbformat": 4,
 "nbformat_minor": 4
}
