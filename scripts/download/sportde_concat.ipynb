{
 "cells": [
  {
   "cell_type": "code",
   "execution_count": 1,
   "metadata": {},
   "outputs": [],
   "source": [
    "%load_ext autoreload\n",
    "%autoreload 2"
   ]
  },
  {
   "cell_type": "code",
   "execution_count": 2,
   "metadata": {},
   "outputs": [],
   "source": [
    "import pandas as pd\n",
    "from pathlib import Path"
   ]
  },
  {
   "cell_type": "markdown",
   "metadata": {},
   "source": [
    "# Concat of downloaded files"
   ]
  },
  {
   "cell_type": "code",
   "execution_count": 3,
   "metadata": {},
   "outputs": [],
   "source": [
    "league = 'league_one'\n",
    "path = Path(f'../../data/sportde/{league}/raw')"
   ]
  },
  {
   "cell_type": "code",
   "execution_count": 4,
   "metadata": {},
   "outputs": [],
   "source": [
    "matchday_paths = list(path.glob('*_matchdays.feather'))\n",
    "standings_paths = list(path.glob('*_standings.feather'))\n",
    "games_paths = list(path.glob('*_games.feather'))"
   ]
  },
  {
   "cell_type": "code",
   "execution_count": 5,
   "metadata": {},
   "outputs": [],
   "source": [
    "def merge_dfs_from_paths(paths):\n",
    "    dfs = [pd.read_feather(path) for path in paths]\n",
    "    expected_len = sum(len(df) for df in dfs)\n",
    "    \n",
    "    concat = pd.concat(dfs)\n",
    "    \n",
    "    assert len(concat)==expected_len, f'Expected len: {expected_len}, got: {len(concat)}'\n",
    "    \n",
    "    return concat.reset_index(drop=True)"
   ]
  },
  {
   "cell_type": "code",
   "execution_count": 6,
   "metadata": {},
   "outputs": [],
   "source": [
    "matchday_df = merge_dfs_from_paths(matchday_paths)\n",
    "matchday_df.to_feather(path/'../matchdays.feather')\n",
    "\n",
    "standings_df = merge_dfs_from_paths(standings_paths)\n",
    "standings_df.to_feather(path/'../standings.feather')\n",
    "\n",
    "games_df = merge_dfs_from_paths(games_paths)\n",
    "games_df.to_feather(path/'../games.feather')"
   ]
  },
  {
   "cell_type": "markdown",
   "metadata": {},
   "source": [
    "# Sport.de data validation"
   ]
  },
  {
   "cell_type": "code",
   "execution_count": 7,
   "metadata": {},
   "outputs": [],
   "source": [
    "data_dir = Path(f'../../data/sportde/{league}')"
   ]
  },
  {
   "cell_type": "code",
   "execution_count": 8,
   "metadata": {},
   "outputs": [
    {
     "data": {
      "text/html": [
       "<div>\n",
       "<style scoped>\n",
       "    .dataframe tbody tr th:only-of-type {\n",
       "        vertical-align: middle;\n",
       "    }\n",
       "\n",
       "    .dataframe tbody tr th {\n",
       "        vertical-align: top;\n",
       "    }\n",
       "\n",
       "    .dataframe thead th {\n",
       "        text-align: right;\n",
       "    }\n",
       "</style>\n",
       "<table border=\"1\" class=\"dataframe\">\n",
       "  <thead>\n",
       "    <tr style=\"text-align: right;\">\n",
       "      <th></th>\n",
       "      <th>season</th>\n",
       "      <th>matchday</th>\n",
       "      <th>rank</th>\n",
       "      <th>team</th>\n",
       "      <th>games_played</th>\n",
       "      <th>wins</th>\n",
       "      <th>draw</th>\n",
       "      <th>lost</th>\n",
       "      <th>total_goals_scored</th>\n",
       "      <th>total_goals_received</th>\n",
       "      <th>points</th>\n",
       "      <th>league</th>\n",
       "    </tr>\n",
       "  </thead>\n",
       "  <tbody>\n",
       "    <tr>\n",
       "      <th>0</th>\n",
       "      <td>0506</td>\n",
       "      <td>1</td>\n",
       "      <td>1</td>\n",
       "      <td>PSG</td>\n",
       "      <td>1</td>\n",
       "      <td>1</td>\n",
       "      <td>0</td>\n",
       "      <td>0</td>\n",
       "      <td>4</td>\n",
       "      <td>1</td>\n",
       "      <td>3</td>\n",
       "      <td>league_one</td>\n",
       "    </tr>\n",
       "    <tr>\n",
       "      <th>1</th>\n",
       "      <td>0506</td>\n",
       "      <td>1</td>\n",
       "      <td>2</td>\n",
       "      <td>FC Nantes</td>\n",
       "      <td>1</td>\n",
       "      <td>1</td>\n",
       "      <td>0</td>\n",
       "      <td>0</td>\n",
       "      <td>2</td>\n",
       "      <td>0</td>\n",
       "      <td>3</td>\n",
       "      <td>league_one</td>\n",
       "    </tr>\n",
       "    <tr>\n",
       "      <th>2</th>\n",
       "      <td>0506</td>\n",
       "      <td>1</td>\n",
       "      <td>2</td>\n",
       "      <td>Bordeaux</td>\n",
       "      <td>1</td>\n",
       "      <td>1</td>\n",
       "      <td>0</td>\n",
       "      <td>0</td>\n",
       "      <td>2</td>\n",
       "      <td>0</td>\n",
       "      <td>3</td>\n",
       "      <td>league_one</td>\n",
       "    </tr>\n",
       "    <tr>\n",
       "      <th>3</th>\n",
       "      <td>0506</td>\n",
       "      <td>1</td>\n",
       "      <td>4</td>\n",
       "      <td>Lyon</td>\n",
       "      <td>1</td>\n",
       "      <td>1</td>\n",
       "      <td>0</td>\n",
       "      <td>0</td>\n",
       "      <td>2</td>\n",
       "      <td>1</td>\n",
       "      <td>3</td>\n",
       "      <td>league_one</td>\n",
       "    </tr>\n",
       "    <tr>\n",
       "      <th>4</th>\n",
       "      <td>0506</td>\n",
       "      <td>1</td>\n",
       "      <td>5</td>\n",
       "      <td>AS Monaco</td>\n",
       "      <td>1</td>\n",
       "      <td>1</td>\n",
       "      <td>0</td>\n",
       "      <td>0</td>\n",
       "      <td>1</td>\n",
       "      <td>0</td>\n",
       "      <td>3</td>\n",
       "      <td>league_one</td>\n",
       "    </tr>\n",
       "  </tbody>\n",
       "</table>\n",
       "</div>"
      ],
      "text/plain": [
       "  season  matchday  rank       team  games_played  wins  draw  lost  \\\n",
       "0   0506         1     1        PSG             1     1     0     0   \n",
       "1   0506         1     2  FC Nantes             1     1     0     0   \n",
       "2   0506         1     2   Bordeaux             1     1     0     0   \n",
       "3   0506         1     4       Lyon             1     1     0     0   \n",
       "4   0506         1     5  AS Monaco             1     1     0     0   \n",
       "\n",
       "   total_goals_scored  total_goals_received  points      league  \n",
       "0                   4                     1       3  league_one  \n",
       "1                   2                     0       3  league_one  \n",
       "2                   2                     0       3  league_one  \n",
       "3                   2                     1       3  league_one  \n",
       "4                   1                     0       3  league_one  "
      ]
     },
     "execution_count": 8,
     "metadata": {},
     "output_type": "execute_result"
    }
   ],
   "source": [
    "standings = pd.read_feather(data_dir/'standings.feather')\n",
    "standings.head()"
   ]
  },
  {
   "cell_type": "code",
   "execution_count": 9,
   "metadata": {},
   "outputs": [
    {
     "data": {
      "text/plain": [
       "array(['PSG', 'FC Nantes', 'Bordeaux', 'Lyon', 'AS Monaco', 'Lille',\n",
       "       'Toulouse', 'ESTAC Troyes', 'OGC Nizza', 'AC Ajaccio', 'Auxerre',\n",
       "       'Saint-Étienne', 'Strasbourg', 'Le Mans', 'AS Nancy', 'Sochaux',\n",
       "       'Rennes', 'Marseille', 'RC Lens', 'FC Metz', 'Lorient', 'VAFC',\n",
       "       'CS Sedan', 'SM Caen', 'Grenoble', 'HAC', 'Montpellier',\n",
       "       'US Boulogne', 'AC Arles', 'Stade Brest', 'Thonon Évian FC',\n",
       "       'Dijon FCO', 'Bastia', 'Stade Reims', 'Guingamp', 'Angers',\n",
       "       'GFC Ajaccio', 'Amiens', 'Nîmes'], dtype=object)"
      ]
     },
     "execution_count": 9,
     "metadata": {},
     "output_type": "execute_result"
    }
   ],
   "source": [
    "teams = standings.team.unique()\n",
    "teams"
   ]
  },
  {
   "cell_type": "code",
   "execution_count": 10,
   "metadata": {},
   "outputs": [
    {
     "data": {
      "text/plain": [
       "(True, True)"
      ]
     },
     "execution_count": 10,
     "metadata": {},
     "output_type": "execute_result"
    }
   ],
   "source": [
    "games = pd.read_feather(data_dir/'games.feather')\n",
    "\n",
    "home_teams = games.home_team.unique()\n",
    "away_teams = games.away_team.unique()\n",
    "\n",
    "teams = set(teams)\n",
    "home_teams = set(home_teams)\n",
    "away_teams = set(away_teams)\n",
    "\n",
    "home_teams.issubset(teams), away_teams.issubset(teams)"
   ]
  },
  {
   "cell_type": "markdown",
   "metadata": {},
   "source": [
    "# Merge all leagues"
   ]
  },
  {
   "cell_type": "code",
   "execution_count": 21,
   "metadata": {},
   "outputs": [
    {
     "data": {
      "text/plain": [
       "[PosixPath('../../data/sportde/primera_division'),\n",
       " PosixPath('../../data/sportde/bundesliga'),\n",
       " PosixPath('../../data/sportde/premier_league'),\n",
       " PosixPath('../../data/sportde/league_one')]"
      ]
     },
     "execution_count": 21,
     "metadata": {},
     "output_type": "execute_result"
    }
   ],
   "source": [
    "filetypes = ['games.feather', 'matchdays.feather', 'standings.feather']\n",
    "base_path = Path(f'../../data/sportde/')\n",
    "list(base_path.glob('*'))"
   ]
  },
  {
   "cell_type": "code",
   "execution_count": 28,
   "metadata": {},
   "outputs": [],
   "source": [
    "for filetype in filetypes:\n",
    "    files = [list(league_path.glob(filetype))[0] for league_path in base_path.glob('*/') if league_path.is_dir()]\n",
    "    dfs = [pd.read_feather(file) for file in files]\n",
    "    df = pd.concat(dfs).reset_index()\n",
    "    \n",
    "    df.to_feather(base_path/filetype)"
   ]
  },
  {
   "cell_type": "code",
   "execution_count": 29,
   "metadata": {},
   "outputs": [
    {
     "data": {
      "text/plain": [
       "[PosixPath('../../data/sportde/games.feather'),\n",
       " PosixPath('../../data/sportde/primera_division'),\n",
       " PosixPath('../../data/sportde/bundesliga'),\n",
       " PosixPath('../../data/sportde/standings.feather'),\n",
       " PosixPath('../../data/sportde/premier_league'),\n",
       " PosixPath('../../data/sportde/matchdays.feather'),\n",
       " PosixPath('../../data/sportde/league_one')]"
      ]
     },
     "execution_count": 29,
     "metadata": {},
     "output_type": "execute_result"
    }
   ],
   "source": [
    " list(base_path.glob('*'))"
   ]
  },
  {
   "cell_type": "markdown",
   "metadata": {},
   "source": [
    "### Fix seasons"
   ]
  },
  {
   "cell_type": "code",
   "execution_count": 37,
   "metadata": {},
   "outputs": [],
   "source": [
    "for filetype in filetypes:\n",
    "    df = pd.read_feather(base_path/filetype)\n",
    "    seasons = {season_str: 2000+int(season_str[:2]) for season_str in list(df.season.unique())}\n",
    "    df.season.replace(seasons, inplace=True)\n",
    "    \n",
    "    df.to_feather(base_path/filetype)"
   ]
  },
  {
   "cell_type": "code",
   "execution_count": null,
   "metadata": {},
   "outputs": [],
   "source": []
  }
 ],
 "metadata": {
  "kernelspec": {
   "display_name": "Python 3",
   "language": "python",
   "name": "python3"
  },
  "language_info": {
   "codemirror_mode": {
    "name": "ipython",
    "version": 3
   },
   "file_extension": ".py",
   "mimetype": "text/x-python",
   "name": "python",
   "nbconvert_exporter": "python",
   "pygments_lexer": "ipython3",
   "version": "3.8.5"
  }
 },
 "nbformat": 4,
 "nbformat_minor": 4
}
