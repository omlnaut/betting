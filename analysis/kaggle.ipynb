{
 "cells": [
  {
   "cell_type": "code",
   "execution_count": 2,
   "metadata": {},
   "outputs": [],
   "source": [
    "%load_ext autoreload\n",
    "%autoreload 2"
   ]
  },
  {
   "cell_type": "code",
   "execution_count": 3,
   "metadata": {},
   "outputs": [],
   "source": [
    "from fastai.tabular.all import *"
   ]
  },
  {
   "cell_type": "markdown",
   "metadata": {},
   "source": [
    "# Kaggle analysis"
   ]
  },
  {
   "cell_type": "markdown",
   "metadata": {},
   "source": [
    "## Data preparation"
   ]
  },
  {
   "cell_type": "code",
   "execution_count": 4,
   "metadata": {},
   "outputs": [
    {
     "data": {
      "text/plain": [
       "(#1) [Path('../data/kaggle/closing_odds.feather')]"
      ]
     },
     "execution_count": 4,
     "metadata": {},
     "output_type": "execute_result"
    }
   ],
   "source": [
    "data_dir = Path('../data/kaggle')\n",
    "data_dir.ls()"
   ]
  },
  {
   "cell_type": "code",
   "execution_count": 5,
   "metadata": {},
   "outputs": [
    {
     "data": {
      "text/html": [
       "<div>\n",
       "<style scoped>\n",
       "    .dataframe tbody tr th:only-of-type {\n",
       "        vertical-align: middle;\n",
       "    }\n",
       "\n",
       "    .dataframe tbody tr th {\n",
       "        vertical-align: top;\n",
       "    }\n",
       "\n",
       "    .dataframe thead th {\n",
       "        text-align: right;\n",
       "    }\n",
       "</style>\n",
       "<table border=\"1\" class=\"dataframe\">\n",
       "  <thead>\n",
       "    <tr style=\"text-align: right;\">\n",
       "      <th></th>\n",
       "      <th>match_id</th>\n",
       "      <th>league</th>\n",
       "      <th>match_date</th>\n",
       "      <th>home_team</th>\n",
       "      <th>home_score</th>\n",
       "      <th>away_team</th>\n",
       "      <th>away_score</th>\n",
       "      <th>avg_odds_home_win</th>\n",
       "      <th>avg_odds_draw</th>\n",
       "      <th>avg_odds_away_win</th>\n",
       "      <th>max_odds_home_win</th>\n",
       "      <th>max_odds_draw</th>\n",
       "      <th>max_odds_away_win</th>\n",
       "    </tr>\n",
       "  </thead>\n",
       "  <tbody>\n",
       "    <tr>\n",
       "      <th>0</th>\n",
       "      <td>170088</td>\n",
       "      <td>England: Premier League</td>\n",
       "      <td>2005-01-01</td>\n",
       "      <td>Liverpool</td>\n",
       "      <td>0</td>\n",
       "      <td>Chelsea</td>\n",
       "      <td>1</td>\n",
       "      <td>2.9944</td>\n",
       "      <td>3.1944</td>\n",
       "      <td>2.2256</td>\n",
       "      <td>3.20</td>\n",
       "      <td>3.25</td>\n",
       "      <td>2.29</td>\n",
       "    </tr>\n",
       "    <tr>\n",
       "      <th>1</th>\n",
       "      <td>170125</td>\n",
       "      <td>England: League Two</td>\n",
       "      <td>2005-01-01</td>\n",
       "      <td>Lincoln City</td>\n",
       "      <td>1</td>\n",
       "      <td>Bury</td>\n",
       "      <td>0</td>\n",
       "      <td>1.8667</td>\n",
       "      <td>3.2222</td>\n",
       "      <td>3.6922</td>\n",
       "      <td>1.91</td>\n",
       "      <td>3.30</td>\n",
       "      <td>3.93</td>\n",
       "    </tr>\n",
       "    <tr>\n",
       "      <th>2</th>\n",
       "      <td>170126</td>\n",
       "      <td>England: League Two</td>\n",
       "      <td>2005-01-01</td>\n",
       "      <td>Macclesfield</td>\n",
       "      <td>1</td>\n",
       "      <td>Chester</td>\n",
       "      <td>2</td>\n",
       "      <td>1.7822</td>\n",
       "      <td>3.3000</td>\n",
       "      <td>4.0000</td>\n",
       "      <td>1.85</td>\n",
       "      <td>3.50</td>\n",
       "      <td>4.34</td>\n",
       "    </tr>\n",
       "    <tr>\n",
       "      <th>3</th>\n",
       "      <td>170127</td>\n",
       "      <td>England: League Two</td>\n",
       "      <td>2005-01-01</td>\n",
       "      <td>Oxford Utd</td>\n",
       "      <td>2</td>\n",
       "      <td>Wycombe</td>\n",
       "      <td>1</td>\n",
       "      <td>2.3122</td>\n",
       "      <td>3.1967</td>\n",
       "      <td>2.7067</td>\n",
       "      <td>2.38</td>\n",
       "      <td>3.27</td>\n",
       "      <td>2.85</td>\n",
       "    </tr>\n",
       "    <tr>\n",
       "      <th>4</th>\n",
       "      <td>170128</td>\n",
       "      <td>England: League Two</td>\n",
       "      <td>2005-01-01</td>\n",
       "      <td>Scunthorpe</td>\n",
       "      <td>0</td>\n",
       "      <td>Darlington</td>\n",
       "      <td>1</td>\n",
       "      <td>1.6411</td>\n",
       "      <td>3.3922</td>\n",
       "      <td>4.7078</td>\n",
       "      <td>1.67</td>\n",
       "      <td>3.50</td>\n",
       "      <td>5.50</td>\n",
       "    </tr>\n",
       "  </tbody>\n",
       "</table>\n",
       "</div>"
      ],
      "text/plain": [
       "   match_id                   league match_date     home_team  home_score  \\\n",
       "0    170088  England: Premier League 2005-01-01     Liverpool           0   \n",
       "1    170125      England: League Two 2005-01-01  Lincoln City           1   \n",
       "2    170126      England: League Two 2005-01-01  Macclesfield           1   \n",
       "3    170127      England: League Two 2005-01-01    Oxford Utd           2   \n",
       "4    170128      England: League Two 2005-01-01    Scunthorpe           0   \n",
       "\n",
       "    away_team  away_score  avg_odds_home_win  avg_odds_draw  \\\n",
       "0     Chelsea           1             2.9944         3.1944   \n",
       "1        Bury           0             1.8667         3.2222   \n",
       "2     Chester           2             1.7822         3.3000   \n",
       "3     Wycombe           1             2.3122         3.1967   \n",
       "4  Darlington           1             1.6411         3.3922   \n",
       "\n",
       "   avg_odds_away_win  max_odds_home_win  max_odds_draw  max_odds_away_win  \n",
       "0             2.2256               3.20           3.25               2.29  \n",
       "1             3.6922               1.91           3.30               3.93  \n",
       "2             4.0000               1.85           3.50               4.34  \n",
       "3             2.7067               2.38           3.27               2.85  \n",
       "4             4.7078               1.67           3.50               5.50  "
      ]
     },
     "execution_count": 5,
     "metadata": {},
     "output_type": "execute_result"
    }
   ],
   "source": [
    "raw_df = pd.read_feather(data_dir/'closing_odds.feather')\n",
    "raw_df.head()"
   ]
  },
  {
   "cell_type": "code",
   "execution_count": 6,
   "metadata": {},
   "outputs": [],
   "source": [
    "raw_df['result'] = 0\n",
    "raw_df.loc[raw_df.home_score>raw_df.away_score, 'result'] = -1\n",
    "raw_df.loc[raw_df.home_score<raw_df.away_score, 'result'] = 1"
   ]
  },
  {
   "cell_type": "markdown",
   "metadata": {},
   "source": [
    "## Odds only"
   ]
  },
  {
   "cell_type": "markdown",
   "metadata": {},
   "source": [
    "To see if this method is viable at all we'll use the maximum odds for betting."
   ]
  },
  {
   "cell_type": "code",
   "execution_count": 9,
   "metadata": {},
   "outputs": [],
   "source": [
    "odds_df = pd.DataFrame()\n",
    "\n",
    "odds_df['x_home'] = raw_df.max_odds_home_win\n",
    "odds_df['x_draw'] = raw_df.max_odds_draw\n",
    "odds_df['x_away'] = raw_df.max_odds_away_win\n",
    "\n",
    "odds_df['y_home'] = -1\n",
    "odds_df['y_away'] = -1\n",
    "odds_df['y_draw'] = -1\n",
    "odds_df['y_none'] = 0\n",
    "\n",
    "odds_df.loc[raw_df.result==-1, 'y_home'] = odds_df.x_home[raw_df.result==-1] - 1\n",
    "odds_df.loc[raw_df.result==1, 'y_away'] = odds_df.x_away[raw_df.result==1] - 1\n",
    "odds_df.loc[raw_df.result==0, 'y_draw'] = odds_df.x_away[raw_df.result==0] - 1"
   ]
  },
  {
   "cell_type": "markdown",
   "metadata": {},
   "source": [
    "### Add league info"
   ]
  },
  {
   "cell_type": "markdown",
   "metadata": {},
   "source": [
    "Due to a bug(?) in fastai we need at least one categorical column for the model to work, so we'll add the league name and the country (or 'category' in case of 'world' and 'europe')."
   ]
  },
  {
   "cell_type": "code",
   "execution_count": 11,
   "metadata": {},
   "outputs": [],
   "source": [
    "odds_df['country'] = raw_df.apply(lambda r: r.league.split(': ')[0], axis=1)\n",
    "odds_df['league'] = raw_df.apply(lambda r: r.league.split(': ')[1], axis=1)"
   ]
  },
  {
   "cell_type": "code",
   "execution_count": 12,
   "metadata": {},
   "outputs": [
    {
     "data": {
      "text/html": [
       "<div>\n",
       "<style scoped>\n",
       "    .dataframe tbody tr th:only-of-type {\n",
       "        vertical-align: middle;\n",
       "    }\n",
       "\n",
       "    .dataframe tbody tr th {\n",
       "        vertical-align: top;\n",
       "    }\n",
       "\n",
       "    .dataframe thead th {\n",
       "        text-align: right;\n",
       "    }\n",
       "</style>\n",
       "<table border=\"1\" class=\"dataframe\">\n",
       "  <thead>\n",
       "    <tr style=\"text-align: right;\">\n",
       "      <th></th>\n",
       "      <th>x_home</th>\n",
       "      <th>x_draw</th>\n",
       "      <th>x_away</th>\n",
       "      <th>y_home</th>\n",
       "      <th>y_away</th>\n",
       "      <th>y_draw</th>\n",
       "      <th>y_none</th>\n",
       "      <th>country</th>\n",
       "      <th>league</th>\n",
       "    </tr>\n",
       "  </thead>\n",
       "  <tbody>\n",
       "    <tr>\n",
       "      <th>0</th>\n",
       "      <td>3.20</td>\n",
       "      <td>3.25</td>\n",
       "      <td>2.29</td>\n",
       "      <td>-1.00</td>\n",
       "      <td>1.29</td>\n",
       "      <td>-1.0</td>\n",
       "      <td>0</td>\n",
       "      <td>England</td>\n",
       "      <td>Premier League</td>\n",
       "    </tr>\n",
       "    <tr>\n",
       "      <th>1</th>\n",
       "      <td>1.91</td>\n",
       "      <td>3.30</td>\n",
       "      <td>3.93</td>\n",
       "      <td>0.91</td>\n",
       "      <td>-1.00</td>\n",
       "      <td>-1.0</td>\n",
       "      <td>0</td>\n",
       "      <td>England</td>\n",
       "      <td>League Two</td>\n",
       "    </tr>\n",
       "    <tr>\n",
       "      <th>2</th>\n",
       "      <td>1.85</td>\n",
       "      <td>3.50</td>\n",
       "      <td>4.34</td>\n",
       "      <td>-1.00</td>\n",
       "      <td>3.34</td>\n",
       "      <td>-1.0</td>\n",
       "      <td>0</td>\n",
       "      <td>England</td>\n",
       "      <td>League Two</td>\n",
       "    </tr>\n",
       "    <tr>\n",
       "      <th>3</th>\n",
       "      <td>2.38</td>\n",
       "      <td>3.27</td>\n",
       "      <td>2.85</td>\n",
       "      <td>1.38</td>\n",
       "      <td>-1.00</td>\n",
       "      <td>-1.0</td>\n",
       "      <td>0</td>\n",
       "      <td>England</td>\n",
       "      <td>League Two</td>\n",
       "    </tr>\n",
       "    <tr>\n",
       "      <th>4</th>\n",
       "      <td>1.67</td>\n",
       "      <td>3.50</td>\n",
       "      <td>5.50</td>\n",
       "      <td>-1.00</td>\n",
       "      <td>4.50</td>\n",
       "      <td>-1.0</td>\n",
       "      <td>0</td>\n",
       "      <td>England</td>\n",
       "      <td>League Two</td>\n",
       "    </tr>\n",
       "  </tbody>\n",
       "</table>\n",
       "</div>"
      ],
      "text/plain": [
       "   x_home  x_draw  x_away  y_home  y_away  y_draw  y_none  country  \\\n",
       "0    3.20    3.25    2.29   -1.00    1.29    -1.0       0  England   \n",
       "1    1.91    3.30    3.93    0.91   -1.00    -1.0       0  England   \n",
       "2    1.85    3.50    4.34   -1.00    3.34    -1.0       0  England   \n",
       "3    2.38    3.27    2.85    1.38   -1.00    -1.0       0  England   \n",
       "4    1.67    3.50    5.50   -1.00    4.50    -1.0       0  England   \n",
       "\n",
       "           league  \n",
       "0  Premier League  \n",
       "1      League Two  \n",
       "2      League Two  \n",
       "3      League Two  \n",
       "4      League Two  "
      ]
     },
     "execution_count": 12,
     "metadata": {},
     "output_type": "execute_result"
    }
   ],
   "source": [
    "odds_df.head()"
   ]
  },
  {
   "cell_type": "markdown",
   "metadata": {},
   "source": [
    "### Standardization"
   ]
  },
  {
   "cell_type": "markdown",
   "metadata": {},
   "source": [
    "We want the three input odds to be standardized according to their (total) mean and standard deviation, so we'll do this by hand."
   ]
  },
  {
   "cell_type": "code",
   "execution_count": 14,
   "metadata": {},
   "outputs": [
    {
     "name": "stdout",
     "output_type": "stream",
     "text": [
      "Odds mean:  3.767972801601869\n",
      "Odds std:  3.1308143325062425\n"
     ]
    }
   ],
   "source": [
    "odds_mean = odds_df.iloc[:,:3].values.mean()\n",
    "odds_std = odds_df.iloc[:,:3].values.std()\n",
    "print('Odds mean: ', odds_mean)\n",
    "print('Odds std: ', odds_std)"
   ]
  },
  {
   "cell_type": "code",
   "execution_count": 15,
   "metadata": {},
   "outputs": [
    {
     "data": {
      "text/html": [
       "<div>\n",
       "<style scoped>\n",
       "    .dataframe tbody tr th:only-of-type {\n",
       "        vertical-align: middle;\n",
       "    }\n",
       "\n",
       "    .dataframe tbody tr th {\n",
       "        vertical-align: top;\n",
       "    }\n",
       "\n",
       "    .dataframe thead th {\n",
       "        text-align: right;\n",
       "    }\n",
       "</style>\n",
       "<table border=\"1\" class=\"dataframe\">\n",
       "  <thead>\n",
       "    <tr style=\"text-align: right;\">\n",
       "      <th></th>\n",
       "      <th>x_home</th>\n",
       "      <th>x_draw</th>\n",
       "      <th>x_away</th>\n",
       "      <th>y_home</th>\n",
       "      <th>y_away</th>\n",
       "      <th>y_draw</th>\n",
       "      <th>y_none</th>\n",
       "      <th>country</th>\n",
       "      <th>league</th>\n",
       "    </tr>\n",
       "  </thead>\n",
       "  <tbody>\n",
       "    <tr>\n",
       "      <th>0</th>\n",
       "      <td>-0.181414</td>\n",
       "      <td>-0.165443</td>\n",
       "      <td>-0.472073</td>\n",
       "      <td>-1.00</td>\n",
       "      <td>1.29</td>\n",
       "      <td>-1.0</td>\n",
       "      <td>0</td>\n",
       "      <td>England</td>\n",
       "      <td>Premier League</td>\n",
       "    </tr>\n",
       "    <tr>\n",
       "      <th>1</th>\n",
       "      <td>-0.593447</td>\n",
       "      <td>-0.149473</td>\n",
       "      <td>0.051752</td>\n",
       "      <td>0.91</td>\n",
       "      <td>-1.00</td>\n",
       "      <td>-1.0</td>\n",
       "      <td>0</td>\n",
       "      <td>England</td>\n",
       "      <td>League Two</td>\n",
       "    </tr>\n",
       "    <tr>\n",
       "      <th>2</th>\n",
       "      <td>-0.612611</td>\n",
       "      <td>-0.085592</td>\n",
       "      <td>0.182709</td>\n",
       "      <td>-1.00</td>\n",
       "      <td>3.34</td>\n",
       "      <td>-1.0</td>\n",
       "      <td>0</td>\n",
       "      <td>England</td>\n",
       "      <td>League Two</td>\n",
       "    </tr>\n",
       "    <tr>\n",
       "      <th>3</th>\n",
       "      <td>-0.443326</td>\n",
       "      <td>-0.159055</td>\n",
       "      <td>-0.293206</td>\n",
       "      <td>1.38</td>\n",
       "      <td>-1.00</td>\n",
       "      <td>-1.0</td>\n",
       "      <td>0</td>\n",
       "      <td>England</td>\n",
       "      <td>League Two</td>\n",
       "    </tr>\n",
       "    <tr>\n",
       "      <th>4</th>\n",
       "      <td>-0.670105</td>\n",
       "      <td>-0.085592</td>\n",
       "      <td>0.553219</td>\n",
       "      <td>-1.00</td>\n",
       "      <td>4.50</td>\n",
       "      <td>-1.0</td>\n",
       "      <td>0</td>\n",
       "      <td>England</td>\n",
       "      <td>League Two</td>\n",
       "    </tr>\n",
       "  </tbody>\n",
       "</table>\n",
       "</div>"
      ],
      "text/plain": [
       "     x_home    x_draw    x_away  y_home  y_away  y_draw  y_none  country  \\\n",
       "0 -0.181414 -0.165443 -0.472073   -1.00    1.29    -1.0       0  England   \n",
       "1 -0.593447 -0.149473  0.051752    0.91   -1.00    -1.0       0  England   \n",
       "2 -0.612611 -0.085592  0.182709   -1.00    3.34    -1.0       0  England   \n",
       "3 -0.443326 -0.159055 -0.293206    1.38   -1.00    -1.0       0  England   \n",
       "4 -0.670105 -0.085592  0.553219   -1.00    4.50    -1.0       0  England   \n",
       "\n",
       "           league  \n",
       "0  Premier League  \n",
       "1      League Two  \n",
       "2      League Two  \n",
       "3      League Two  \n",
       "4      League Two  "
      ]
     },
     "execution_count": 15,
     "metadata": {},
     "output_type": "execute_result"
    }
   ],
   "source": [
    "odds_df.iloc[:, :3] = (odds_df.iloc[:, :3] - odds_mean) / odds_std\n",
    "\n",
    "odds_df.head()"
   ]
  },
  {
   "cell_type": "markdown",
   "metadata": {},
   "source": [
    "### Dataloaders"
   ]
  },
  {
   "cell_type": "code",
   "execution_count": 16,
   "metadata": {},
   "outputs": [],
   "source": [
    "to = TabularPandas(odds_df, cat_names=['league', 'country'], procs=[Categorify],\n",
    "                   cont_names = ['x_home', 'x_draw', 'x_away'],\n",
    "                   y_names=['y_home', 'y_draw', 'y_away', 'y_none'],\n",
    "                   splits=RandomSplitter(valid_pct=0.2)(range_of(odds_df)))"
   ]
  },
  {
   "cell_type": "code",
   "execution_count": 17,
   "metadata": {},
   "outputs": [
    {
     "data": {
      "text/html": [
       "<table border=\"1\" class=\"dataframe\">\n",
       "  <thead>\n",
       "    <tr style=\"text-align: right;\">\n",
       "      <th></th>\n",
       "      <th>league</th>\n",
       "      <th>country</th>\n",
       "      <th>x_home</th>\n",
       "      <th>x_draw</th>\n",
       "      <th>x_away</th>\n",
       "      <th>y_home</th>\n",
       "      <th>y_draw</th>\n",
       "      <th>y_away</th>\n",
       "      <th>y_none</th>\n",
       "    </tr>\n",
       "  </thead>\n",
       "  <tbody>\n",
       "    <tr>\n",
       "      <th>0</th>\n",
       "      <td>Premier League</td>\n",
       "      <td>Bosnia and Herzegovina</td>\n",
       "      <td>-0.788285</td>\n",
       "      <td>0.122022</td>\n",
       "      <td>1.463526</td>\n",
       "      <td>0.30</td>\n",
       "      <td>-1.00</td>\n",
       "      <td>-1.00</td>\n",
       "      <td>0.0</td>\n",
       "    </tr>\n",
       "    <tr>\n",
       "      <th>1</th>\n",
       "      <td>Blue Square Bet Premier</td>\n",
       "      <td>England</td>\n",
       "      <td>-0.650940</td>\n",
       "      <td>0.054946</td>\n",
       "      <td>0.553219</td>\n",
       "      <td>-1.00</td>\n",
       "      <td>-1.00</td>\n",
       "      <td>4.50</td>\n",
       "      <td>0.0</td>\n",
       "    </tr>\n",
       "    <tr>\n",
       "      <th>2</th>\n",
       "      <td>Premier</td>\n",
       "      <td>Wales</td>\n",
       "      <td>-0.564701</td>\n",
       "      <td>-0.117533</td>\n",
       "      <td>-0.101562</td>\n",
       "      <td>1.00</td>\n",
       "      <td>-1.00</td>\n",
       "      <td>-1.00</td>\n",
       "      <td>0.0</td>\n",
       "    </tr>\n",
       "    <tr>\n",
       "      <th>3</th>\n",
       "      <td>T-League</td>\n",
       "      <td>Australia</td>\n",
       "      <td>0.074111</td>\n",
       "      <td>0.553219</td>\n",
       "      <td>-0.686075</td>\n",
       "      <td>-1.00</td>\n",
       "      <td>-1.00</td>\n",
       "      <td>0.62</td>\n",
       "      <td>0.0</td>\n",
       "    </tr>\n",
       "    <tr>\n",
       "      <th>4</th>\n",
       "      <td>Premier League</td>\n",
       "      <td>Armenia</td>\n",
       "      <td>-0.692463</td>\n",
       "      <td>0.106051</td>\n",
       "      <td>0.808744</td>\n",
       "      <td>-1.00</td>\n",
       "      <td>-1.00</td>\n",
       "      <td>5.30</td>\n",
       "      <td>0.0</td>\n",
       "    </tr>\n",
       "    <tr>\n",
       "      <th>5</th>\n",
       "      <td>Championship</td>\n",
       "      <td>England</td>\n",
       "      <td>-0.436938</td>\n",
       "      <td>-0.165443</td>\n",
       "      <td>-0.293206</td>\n",
       "      <td>-1.00</td>\n",
       "      <td>1.85</td>\n",
       "      <td>-1.00</td>\n",
       "      <td>0.0</td>\n",
       "    </tr>\n",
       "    <tr>\n",
       "      <th>6</th>\n",
       "      <td>Persian Gulf Pro League</td>\n",
       "      <td>Iran</td>\n",
       "      <td>0.144380</td>\n",
       "      <td>-0.165443</td>\n",
       "      <td>-0.500820</td>\n",
       "      <td>-1.00</td>\n",
       "      <td>-1.00</td>\n",
       "      <td>1.20</td>\n",
       "      <td>0.0</td>\n",
       "    </tr>\n",
       "    <tr>\n",
       "      <th>7</th>\n",
       "      <td>Club Friendly</td>\n",
       "      <td>World</td>\n",
       "      <td>-0.676493</td>\n",
       "      <td>0.150768</td>\n",
       "      <td>0.633071</td>\n",
       "      <td>0.65</td>\n",
       "      <td>-1.00</td>\n",
       "      <td>-1.00</td>\n",
       "      <td>0.0</td>\n",
       "    </tr>\n",
       "    <tr>\n",
       "      <th>8</th>\n",
       "      <td>Division 2</td>\n",
       "      <td>Poland</td>\n",
       "      <td>0.185903</td>\n",
       "      <td>-0.085592</td>\n",
       "      <td>-0.628582</td>\n",
       "      <td>-1.00</td>\n",
       "      <td>-1.00</td>\n",
       "      <td>0.80</td>\n",
       "      <td>0.0</td>\n",
       "    </tr>\n",
       "    <tr>\n",
       "      <th>9</th>\n",
       "      <td>Euro U21</td>\n",
       "      <td>Europe</td>\n",
       "      <td>-0.778702</td>\n",
       "      <td>0.553219</td>\n",
       "      <td>2.565475</td>\n",
       "      <td>0.33</td>\n",
       "      <td>-1.00</td>\n",
       "      <td>-1.00</td>\n",
       "      <td>0.0</td>\n",
       "    </tr>\n",
       "  </tbody>\n",
       "</table>"
      ],
      "text/plain": [
       "<IPython.core.display.HTML object>"
      ]
     },
     "metadata": {},
     "output_type": "display_data"
    }
   ],
   "source": [
    "dls = to.dataloaders(bs=256)\n",
    "dls.show_batch()"
   ]
  },
  {
   "cell_type": "markdown",
   "metadata": {},
   "source": [
    "### Loss function, profit"
   ]
  },
  {
   "cell_type": "markdown",
   "metadata": {},
   "source": [
    "Applying softmax to the output of the network lets us interpret the values as ratios. These ratios can be understood as the ratio of a fixed amount of money that is bet on one of the outcomes (home win, draw, away win). Multiplying these ratios with the odds(which already have 1 selected to account for the cost of taking the bet) and summing across that row gives the bank roll after the bet.\n",
    "\n",
    "Optimization algorithms in machine learning usually minimize, so we'll use minus the bank roll as the loss function. More precise: The mean of the bank rolls in the current batch.\n",
    "\n",
    "When watching the training progress keep in mind that a negative loss is good in this case. Additionally, the actual profit for each batch is shown too (fastai takes the mean across all validation batches?)"
   ]
  },
  {
   "cell_type": "code",
   "execution_count": 21,
   "metadata": {},
   "outputs": [],
   "source": [
    "def odds_loss(actual, target):\n",
    "    probs = F.softmax(actual, dim=1)\n",
    "    return -(probs*target).sum(dim=1).mean()\n",
    "\n",
    "def odds_profit(actual, target):\n",
    "    probs = F.softmax(actual, dim=1)\n",
    "    return (probs*target).sum()"
   ]
  },
  {
   "cell_type": "code",
   "execution_count": 22,
   "metadata": {},
   "outputs": [],
   "source": [
    "learn = tabular_learner(dls, loss_func=odds_loss, metrics=odds_profit)\n",
    "learn.model = learn.model.to('cuda')"
   ]
  },
  {
   "cell_type": "code",
   "execution_count": 23,
   "metadata": {},
   "outputs": [
    {
     "data": {
      "text/html": [
       "<table border=\"1\" class=\"dataframe\">\n",
       "  <thead>\n",
       "    <tr style=\"text-align: left;\">\n",
       "      <th>epoch</th>\n",
       "      <th>train_loss</th>\n",
       "      <th>valid_loss</th>\n",
       "      <th>odds_profit</th>\n",
       "      <th>time</th>\n",
       "    </tr>\n",
       "  </thead>\n",
       "  <tbody>\n",
       "    <tr>\n",
       "      <td>0</td>\n",
       "      <td>-0.176046</td>\n",
       "      <td>-0.158153</td>\n",
       "      <td>40.458260</td>\n",
       "      <td>00:19</td>\n",
       "    </tr>\n",
       "    <tr>\n",
       "      <td>1</td>\n",
       "      <td>-0.167066</td>\n",
       "      <td>-0.168299</td>\n",
       "      <td>43.053513</td>\n",
       "      <td>00:19</td>\n",
       "    </tr>\n",
       "    <tr>\n",
       "      <td>2</td>\n",
       "      <td>-0.187183</td>\n",
       "      <td>-0.176055</td>\n",
       "      <td>45.055340</td>\n",
       "      <td>00:20</td>\n",
       "    </tr>\n",
       "  </tbody>\n",
       "</table>"
      ],
      "text/plain": [
       "<IPython.core.display.HTML object>"
      ]
     },
     "metadata": {},
     "output_type": "display_data"
    }
   ],
   "source": [
    "learn.fit_one_cycle(3, lr_max=1e-3)"
   ]
  },
  {
   "cell_type": "code",
   "execution_count": 27,
   "metadata": {},
   "outputs": [
    {
     "name": "stdout",
     "output_type": "stream",
     "text": [
      "Total profit on the validation set:  16881.53125\n",
      "Samples in the validation set:  95888\n"
     ]
    }
   ],
   "source": [
    "profit = 0.\n",
    "for x1,x2,y in dls.valid:\n",
    "    preds = learn.model(x1,x2)\n",
    "    profit += odds_profit(preds, y)\n",
    "\n",
    "print('Total profit on the validation set: ', profit.item())\n",
    "print('Samples in the validation set: ', len(dls.valid_ds))"
   ]
  },
  {
   "cell_type": "markdown",
   "metadata": {},
   "source": [
    "Looking promising. One apparent 'bug' is that we're using random split for validation. Since this is timeseries data, we really should use the latest (date-wise) rows for validation"
   ]
  },
  {
   "cell_type": "markdown",
   "metadata": {},
   "source": [
    "### Better validation, seasons"
   ]
  },
  {
   "cell_type": "markdown",
   "metadata": {},
   "source": [
    "The easiest way to get better validation data is to transform the dates into seasons. First as string ('0506' for the season 2005/2006) for storage, then as (continue)"
   ]
  },
  {
   "cell_type": "code",
   "execution_count": null,
   "metadata": {},
   "outputs": [],
   "source": []
  }
 ],
 "metadata": {
  "kernelspec": {
   "display_name": "Python 3",
   "language": "python",
   "name": "python3"
  },
  "language_info": {
   "codemirror_mode": {
    "name": "ipython",
    "version": 3
   },
   "file_extension": ".py",
   "mimetype": "text/x-python",
   "name": "python",
   "nbconvert_exporter": "python",
   "pygments_lexer": "ipython3",
   "version": "3.8.5"
  }
 },
 "nbformat": 4,
 "nbformat_minor": 4
}
