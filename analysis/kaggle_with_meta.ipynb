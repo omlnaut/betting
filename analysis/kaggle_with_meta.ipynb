{
 "cells": [
  {
   "cell_type": "code",
   "execution_count": 1,
   "metadata": {},
   "outputs": [],
   "source": [
    "%load_ext autoreload\n",
    "%autoreload 2"
   ]
  },
  {
   "cell_type": "code",
   "execution_count": 2,
   "metadata": {},
   "outputs": [],
   "source": [
    "from fastai.tabular.all import *\n",
    "import betting.feature_engineering as features"
   ]
  },
  {
   "cell_type": "markdown",
   "metadata": {},
   "source": [
    "# Analysis of kaggle odds with metadata"
   ]
  },
  {
   "cell_type": "code",
   "execution_count": 3,
   "metadata": {},
   "outputs": [
    {
     "data": {
      "text/html": [
       "<div>\n",
       "<style scoped>\n",
       "    .dataframe tbody tr th:only-of-type {\n",
       "        vertical-align: middle;\n",
       "    }\n",
       "\n",
       "    .dataframe tbody tr th {\n",
       "        vertical-align: top;\n",
       "    }\n",
       "\n",
       "    .dataframe thead th {\n",
       "        text-align: right;\n",
       "    }\n",
       "</style>\n",
       "<table border=\"1\" class=\"dataframe\">\n",
       "  <thead>\n",
       "    <tr style=\"text-align: right;\">\n",
       "      <th></th>\n",
       "      <th>match_id</th>\n",
       "      <th>league</th>\n",
       "      <th>match_date</th>\n",
       "      <th>home_team</th>\n",
       "      <th>home_score</th>\n",
       "      <th>away_team</th>\n",
       "      <th>away_score</th>\n",
       "      <th>avg_odds_home_win</th>\n",
       "      <th>avg_odds_draw</th>\n",
       "      <th>avg_odds_away_win</th>\n",
       "      <th>...</th>\n",
       "      <th>home_total_goals_received</th>\n",
       "      <th>home_points</th>\n",
       "      <th>away_rank</th>\n",
       "      <th>away_games_played</th>\n",
       "      <th>away_wins</th>\n",
       "      <th>away_draw</th>\n",
       "      <th>away_lost</th>\n",
       "      <th>away_total_goals_scored</th>\n",
       "      <th>away_total_goals_received</th>\n",
       "      <th>away_points</th>\n",
       "    </tr>\n",
       "  </thead>\n",
       "  <tbody>\n",
       "    <tr>\n",
       "      <th>0</th>\n",
       "      <td>194908</td>\n",
       "      <td>league_one</td>\n",
       "      <td>2005-08-06</td>\n",
       "      <td>RC Lens</td>\n",
       "      <td>2</td>\n",
       "      <td>Marseille</td>\n",
       "      <td>0</td>\n",
       "      <td>2.1783</td>\n",
       "      <td>2.9350</td>\n",
       "      <td>3.2050</td>\n",
       "      <td>...</td>\n",
       "      <td>2</td>\n",
       "      <td>0</td>\n",
       "      <td>18</td>\n",
       "      <td>1</td>\n",
       "      <td>0</td>\n",
       "      <td>0</td>\n",
       "      <td>1</td>\n",
       "      <td>0</td>\n",
       "      <td>2</td>\n",
       "      <td>0</td>\n",
       "    </tr>\n",
       "    <tr>\n",
       "      <th>1</th>\n",
       "      <td>194909</td>\n",
       "      <td>league_one</td>\n",
       "      <td>2005-08-06</td>\n",
       "      <td>AC Ajaccio</td>\n",
       "      <td>3</td>\n",
       "      <td>Lille</td>\n",
       "      <td>3</td>\n",
       "      <td>2.6657</td>\n",
       "      <td>2.8643</td>\n",
       "      <td>2.6014</td>\n",
       "      <td>...</td>\n",
       "      <td>0</td>\n",
       "      <td>1</td>\n",
       "      <td>5</td>\n",
       "      <td>1</td>\n",
       "      <td>1</td>\n",
       "      <td>0</td>\n",
       "      <td>0</td>\n",
       "      <td>1</td>\n",
       "      <td>0</td>\n",
       "      <td>3</td>\n",
       "    </tr>\n",
       "    <tr>\n",
       "      <th>2</th>\n",
       "      <td>194910</td>\n",
       "      <td>league_one</td>\n",
       "      <td>2005-08-06</td>\n",
       "      <td>Bordeaux</td>\n",
       "      <td>1</td>\n",
       "      <td>AS Nancy</td>\n",
       "      <td>0</td>\n",
       "      <td>1.5957</td>\n",
       "      <td>3.2500</td>\n",
       "      <td>5.7443</td>\n",
       "      <td>...</td>\n",
       "      <td>0</td>\n",
       "      <td>3</td>\n",
       "      <td>15</td>\n",
       "      <td>1</td>\n",
       "      <td>0</td>\n",
       "      <td>0</td>\n",
       "      <td>1</td>\n",
       "      <td>0</td>\n",
       "      <td>1</td>\n",
       "      <td>0</td>\n",
       "    </tr>\n",
       "    <tr>\n",
       "      <th>3</th>\n",
       "      <td>194911</td>\n",
       "      <td>league_one</td>\n",
       "      <td>2005-08-06</td>\n",
       "      <td>FC Metz</td>\n",
       "      <td>0</td>\n",
       "      <td>Le Mans</td>\n",
       "      <td>0</td>\n",
       "      <td>1.9500</td>\n",
       "      <td>3.0157</td>\n",
       "      <td>3.8014</td>\n",
       "      <td>...</td>\n",
       "      <td>4</td>\n",
       "      <td>0</td>\n",
       "      <td>14</td>\n",
       "      <td>1</td>\n",
       "      <td>0</td>\n",
       "      <td>0</td>\n",
       "      <td>1</td>\n",
       "      <td>1</td>\n",
       "      <td>2</td>\n",
       "      <td>0</td>\n",
       "    </tr>\n",
       "    <tr>\n",
       "      <th>4</th>\n",
       "      <td>194912</td>\n",
       "      <td>league_one</td>\n",
       "      <td>2005-08-06</td>\n",
       "      <td>AS Monaco</td>\n",
       "      <td>0</td>\n",
       "      <td>Auxerre</td>\n",
       "      <td>2</td>\n",
       "      <td>1.6083</td>\n",
       "      <td>3.2117</td>\n",
       "      <td>5.4483</td>\n",
       "      <td>...</td>\n",
       "      <td>0</td>\n",
       "      <td>3</td>\n",
       "      <td>10</td>\n",
       "      <td>1</td>\n",
       "      <td>0</td>\n",
       "      <td>1</td>\n",
       "      <td>0</td>\n",
       "      <td>0</td>\n",
       "      <td>0</td>\n",
       "      <td>1</td>\n",
       "    </tr>\n",
       "  </tbody>\n",
       "</table>\n",
       "<p>5 rows × 33 columns</p>\n",
       "</div>"
      ],
      "text/plain": [
       "   match_id      league match_date   home_team  home_score  away_team  \\\n",
       "0    194908  league_one 2005-08-06     RC Lens           2  Marseille   \n",
       "1    194909  league_one 2005-08-06  AC Ajaccio           3      Lille   \n",
       "2    194910  league_one 2005-08-06    Bordeaux           1   AS Nancy   \n",
       "3    194911  league_one 2005-08-06     FC Metz           0    Le Mans   \n",
       "4    194912  league_one 2005-08-06   AS Monaco           0    Auxerre   \n",
       "\n",
       "   away_score  avg_odds_home_win  avg_odds_draw  avg_odds_away_win  ...  \\\n",
       "0           0             2.1783         2.9350             3.2050  ...   \n",
       "1           3             2.6657         2.8643             2.6014  ...   \n",
       "2           0             1.5957         3.2500             5.7443  ...   \n",
       "3           0             1.9500         3.0157             3.8014  ...   \n",
       "4           2             1.6083         3.2117             5.4483  ...   \n",
       "\n",
       "   home_total_goals_received  home_points  away_rank  away_games_played  \\\n",
       "0                          2            0         18                  1   \n",
       "1                          0            1          5                  1   \n",
       "2                          0            3         15                  1   \n",
       "3                          4            0         14                  1   \n",
       "4                          0            3         10                  1   \n",
       "\n",
       "   away_wins  away_draw  away_lost  away_total_goals_scored  \\\n",
       "0          0          0          1                        0   \n",
       "1          1          0          0                        1   \n",
       "2          0          0          1                        0   \n",
       "3          0          0          1                        1   \n",
       "4          0          1          0                        0   \n",
       "\n",
       "   away_total_goals_received  away_points  \n",
       "0                          2            0  \n",
       "1                          0            3  \n",
       "2                          1            0  \n",
       "3                          2            0  \n",
       "4                          0            1  \n",
       "\n",
       "[5 rows x 33 columns]"
      ]
     },
     "execution_count": 3,
     "metadata": {},
     "output_type": "execute_result"
    }
   ],
   "source": [
    "data_path = Path('../data/kaggle/with_meta.feather')\n",
    "raw_df = pd.read_feather(data_path)\n",
    "raw_df.head()"
   ]
  },
  {
   "cell_type": "code",
   "execution_count": 4,
   "metadata": {},
   "outputs": [
    {
     "data": {
      "text/plain": [
       "((12500, 33),\n",
       " Index(['match_id', 'league', 'match_date', 'home_team', 'home_score',\n",
       "        'away_team', 'away_score', 'avg_odds_home_win', 'avg_odds_draw',\n",
       "        'avg_odds_away_win', 'max_odds_home_win', 'max_odds_draw',\n",
       "        'max_odds_away_win', 'season', 'matchday', 'home_goals', 'away_goals',\n",
       "        'home_rank', 'home_games_played', 'home_wins', 'home_draw', 'home_lost',\n",
       "        'home_total_goals_scored', 'home_total_goals_received', 'home_points',\n",
       "        'away_rank', 'away_games_played', 'away_wins', 'away_draw', 'away_lost',\n",
       "        'away_total_goals_scored', 'away_total_goals_received', 'away_points'],\n",
       "       dtype='object'))"
      ]
     },
     "execution_count": 4,
     "metadata": {},
     "output_type": "execute_result"
    }
   ],
   "source": [
    "raw_df.shape, raw_df.columns"
   ]
  },
  {
   "cell_type": "markdown",
   "metadata": {},
   "source": [
    "## Features"
   ]
  },
  {
   "cell_type": "markdown",
   "metadata": {},
   "source": [
    "### Game results"
   ]
  },
  {
   "cell_type": "code",
   "execution_count": 5,
   "metadata": {},
   "outputs": [],
   "source": [
    "raw_df['result'] = features.results_from_goals(raw_df, 'home_score', 'away_score')"
   ]
  },
  {
   "cell_type": "markdown",
   "metadata": {},
   "source": [
    "### Target columns"
   ]
  },
  {
   "cell_type": "code",
   "execution_count": 6,
   "metadata": {},
   "outputs": [
    {
     "data": {
      "text/html": [
       "<div>\n",
       "<style scoped>\n",
       "    .dataframe tbody tr th:only-of-type {\n",
       "        vertical-align: middle;\n",
       "    }\n",
       "\n",
       "    .dataframe tbody tr th {\n",
       "        vertical-align: top;\n",
       "    }\n",
       "\n",
       "    .dataframe thead th {\n",
       "        text-align: right;\n",
       "    }\n",
       "</style>\n",
       "<table border=\"1\" class=\"dataframe\">\n",
       "  <thead>\n",
       "    <tr style=\"text-align: right;\">\n",
       "      <th></th>\n",
       "      <th>match_id</th>\n",
       "      <th>league</th>\n",
       "      <th>match_date</th>\n",
       "      <th>home_team</th>\n",
       "      <th>home_score</th>\n",
       "      <th>away_team</th>\n",
       "      <th>away_score</th>\n",
       "      <th>avg_odds_home_win</th>\n",
       "      <th>avg_odds_draw</th>\n",
       "      <th>avg_odds_away_win</th>\n",
       "      <th>...</th>\n",
       "      <th>away_draw</th>\n",
       "      <th>away_lost</th>\n",
       "      <th>away_total_goals_scored</th>\n",
       "      <th>away_total_goals_received</th>\n",
       "      <th>away_points</th>\n",
       "      <th>result</th>\n",
       "      <th>y_home</th>\n",
       "      <th>y_draw</th>\n",
       "      <th>y_away</th>\n",
       "      <th>y_none</th>\n",
       "    </tr>\n",
       "  </thead>\n",
       "  <tbody>\n",
       "    <tr>\n",
       "      <th>0</th>\n",
       "      <td>194908</td>\n",
       "      <td>league_one</td>\n",
       "      <td>2005-08-06</td>\n",
       "      <td>RC Lens</td>\n",
       "      <td>2</td>\n",
       "      <td>Marseille</td>\n",
       "      <td>0</td>\n",
       "      <td>2.1783</td>\n",
       "      <td>2.9350</td>\n",
       "      <td>3.2050</td>\n",
       "      <td>...</td>\n",
       "      <td>0</td>\n",
       "      <td>1</td>\n",
       "      <td>0</td>\n",
       "      <td>2</td>\n",
       "      <td>0</td>\n",
       "      <td>-1</td>\n",
       "      <td>1.45</td>\n",
       "      <td>-1.0</td>\n",
       "      <td>-1.0</td>\n",
       "      <td>0.0</td>\n",
       "    </tr>\n",
       "    <tr>\n",
       "      <th>1</th>\n",
       "      <td>194909</td>\n",
       "      <td>league_one</td>\n",
       "      <td>2005-08-06</td>\n",
       "      <td>AC Ajaccio</td>\n",
       "      <td>3</td>\n",
       "      <td>Lille</td>\n",
       "      <td>3</td>\n",
       "      <td>2.6657</td>\n",
       "      <td>2.8643</td>\n",
       "      <td>2.6014</td>\n",
       "      <td>...</td>\n",
       "      <td>0</td>\n",
       "      <td>0</td>\n",
       "      <td>1</td>\n",
       "      <td>0</td>\n",
       "      <td>3</td>\n",
       "      <td>0</td>\n",
       "      <td>-1.00</td>\n",
       "      <td>2.0</td>\n",
       "      <td>-1.0</td>\n",
       "      <td>0.0</td>\n",
       "    </tr>\n",
       "    <tr>\n",
       "      <th>2</th>\n",
       "      <td>194910</td>\n",
       "      <td>league_one</td>\n",
       "      <td>2005-08-06</td>\n",
       "      <td>Bordeaux</td>\n",
       "      <td>1</td>\n",
       "      <td>AS Nancy</td>\n",
       "      <td>0</td>\n",
       "      <td>1.5957</td>\n",
       "      <td>3.2500</td>\n",
       "      <td>5.7443</td>\n",
       "      <td>...</td>\n",
       "      <td>0</td>\n",
       "      <td>1</td>\n",
       "      <td>0</td>\n",
       "      <td>1</td>\n",
       "      <td>0</td>\n",
       "      <td>-1</td>\n",
       "      <td>0.65</td>\n",
       "      <td>-1.0</td>\n",
       "      <td>-1.0</td>\n",
       "      <td>0.0</td>\n",
       "    </tr>\n",
       "    <tr>\n",
       "      <th>3</th>\n",
       "      <td>194911</td>\n",
       "      <td>league_one</td>\n",
       "      <td>2005-08-06</td>\n",
       "      <td>FC Metz</td>\n",
       "      <td>0</td>\n",
       "      <td>Le Mans</td>\n",
       "      <td>0</td>\n",
       "      <td>1.9500</td>\n",
       "      <td>3.0157</td>\n",
       "      <td>3.8014</td>\n",
       "      <td>...</td>\n",
       "      <td>0</td>\n",
       "      <td>1</td>\n",
       "      <td>1</td>\n",
       "      <td>2</td>\n",
       "      <td>0</td>\n",
       "      <td>0</td>\n",
       "      <td>-1.00</td>\n",
       "      <td>2.1</td>\n",
       "      <td>-1.0</td>\n",
       "      <td>0.0</td>\n",
       "    </tr>\n",
       "    <tr>\n",
       "      <th>4</th>\n",
       "      <td>194912</td>\n",
       "      <td>league_one</td>\n",
       "      <td>2005-08-06</td>\n",
       "      <td>AS Monaco</td>\n",
       "      <td>0</td>\n",
       "      <td>Auxerre</td>\n",
       "      <td>2</td>\n",
       "      <td>1.6083</td>\n",
       "      <td>3.2117</td>\n",
       "      <td>5.4483</td>\n",
       "      <td>...</td>\n",
       "      <td>1</td>\n",
       "      <td>0</td>\n",
       "      <td>0</td>\n",
       "      <td>0</td>\n",
       "      <td>1</td>\n",
       "      <td>1</td>\n",
       "      <td>-1.00</td>\n",
       "      <td>-1.0</td>\n",
       "      <td>5.0</td>\n",
       "      <td>0.0</td>\n",
       "    </tr>\n",
       "  </tbody>\n",
       "</table>\n",
       "<p>5 rows × 38 columns</p>\n",
       "</div>"
      ],
      "text/plain": [
       "   match_id      league match_date   home_team  home_score  away_team  \\\n",
       "0    194908  league_one 2005-08-06     RC Lens           2  Marseille   \n",
       "1    194909  league_one 2005-08-06  AC Ajaccio           3      Lille   \n",
       "2    194910  league_one 2005-08-06    Bordeaux           1   AS Nancy   \n",
       "3    194911  league_one 2005-08-06     FC Metz           0    Le Mans   \n",
       "4    194912  league_one 2005-08-06   AS Monaco           0    Auxerre   \n",
       "\n",
       "   away_score  avg_odds_home_win  avg_odds_draw  avg_odds_away_win  ...  \\\n",
       "0           0             2.1783         2.9350             3.2050  ...   \n",
       "1           3             2.6657         2.8643             2.6014  ...   \n",
       "2           0             1.5957         3.2500             5.7443  ...   \n",
       "3           0             1.9500         3.0157             3.8014  ...   \n",
       "4           2             1.6083         3.2117             5.4483  ...   \n",
       "\n",
       "   away_draw  away_lost  away_total_goals_scored  away_total_goals_received  \\\n",
       "0          0          1                        0                          2   \n",
       "1          0          0                        1                          0   \n",
       "2          0          1                        0                          1   \n",
       "3          0          1                        1                          2   \n",
       "4          1          0                        0                          0   \n",
       "\n",
       "   away_points  result  y_home  y_draw  y_away  y_none  \n",
       "0            0      -1    1.45    -1.0    -1.0     0.0  \n",
       "1            3       0   -1.00     2.0    -1.0     0.0  \n",
       "2            0      -1    0.65    -1.0    -1.0     0.0  \n",
       "3            0       0   -1.00     2.1    -1.0     0.0  \n",
       "4            1       1   -1.00    -1.0     5.0     0.0  \n",
       "\n",
       "[5 rows x 38 columns]"
      ]
     },
     "execution_count": 6,
     "metadata": {},
     "output_type": "execute_result"
    }
   ],
   "source": [
    "raw_df = features.add_profit_cols(raw_df, 'max_odds_home_win', 'max_odds_draw', 'max_odds_away_win')\n",
    "raw_df['y_none'] = 0.\n",
    "raw_df.head()"
   ]
  },
  {
   "cell_type": "markdown",
   "metadata": {},
   "source": [
    "### Validation"
   ]
  },
  {
   "cell_type": "code",
   "execution_count": 7,
   "metadata": {},
   "outputs": [
    {
     "data": {
      "text/plain": [
       "array([2005, 2006, 2007, 2008, 2009, 2010, 2011, 2012, 2013, 2014])"
      ]
     },
     "execution_count": 7,
     "metadata": {},
     "output_type": "execute_result"
    }
   ],
   "source": [
    "raw_df.season.unique()"
   ]
  },
  {
   "cell_type": "code",
   "execution_count": 8,
   "metadata": {},
   "outputs": [],
   "source": [
    "raw_df['valid'] = False\n",
    "raw_df.loc[raw_df.season>=2013,'valid'] = True"
   ]
  },
  {
   "cell_type": "markdown",
   "metadata": {},
   "source": [
    "### Cats and conts"
   ]
  },
  {
   "cell_type": "code",
   "execution_count": 9,
   "metadata": {},
   "outputs": [],
   "source": [
    "cats = ['league']\n",
    "conts = ['season', 'matchday',\n",
    "        'home_rank', 'home_games_played', 'home_wins', 'home_draw', 'home_lost',\n",
    "        'home_total_goals_scored', 'home_total_goals_received', 'home_points',\n",
    "        'away_rank', 'away_games_played', 'away_wins', 'away_draw', 'away_lost',\n",
    "        'away_total_goals_scored', 'away_total_goals_received', 'away_points']"
   ]
  },
  {
   "cell_type": "markdown",
   "metadata": {},
   "source": [
    "### DataLoaders"
   ]
  },
  {
   "cell_type": "code",
   "execution_count": 10,
   "metadata": {},
   "outputs": [],
   "source": [
    "to = TabularPandas(raw_df, cat_names=cats, procs=[Categorify, Normalize],\n",
    "                   cont_names = conts,\n",
    "                   y_names=['y_home', 'y_draw', 'y_away', 'y_none'],\n",
    "                   splits=ColSplitter('valid')(raw_df))\n",
    "dls = to.dataloaders(bs=4096)"
   ]
  },
  {
   "cell_type": "code",
   "execution_count": 11,
   "metadata": {},
   "outputs": [
    {
     "data": {
      "text/html": [
       "<table border=\"1\" class=\"dataframe\">\n",
       "  <thead>\n",
       "    <tr style=\"text-align: right;\">\n",
       "      <th></th>\n",
       "      <th>league</th>\n",
       "      <th>season</th>\n",
       "      <th>matchday</th>\n",
       "      <th>home_rank</th>\n",
       "      <th>home_games_played</th>\n",
       "      <th>home_wins</th>\n",
       "      <th>home_draw</th>\n",
       "      <th>home_lost</th>\n",
       "      <th>home_total_goals_scored</th>\n",
       "      <th>home_total_goals_received</th>\n",
       "      <th>home_points</th>\n",
       "      <th>away_rank</th>\n",
       "      <th>away_games_played</th>\n",
       "      <th>away_wins</th>\n",
       "      <th>away_draw</th>\n",
       "      <th>away_lost</th>\n",
       "      <th>away_total_goals_scored</th>\n",
       "      <th>away_total_goals_received</th>\n",
       "      <th>away_points</th>\n",
       "      <th>y_home</th>\n",
       "      <th>y_draw</th>\n",
       "      <th>y_away</th>\n",
       "      <th>y_none</th>\n",
       "    </tr>\n",
       "  </thead>\n",
       "  <tbody>\n",
       "    <tr>\n",
       "      <th>0</th>\n",
       "      <td>premier_league</td>\n",
       "      <td>2009.0</td>\n",
       "      <td>10.0</td>\n",
       "      <td>16.0</td>\n",
       "      <td>9.000000</td>\n",
       "      <td>2.000000e+00</td>\n",
       "      <td>2.000000e+00</td>\n",
       "      <td>5.000000e+00</td>\n",
       "      <td>13.000000</td>\n",
       "      <td>17.000000</td>\n",
       "      <td>8.0</td>\n",
       "      <td>9.0</td>\n",
       "      <td>9.000000</td>\n",
       "      <td>4.000000e+00</td>\n",
       "      <td>2.000000e+00</td>\n",
       "      <td>3.0</td>\n",
       "      <td>12.000000</td>\n",
       "      <td>12.000000</td>\n",
       "      <td>14.000000</td>\n",
       "      <td>1.65</td>\n",
       "      <td>-1.0</td>\n",
       "      <td>-1.0</td>\n",
       "      <td>0.0</td>\n",
       "    </tr>\n",
       "    <tr>\n",
       "      <th>1</th>\n",
       "      <td>league_one</td>\n",
       "      <td>2011.0</td>\n",
       "      <td>4.0</td>\n",
       "      <td>16.0</td>\n",
       "      <td>3.000001</td>\n",
       "      <td>-1.271625e-07</td>\n",
       "      <td>2.000000e+00</td>\n",
       "      <td>9.999998e-01</td>\n",
       "      <td>4.000001</td>\n",
       "      <td>6.000000</td>\n",
       "      <td>2.0</td>\n",
       "      <td>17.0</td>\n",
       "      <td>3.000001</td>\n",
       "      <td>-1.232303e-07</td>\n",
       "      <td>2.000000e+00</td>\n",
       "      <td>1.0</td>\n",
       "      <td>1.999999</td>\n",
       "      <td>4.000000</td>\n",
       "      <td>2.000000</td>\n",
       "      <td>0.85</td>\n",
       "      <td>-1.0</td>\n",
       "      <td>-1.0</td>\n",
       "      <td>0.0</td>\n",
       "    </tr>\n",
       "    <tr>\n",
       "      <th>2</th>\n",
       "      <td>bundesliga</td>\n",
       "      <td>2009.0</td>\n",
       "      <td>18.0</td>\n",
       "      <td>11.0</td>\n",
       "      <td>17.000000</td>\n",
       "      <td>6.000000e+00</td>\n",
       "      <td>3.000000e+00</td>\n",
       "      <td>8.000000e+00</td>\n",
       "      <td>24.000000</td>\n",
       "      <td>29.000000</td>\n",
       "      <td>21.0</td>\n",
       "      <td>16.0</td>\n",
       "      <td>17.000000</td>\n",
       "      <td>4.000000e+00</td>\n",
       "      <td>4.000000e+00</td>\n",
       "      <td>9.0</td>\n",
       "      <td>18.000000</td>\n",
       "      <td>33.000000</td>\n",
       "      <td>16.000000</td>\n",
       "      <td>-1.00</td>\n",
       "      <td>-1.0</td>\n",
       "      <td>3.8</td>\n",
       "      <td>0.0</td>\n",
       "    </tr>\n",
       "    <tr>\n",
       "      <th>3</th>\n",
       "      <td>primera_division</td>\n",
       "      <td>2012.0</td>\n",
       "      <td>14.0</td>\n",
       "      <td>1.0</td>\n",
       "      <td>13.000000</td>\n",
       "      <td>1.200000e+01</td>\n",
       "      <td>9.999998e-01</td>\n",
       "      <td>1.078842e-07</td>\n",
       "      <td>42.999999</td>\n",
       "      <td>15.000000</td>\n",
       "      <td>37.0</td>\n",
       "      <td>14.0</td>\n",
       "      <td>13.000000</td>\n",
       "      <td>4.000000e+00</td>\n",
       "      <td>3.000000e+00</td>\n",
       "      <td>6.0</td>\n",
       "      <td>18.000000</td>\n",
       "      <td>27.000000</td>\n",
       "      <td>15.000000</td>\n",
       "      <td>0.10</td>\n",
       "      <td>-1.0</td>\n",
       "      <td>-1.0</td>\n",
       "      <td>0.0</td>\n",
       "    </tr>\n",
       "    <tr>\n",
       "      <th>4</th>\n",
       "      <td>primera_division</td>\n",
       "      <td>2009.0</td>\n",
       "      <td>5.0</td>\n",
       "      <td>2.0</td>\n",
       "      <td>4.000000</td>\n",
       "      <td>4.000000e+00</td>\n",
       "      <td>-1.900826e-07</td>\n",
       "      <td>1.078842e-07</td>\n",
       "      <td>13.000000</td>\n",
       "      <td>2.000000</td>\n",
       "      <td>12.0</td>\n",
       "      <td>10.0</td>\n",
       "      <td>4.000000</td>\n",
       "      <td>2.000000e+00</td>\n",
       "      <td>-1.192610e-07</td>\n",
       "      <td>2.0</td>\n",
       "      <td>3.000001</td>\n",
       "      <td>6.000001</td>\n",
       "      <td>6.000001</td>\n",
       "      <td>0.12</td>\n",
       "      <td>-1.0</td>\n",
       "      <td>-1.0</td>\n",
       "      <td>0.0</td>\n",
       "    </tr>\n",
       "    <tr>\n",
       "      <th>5</th>\n",
       "      <td>primera_division</td>\n",
       "      <td>2006.0</td>\n",
       "      <td>23.0</td>\n",
       "      <td>8.0</td>\n",
       "      <td>22.000000</td>\n",
       "      <td>1.000000e+01</td>\n",
       "      <td>3.000000e+00</td>\n",
       "      <td>9.000000e+00</td>\n",
       "      <td>32.000000</td>\n",
       "      <td>30.000000</td>\n",
       "      <td>33.0</td>\n",
       "      <td>19.0</td>\n",
       "      <td>22.000000</td>\n",
       "      <td>2.000000e+00</td>\n",
       "      <td>8.000000e+00</td>\n",
       "      <td>12.0</td>\n",
       "      <td>13.000000</td>\n",
       "      <td>29.000000</td>\n",
       "      <td>14.000000</td>\n",
       "      <td>1.00</td>\n",
       "      <td>-1.0</td>\n",
       "      <td>-1.0</td>\n",
       "      <td>0.0</td>\n",
       "    </tr>\n",
       "    <tr>\n",
       "      <th>6</th>\n",
       "      <td>league_one</td>\n",
       "      <td>2011.0</td>\n",
       "      <td>27.0</td>\n",
       "      <td>16.0</td>\n",
       "      <td>26.000000</td>\n",
       "      <td>6.000000e+00</td>\n",
       "      <td>8.000000e+00</td>\n",
       "      <td>1.200000e+01</td>\n",
       "      <td>25.000000</td>\n",
       "      <td>30.000000</td>\n",
       "      <td>26.0</td>\n",
       "      <td>17.0</td>\n",
       "      <td>26.000000</td>\n",
       "      <td>6.000000e+00</td>\n",
       "      <td>8.000000e+00</td>\n",
       "      <td>12.0</td>\n",
       "      <td>24.000000</td>\n",
       "      <td>35.000000</td>\n",
       "      <td>26.000000</td>\n",
       "      <td>-1.00</td>\n",
       "      <td>2.4</td>\n",
       "      <td>-1.0</td>\n",
       "      <td>0.0</td>\n",
       "    </tr>\n",
       "    <tr>\n",
       "      <th>7</th>\n",
       "      <td>premier_league</td>\n",
       "      <td>2005.0</td>\n",
       "      <td>7.0</td>\n",
       "      <td>19.0</td>\n",
       "      <td>6.000000</td>\n",
       "      <td>9.999998e-01</td>\n",
       "      <td>-1.900826e-07</td>\n",
       "      <td>5.000000e+00</td>\n",
       "      <td>2.000000</td>\n",
       "      <td>7.999999</td>\n",
       "      <td>3.0</td>\n",
       "      <td>11.0</td>\n",
       "      <td>6.000000</td>\n",
       "      <td>2.000000e+00</td>\n",
       "      <td>1.000000e+00</td>\n",
       "      <td>3.0</td>\n",
       "      <td>4.000000</td>\n",
       "      <td>7.999999</td>\n",
       "      <td>7.000000</td>\n",
       "      <td>-1.00</td>\n",
       "      <td>-1.0</td>\n",
       "      <td>3.5</td>\n",
       "      <td>0.0</td>\n",
       "    </tr>\n",
       "    <tr>\n",
       "      <th>8</th>\n",
       "      <td>premier_league</td>\n",
       "      <td>2012.0</td>\n",
       "      <td>15.0</td>\n",
       "      <td>4.0</td>\n",
       "      <td>14.000000</td>\n",
       "      <td>8.000000e+00</td>\n",
       "      <td>2.000000e+00</td>\n",
       "      <td>4.000000e+00</td>\n",
       "      <td>24.000000</td>\n",
       "      <td>18.000000</td>\n",
       "      <td>26.0</td>\n",
       "      <td>9.0</td>\n",
       "      <td>14.000000</td>\n",
       "      <td>4.000000e+00</td>\n",
       "      <td>7.000000e+00</td>\n",
       "      <td>3.0</td>\n",
       "      <td>13.000000</td>\n",
       "      <td>12.000000</td>\n",
       "      <td>19.000000</td>\n",
       "      <td>-1.00</td>\n",
       "      <td>-1.0</td>\n",
       "      <td>2.8</td>\n",
       "      <td>0.0</td>\n",
       "    </tr>\n",
       "    <tr>\n",
       "      <th>9</th>\n",
       "      <td>premier_league</td>\n",
       "      <td>2008.0</td>\n",
       "      <td>16.0</td>\n",
       "      <td>3.0</td>\n",
       "      <td>15.000000</td>\n",
       "      <td>9.000000e+00</td>\n",
       "      <td>4.000000e+00</td>\n",
       "      <td>2.000000e+00</td>\n",
       "      <td>29.000000</td>\n",
       "      <td>10.000000</td>\n",
       "      <td>31.0</td>\n",
       "      <td>18.0</td>\n",
       "      <td>15.000000</td>\n",
       "      <td>4.000000e+00</td>\n",
       "      <td>3.000000e+00</td>\n",
       "      <td>8.0</td>\n",
       "      <td>13.000000</td>\n",
       "      <td>24.000000</td>\n",
       "      <td>15.000000</td>\n",
       "      <td>0.60</td>\n",
       "      <td>-1.0</td>\n",
       "      <td>-1.0</td>\n",
       "      <td>0.0</td>\n",
       "    </tr>\n",
       "  </tbody>\n",
       "</table>"
      ],
      "text/plain": [
       "<IPython.core.display.HTML object>"
      ]
     },
     "metadata": {},
     "output_type": "display_data"
    }
   ],
   "source": [
    "dls.show_batch()"
   ]
  },
  {
   "cell_type": "code",
   "execution_count": 12,
   "metadata": {},
   "outputs": [
    {
     "data": {
      "text/plain": [
       "(9717, 2783)"
      ]
     },
     "execution_count": 12,
     "metadata": {},
     "output_type": "execute_result"
    }
   ],
   "source": [
    "len(dls.train_ds), len(dls.valid_ds)"
   ]
  },
  {
   "cell_type": "markdown",
   "metadata": {},
   "source": [
    "# Model"
   ]
  },
  {
   "cell_type": "code",
   "execution_count": 13,
   "metadata": {},
   "outputs": [],
   "source": [
    "def neg_lr_find(learn, offset=5):\n",
    "    old_loss = learn.loss_func\n",
    "    def loss(actuals, targets):\n",
    "        return offset + old_loss(actuals, targets)\n",
    "    learn.loss_func = loss\n",
    "    learn.lr_find()\n",
    "    learn.loss_func = old_loss"
   ]
  },
  {
   "cell_type": "code",
   "execution_count": 14,
   "metadata": {},
   "outputs": [],
   "source": [
    "config = tabular_config(ps=.1)\n",
    "\n",
    "learn = tabular_learner(dls, loss_func=features.odds_loss, metrics=features.odds_profit, layers=[5,5,5], wd=1e-1)#, config=config)\n",
    "learn.model = learn.model.to('cuda')"
   ]
  },
  {
   "cell_type": "code",
   "execution_count": 15,
   "metadata": {},
   "outputs": [
    {
     "data": {
      "text/html": [],
      "text/plain": [
       "<IPython.core.display.HTML object>"
      ]
     },
     "metadata": {},
     "output_type": "display_data"
    },
    {
     "data": {
      "image/png": "[encoded data removed]",
      "text/plain": [
       "<Figure size 432x288 with 1 Axes>"
      ]
     },
     "metadata": {
      "needs_background": "light"
     },
     "output_type": "display_data"
    }
   ],
   "source": [
    "neg_lr_find(learn)"
   ]
  },
  {
   "cell_type": "code",
   "execution_count": 16,
   "metadata": {},
   "outputs": [
    {
     "data": {
      "text/html": [
       "<table border=\"1\" class=\"dataframe\">\n",
       "  <thead>\n",
       "    <tr style=\"text-align: left;\">\n",
       "      <th>epoch</th>\n",
       "      <th>train_loss</th>\n",
       "      <th>valid_loss</th>\n",
       "      <th>odds_profit</th>\n",
       "      <th>time</th>\n",
       "    </tr>\n",
       "  </thead>\n",
       "  <tbody>\n",
       "    <tr>\n",
       "      <td>0</td>\n",
       "      <td>0.011645</td>\n",
       "      <td>0.005629</td>\n",
       "      <td>-15.666731</td>\n",
       "      <td>00:00</td>\n",
       "    </tr>\n",
       "    <tr>\n",
       "      <td>1</td>\n",
       "      <td>0.009229</td>\n",
       "      <td>0.004719</td>\n",
       "      <td>-13.132122</td>\n",
       "      <td>00:00</td>\n",
       "    </tr>\n",
       "    <tr>\n",
       "      <td>2</td>\n",
       "      <td>0.007584</td>\n",
       "      <td>0.002531</td>\n",
       "      <td>-7.043163</td>\n",
       "      <td>00:00</td>\n",
       "    </tr>\n",
       "    <tr>\n",
       "      <td>3</td>\n",
       "      <td>0.004362</td>\n",
       "      <td>-0.001005</td>\n",
       "      <td>2.795998</td>\n",
       "      <td>00:00</td>\n",
       "    </tr>\n",
       "    <tr>\n",
       "      <td>4</td>\n",
       "      <td>0.000568</td>\n",
       "      <td>-0.006019</td>\n",
       "      <td>16.751883</td>\n",
       "      <td>00:00</td>\n",
       "    </tr>\n",
       "    <tr>\n",
       "      <td>5</td>\n",
       "      <td>-0.004765</td>\n",
       "      <td>-0.012404</td>\n",
       "      <td>34.518978</td>\n",
       "      <td>00:00</td>\n",
       "    </tr>\n",
       "    <tr>\n",
       "      <td>6</td>\n",
       "      <td>-0.007969</td>\n",
       "      <td>-0.015765</td>\n",
       "      <td>43.873901</td>\n",
       "      <td>00:00</td>\n",
       "    </tr>\n",
       "    <tr>\n",
       "      <td>7</td>\n",
       "      <td>-0.012111</td>\n",
       "      <td>-0.017558</td>\n",
       "      <td>48.864555</td>\n",
       "      <td>00:00</td>\n",
       "    </tr>\n",
       "    <tr>\n",
       "      <td>8</td>\n",
       "      <td>-0.016345</td>\n",
       "      <td>-0.018406</td>\n",
       "      <td>51.222904</td>\n",
       "      <td>00:00</td>\n",
       "    </tr>\n",
       "    <tr>\n",
       "      <td>9</td>\n",
       "      <td>-0.020088</td>\n",
       "      <td>-0.019417</td>\n",
       "      <td>54.036720</td>\n",
       "      <td>00:00</td>\n",
       "    </tr>\n",
       "  </tbody>\n",
       "</table>"
      ],
      "text/plain": [
       "<IPython.core.display.HTML object>"
      ]
     },
     "metadata": {},
     "output_type": "display_data"
    }
   ],
   "source": [
    "learn.fit_one_cycle(10, 5e-2)"
   ]
  },
  {
   "cell_type": "code",
   "execution_count": 17,
   "metadata": {},
   "outputs": [
    {
     "data": {
      "image/png": "[encoded data removed]",
      "text/plain": [
       "<Figure size 432x288 with 1 Axes>"
      ]
     },
     "metadata": {
      "needs_background": "light"
     },
     "output_type": "display_data"
    }
   ],
   "source": [
    "learn.recorder.plot_loss()"
   ]
  },
  {
   "cell_type": "markdown",
   "metadata": {},
   "source": [
    "## Recent seasons"
   ]
  },
  {
   "cell_type": "code",
   "execution_count": 18,
   "metadata": {},
   "outputs": [],
   "source": [
    "recent_df = raw_df.loc[raw_df.season>=2008,:].copy()"
   ]
  },
  {
   "cell_type": "code",
   "execution_count": 70,
   "metadata": {},
   "outputs": [],
   "source": [
    "cats = ['league']\n",
    "conts = ['matchday',\n",
    "        'home_rank', 'home_games_played', 'home_wins', 'home_draw', 'home_lost',\n",
    "        'home_total_goals_scored', 'home_total_goals_received', 'home_points',\n",
    "        'away_rank', 'away_games_played', 'away_wins', 'away_draw', 'away_lost',\n",
    "        'away_total_goals_scored', 'away_total_goals_received', 'away_points']\n",
    "\n",
    "to = TabularPandas(recent_df, cat_names=cats, procs=[Categorify, Normalize],\n",
    "                   cont_names = conts,\n",
    "                   y_names=['y_home', 'y_draw', 'y_away', 'y_none'],\n",
    "                   splits=ColSplitter('valid')(recent_df))\n",
    "dls = to.dataloaders(bs=4096)"
   ]
  },
  {
   "cell_type": "code",
   "execution_count": 139,
   "metadata": {},
   "outputs": [],
   "source": [
    "config = tabular_config(ps=.2)\n",
    "\n",
    "learn = tabular_learner(dls, loss_func=features.odds_loss, metrics=features.odds_profit, layers=[10,5], config=config)\n",
    "learn.model = learn.model.to('cuda')"
   ]
  },
  {
   "cell_type": "code",
   "execution_count": 140,
   "metadata": {},
   "outputs": [
    {
     "data": {
      "text/html": [],
      "text/plain": [
       "<IPython.core.display.HTML object>"
      ]
     },
     "metadata": {},
     "output_type": "display_data"
    },
    {
     "data": {
      "image/png": "[encoded data removed]",
      "text/plain": [
       "<Figure size 432x288 with 1 Axes>"
      ]
     },
     "metadata": {
      "needs_background": "light"
     },
     "output_type": "display_data"
    }
   ],
   "source": [
    "neg_lr_find(learn)"
   ]
  },
  {
   "cell_type": "code",
   "execution_count": 141,
   "metadata": {},
   "outputs": [
    {
     "data": {
      "text/html": [
       "<table border=\"1\" class=\"dataframe\">\n",
       "  <thead>\n",
       "    <tr style=\"text-align: left;\">\n",
       "      <th>epoch</th>\n",
       "      <th>train_loss</th>\n",
       "      <th>valid_loss</th>\n",
       "      <th>odds_profit</th>\n",
       "      <th>time</th>\n",
       "    </tr>\n",
       "  </thead>\n",
       "  <tbody>\n",
       "    <tr>\n",
       "      <td>0</td>\n",
       "      <td>-0.001153</td>\n",
       "      <td>0.001184</td>\n",
       "      <td>-3.294909</td>\n",
       "      <td>00:00</td>\n",
       "    </tr>\n",
       "    <tr>\n",
       "      <td>1</td>\n",
       "      <td>0.001103</td>\n",
       "      <td>0.000789</td>\n",
       "      <td>-2.196216</td>\n",
       "      <td>00:00</td>\n",
       "    </tr>\n",
       "    <tr>\n",
       "      <td>2</td>\n",
       "      <td>-0.000095</td>\n",
       "      <td>-0.001480</td>\n",
       "      <td>4.118223</td>\n",
       "      <td>00:00</td>\n",
       "    </tr>\n",
       "    <tr>\n",
       "      <td>3</td>\n",
       "      <td>-0.000096</td>\n",
       "      <td>-0.004611</td>\n",
       "      <td>12.831199</td>\n",
       "      <td>00:00</td>\n",
       "    </tr>\n",
       "    <tr>\n",
       "      <td>4</td>\n",
       "      <td>-0.004247</td>\n",
       "      <td>-0.013067</td>\n",
       "      <td>36.364162</td>\n",
       "      <td>00:00</td>\n",
       "    </tr>\n",
       "    <tr>\n",
       "      <td>5</td>\n",
       "      <td>-0.007151</td>\n",
       "      <td>-0.027073</td>\n",
       "      <td>75.343979</td>\n",
       "      <td>00:00</td>\n",
       "    </tr>\n",
       "    <tr>\n",
       "      <td>6</td>\n",
       "      <td>-0.011096</td>\n",
       "      <td>-0.035723</td>\n",
       "      <td>99.418358</td>\n",
       "      <td>00:00</td>\n",
       "    </tr>\n",
       "    <tr>\n",
       "      <td>7</td>\n",
       "      <td>-0.014598</td>\n",
       "      <td>-0.041710</td>\n",
       "      <td>116.078011</td>\n",
       "      <td>00:00</td>\n",
       "    </tr>\n",
       "    <tr>\n",
       "      <td>8</td>\n",
       "      <td>-0.020238</td>\n",
       "      <td>-0.046187</td>\n",
       "      <td>128.538818</td>\n",
       "      <td>00:00</td>\n",
       "    </tr>\n",
       "    <tr>\n",
       "      <td>9</td>\n",
       "      <td>-0.023885</td>\n",
       "      <td>-0.047589</td>\n",
       "      <td>132.441132</td>\n",
       "      <td>00:00</td>\n",
       "    </tr>\n",
       "    <tr>\n",
       "      <td>10</td>\n",
       "      <td>-0.027409</td>\n",
       "      <td>-0.048320</td>\n",
       "      <td>134.475922</td>\n",
       "      <td>00:00</td>\n",
       "    </tr>\n",
       "    <tr>\n",
       "      <td>11</td>\n",
       "      <td>-0.029925</td>\n",
       "      <td>-0.048756</td>\n",
       "      <td>135.687668</td>\n",
       "      <td>00:00</td>\n",
       "    </tr>\n",
       "  </tbody>\n",
       "</table>"
      ],
      "text/plain": [
       "<IPython.core.display.HTML object>"
      ]
     },
     "metadata": {},
     "output_type": "display_data"
    }
   ],
   "source": [
    "learn.fit_one_cycle(12, 1e-1)"
   ]
  },
  {
   "cell_type": "code",
   "execution_count": 142,
   "metadata": {},
   "outputs": [
    {
     "data": {
      "image/png": "[encoded data removed]",
      "text/plain": [
       "<Figure size 432x288 with 1 Axes>"
      ]
     },
     "metadata": {
      "needs_background": "light"
     },
     "output_type": "display_data"
    }
   ],
   "source": [
    "learn.recorder.plot_loss()"
   ]
  },
  {
   "cell_type": "code",
   "execution_count": 143,
   "metadata": {},
   "outputs": [],
   "source": [
    "learn.export('kaggle_with_meta_4875.model')"
   ]
  },
  {
   "cell_type": "markdown",
   "metadata": {},
   "source": [
    "# Season evaluation"
   ]
  },
  {
   "cell_type": "code",
   "execution_count": 144,
   "metadata": {},
   "outputs": [],
   "source": [
    "def predict_df(learner, df, cols, softmax=True):\n",
    "    test_df = df.loc[:, cols].copy()\n",
    "    dl = learner.dls.test_dl(test_df)\n",
    "    preds, _ = learner.get_preds(dl=dl)\n",
    "    \n",
    "    if softmax:\n",
    "        preds = F.softmax(preds, dim=1)\n",
    "    return preds\n",
    "\n",
    "def df_profit(learner, df, input_cols, target_cols):\n",
    "    preds = predict_df(learner, df, input_cols, softmax=False)\n",
    "    targets = df.loc[:,target_cols].values\n",
    "    \n",
    "    return features.odds_profit(preds, targets).item()"
   ]
  },
  {
   "cell_type": "code",
   "execution_count": 145,
   "metadata": {},
   "outputs": [],
   "source": [
    "learn = load_learner('kaggle_with_meta_4875.model')"
   ]
  },
  {
   "cell_type": "code",
   "execution_count": 146,
   "metadata": {},
   "outputs": [],
   "source": [
    "target_cols = ['y_home', 'y_draw', 'y_away', 'y_none']"
   ]
  },
  {
   "cell_type": "code",
   "execution_count": 147,
   "metadata": {},
   "outputs": [
    {
     "data": {
      "text/html": [],
      "text/plain": [
       "<IPython.core.display.HTML object>"
      ]
     },
     "metadata": {},
     "output_type": "display_data"
    },
    {
     "name": "stdout",
     "output_type": "stream",
     "text": [
      "2008 11.595441751600871\n"
     ]
    },
    {
     "data": {
      "text/html": [],
      "text/plain": [
       "<IPython.core.display.HTML object>"
      ]
     },
     "metadata": {},
     "output_type": "display_data"
    },
    {
     "name": "stdout",
     "output_type": "stream",
     "text": [
      "2009 96.9498134864035\n"
     ]
    },
    {
     "data": {
      "text/html": [],
      "text/plain": [
       "<IPython.core.display.HTML object>"
      ]
     },
     "metadata": {},
     "output_type": "display_data"
    },
    {
     "name": "stdout",
     "output_type": "stream",
     "text": [
      "2010 2.6759565886255587\n"
     ]
    },
    {
     "data": {
      "text/html": [],
      "text/plain": [
       "<IPython.core.display.HTML object>"
      ]
     },
     "metadata": {},
     "output_type": "display_data"
    },
    {
     "name": "stdout",
     "output_type": "stream",
     "text": [
      "2011 114.36115740021552\n"
     ]
    },
    {
     "data": {
      "text/html": [],
      "text/plain": [
       "<IPython.core.display.HTML object>"
      ]
     },
     "metadata": {},
     "output_type": "display_data"
    },
    {
     "name": "stdout",
     "output_type": "stream",
     "text": [
      "2012 53.09566434661135\n"
     ]
    },
    {
     "data": {
      "text/html": [],
      "text/plain": [
       "<IPython.core.display.HTML object>"
      ]
     },
     "metadata": {},
     "output_type": "display_data"
    },
    {
     "name": "stdout",
     "output_type": "stream",
     "text": [
      "2013 56.78454403457578\n"
     ]
    },
    {
     "data": {
      "text/html": [],
      "text/plain": [
       "<IPython.core.display.HTML object>"
      ]
     },
     "metadata": {},
     "output_type": "display_data"
    },
    {
     "name": "stdout",
     "output_type": "stream",
     "text": [
      "2014 78.90312145684838\n"
     ]
    }
   ],
   "source": [
    "for season, df in recent_df.groupby('season'):\n",
    "    print(season, df_profit(learn, df, cats+conts, target_cols))"
   ]
  },
  {
   "cell_type": "code",
   "execution_count": 148,
   "metadata": {},
   "outputs": [
    {
     "data": {
      "text/html": [],
      "text/plain": [
       "<IPython.core.display.HTML object>"
      ]
     },
     "metadata": {},
     "output_type": "display_data"
    },
    {
     "name": "stdout",
     "output_type": "stream",
     "text": [
      "bundesliga 87.41380149108613\n"
     ]
    },
    {
     "data": {
      "text/html": [],
      "text/plain": [
       "<IPython.core.display.HTML object>"
      ]
     },
     "metadata": {},
     "output_type": "display_data"
    },
    {
     "name": "stdout",
     "output_type": "stream",
     "text": [
      "league_one 106.55259023748313\n"
     ]
    },
    {
     "data": {
      "text/html": [],
      "text/plain": [
       "<IPython.core.display.HTML object>"
      ]
     },
     "metadata": {},
     "output_type": "display_data"
    },
    {
     "name": "stdout",
     "output_type": "stream",
     "text": [
      "premier_league 97.20079147791282\n"
     ]
    },
    {
     "data": {
      "text/html": [],
      "text/plain": [
       "<IPython.core.display.HTML object>"
      ]
     },
     "metadata": {},
     "output_type": "display_data"
    },
    {
     "name": "stdout",
     "output_type": "stream",
     "text": [
      "primera_division 123.1985154546201\n"
     ]
    }
   ],
   "source": [
    "for league, df in recent_df.groupby('league'):\n",
    "    print(league, df_profit(learn, df, cats+conts, target_cols))"
   ]
  },
  {
   "cell_type": "markdown",
   "metadata": {},
   "source": [
    "# History"
   ]
  },
  {
   "cell_type": "code",
   "execution_count": 149,
   "metadata": {},
   "outputs": [
    {
     "data": {
      "text/html": [
       "<div>\n",
       "<style scoped>\n",
       "    .dataframe tbody tr th:only-of-type {\n",
       "        vertical-align: middle;\n",
       "    }\n",
       "\n",
       "    .dataframe tbody tr th {\n",
       "        vertical-align: top;\n",
       "    }\n",
       "\n",
       "    .dataframe thead th {\n",
       "        text-align: right;\n",
       "    }\n",
       "</style>\n",
       "<table border=\"1\" class=\"dataframe\">\n",
       "  <thead>\n",
       "    <tr style=\"text-align: right;\">\n",
       "      <th></th>\n",
       "      <th>match_id</th>\n",
       "      <th>league</th>\n",
       "      <th>match_date</th>\n",
       "      <th>home_team</th>\n",
       "      <th>home_score</th>\n",
       "      <th>away_team</th>\n",
       "      <th>away_score</th>\n",
       "      <th>avg_odds_home_win</th>\n",
       "      <th>avg_odds_draw</th>\n",
       "      <th>avg_odds_away_win</th>\n",
       "      <th>...</th>\n",
       "      <th>away_lost</th>\n",
       "      <th>away_total_goals_scored</th>\n",
       "      <th>away_total_goals_received</th>\n",
       "      <th>away_points</th>\n",
       "      <th>result</th>\n",
       "      <th>y_home</th>\n",
       "      <th>y_draw</th>\n",
       "      <th>y_away</th>\n",
       "      <th>y_none</th>\n",
       "      <th>valid</th>\n",
       "    </tr>\n",
       "  </thead>\n",
       "  <tbody>\n",
       "    <tr>\n",
       "      <th>4187</th>\n",
       "      <td>343195</td>\n",
       "      <td>league_one</td>\n",
       "      <td>2008-08-16</td>\n",
       "      <td>Saint-Étienne</td>\n",
       "      <td>2</td>\n",
       "      <td>Sochaux</td>\n",
       "      <td>1</td>\n",
       "      <td>1.7708</td>\n",
       "      <td>3.2200</td>\n",
       "      <td>4.6150</td>\n",
       "      <td>...</td>\n",
       "      <td>1</td>\n",
       "      <td>1</td>\n",
       "      <td>2</td>\n",
       "      <td>0</td>\n",
       "      <td>-1</td>\n",
       "      <td>0.85</td>\n",
       "      <td>-1.00</td>\n",
       "      <td>-1.0</td>\n",
       "      <td>0.0</td>\n",
       "      <td>False</td>\n",
       "    </tr>\n",
       "    <tr>\n",
       "      <th>4188</th>\n",
       "      <td>343196</td>\n",
       "      <td>league_one</td>\n",
       "      <td>2008-08-16</td>\n",
       "      <td>Toulouse</td>\n",
       "      <td>2</td>\n",
       "      <td>HAC</td>\n",
       "      <td>1</td>\n",
       "      <td>2.1309</td>\n",
       "      <td>2.9855</td>\n",
       "      <td>3.5700</td>\n",
       "      <td>...</td>\n",
       "      <td>0</td>\n",
       "      <td>1</td>\n",
       "      <td>0</td>\n",
       "      <td>3</td>\n",
       "      <td>-1</td>\n",
       "      <td>1.27</td>\n",
       "      <td>-1.00</td>\n",
       "      <td>-1.0</td>\n",
       "      <td>0.0</td>\n",
       "      <td>False</td>\n",
       "    </tr>\n",
       "    <tr>\n",
       "      <th>4189</th>\n",
       "      <td>343197</td>\n",
       "      <td>league_one</td>\n",
       "      <td>2008-08-16</td>\n",
       "      <td>PSG</td>\n",
       "      <td>1</td>\n",
       "      <td>Bordeaux</td>\n",
       "      <td>0</td>\n",
       "      <td>2.4500</td>\n",
       "      <td>2.9691</td>\n",
       "      <td>2.9291</td>\n",
       "      <td>...</td>\n",
       "      <td>0</td>\n",
       "      <td>2</td>\n",
       "      <td>1</td>\n",
       "      <td>3</td>\n",
       "      <td>-1</td>\n",
       "      <td>1.60</td>\n",
       "      <td>-1.00</td>\n",
       "      <td>-1.0</td>\n",
       "      <td>0.0</td>\n",
       "      <td>False</td>\n",
       "    </tr>\n",
       "    <tr>\n",
       "      <th>4190</th>\n",
       "      <td>343194</td>\n",
       "      <td>league_one</td>\n",
       "      <td>2008-08-16</td>\n",
       "      <td>OGC Nizza</td>\n",
       "      <td>2</td>\n",
       "      <td>AS Nancy</td>\n",
       "      <td>1</td>\n",
       "      <td>2.3117</td>\n",
       "      <td>2.8958</td>\n",
       "      <td>3.1725</td>\n",
       "      <td>...</td>\n",
       "      <td>0</td>\n",
       "      <td>0</td>\n",
       "      <td>0</td>\n",
       "      <td>1</td>\n",
       "      <td>-1</td>\n",
       "      <td>1.40</td>\n",
       "      <td>-1.00</td>\n",
       "      <td>-1.0</td>\n",
       "      <td>0.0</td>\n",
       "      <td>False</td>\n",
       "    </tr>\n",
       "    <tr>\n",
       "      <th>4191</th>\n",
       "      <td>343193</td>\n",
       "      <td>league_one</td>\n",
       "      <td>2008-08-16</td>\n",
       "      <td>FC Nantes</td>\n",
       "      <td>1</td>\n",
       "      <td>AS Monaco</td>\n",
       "      <td>1</td>\n",
       "      <td>2.4492</td>\n",
       "      <td>2.9377</td>\n",
       "      <td>2.9431</td>\n",
       "      <td>...</td>\n",
       "      <td>0</td>\n",
       "      <td>1</td>\n",
       "      <td>0</td>\n",
       "      <td>3</td>\n",
       "      <td>0</td>\n",
       "      <td>-1.00</td>\n",
       "      <td>2.01</td>\n",
       "      <td>-1.0</td>\n",
       "      <td>0.0</td>\n",
       "      <td>False</td>\n",
       "    </tr>\n",
       "  </tbody>\n",
       "</table>\n",
       "<p>5 rows × 39 columns</p>\n",
       "</div>"
      ],
      "text/plain": [
       "      match_id      league match_date      home_team  home_score  away_team  \\\n",
       "4187    343195  league_one 2008-08-16  Saint-Étienne           2    Sochaux   \n",
       "4188    343196  league_one 2008-08-16       Toulouse           2        HAC   \n",
       "4189    343197  league_one 2008-08-16            PSG           1   Bordeaux   \n",
       "4190    343194  league_one 2008-08-16      OGC Nizza           2   AS Nancy   \n",
       "4191    343193  league_one 2008-08-16      FC Nantes           1  AS Monaco   \n",
       "\n",
       "      away_score  avg_odds_home_win  avg_odds_draw  avg_odds_away_win  ...  \\\n",
       "4187           1             1.7708         3.2200             4.6150  ...   \n",
       "4188           1             2.1309         2.9855             3.5700  ...   \n",
       "4189           0             2.4500         2.9691             2.9291  ...   \n",
       "4190           1             2.3117         2.8958             3.1725  ...   \n",
       "4191           1             2.4492         2.9377             2.9431  ...   \n",
       "\n",
       "      away_lost  away_total_goals_scored  away_total_goals_received  \\\n",
       "4187          1                        1                          2   \n",
       "4188          0                        1                          0   \n",
       "4189          0                        2                          1   \n",
       "4190          0                        0                          0   \n",
       "4191          0                        1                          0   \n",
       "\n",
       "      away_points  result  y_home  y_draw  y_away  y_none  valid  \n",
       "4187            0      -1    0.85   -1.00    -1.0     0.0  False  \n",
       "4188            3      -1    1.27   -1.00    -1.0     0.0  False  \n",
       "4189            3      -1    1.60   -1.00    -1.0     0.0  False  \n",
       "4190            1      -1    1.40   -1.00    -1.0     0.0  False  \n",
       "4191            3       0   -1.00    2.01    -1.0     0.0  False  \n",
       "\n",
       "[5 rows x 39 columns]"
      ]
     },
     "execution_count": 149,
     "metadata": {},
     "output_type": "execute_result"
    }
   ],
   "source": [
    "recent_df.sort_values('match_date', inplace=True)\n",
    "recent_df.head()"
   ]
  },
  {
   "cell_type": "code",
   "execution_count": 150,
   "metadata": {},
   "outputs": [],
   "source": [
    "def accumulate_profits(profits, amount=1.):\n",
    "    accumulated = [profits[0]]\n",
    "    for profit in profits[1:]:\n",
    "        accumulated.append(accumulated[-1]-amount)\n",
    "        accumulated.append(accumulated[-1]+(amount*(profit+1)))\n",
    "    return np.array(accumulated)"
   ]
  },
  {
   "cell_type": "code",
   "execution_count": 152,
   "metadata": {},
   "outputs": [
    {
     "data": {
      "text/html": [],
      "text/plain": [
       "<IPython.core.display.HTML object>"
      ]
     },
     "metadata": {},
     "output_type": "display_data"
    },
    {
     "data": {
      "text/html": [],
      "text/plain": [
       "<IPython.core.display.HTML object>"
      ]
     },
     "metadata": {},
     "output_type": "display_data"
    },
    {
     "data": {
      "text/html": [],
      "text/plain": [
       "<IPython.core.display.HTML object>"
      ]
     },
     "metadata": {},
     "output_type": "display_data"
    },
    {
     "data": {
      "text/html": [],
      "text/plain": [
       "<IPython.core.display.HTML object>"
      ]
     },
     "metadata": {},
     "output_type": "display_data"
    },
    {
     "data": {
      "text/html": [],
      "text/plain": [
       "<IPython.core.display.HTML object>"
      ]
     },
     "metadata": {},
     "output_type": "display_data"
    },
    {
     "data": {
      "text/html": [],
      "text/plain": [
       "<IPython.core.display.HTML object>"
      ]
     },
     "metadata": {},
     "output_type": "display_data"
    },
    {
     "data": {
      "image/png": "[encoded data removed]",
      "text/plain": [
       "<Figure size 1008x1728 with 6 Axes>"
      ]
     },
     "metadata": {
      "needs_background": "light"
     },
     "output_type": "display_data"
    }
   ],
   "source": [
    "n_plots = len(recent_df.season.unique())\n",
    "\n",
    "fig, axes = plt.subplots(nrows=n_plots//2, ncols=2, figsize=(14,7*n_plots//2))\n",
    "\n",
    "for ax, (season, df) in zip(axes.flatten(), recent_df.groupby('season')):\n",
    "    preds = predict_df(learn, df, cats+conts)\n",
    "    targets = df.loc[:,target_cols].values\n",
    "    profits = (preds*targets).sum(dim=1)\n",
    "    \n",
    "    accumulated_profits = accumulate_profits(profits, amount=5)\n",
    "\n",
    "    ax.plot(accumulated_profits)\n",
    "    ax.set_title(f'{season} | Min: {min(accumulated_profits):.3f} | End: {accumulated_profits[-1]:.3f}')\n",
    "\n",
    "plt.show()"
   ]
  },
  {
   "cell_type": "code",
   "execution_count": null,
   "metadata": {},
   "outputs": [],
   "source": []
  }
 ],
 "metadata": {
  "kernelspec": {
   "display_name": "Python 3",
   "language": "python",
   "name": "python3"
  },
  "language_info": {
   "codemirror_mode": {
    "name": "ipython",
    "version": 3
   },
   "file_extension": ".py",
   "mimetype": "text/x-python",
   "name": "python",
   "nbconvert_exporter": "python",
   "pygments_lexer": "ipython3",
   "version": "3.8.5"
  }
 },
 "nbformat": 4,
 "nbformat_minor": 4
}
