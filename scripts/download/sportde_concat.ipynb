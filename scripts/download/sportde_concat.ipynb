{
 "cells": [
  {
   "cell_type": "code",
   "execution_count": 1,
   "metadata": {},
   "outputs": [],
   "source": [
    "%load_ext autoreload\n",
    "%autoreload 2"
   ]
  },
  {
   "cell_type": "code",
   "execution_count": 2,
   "metadata": {},
   "outputs": [],
   "source": [
    "import pandas as pd\n",
    "from pathlib import Path"
   ]
  },
  {
   "cell_type": "markdown",
   "metadata": {},
   "source": [
    "# Concat of downloaded files"
   ]
  },
  {
   "cell_type": "code",
   "execution_count": 3,
   "metadata": {},
   "outputs": [],
   "source": [
    "league = 'serie_a'\n",
    "path = Path(f'../../data/sportde/{league}/raw')"
   ]
  },
  {
   "cell_type": "code",
   "execution_count": 4,
   "metadata": {},
   "outputs": [],
   "source": [
    "matchday_paths = list(path.glob('*_matchdays.feather'))\n",
    "standings_paths = list(path.glob('*_standings.feather'))\n",
    "games_paths = list(path.glob('*_games.feather'))"
   ]
  },
  {
   "cell_type": "code",
   "execution_count": 5,
   "metadata": {},
   "outputs": [],
   "source": [
    "def merge_dfs_from_paths(paths):\n",
    "    dfs = [pd.read_feather(path) for path in paths]\n",
    "    expected_len = sum(len(df) for df in dfs)\n",
    "    \n",
    "    concat = pd.concat(dfs)\n",
    "    \n",
    "    assert len(concat)==expected_len, f'Expected len: {expected_len}, got: {len(concat)}'\n",
    "    \n",
    "    return concat.reset_index(drop=True)"
   ]
  },
  {
   "cell_type": "code",
   "execution_count": 6,
   "metadata": {},
   "outputs": [],
   "source": [
    "matchday_df = merge_dfs_from_paths(matchday_paths)\n",
    "matchday_df.to_feather(path/'../matchdays.feather')\n",
    "\n",
    "standings_df = merge_dfs_from_paths(standings_paths)\n",
    "standings_df.to_feather(path/'../standings.feather')\n",
    "\n",
    "games_df = merge_dfs_from_paths(games_paths)\n",
    "games_df.to_feather(path/'../games.feather')"
   ]
  },
  {
   "cell_type": "markdown",
   "metadata": {},
   "source": [
    "# Sport.de data validation"
   ]
  },
  {
   "cell_type": "code",
   "execution_count": 7,
   "metadata": {},
   "outputs": [],
   "source": [
    "data_dir = Path(f'../../data/sportde/{league}')"
   ]
  },
  {
   "cell_type": "code",
   "execution_count": 8,
   "metadata": {},
   "outputs": [
    {
     "data": {
      "text/html": [
       "<div>\n",
       "<style scoped>\n",
       "    .dataframe tbody tr th:only-of-type {\n",
       "        vertical-align: middle;\n",
       "    }\n",
       "\n",
       "    .dataframe tbody tr th {\n",
       "        vertical-align: top;\n",
       "    }\n",
       "\n",
       "    .dataframe thead th {\n",
       "        text-align: right;\n",
       "    }\n",
       "</style>\n",
       "<table border=\"1\" class=\"dataframe\">\n",
       "  <thead>\n",
       "    <tr style=\"text-align: right;\">\n",
       "      <th></th>\n",
       "      <th>season</th>\n",
       "      <th>matchday</th>\n",
       "      <th>rank</th>\n",
       "      <th>team</th>\n",
       "      <th>games_played</th>\n",
       "      <th>wins</th>\n",
       "      <th>draw</th>\n",
       "      <th>lost</th>\n",
       "      <th>total_goals_scored</th>\n",
       "      <th>total_goals_received</th>\n",
       "      <th>points</th>\n",
       "      <th>league</th>\n",
       "    </tr>\n",
       "  </thead>\n",
       "  <tbody>\n",
       "    <tr>\n",
       "      <th>0</th>\n",
       "      <td>0506</td>\n",
       "      <td>1</td>\n",
       "      <td>1</td>\n",
       "      <td>AS Rom</td>\n",
       "      <td>1</td>\n",
       "      <td>1</td>\n",
       "      <td>0</td>\n",
       "      <td>0</td>\n",
       "      <td>3</td>\n",
       "      <td>0</td>\n",
       "      <td>3</td>\n",
       "      <td>serie_a</td>\n",
       "    </tr>\n",
       "    <tr>\n",
       "      <th>1</th>\n",
       "      <td>0506</td>\n",
       "      <td>1</td>\n",
       "      <td>1</td>\n",
       "      <td>Inter</td>\n",
       "      <td>1</td>\n",
       "      <td>1</td>\n",
       "      <td>0</td>\n",
       "      <td>0</td>\n",
       "      <td>3</td>\n",
       "      <td>0</td>\n",
       "      <td>3</td>\n",
       "      <td>serie_a</td>\n",
       "    </tr>\n",
       "    <tr>\n",
       "      <th>2</th>\n",
       "      <td>0506</td>\n",
       "      <td>1</td>\n",
       "      <td>3</td>\n",
       "      <td>Livorno</td>\n",
       "      <td>1</td>\n",
       "      <td>1</td>\n",
       "      <td>0</td>\n",
       "      <td>0</td>\n",
       "      <td>2</td>\n",
       "      <td>1</td>\n",
       "      <td>3</td>\n",
       "      <td>serie_a</td>\n",
       "    </tr>\n",
       "    <tr>\n",
       "      <th>3</th>\n",
       "      <td>0506</td>\n",
       "      <td>1</td>\n",
       "      <td>3</td>\n",
       "      <td>Siena</td>\n",
       "      <td>1</td>\n",
       "      <td>1</td>\n",
       "      <td>0</td>\n",
       "      <td>0</td>\n",
       "      <td>2</td>\n",
       "      <td>1</td>\n",
       "      <td>3</td>\n",
       "      <td>serie_a</td>\n",
       "    </tr>\n",
       "    <tr>\n",
       "      <th>4</th>\n",
       "      <td>0506</td>\n",
       "      <td>1</td>\n",
       "      <td>5</td>\n",
       "      <td>Juventus</td>\n",
       "      <td>1</td>\n",
       "      <td>1</td>\n",
       "      <td>0</td>\n",
       "      <td>0</td>\n",
       "      <td>1</td>\n",
       "      <td>0</td>\n",
       "      <td>3</td>\n",
       "      <td>serie_a</td>\n",
       "    </tr>\n",
       "  </tbody>\n",
       "</table>\n",
       "</div>"
      ],
      "text/plain": [
       "  season  matchday  rank      team  games_played  wins  draw  lost  \\\n",
       "0   0506         1     1    AS Rom             1     1     0     0   \n",
       "1   0506         1     1     Inter             1     1     0     0   \n",
       "2   0506         1     3   Livorno             1     1     0     0   \n",
       "3   0506         1     3     Siena             1     1     0     0   \n",
       "4   0506         1     5  Juventus             1     1     0     0   \n",
       "\n",
       "   total_goals_scored  total_goals_received  points   league  \n",
       "0                   3                     0       3  serie_a  \n",
       "1                   3                     0       3  serie_a  \n",
       "2                   2                     1       3  serie_a  \n",
       "3                   2                     1       3  serie_a  \n",
       "4                   1                     0       3  serie_a  "
      ]
     },
     "execution_count": 8,
     "metadata": {},
     "output_type": "execute_result"
    }
   ],
   "source": [
    "standings = pd.read_feather(data_dir/'standings.feather')\n",
    "standings.head()"
   ]
  },
  {
   "cell_type": "code",
   "execution_count": 9,
   "metadata": {},
   "outputs": [
    {
     "data": {
      "text/plain": [
       "array(['AS Rom', 'Inter', 'Livorno', 'Siena', 'Juventus', 'Udinese',\n",
       "       'Ascoli', 'Palermo', 'Parma', 'Cagliari', 'Sampdoria', 'Lecce',\n",
       "       'Messina', 'Chievo Verona', 'Empoli', 'Treviso', 'Reggina',\n",
       "       'AC Florenz', 'Lazio Rom', 'AC Mailand', 'Atalanta', 'Catania',\n",
       "       'FC Turin', 'SSC Neapel', 'FC Genua', 'Bologna', 'Bari', 'Cesena',\n",
       "       'Brescia', 'Novara', 'Pescara', 'Hellas Verona', 'Sassuolo',\n",
       "       'Frosinone', 'Carpi', 'Crotone', 'SPAL Ferrara', 'Benevento',\n",
       "       'Spezia'], dtype=object)"
      ]
     },
     "execution_count": 9,
     "metadata": {},
     "output_type": "execute_result"
    }
   ],
   "source": [
    "teams = standings.team.unique()\n",
    "teams"
   ]
  },
  {
   "cell_type": "code",
   "execution_count": 10,
   "metadata": {},
   "outputs": [
    {
     "data": {
      "text/plain": [
       "(True, True)"
      ]
     },
     "execution_count": 10,
     "metadata": {},
     "output_type": "execute_result"
    }
   ],
   "source": [
    "games = pd.read_feather(data_dir/'games.feather')\n",
    "\n",
    "home_teams = games.home_team.unique()\n",
    "away_teams = games.away_team.unique()\n",
    "\n",
    "teams = set(teams)\n",
    "home_teams = set(home_teams)\n",
    "away_teams = set(away_teams)\n",
    "\n",
    "home_teams.issubset(teams), away_teams.issubset(teams)"
   ]
  },
  {
   "cell_type": "markdown",
   "metadata": {},
   "source": [
    "# Merge all leagues"
   ]
  },
  {
   "cell_type": "code",
   "execution_count": 11,
   "metadata": {},
   "outputs": [
    {
     "data": {
      "text/plain": [
       "[WindowsPath('../../data/sportde/bundesliga'),\n",
       " WindowsPath('../../data/sportde/games.feather'),\n",
       " WindowsPath('../../data/sportde/league_one'),\n",
       " WindowsPath('../../data/sportde/matchdays.feather'),\n",
       " WindowsPath('../../data/sportde/premier_league'),\n",
       " WindowsPath('../../data/sportde/primera_division'),\n",
       " WindowsPath('../../data/sportde/serie_a'),\n",
       " WindowsPath('../../data/sportde/standings.feather')]"
      ]
     },
     "execution_count": 11,
     "metadata": {},
     "output_type": "execute_result"
    }
   ],
   "source": [
    "filetypes = ['games.feather', 'matchdays.feather', 'standings.feather']\n",
    "base_path = Path(f'../../data/sportde/')\n",
    "list(base_path.glob('*'))"
   ]
  },
  {
   "cell_type": "code",
   "execution_count": 12,
   "metadata": {},
   "outputs": [],
   "source": [
    "for filetype in filetypes:\n",
    "    files = [list(league_path.glob(filetype))[0] for league_path in base_path.glob('*/') if league_path.is_dir()]\n",
    "    dfs = [pd.read_feather(file) for file in files]\n",
    "    df = pd.concat(dfs).reset_index()\n",
    "    \n",
    "    df.to_feather(base_path/filetype)"
   ]
  },
  {
   "cell_type": "code",
   "execution_count": 13,
   "metadata": {},
   "outputs": [
    {
     "data": {
      "text/plain": [
       "[WindowsPath('../../data/sportde/bundesliga'),\n",
       " WindowsPath('../../data/sportde/games.feather'),\n",
       " WindowsPath('../../data/sportde/league_one'),\n",
       " WindowsPath('../../data/sportde/matchdays.feather'),\n",
       " WindowsPath('../../data/sportde/premier_league'),\n",
       " WindowsPath('../../data/sportde/primera_division'),\n",
       " WindowsPath('../../data/sportde/serie_a'),\n",
       " WindowsPath('../../data/sportde/standings.feather')]"
      ]
     },
     "execution_count": 13,
     "metadata": {},
     "output_type": "execute_result"
    }
   ],
   "source": [
    " list(base_path.glob('*'))"
   ]
  },
  {
   "cell_type": "markdown",
   "metadata": {},
   "source": [
    "### Fix seasons"
   ]
  },
  {
   "cell_type": "code",
   "execution_count": 14,
   "metadata": {},
   "outputs": [],
   "source": [
    "for filetype in filetypes:\n",
    "    df = pd.read_feather(base_path/filetype)\n",
    "    seasons = {season_str: 2000+int(season_str[:2]) for season_str in list(df.season.unique())}\n",
    "    df.season.replace(seasons, inplace=True)\n",
    "    \n",
    "    df.to_feather(base_path/filetype)"
   ]
  },
  {
   "cell_type": "code",
   "execution_count": null,
   "metadata": {},
   "outputs": [],
   "source": []
  }
 ],
 "metadata": {
  "kernelspec": {
   "display_name": "Python 3",
   "language": "python",
   "name": "python3"
  },
  "language_info": {
   "codemirror_mode": {
    "name": "ipython",
    "version": 3
   },
   "file_extension": ".py",
   "mimetype": "text/x-python",
   "name": "python",
   "nbconvert_exporter": "python",
   "pygments_lexer": "ipython3",
   "version": "3.8.5"
  }
 },
 "nbformat": 4,
 "nbformat_minor": 4
}
