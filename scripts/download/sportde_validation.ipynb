{
 "cells": [
  {
   "cell_type": "code",
   "execution_count": 1,
   "metadata": {},
   "outputs": [],
   "source": [
    "%load_ext autoreload\n",
    "%autoreload 2"
   ]
  },
  {
   "cell_type": "code",
   "execution_count": 2,
   "metadata": {},
   "outputs": [],
   "source": [
    "from pathlib import Path\n",
    "import pandas as pd"
   ]
  },
  {
   "cell_type": "code",
   "execution_count": null,
   "metadata": {},
   "outputs": [],
   "source": [
    "# Sport.de data validation\n",
    "\n",
    "data_dir = Path('../../data/sportde/premier_league')\n",
    "\n",
    "## Team names\n",
    "\n",
    "standings = pd.read_feather(data_dir/'standings.feather')\n",
    "standings.head()\n",
    "\n",
    "teams = standings.team.unique()\n",
    "teams\n",
    "\n",
    "games = pd.read_feather(data_dir/'games.feather')\n",
    "\n",
    "home_teams = games.home_team.unique()\n",
    "away_teams = games.away_team.unique()\n",
    "\n",
    "teams = set(teams)\n",
    "home_teams = set(home_teams)\n",
    "away_teams = set(away_teams)\n",
    "\n",
    "home_teams.issubset(teams), away_teams.issubset(teams)\n",
    "\n"
   ]
  }
 ],
 "metadata": {
  "kernelspec": {
   "display_name": "Python 3",
   "language": "python",
   "name": "python3"
  },
  "language_info": {
   "codemirror_mode": {
    "name": "ipython",
    "version": 3
   },
   "file_extension": ".py",
   "mimetype": "text/x-python",
   "name": "python",
   "nbconvert_exporter": "python",
   "pygments_lexer": "ipython3",
   "version": "3.8.3"
  }
 },
 "nbformat": 4,
 "nbformat_minor": 4
}
