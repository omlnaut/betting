{
 "cells": [
  {
   "cell_type": "code",
   "execution_count": 9,
   "metadata": {},
   "outputs": [
    {
     "name": "stdout",
     "output_type": "stream",
     "text": [
      "The autoreload extension is already loaded. To reload it, use:\n",
      "  %reload_ext autoreload\n"
     ]
    }
   ],
   "source": [
    "%load_ext autoreload\n",
    "%autoreload 2"
   ]
  },
  {
   "cell_type": "code",
   "execution_count": 10,
   "metadata": {},
   "outputs": [],
   "source": [
    "from pathlib import Path\n",
    "import pandas as pd\n",
    "import numpy as np\n",
    "from datetime import datetime\n",
    "from difflib import SequenceMatcher\n",
    "\n",
    "from betting.data.sportde import set_dtypes"
   ]
  },
  {
   "cell_type": "markdown",
   "metadata": {},
   "source": [
    "# Processing the kaggle dataset "
   ]
  },
  {
   "cell_type": "markdown",
   "metadata": {},
   "source": [
    "## Filetype"
   ]
  },
  {
   "cell_type": "code",
   "execution_count": 11,
   "metadata": {},
   "outputs": [],
   "source": [
    "data_dir = Path('../../../data/kaggle')\n",
    "csv_path = data_dir / 'closing_odds.csv'\n",
    "target_path = data_dir / 'closing_odds.feather'"
   ]
  },
  {
   "cell_type": "code",
   "execution_count": 13,
   "metadata": {},
   "outputs": [],
   "source": [
    "if not target_path.is_file():\n",
    "    df = pd.read_csv(csv_path)\n",
    "    df.sort_values('match_date', inplace=True)\n",
    "    df = df.reset_index(drop=True)\n",
    "\n",
    "    df.drop(['top_bookie_home_win', 'top_bookie_draw', 'top_bookie_away_win', 'n_odds_home_win', 'n_odds_draw', 'n_odds_away_win'], inplace=True, axis=1)\n",
    "\n",
    "    df = set_dtypes(df, [int, str, str, str, int, str, int, float, float, float, float, float, float])\n",
    "    df.match_date = pd.to_datetime(df.match_date, format='%Y-%m-%d')\n",
    "\n",
    "    df.to_feather(target_path)\n",
    "\n",
    "df = pd.read_feather(target_path)"
   ]
  },
  {
   "cell_type": "code",
   "execution_count": 14,
   "metadata": {},
   "outputs": [
    {
     "data": {
      "text/plain": [
       "(Index(['match_id', 'league', 'match_date', 'home_team', 'home_score',\n",
       "        'away_team', 'away_score', 'avg_odds_home_win', 'avg_odds_draw',\n",
       "        'avg_odds_away_win', 'max_odds_home_win', 'max_odds_draw',\n",
       "        'max_odds_away_win'],\n",
       "       dtype='object'),\n",
       " (479440, 13))"
      ]
     },
     "execution_count": 14,
     "metadata": {},
     "output_type": "execute_result"
    }
   ],
   "source": [
    "df.columns, df.shape"
   ]
  },
  {
   "cell_type": "markdown",
   "metadata": {},
   "source": [
    "## Compare against meta"
   ]
  },
  {
   "cell_type": "code",
   "execution_count": null,
   "metadata": {},
   "outputs": [],
   "source": [
    "meta_path = Path('../../../data/sportde/bundesliga')\n",
    "matchday_df = pd.read_feather(meta_path/'matchdays.feather')\n",
    "matchday_df.head(10)"
   ]
  },
  {
   "cell_type": "markdown",
   "metadata": {},
   "source": [
    "## Split league"
   ]
  },
  {
   "cell_type": "code",
   "execution_count": 6,
   "metadata": {},
   "outputs": [],
   "source": [
    "buli_str = 'Germany: Bundesliga'\n",
    "buli_df = df.loc[df.league==buli_str,:].copy()\n",
    "buli_df.league = 'bundesliga'"
   ]
  },
  {
   "cell_type": "code",
   "execution_count": 7,
   "metadata": {},
   "outputs": [
    {
     "data": {
      "text/html": [
       "<div>\n",
       "<style scoped>\n",
       "    .dataframe tbody tr th:only-of-type {\n",
       "        vertical-align: middle;\n",
       "    }\n",
       "\n",
       "    .dataframe tbody tr th {\n",
       "        vertical-align: top;\n",
       "    }\n",
       "\n",
       "    .dataframe thead th {\n",
       "        text-align: right;\n",
       "    }\n",
       "</style>\n",
       "<table border=\"1\" class=\"dataframe\">\n",
       "  <thead>\n",
       "    <tr style=\"text-align: right;\">\n",
       "      <th></th>\n",
       "      <th>match_id</th>\n",
       "      <th>league</th>\n",
       "      <th>match_date</th>\n",
       "      <th>home_team</th>\n",
       "      <th>home_score</th>\n",
       "      <th>away_team</th>\n",
       "      <th>away_score</th>\n",
       "      <th>avg_odds_home_win</th>\n",
       "      <th>avg_odds_draw</th>\n",
       "      <th>avg_odds_away_win</th>\n",
       "      <th>max_odds_home_win</th>\n",
       "      <th>max_odds_draw</th>\n",
       "      <th>max_odds_away_win</th>\n",
       "    </tr>\n",
       "  </thead>\n",
       "  <tbody>\n",
       "    <tr>\n",
       "      <th>474730</th>\n",
       "      <td>870166</td>\n",
       "      <td>bundesliga</td>\n",
       "      <td>2015-05-23</td>\n",
       "      <td>Dortmund</td>\n",
       "      <td>3</td>\n",
       "      <td>Werder Bremen</td>\n",
       "      <td>2</td>\n",
       "      <td>1.2541</td>\n",
       "      <td>6.4234</td>\n",
       "      <td>9.9490</td>\n",
       "      <td>1.30</td>\n",
       "      <td>7.47</td>\n",
       "      <td>13.00</td>\n",
       "    </tr>\n",
       "    <tr>\n",
       "      <th>474731</th>\n",
       "      <td>870164</td>\n",
       "      <td>bundesliga</td>\n",
       "      <td>2015-05-23</td>\n",
       "      <td>Bayern Munich</td>\n",
       "      <td>2</td>\n",
       "      <td>Mainz</td>\n",
       "      <td>0</td>\n",
       "      <td>1.1700</td>\n",
       "      <td>7.9562</td>\n",
       "      <td>13.4545</td>\n",
       "      <td>1.20</td>\n",
       "      <td>9.48</td>\n",
       "      <td>17.00</td>\n",
       "    </tr>\n",
       "    <tr>\n",
       "      <th>474739</th>\n",
       "      <td>870165</td>\n",
       "      <td>bundesliga</td>\n",
       "      <td>2015-05-23</td>\n",
       "      <td>B. Monchengladbach</td>\n",
       "      <td>1</td>\n",
       "      <td>Augsburg</td>\n",
       "      <td>3</td>\n",
       "      <td>1.4703</td>\n",
       "      <td>4.5645</td>\n",
       "      <td>6.3879</td>\n",
       "      <td>1.53</td>\n",
       "      <td>5.00</td>\n",
       "      <td>7.16</td>\n",
       "    </tr>\n",
       "    <tr>\n",
       "      <th>475481</th>\n",
       "      <td>871556</td>\n",
       "      <td>bundesliga</td>\n",
       "      <td>2015-05-28</td>\n",
       "      <td>Hamburger SV</td>\n",
       "      <td>1</td>\n",
       "      <td>Karlsruher</td>\n",
       "      <td>1</td>\n",
       "      <td>2.2679</td>\n",
       "      <td>3.1768</td>\n",
       "      <td>3.2704</td>\n",
       "      <td>2.46</td>\n",
       "      <td>3.40</td>\n",
       "      <td>3.85</td>\n",
       "    </tr>\n",
       "    <tr>\n",
       "      <th>476386</th>\n",
       "      <td>872810</td>\n",
       "      <td>bundesliga</td>\n",
       "      <td>2015-06-01</td>\n",
       "      <td>Karlsruher</td>\n",
       "      <td>1</td>\n",
       "      <td>Hamburger SV</td>\n",
       "      <td>1</td>\n",
       "      <td>2.1682</td>\n",
       "      <td>3.3089</td>\n",
       "      <td>3.3564</td>\n",
       "      <td>2.30</td>\n",
       "      <td>3.45</td>\n",
       "      <td>3.87</td>\n",
       "    </tr>\n",
       "  </tbody>\n",
       "</table>\n",
       "</div>"
      ],
      "text/plain": [
       "        match_id      league match_date           home_team  home_score  \\\n",
       "474730    870166  bundesliga 2015-05-23            Dortmund           3   \n",
       "474731    870164  bundesliga 2015-05-23       Bayern Munich           2   \n",
       "474739    870165  bundesliga 2015-05-23  B. Monchengladbach           1   \n",
       "475481    871556  bundesliga 2015-05-28        Hamburger SV           1   \n",
       "476386    872810  bundesliga 2015-06-01          Karlsruher           1   \n",
       "\n",
       "            away_team  away_score  avg_odds_home_win  avg_odds_draw  \\\n",
       "474730  Werder Bremen           2             1.2541         6.4234   \n",
       "474731          Mainz           0             1.1700         7.9562   \n",
       "474739       Augsburg           3             1.4703         4.5645   \n",
       "475481     Karlsruher           1             2.2679         3.1768   \n",
       "476386   Hamburger SV           1             2.1682         3.3089   \n",
       "\n",
       "        avg_odds_away_win  max_odds_home_win  max_odds_draw  max_odds_away_win  \n",
       "474730             9.9490               1.30           7.47              13.00  \n",
       "474731            13.4545               1.20           9.48              17.00  \n",
       "474739             6.3879               1.53           5.00               7.16  \n",
       "475481             3.2704               2.46           3.40               3.85  \n",
       "476386             3.3564               2.30           3.45               3.87  "
      ]
     },
     "execution_count": 7,
     "metadata": {},
     "output_type": "execute_result"
    }
   ],
   "source": [
    "buli_df.tail()"
   ]
  },
  {
   "cell_type": "code",
   "execution_count": 8,
   "metadata": {},
   "outputs": [
    {
     "data": {
      "text/plain": [
       "2747"
      ]
     },
     "execution_count": 8,
     "metadata": {},
     "output_type": "execute_result"
    }
   ],
   "source": [
    "len(buli_df)"
   ]
  },
  {
   "cell_type": "markdown",
   "metadata": {},
   "source": [
    "## Seasons"
   ]
  },
  {
   "cell_type": "code",
   "execution_count": 9,
   "metadata": {},
   "outputs": [
    {
     "data": {
      "text/plain": [
       "(2005, 1)"
      ]
     },
     "execution_count": 9,
     "metadata": {},
     "output_type": "execute_result"
    }
   ],
   "source": [
    "row = buli_df.iloc[0,:]\n",
    "date = row.match_date\n",
    "date.year, date.month"
   ]
  },
  {
   "cell_type": "code",
   "execution_count": 10,
   "metadata": {},
   "outputs": [],
   "source": [
    "def season_from_date(row):\n",
    "    date = row.match_date\n",
    "    if date.month<=7:\n",
    "        season = str(date.year-1)[-2:] + str(date.year)[-2:]\n",
    "    else:\n",
    "        season = str(date.year)[-2:] + str(date.year+1)[-2:]\n",
    "\n",
    "    return season"
   ]
  },
  {
   "cell_type": "code",
   "execution_count": 11,
   "metadata": {},
   "outputs": [],
   "source": [
    "buli_df['season'] = buli_df.apply(func=season_from_date, axis=1)"
   ]
  },
  {
   "cell_type": "code",
   "execution_count": 12,
   "metadata": {},
   "outputs": [
    {
     "data": {
      "text/html": [
       "<div>\n",
       "<style scoped>\n",
       "    .dataframe tbody tr th:only-of-type {\n",
       "        vertical-align: middle;\n",
       "    }\n",
       "\n",
       "    .dataframe tbody tr th {\n",
       "        vertical-align: top;\n",
       "    }\n",
       "\n",
       "    .dataframe thead th {\n",
       "        text-align: right;\n",
       "    }\n",
       "</style>\n",
       "<table border=\"1\" class=\"dataframe\">\n",
       "  <thead>\n",
       "    <tr style=\"text-align: right;\">\n",
       "      <th></th>\n",
       "      <th>match_id</th>\n",
       "      <th>league</th>\n",
       "      <th>match_date</th>\n",
       "      <th>home_team</th>\n",
       "      <th>home_score</th>\n",
       "      <th>away_team</th>\n",
       "      <th>away_score</th>\n",
       "      <th>avg_odds_home_win</th>\n",
       "      <th>avg_odds_draw</th>\n",
       "      <th>avg_odds_away_win</th>\n",
       "      <th>max_odds_home_win</th>\n",
       "      <th>max_odds_draw</th>\n",
       "      <th>max_odds_away_win</th>\n",
       "      <th>season</th>\n",
       "    </tr>\n",
       "  </thead>\n",
       "  <tbody>\n",
       "    <tr>\n",
       "      <th>474730</th>\n",
       "      <td>870166</td>\n",
       "      <td>bundesliga</td>\n",
       "      <td>2015-05-23</td>\n",
       "      <td>Dortmund</td>\n",
       "      <td>3</td>\n",
       "      <td>Werder Bremen</td>\n",
       "      <td>2</td>\n",
       "      <td>1.2541</td>\n",
       "      <td>6.4234</td>\n",
       "      <td>9.9490</td>\n",
       "      <td>1.30</td>\n",
       "      <td>7.47</td>\n",
       "      <td>13.00</td>\n",
       "      <td>1415</td>\n",
       "    </tr>\n",
       "    <tr>\n",
       "      <th>474731</th>\n",
       "      <td>870164</td>\n",
       "      <td>bundesliga</td>\n",
       "      <td>2015-05-23</td>\n",
       "      <td>Bayern Munich</td>\n",
       "      <td>2</td>\n",
       "      <td>Mainz</td>\n",
       "      <td>0</td>\n",
       "      <td>1.1700</td>\n",
       "      <td>7.9562</td>\n",
       "      <td>13.4545</td>\n",
       "      <td>1.20</td>\n",
       "      <td>9.48</td>\n",
       "      <td>17.00</td>\n",
       "      <td>1415</td>\n",
       "    </tr>\n",
       "    <tr>\n",
       "      <th>474739</th>\n",
       "      <td>870165</td>\n",
       "      <td>bundesliga</td>\n",
       "      <td>2015-05-23</td>\n",
       "      <td>B. Monchengladbach</td>\n",
       "      <td>1</td>\n",
       "      <td>Augsburg</td>\n",
       "      <td>3</td>\n",
       "      <td>1.4703</td>\n",
       "      <td>4.5645</td>\n",
       "      <td>6.3879</td>\n",
       "      <td>1.53</td>\n",
       "      <td>5.00</td>\n",
       "      <td>7.16</td>\n",
       "      <td>1415</td>\n",
       "    </tr>\n",
       "    <tr>\n",
       "      <th>475481</th>\n",
       "      <td>871556</td>\n",
       "      <td>bundesliga</td>\n",
       "      <td>2015-05-28</td>\n",
       "      <td>Hamburger SV</td>\n",
       "      <td>1</td>\n",
       "      <td>Karlsruher</td>\n",
       "      <td>1</td>\n",
       "      <td>2.2679</td>\n",
       "      <td>3.1768</td>\n",
       "      <td>3.2704</td>\n",
       "      <td>2.46</td>\n",
       "      <td>3.40</td>\n",
       "      <td>3.85</td>\n",
       "      <td>1415</td>\n",
       "    </tr>\n",
       "    <tr>\n",
       "      <th>476386</th>\n",
       "      <td>872810</td>\n",
       "      <td>bundesliga</td>\n",
       "      <td>2015-06-01</td>\n",
       "      <td>Karlsruher</td>\n",
       "      <td>1</td>\n",
       "      <td>Hamburger SV</td>\n",
       "      <td>1</td>\n",
       "      <td>2.1682</td>\n",
       "      <td>3.3089</td>\n",
       "      <td>3.3564</td>\n",
       "      <td>2.30</td>\n",
       "      <td>3.45</td>\n",
       "      <td>3.87</td>\n",
       "      <td>1415</td>\n",
       "    </tr>\n",
       "  </tbody>\n",
       "</table>\n",
       "</div>"
      ],
      "text/plain": [
       "        match_id      league match_date           home_team  home_score  \\\n",
       "474730    870166  bundesliga 2015-05-23            Dortmund           3   \n",
       "474731    870164  bundesliga 2015-05-23       Bayern Munich           2   \n",
       "474739    870165  bundesliga 2015-05-23  B. Monchengladbach           1   \n",
       "475481    871556  bundesliga 2015-05-28        Hamburger SV           1   \n",
       "476386    872810  bundesliga 2015-06-01          Karlsruher           1   \n",
       "\n",
       "            away_team  away_score  avg_odds_home_win  avg_odds_draw  \\\n",
       "474730  Werder Bremen           2             1.2541         6.4234   \n",
       "474731          Mainz           0             1.1700         7.9562   \n",
       "474739       Augsburg           3             1.4703         4.5645   \n",
       "475481     Karlsruher           1             2.2679         3.1768   \n",
       "476386   Hamburger SV           1             2.1682         3.3089   \n",
       "\n",
       "        avg_odds_away_win  max_odds_home_win  max_odds_draw  \\\n",
       "474730             9.9490               1.30           7.47   \n",
       "474731            13.4545               1.20           9.48   \n",
       "474739             6.3879               1.53           5.00   \n",
       "475481             3.2704               2.46           3.40   \n",
       "476386             3.3564               2.30           3.45   \n",
       "\n",
       "        max_odds_away_win season  \n",
       "474730              13.00   1415  \n",
       "474731              17.00   1415  \n",
       "474739               7.16   1415  \n",
       "475481               3.85   1415  \n",
       "476386               3.87   1415  "
      ]
     },
     "execution_count": 12,
     "metadata": {},
     "output_type": "execute_result"
    }
   ],
   "source": [
    "buli_df.tail()"
   ]
  },
  {
   "cell_type": "code",
   "execution_count": 13,
   "metadata": {},
   "outputs": [
    {
     "name": "stdout",
     "output_type": "stream",
     "text": [
      "0405 153\n",
      "0506 272\n",
      "0607 306\n",
      "0708 306\n",
      "0809 274\n",
      "0910 272\n",
      "1112 272\n",
      "1213 308\n",
      "1314 308\n",
      "1415 276\n"
     ]
    }
   ],
   "source": [
    "for season,group in buli_df.groupby('season'):\n",
    "    print(season, len(group))"
   ]
  },
  {
   "cell_type": "markdown",
   "metadata": {},
   "source": [
    "## Matchday"
   ]
  },
  {
   "cell_type": "code",
   "execution_count": 14,
   "metadata": {},
   "outputs": [
    {
     "data": {
      "text/html": [
       "<div>\n",
       "<style scoped>\n",
       "    .dataframe tbody tr th:only-of-type {\n",
       "        vertical-align: middle;\n",
       "    }\n",
       "\n",
       "    .dataframe tbody tr th {\n",
       "        vertical-align: top;\n",
       "    }\n",
       "\n",
       "    .dataframe thead th {\n",
       "        text-align: right;\n",
       "    }\n",
       "</style>\n",
       "<table border=\"1\" class=\"dataframe\">\n",
       "  <thead>\n",
       "    <tr style=\"text-align: right;\">\n",
       "      <th></th>\n",
       "      <th>season</th>\n",
       "      <th>matchday</th>\n",
       "      <th>start_date</th>\n",
       "      <th>end_date</th>\n",
       "      <th>league</th>\n",
       "    </tr>\n",
       "  </thead>\n",
       "  <tbody>\n",
       "    <tr>\n",
       "      <th>0</th>\n",
       "      <td>0506</td>\n",
       "      <td>1</td>\n",
       "      <td>2005-08-05</td>\n",
       "      <td>2005-08-07</td>\n",
       "      <td>bundesliga</td>\n",
       "    </tr>\n",
       "    <tr>\n",
       "      <th>1</th>\n",
       "      <td>0506</td>\n",
       "      <td>2</td>\n",
       "      <td>2005-08-13</td>\n",
       "      <td>2005-08-14</td>\n",
       "      <td>bundesliga</td>\n",
       "    </tr>\n",
       "    <tr>\n",
       "      <th>2</th>\n",
       "      <td>0506</td>\n",
       "      <td>3</td>\n",
       "      <td>2005-08-27</td>\n",
       "      <td>2005-08-28</td>\n",
       "      <td>bundesliga</td>\n",
       "    </tr>\n",
       "    <tr>\n",
       "      <th>3</th>\n",
       "      <td>0506</td>\n",
       "      <td>4</td>\n",
       "      <td>2005-09-10</td>\n",
       "      <td>2005-09-11</td>\n",
       "      <td>bundesliga</td>\n",
       "    </tr>\n",
       "    <tr>\n",
       "      <th>4</th>\n",
       "      <td>0506</td>\n",
       "      <td>5</td>\n",
       "      <td>2005-09-17</td>\n",
       "      <td>2005-09-18</td>\n",
       "      <td>bundesliga</td>\n",
       "    </tr>\n",
       "    <tr>\n",
       "      <th>5</th>\n",
       "      <td>0506</td>\n",
       "      <td>6</td>\n",
       "      <td>2005-09-20</td>\n",
       "      <td>2005-09-21</td>\n",
       "      <td>bundesliga</td>\n",
       "    </tr>\n",
       "    <tr>\n",
       "      <th>6</th>\n",
       "      <td>0506</td>\n",
       "      <td>7</td>\n",
       "      <td>2005-09-24</td>\n",
       "      <td>2005-09-25</td>\n",
       "      <td>bundesliga</td>\n",
       "    </tr>\n",
       "    <tr>\n",
       "      <th>7</th>\n",
       "      <td>0506</td>\n",
       "      <td>8</td>\n",
       "      <td>2005-10-01</td>\n",
       "      <td>2005-10-02</td>\n",
       "      <td>bundesliga</td>\n",
       "    </tr>\n",
       "    <tr>\n",
       "      <th>8</th>\n",
       "      <td>0506</td>\n",
       "      <td>9</td>\n",
       "      <td>2005-10-15</td>\n",
       "      <td>2005-10-16</td>\n",
       "      <td>bundesliga</td>\n",
       "    </tr>\n",
       "    <tr>\n",
       "      <th>9</th>\n",
       "      <td>0506</td>\n",
       "      <td>10</td>\n",
       "      <td>2005-10-22</td>\n",
       "      <td>2005-10-23</td>\n",
       "      <td>bundesliga</td>\n",
       "    </tr>\n",
       "  </tbody>\n",
       "</table>\n",
       "</div>"
      ],
      "text/plain": [
       "  season  matchday start_date   end_date      league\n",
       "0   0506         1 2005-08-05 2005-08-07  bundesliga\n",
       "1   0506         2 2005-08-13 2005-08-14  bundesliga\n",
       "2   0506         3 2005-08-27 2005-08-28  bundesliga\n",
       "3   0506         4 2005-09-10 2005-09-11  bundesliga\n",
       "4   0506         5 2005-09-17 2005-09-18  bundesliga\n",
       "5   0506         6 2005-09-20 2005-09-21  bundesliga\n",
       "6   0506         7 2005-09-24 2005-09-25  bundesliga\n",
       "7   0506         8 2005-10-01 2005-10-02  bundesliga\n",
       "8   0506         9 2005-10-15 2005-10-16  bundesliga\n",
       "9   0506        10 2005-10-22 2005-10-23  bundesliga"
      ]
     },
     "execution_count": 14,
     "metadata": {},
     "output_type": "execute_result"
    }
   ],
   "source": [
    "meta_path = Path('../../../data/sportde/bundesliga')\n",
    "matchday_df = pd.read_feather(meta_path/'matchdays.feather')\n",
    "matchday_df.head(10)"
   ]
  },
  {
   "cell_type": "code",
   "execution_count": 15,
   "metadata": {},
   "outputs": [
    {
     "data": {
      "text/plain": [
       "2594"
      ]
     },
     "execution_count": 15,
     "metadata": {},
     "output_type": "execute_result"
    }
   ],
   "source": [
    "first_date = matchday_df.start_date.min()\n",
    "buli = buli_df.loc[first_date<=buli_df.match_date, :].copy()\n",
    "len(buli)"
   ]
  },
  {
   "cell_type": "code",
   "execution_count": 16,
   "metadata": {},
   "outputs": [
    {
     "data": {
      "text/plain": [
       "Timestamp('2005-08-05 00:00:00')"
      ]
     },
     "execution_count": 16,
     "metadata": {},
     "output_type": "execute_result"
    }
   ],
   "source": [
    "row = buli.iloc[0,:]\n",
    "date = row.match_date\n",
    "date"
   ]
  },
  {
   "cell_type": "code",
   "execution_count": 17,
   "metadata": {},
   "outputs": [],
   "source": [
    "def matchday_from_date(matchday_df, date):\n",
    "    return matchday_df.loc[(matchday_df.start_date<=date) & (date<=matchday_df.end_date), 'matchday'].iat[0]"
   ]
  },
  {
   "cell_type": "code",
   "execution_count": 18,
   "metadata": {},
   "outputs": [],
   "source": [
    "matchdays = []\n",
    "for _,match in buli.iterrows():\n",
    "    try:\n",
    "        matchdays.append(matchday_from_date(matchday_df, match.match_date))\n",
    "    except Exception as e:\n",
    "        matchdays.append(-1)\n",
    "        \n",
    "buli['matchday'] = matchdays"
   ]
  },
  {
   "cell_type": "code",
   "execution_count": 19,
   "metadata": {},
   "outputs": [
    {
     "data": {
      "text/html": [
       "<div>\n",
       "<style scoped>\n",
       "    .dataframe tbody tr th:only-of-type {\n",
       "        vertical-align: middle;\n",
       "    }\n",
       "\n",
       "    .dataframe tbody tr th {\n",
       "        vertical-align: top;\n",
       "    }\n",
       "\n",
       "    .dataframe thead th {\n",
       "        text-align: right;\n",
       "    }\n",
       "</style>\n",
       "<table border=\"1\" class=\"dataframe\">\n",
       "  <thead>\n",
       "    <tr style=\"text-align: right;\">\n",
       "      <th></th>\n",
       "      <th>match_id</th>\n",
       "      <th>league</th>\n",
       "      <th>match_date</th>\n",
       "      <th>home_team</th>\n",
       "      <th>home_score</th>\n",
       "      <th>away_team</th>\n",
       "      <th>away_score</th>\n",
       "      <th>avg_odds_home_win</th>\n",
       "      <th>avg_odds_draw</th>\n",
       "      <th>avg_odds_away_win</th>\n",
       "      <th>max_odds_home_win</th>\n",
       "      <th>max_odds_draw</th>\n",
       "      <th>max_odds_away_win</th>\n",
       "      <th>season</th>\n",
       "      <th>matchday</th>\n",
       "    </tr>\n",
       "  </thead>\n",
       "  <tbody>\n",
       "    <tr>\n",
       "      <th>10162</th>\n",
       "      <td>194719</td>\n",
       "      <td>bundesliga</td>\n",
       "      <td>2005-08-05</td>\n",
       "      <td>Bayern Munich</td>\n",
       "      <td>3</td>\n",
       "      <td>B. Monchengladbach</td>\n",
       "      <td>0</td>\n",
       "      <td>1.3118</td>\n",
       "      <td>4.3973</td>\n",
       "      <td>8.9845</td>\n",
       "      <td>1.35</td>\n",
       "      <td>5.00</td>\n",
       "      <td>10.00</td>\n",
       "      <td>0506</td>\n",
       "      <td>1</td>\n",
       "    </tr>\n",
       "    <tr>\n",
       "      <th>10273</th>\n",
       "      <td>194936</td>\n",
       "      <td>bundesliga</td>\n",
       "      <td>2005-08-06</td>\n",
       "      <td>Wolfsburg</td>\n",
       "      <td>2</td>\n",
       "      <td>Dortmund</td>\n",
       "      <td>2</td>\n",
       "      <td>2.4000</td>\n",
       "      <td>3.2660</td>\n",
       "      <td>2.6220</td>\n",
       "      <td>2.60</td>\n",
       "      <td>3.45</td>\n",
       "      <td>2.85</td>\n",
       "      <td>0506</td>\n",
       "      <td>1</td>\n",
       "    </tr>\n",
       "    <tr>\n",
       "      <th>10338</th>\n",
       "      <td>194932</td>\n",
       "      <td>bundesliga</td>\n",
       "      <td>2005-08-06</td>\n",
       "      <td>Duisburg</td>\n",
       "      <td>1</td>\n",
       "      <td>VfB Stuttgart</td>\n",
       "      <td>1</td>\n",
       "      <td>3.0755</td>\n",
       "      <td>3.2582</td>\n",
       "      <td>2.1282</td>\n",
       "      <td>3.39</td>\n",
       "      <td>3.35</td>\n",
       "      <td>2.20</td>\n",
       "      <td>0506</td>\n",
       "      <td>1</td>\n",
       "    </tr>\n",
       "    <tr>\n",
       "      <th>10339</th>\n",
       "      <td>194933</td>\n",
       "      <td>bundesliga</td>\n",
       "      <td>2005-08-06</td>\n",
       "      <td>Hamburger SV</td>\n",
       "      <td>3</td>\n",
       "      <td>Nurnberg</td>\n",
       "      <td>0</td>\n",
       "      <td>1.5173</td>\n",
       "      <td>3.6491</td>\n",
       "      <td>5.7600</td>\n",
       "      <td>1.57</td>\n",
       "      <td>4.15</td>\n",
       "      <td>6.41</td>\n",
       "      <td>0506</td>\n",
       "      <td>1</td>\n",
       "    </tr>\n",
       "    <tr>\n",
       "      <th>10340</th>\n",
       "      <td>194934</td>\n",
       "      <td>bundesliga</td>\n",
       "      <td>2005-08-06</td>\n",
       "      <td>Hannover</td>\n",
       "      <td>2</td>\n",
       "      <td>Hertha Berlin</td>\n",
       "      <td>2</td>\n",
       "      <td>2.6282</td>\n",
       "      <td>3.2227</td>\n",
       "      <td>2.4255</td>\n",
       "      <td>3.16</td>\n",
       "      <td>3.35</td>\n",
       "      <td>2.65</td>\n",
       "      <td>0506</td>\n",
       "      <td>1</td>\n",
       "    </tr>\n",
       "  </tbody>\n",
       "</table>\n",
       "</div>"
      ],
      "text/plain": [
       "       match_id      league match_date      home_team  home_score  \\\n",
       "10162    194719  bundesliga 2005-08-05  Bayern Munich           3   \n",
       "10273    194936  bundesliga 2005-08-06      Wolfsburg           2   \n",
       "10338    194932  bundesliga 2005-08-06       Duisburg           1   \n",
       "10339    194933  bundesliga 2005-08-06   Hamburger SV           3   \n",
       "10340    194934  bundesliga 2005-08-06       Hannover           2   \n",
       "\n",
       "                away_team  away_score  avg_odds_home_win  avg_odds_draw  \\\n",
       "10162  B. Monchengladbach           0             1.3118         4.3973   \n",
       "10273            Dortmund           2             2.4000         3.2660   \n",
       "10338       VfB Stuttgart           1             3.0755         3.2582   \n",
       "10339            Nurnberg           0             1.5173         3.6491   \n",
       "10340       Hertha Berlin           2             2.6282         3.2227   \n",
       "\n",
       "       avg_odds_away_win  max_odds_home_win  max_odds_draw  max_odds_away_win  \\\n",
       "10162             8.9845               1.35           5.00              10.00   \n",
       "10273             2.6220               2.60           3.45               2.85   \n",
       "10338             2.1282               3.39           3.35               2.20   \n",
       "10339             5.7600               1.57           4.15               6.41   \n",
       "10340             2.4255               3.16           3.35               2.65   \n",
       "\n",
       "      season  matchday  \n",
       "10162   0506         1  \n",
       "10273   0506         1  \n",
       "10338   0506         1  \n",
       "10339   0506         1  \n",
       "10340   0506         1  "
      ]
     },
     "execution_count": 19,
     "metadata": {},
     "output_type": "execute_result"
    }
   ],
   "source": [
    "buli.head()"
   ]
  },
  {
   "cell_type": "markdown",
   "metadata": {
    "heading_collapsed": "true"
   },
   "source": [
    "## Team names"
   ]
  },
  {
   "cell_type": "code",
   "execution_count": 20,
   "metadata": {},
   "outputs": [
    {
     "data": {
      "text/html": [
       "<div>\n",
       "<style scoped>\n",
       "    .dataframe tbody tr th:only-of-type {\n",
       "        vertical-align: middle;\n",
       "    }\n",
       "\n",
       "    .dataframe tbody tr th {\n",
       "        vertical-align: top;\n",
       "    }\n",
       "\n",
       "    .dataframe thead th {\n",
       "        text-align: right;\n",
       "    }\n",
       "</style>\n",
       "<table border=\"1\" class=\"dataframe\">\n",
       "  <thead>\n",
       "    <tr style=\"text-align: right;\">\n",
       "      <th></th>\n",
       "      <th>season</th>\n",
       "      <th>matchday</th>\n",
       "      <th>rank</th>\n",
       "      <th>team</th>\n",
       "      <th>games_played</th>\n",
       "      <th>wins</th>\n",
       "      <th>draw</th>\n",
       "      <th>lost</th>\n",
       "      <th>total_goals_scored</th>\n",
       "      <th>total_goals_received</th>\n",
       "      <th>points</th>\n",
       "      <th>league</th>\n",
       "    </tr>\n",
       "  </thead>\n",
       "  <tbody>\n",
       "    <tr>\n",
       "      <th>0</th>\n",
       "      <td>0506</td>\n",
       "      <td>1</td>\n",
       "      <td>1</td>\n",
       "      <td>SV Werder</td>\n",
       "      <td>1</td>\n",
       "      <td>1</td>\n",
       "      <td>0</td>\n",
       "      <td>0</td>\n",
       "      <td>5</td>\n",
       "      <td>2</td>\n",
       "      <td>3</td>\n",
       "      <td>bundesliga</td>\n",
       "    </tr>\n",
       "    <tr>\n",
       "      <th>1</th>\n",
       "      <td>0506</td>\n",
       "      <td>1</td>\n",
       "      <td>2</td>\n",
       "      <td>Leverkusen</td>\n",
       "      <td>1</td>\n",
       "      <td>1</td>\n",
       "      <td>0</td>\n",
       "      <td>0</td>\n",
       "      <td>4</td>\n",
       "      <td>1</td>\n",
       "      <td>3</td>\n",
       "      <td>bundesliga</td>\n",
       "    </tr>\n",
       "    <tr>\n",
       "      <th>2</th>\n",
       "      <td>0506</td>\n",
       "      <td>1</td>\n",
       "      <td>3</td>\n",
       "      <td>FC Bayern</td>\n",
       "      <td>1</td>\n",
       "      <td>1</td>\n",
       "      <td>0</td>\n",
       "      <td>0</td>\n",
       "      <td>3</td>\n",
       "      <td>0</td>\n",
       "      <td>3</td>\n",
       "      <td>bundesliga</td>\n",
       "    </tr>\n",
       "    <tr>\n",
       "      <th>3</th>\n",
       "      <td>0506</td>\n",
       "      <td>1</td>\n",
       "      <td>3</td>\n",
       "      <td>Hamburger SV</td>\n",
       "      <td>1</td>\n",
       "      <td>1</td>\n",
       "      <td>0</td>\n",
       "      <td>0</td>\n",
       "      <td>3</td>\n",
       "      <td>0</td>\n",
       "      <td>3</td>\n",
       "      <td>bundesliga</td>\n",
       "    </tr>\n",
       "    <tr>\n",
       "      <th>4</th>\n",
       "      <td>0506</td>\n",
       "      <td>1</td>\n",
       "      <td>5</td>\n",
       "      <td>Schalke 04</td>\n",
       "      <td>1</td>\n",
       "      <td>1</td>\n",
       "      <td>0</td>\n",
       "      <td>0</td>\n",
       "      <td>2</td>\n",
       "      <td>1</td>\n",
       "      <td>3</td>\n",
       "      <td>bundesliga</td>\n",
       "    </tr>\n",
       "  </tbody>\n",
       "</table>\n",
       "</div>"
      ],
      "text/plain": [
       "  season  matchday  rank          team  games_played  wins  draw  lost  \\\n",
       "0   0506         1     1     SV Werder             1     1     0     0   \n",
       "1   0506         1     2    Leverkusen             1     1     0     0   \n",
       "2   0506         1     3     FC Bayern             1     1     0     0   \n",
       "3   0506         1     3  Hamburger SV             1     1     0     0   \n",
       "4   0506         1     5    Schalke 04             1     1     0     0   \n",
       "\n",
       "   total_goals_scored  total_goals_received  points      league  \n",
       "0                   5                     2       3  bundesliga  \n",
       "1                   4                     1       3  bundesliga  \n",
       "2                   3                     0       3  bundesliga  \n",
       "3                   3                     0       3  bundesliga  \n",
       "4                   2                     1       3  bundesliga  "
      ]
     },
     "execution_count": 20,
     "metadata": {},
     "output_type": "execute_result"
    }
   ],
   "source": [
    "standings = pd.read_feather(meta_path/'standings.feather')\n",
    "standings.head()"
   ]
  },
  {
   "cell_type": "code",
   "execution_count": 21,
   "metadata": {},
   "outputs": [
    {
     "data": {
      "text/plain": [
       "35"
      ]
     },
     "execution_count": 21,
     "metadata": {},
     "output_type": "execute_result"
    }
   ],
   "source": [
    "league = 'bundesliga'\n",
    "league_standings = standings.loc[standings.league==league, :].copy()\n",
    "target_teams = list(league_standings.team.unique())\n",
    "len(target_teams)"
   ]
  },
  {
   "cell_type": "code",
   "execution_count": 22,
   "metadata": {},
   "outputs": [
    {
     "data": {
      "text/plain": [
       "30"
      ]
     },
     "execution_count": 22,
     "metadata": {},
     "output_type": "execute_result"
    }
   ],
   "source": [
    "actual_teams = list(buli_df.home_team.unique())\n",
    "len(actual_teams)"
   ]
  },
  {
   "cell_type": "code",
   "execution_count": 23,
   "metadata": {},
   "outputs": [],
   "source": [
    "def similar(a, b):\n",
    "    return SequenceMatcher(None, a, b).ratio()"
   ]
  },
  {
   "cell_type": "code",
   "execution_count": 25,
   "metadata": {},
   "outputs": [
    {
     "name": "stdout",
     "output_type": "stream",
     "text": [
      "----\n",
      "Bayern Munich\n",
      "----\n",
      "[0] FC Bayern\n",
      "[1] Braunschweig\n",
      "[2] Paderborn\n",
      "[3] K'lautern\n",
      "[4] Hannover 96\n"
     ]
    },
    {
     "name": "stdin",
     "output_type": "stream",
     "text": [
      " 0\n"
     ]
    },
    {
     "name": "stdout",
     "output_type": "stream",
     "text": [
      "----\n",
      "Wolfsburg\n",
      "----\n",
      "[0] Wolfsburg\n",
      "[1] Duisburg\n",
      "[2] Augsburg\n",
      "[3] SC Freiburg\n",
      "[4] Hamburger SV\n"
     ]
    },
    {
     "name": "stdin",
     "output_type": "stream",
     "text": [
      " 0\n"
     ]
    },
    {
     "name": "stdout",
     "output_type": "stream",
     "text": [
      "----\n",
      "Schalke\n",
      "----\n",
      "[0] Schalke 04\n",
      "[1] Aachen\n",
      "[2] St. Pauli\n",
      "[3] Braunschweig\n",
      "[4] Bochum\n"
     ]
    },
    {
     "name": "stdin",
     "output_type": "stream",
     "text": [
      " 0\n"
     ]
    },
    {
     "name": "stdout",
     "output_type": "stream",
     "text": [
      "----\n",
      "Nurnberg\n",
      "----\n",
      "[0] Nürnberg\n",
      "[1] Hamburger SV\n",
      "[2] Braunschweig\n",
      "[3] Augsburg\n",
      "[4] Duisburg\n"
     ]
    },
    {
     "name": "stdin",
     "output_type": "stream",
     "text": [
      " 0\n"
     ]
    },
    {
     "name": "stdout",
     "output_type": "stream",
     "text": [
      "----\n",
      "Mainz\n",
      "----\n",
      "[0] Mainz 05\n",
      "[1] Aachen\n",
      "[2] FC Bayern\n",
      "[3] Paderborn\n",
      "[4] K'lautern\n"
     ]
    },
    {
     "name": "stdin",
     "output_type": "stream",
     "text": [
      " 0\n"
     ]
    },
    {
     "name": "stdout",
     "output_type": "stream",
     "text": [
      "----\n",
      "Hansa Rostock\n",
      "----\n",
      "[0] Rostock\n",
      "[1] Ingolstadt\n",
      "[2] Hannover 96\n",
      "[3] Braunschweig\n",
      "[4] Mainz 05\n"
     ]
    },
    {
     "name": "stdin",
     "output_type": "stream",
     "text": [
      " 0\n"
     ]
    },
    {
     "name": "stdout",
     "output_type": "stream",
     "text": [
      "----\n",
      "B. Monchengladbach\n",
      "----\n",
      "[0] M'gladbach\n",
      "[1] Braunschweig\n",
      "[2] Ingolstadt\n",
      "[3] Bochum\n",
      "[4] Aachen\n"
     ]
    },
    {
     "name": "stdin",
     "output_type": "stream",
     "text": [
      " 0\n"
     ]
    },
    {
     "name": "stdout",
     "output_type": "stream",
     "text": [
      "----\n",
      "Bochum\n",
      "----\n",
      "[0] Bochum\n",
      "[1] Hoffenheim\n",
      "[2] Braunschweig\n",
      "[3] Aachen\n",
      "[4] Cottbus\n"
     ]
    },
    {
     "name": "stdin",
     "output_type": "stream",
     "text": [
      " 0\n"
     ]
    },
    {
     "name": "stdout",
     "output_type": "stream",
     "text": [
      "----\n",
      "Hannover\n",
      "----\n",
      "[0] Hannover 96\n",
      "[1] Union Berlin\n",
      "[2] Hamburger SV\n",
      "[3] Nürnberg\n",
      "[4] FC Bayern\n"
     ]
    },
    {
     "name": "stdin",
     "output_type": "stream",
     "text": [
      " 0\n"
     ]
    },
    {
     "name": "stdout",
     "output_type": "stream",
     "text": [
      "----\n",
      "Kaiserslautern\n",
      "----\n",
      "[0] K'lautern\n",
      "[1] Paderborn\n",
      "[2] Union Berlin\n",
      "[3] Karlsruhe\n",
      "[4] FC Bayern\n"
     ]
    },
    {
     "name": "stdin",
     "output_type": "stream",
     "text": [
      " 0\n"
     ]
    },
    {
     "name": "stdout",
     "output_type": "stream",
     "text": [
      "----\n",
      "VfB Stuttgart\n",
      "----\n",
      "[0] VfB Stuttgart\n",
      "[1] Frankfurt\n",
      "[2] Augsburg\n",
      "[3] Wolfsburg\n",
      "[4] K'lautern\n"
     ]
    },
    {
     "name": "stdin",
     "output_type": "stream",
     "text": [
      " 0\n"
     ]
    },
    {
     "name": "stdout",
     "output_type": "stream",
     "text": [
      "----\n",
      "Hamburger SV\n",
      "----\n",
      "[0] Hamburger SV\n",
      "[1] Hertha BSC\n",
      "[2] Hannover 96\n",
      "[3] Augsburg\n",
      "[4] Duisburg\n"
     ]
    },
    {
     "name": "stdin",
     "output_type": "stream",
     "text": [
      " 0\n"
     ]
    },
    {
     "name": "stdout",
     "output_type": "stream",
     "text": [
      "----\n",
      "Freiburg\n",
      "----\n",
      "[0] SC Freiburg\n",
      "[1] Duisburg\n",
      "[2] Augsburg\n",
      "[3] Nürnberg\n",
      "[4] Frankfurt\n"
     ]
    },
    {
     "name": "stdin",
     "output_type": "stream",
     "text": [
      " 0\n"
     ]
    },
    {
     "name": "stdout",
     "output_type": "stream",
     "text": [
      "----\n",
      "Bayer Leverkusen\n",
      "----\n",
      "[0] Leverkusen\n",
      "[1] FC Bayern\n",
      "[2] Paderborn\n",
      "[3] SV Werder\n",
      "[4] K'lautern\n"
     ]
    },
    {
     "name": "stdin",
     "output_type": "stream",
     "text": [
      " 0\n"
     ]
    },
    {
     "name": "stdout",
     "output_type": "stream",
     "text": [
      "----\n",
      "Dortmund\n",
      "----\n",
      "[0] Dortmund\n",
      "[1] Darmstadt\n",
      "[2] Cottbus\n",
      "[3] Paderborn\n",
      "[4] Ingolstadt\n"
     ]
    },
    {
     "name": "stdin",
     "output_type": "stream",
     "text": [
      " 0\n"
     ]
    },
    {
     "name": "stdout",
     "output_type": "stream",
     "text": [
      "----\n",
      "Arminia Bielefeld\n",
      "----\n",
      "[0] Bielefeld\n",
      "[1] Dortmund\n",
      "[2] Darmstadt\n",
      "[3] Hertha BSC\n",
      "[4] Mainz 05\n"
     ]
    },
    {
     "name": "stdin",
     "output_type": "stream",
     "text": [
      " 0\n"
     ]
    },
    {
     "name": "stdout",
     "output_type": "stream",
     "text": [
      "----\n",
      "Hertha Berlin\n",
      "----\n",
      "[0] Hertha BSC\n",
      "[1] Union Berlin\n",
      "[2] Hoffenheim\n",
      "[3] St. Pauli\n",
      "[4] SV Werder\n"
     ]
    },
    {
     "name": "stdin",
     "output_type": "stream",
     "text": [
      " 0\n"
     ]
    },
    {
     "name": "stdout",
     "output_type": "stream",
     "text": [
      "----\n",
      "Werder Bremen\n",
      "----\n",
      "[0] SV Werder\n",
      "[1] Paderborn\n",
      "[2] Leverkusen\n",
      "[3] Hertha BSC\n",
      "[4] Hamburger SV\n"
     ]
    },
    {
     "name": "stdin",
     "output_type": "stream",
     "text": [
      " 0\n"
     ]
    },
    {
     "name": "stdout",
     "output_type": "stream",
     "text": [
      "----\n",
      "Duisburg\n",
      "----\n",
      "[0] Duisburg\n",
      "[1] Augsburg\n",
      "[2] Wolfsburg\n",
      "[3] SC Freiburg\n",
      "[4] Hamburger SV\n"
     ]
    },
    {
     "name": "stdin",
     "output_type": "stream",
     "text": [
      " 0\n"
     ]
    },
    {
     "name": "stdout",
     "output_type": "stream",
     "text": [
      "----\n",
      "Eintracht Frankfurt\n",
      "----\n",
      "[0] Frankfurt\n",
      "[1] Gr. Fürth\n",
      "[2] SC Freiburg\n",
      "[3] Aachen\n",
      "[4] Ingolstadt\n"
     ]
    },
    {
     "name": "stdin",
     "output_type": "stream",
     "text": [
      " 0\n"
     ]
    },
    {
     "name": "stdout",
     "output_type": "stream",
     "text": [
      "----\n",
      "Alemannia Aachen\n",
      "----\n",
      "[0] Aachen\n",
      "[1] M'gladbach\n",
      "[2] Braunschweig\n",
      "[3] Union Berlin\n",
      "[4] Hoffenheim\n"
     ]
    },
    {
     "name": "stdin",
     "output_type": "stream",
     "text": [
      " 0\n"
     ]
    },
    {
     "name": "stdout",
     "output_type": "stream",
     "text": [
      "----\n",
      "Energie Cottbus\n",
      "----\n",
      "[0] Cottbus\n",
      "[1] Ingolstadt\n",
      "[2] Nürnberg\n",
      "[3] Leverkusen\n",
      "[4] Hertha BSC\n"
     ]
    },
    {
     "name": "stdin",
     "output_type": "stream",
     "text": [
      " 0\n"
     ]
    },
    {
     "name": "stdout",
     "output_type": "stream",
     "text": [
      "----\n",
      "Karlsruher\n",
      "----\n",
      "[0] Karlsruhe\n",
      "[1] K'lautern\n",
      "[2] Aachen\n",
      "[3] Braunschweig\n",
      "[4] Hamburger SV\n"
     ]
    },
    {
     "name": "stdin",
     "output_type": "stream",
     "text": [
      " 0\n"
     ]
    },
    {
     "name": "stdout",
     "output_type": "stream",
     "text": [
      "----\n",
      "Hoffenheim\n",
      "----\n",
      "[0] Hoffenheim\n",
      "[1] Bochum\n",
      "[2] Braunschweig\n",
      "[3] Hertha BSC\n",
      "[4] Hannover 96\n"
     ]
    },
    {
     "name": "stdin",
     "output_type": "stream",
     "text": [
      " 0\n"
     ]
    },
    {
     "name": "stdout",
     "output_type": "stream",
     "text": [
      "----\n",
      "Augsburg\n",
      "----\n",
      "[0] Augsburg\n",
      "[1] Duisburg\n",
      "[2] Wolfsburg\n",
      "[3] SC Freiburg\n",
      "[4] Hamburger SV\n"
     ]
    },
    {
     "name": "stdin",
     "output_type": "stream",
     "text": [
      " 0\n"
     ]
    },
    {
     "name": "stdout",
     "output_type": "stream",
     "text": [
      "----\n",
      "Greuther Furth\n",
      "----\n",
      "[0] Gr. Fürth\n",
      "[1] K'lautern\n",
      "[2] Frankfurt\n",
      "[3] Karlsruhe\n",
      "[4] Leverkusen\n"
     ]
    },
    {
     "name": "stdin",
     "output_type": "stream",
     "text": [
      " 0\n"
     ]
    },
    {
     "name": "stdout",
     "output_type": "stream",
     "text": [
      "----\n",
      "Dusseldorf\n",
      "----\n",
      "[0] Düsseldorf\n",
      "[1] Duisburg\n",
      "[2] Dortmund\n",
      "[3] Augsburg\n",
      "[4] SV Werder\n"
     ]
    },
    {
     "name": "stdin",
     "output_type": "stream",
     "text": [
      " 0\n"
     ]
    },
    {
     "name": "stdout",
     "output_type": "stream",
     "text": [
      "----\n",
      "Braunschweig\n",
      "----\n",
      "[0] Braunschweig\n",
      "[1] Aachen\n",
      "[2] Nürnberg\n",
      "[3] Karlsruhe\n",
      "[4] Hoffenheim\n"
     ]
    },
    {
     "name": "stdin",
     "output_type": "stream",
     "text": [
      " 0\n"
     ]
    },
    {
     "name": "stdout",
     "output_type": "stream",
     "text": [
      "----\n",
      "Paderborn\n",
      "----\n",
      "[0] Paderborn\n",
      "[1] FC Bayern\n",
      "[2] K'lautern\n",
      "[3] Aachen\n",
      "[4] Dortmund\n"
     ]
    },
    {
     "name": "stdin",
     "output_type": "stream",
     "text": [
      " 0\n"
     ]
    },
    {
     "name": "stdout",
     "output_type": "stream",
     "text": [
      "----\n",
      "Köln\n",
      "----\n",
      "[0] 1.FC Köln\n",
      "[1] K'lautern\n",
      "[2] Karlsruhe\n",
      "[3] Union Berlin\n",
      "[4] Aachen\n"
     ]
    },
    {
     "name": "stdin",
     "output_type": "stream",
     "text": [
      " 0\n"
     ]
    }
   ],
   "source": [
    "translation = {}\n",
    "\n",
    "for actual_team in actual_teams:\n",
    "    print('----')\n",
    "    print(actual_team)\n",
    "    print('----')\n",
    "    \n",
    "    scores = np.array([similar(actual_team, target_team) for target_team in target_teams])\n",
    "    sort_idx = scores.argsort()[::-1]\n",
    "\n",
    "    for e,sort_id in enumerate(sort_idx[:5]):\n",
    "        print(f'[{e}] {target_teams[sort_id]}')\n",
    "\n",
    "    index = int(input())\n",
    "    translation[actual_team] = target_teams[sort_idx[index]]"
   ]
  },
  {
   "cell_type": "code",
   "execution_count": 26,
   "metadata": {},
   "outputs": [
    {
     "data": {
      "text/plain": [
       "{'Bayern Munich': 'FC Bayern',\n",
       " 'Wolfsburg': 'Wolfsburg',\n",
       " 'Schalke': 'Schalke 04',\n",
       " 'Nurnberg': 'Nürnberg',\n",
       " 'Mainz': 'Mainz 05',\n",
       " 'Hansa Rostock': 'Rostock',\n",
       " 'B. Monchengladbach': \"M'gladbach\",\n",
       " 'Bochum': 'Bochum',\n",
       " 'Hannover': 'Hannover 96',\n",
       " 'Kaiserslautern': \"K'lautern\",\n",
       " 'VfB Stuttgart': 'VfB Stuttgart',\n",
       " 'Hamburger SV': 'Hamburger SV',\n",
       " 'Freiburg': 'SC Freiburg',\n",
       " 'Bayer Leverkusen': 'Leverkusen',\n",
       " 'Dortmund': 'Dortmund',\n",
       " 'Arminia Bielefeld': 'Bielefeld',\n",
       " 'Hertha Berlin': 'Hertha BSC',\n",
       " 'Werder Bremen': 'SV Werder',\n",
       " 'Duisburg': 'Duisburg',\n",
       " 'Eintracht Frankfurt': 'Frankfurt',\n",
       " 'Alemannia Aachen': 'Aachen',\n",
       " 'Energie Cottbus': 'Cottbus',\n",
       " 'Karlsruher': 'Karlsruhe',\n",
       " 'Hoffenheim': 'Hoffenheim',\n",
       " 'Augsburg': 'Augsburg',\n",
       " 'Greuther Furth': 'Gr. Fürth',\n",
       " 'Dusseldorf': 'Düsseldorf',\n",
       " 'Braunschweig': 'Braunschweig',\n",
       " 'Paderborn': 'Paderborn',\n",
       " 'Köln': '1.FC Köln'}"
      ]
     },
     "execution_count": 26,
     "metadata": {},
     "output_type": "execute_result"
    }
   ],
   "source": [
    "translation"
   ]
  },
  {
   "cell_type": "code",
   "execution_count": 28,
   "metadata": {},
   "outputs": [],
   "source": [
    "buli['home_team'].replace(translation, inplace=True)\n",
    "buli['away_team'].replace(translation, inplace=True)"
   ]
  },
  {
   "cell_type": "code",
   "execution_count": 29,
   "metadata": {},
   "outputs": [
    {
     "data": {
      "text/html": [
       "<div>\n",
       "<style scoped>\n",
       "    .dataframe tbody tr th:only-of-type {\n",
       "        vertical-align: middle;\n",
       "    }\n",
       "\n",
       "    .dataframe tbody tr th {\n",
       "        vertical-align: top;\n",
       "    }\n",
       "\n",
       "    .dataframe thead th {\n",
       "        text-align: right;\n",
       "    }\n",
       "</style>\n",
       "<table border=\"1\" class=\"dataframe\">\n",
       "  <thead>\n",
       "    <tr style=\"text-align: right;\">\n",
       "      <th></th>\n",
       "      <th>match_id</th>\n",
       "      <th>league</th>\n",
       "      <th>match_date</th>\n",
       "      <th>home_team</th>\n",
       "      <th>home_score</th>\n",
       "      <th>away_team</th>\n",
       "      <th>away_score</th>\n",
       "      <th>avg_odds_home_win</th>\n",
       "      <th>avg_odds_draw</th>\n",
       "      <th>avg_odds_away_win</th>\n",
       "      <th>max_odds_home_win</th>\n",
       "      <th>max_odds_draw</th>\n",
       "      <th>max_odds_away_win</th>\n",
       "      <th>season</th>\n",
       "      <th>matchday</th>\n",
       "    </tr>\n",
       "  </thead>\n",
       "  <tbody>\n",
       "    <tr>\n",
       "      <th>10162</th>\n",
       "      <td>194719</td>\n",
       "      <td>bundesliga</td>\n",
       "      <td>2005-08-05</td>\n",
       "      <td>FC Bayern</td>\n",
       "      <td>3</td>\n",
       "      <td>M'gladbach</td>\n",
       "      <td>0</td>\n",
       "      <td>1.3118</td>\n",
       "      <td>4.3973</td>\n",
       "      <td>8.9845</td>\n",
       "      <td>1.35</td>\n",
       "      <td>5.00</td>\n",
       "      <td>10.00</td>\n",
       "      <td>0506</td>\n",
       "      <td>1</td>\n",
       "    </tr>\n",
       "    <tr>\n",
       "      <th>10273</th>\n",
       "      <td>194936</td>\n",
       "      <td>bundesliga</td>\n",
       "      <td>2005-08-06</td>\n",
       "      <td>Wolfsburg</td>\n",
       "      <td>2</td>\n",
       "      <td>Dortmund</td>\n",
       "      <td>2</td>\n",
       "      <td>2.4000</td>\n",
       "      <td>3.2660</td>\n",
       "      <td>2.6220</td>\n",
       "      <td>2.60</td>\n",
       "      <td>3.45</td>\n",
       "      <td>2.85</td>\n",
       "      <td>0506</td>\n",
       "      <td>1</td>\n",
       "    </tr>\n",
       "    <tr>\n",
       "      <th>10338</th>\n",
       "      <td>194932</td>\n",
       "      <td>bundesliga</td>\n",
       "      <td>2005-08-06</td>\n",
       "      <td>Duisburg</td>\n",
       "      <td>1</td>\n",
       "      <td>VfB Stuttgart</td>\n",
       "      <td>1</td>\n",
       "      <td>3.0755</td>\n",
       "      <td>3.2582</td>\n",
       "      <td>2.1282</td>\n",
       "      <td>3.39</td>\n",
       "      <td>3.35</td>\n",
       "      <td>2.20</td>\n",
       "      <td>0506</td>\n",
       "      <td>1</td>\n",
       "    </tr>\n",
       "    <tr>\n",
       "      <th>10339</th>\n",
       "      <td>194933</td>\n",
       "      <td>bundesliga</td>\n",
       "      <td>2005-08-06</td>\n",
       "      <td>Hamburger SV</td>\n",
       "      <td>3</td>\n",
       "      <td>Nürnberg</td>\n",
       "      <td>0</td>\n",
       "      <td>1.5173</td>\n",
       "      <td>3.6491</td>\n",
       "      <td>5.7600</td>\n",
       "      <td>1.57</td>\n",
       "      <td>4.15</td>\n",
       "      <td>6.41</td>\n",
       "      <td>0506</td>\n",
       "      <td>1</td>\n",
       "    </tr>\n",
       "    <tr>\n",
       "      <th>10340</th>\n",
       "      <td>194934</td>\n",
       "      <td>bundesliga</td>\n",
       "      <td>2005-08-06</td>\n",
       "      <td>Hannover 96</td>\n",
       "      <td>2</td>\n",
       "      <td>Hertha BSC</td>\n",
       "      <td>2</td>\n",
       "      <td>2.6282</td>\n",
       "      <td>3.2227</td>\n",
       "      <td>2.4255</td>\n",
       "      <td>3.16</td>\n",
       "      <td>3.35</td>\n",
       "      <td>2.65</td>\n",
       "      <td>0506</td>\n",
       "      <td>1</td>\n",
       "    </tr>\n",
       "  </tbody>\n",
       "</table>\n",
       "</div>"
      ],
      "text/plain": [
       "       match_id      league match_date     home_team  home_score  \\\n",
       "10162    194719  bundesliga 2005-08-05     FC Bayern           3   \n",
       "10273    194936  bundesliga 2005-08-06     Wolfsburg           2   \n",
       "10338    194932  bundesliga 2005-08-06      Duisburg           1   \n",
       "10339    194933  bundesliga 2005-08-06  Hamburger SV           3   \n",
       "10340    194934  bundesliga 2005-08-06   Hannover 96           2   \n",
       "\n",
       "           away_team  away_score  avg_odds_home_win  avg_odds_draw  \\\n",
       "10162     M'gladbach           0             1.3118         4.3973   \n",
       "10273       Dortmund           2             2.4000         3.2660   \n",
       "10338  VfB Stuttgart           1             3.0755         3.2582   \n",
       "10339       Nürnberg           0             1.5173         3.6491   \n",
       "10340     Hertha BSC           2             2.6282         3.2227   \n",
       "\n",
       "       avg_odds_away_win  max_odds_home_win  max_odds_draw  max_odds_away_win  \\\n",
       "10162             8.9845               1.35           5.00              10.00   \n",
       "10273             2.6220               2.60           3.45               2.85   \n",
       "10338             2.1282               3.39           3.35               2.20   \n",
       "10339             5.7600               1.57           4.15               6.41   \n",
       "10340             2.4255               3.16           3.35               2.65   \n",
       "\n",
       "      season  matchday  \n",
       "10162   0506         1  \n",
       "10273   0506         1  \n",
       "10338   0506         1  \n",
       "10339   0506         1  \n",
       "10340   0506         1  "
      ]
     },
     "execution_count": 29,
     "metadata": {},
     "output_type": "execute_result"
    }
   ],
   "source": [
    "buli.head()"
   ]
  },
  {
   "cell_type": "code",
   "execution_count": 54,
   "metadata": {},
   "outputs": [
    {
     "data": {
      "text/html": [
       "<div>\n",
       "<style scoped>\n",
       "    .dataframe tbody tr th:only-of-type {\n",
       "        vertical-align: middle;\n",
       "    }\n",
       "\n",
       "    .dataframe tbody tr th {\n",
       "        vertical-align: top;\n",
       "    }\n",
       "\n",
       "    .dataframe thead th {\n",
       "        text-align: right;\n",
       "    }\n",
       "</style>\n",
       "<table border=\"1\" class=\"dataframe\">\n",
       "  <thead>\n",
       "    <tr style=\"text-align: right;\">\n",
       "      <th></th>\n",
       "      <th>season</th>\n",
       "      <th>matchday</th>\n",
       "      <th>rank</th>\n",
       "      <th>team</th>\n",
       "      <th>games_played</th>\n",
       "      <th>wins</th>\n",
       "      <th>draw</th>\n",
       "      <th>lost</th>\n",
       "      <th>total_goals_scored</th>\n",
       "      <th>total_goals_received</th>\n",
       "      <th>points</th>\n",
       "      <th>league</th>\n",
       "    </tr>\n",
       "  </thead>\n",
       "  <tbody>\n",
       "    <tr>\n",
       "      <th>0</th>\n",
       "      <td>0506</td>\n",
       "      <td>2</td>\n",
       "      <td>1</td>\n",
       "      <td>SV Werder</td>\n",
       "      <td>1</td>\n",
       "      <td>1</td>\n",
       "      <td>0</td>\n",
       "      <td>0</td>\n",
       "      <td>5</td>\n",
       "      <td>2</td>\n",
       "      <td>3</td>\n",
       "      <td>bundesliga</td>\n",
       "    </tr>\n",
       "    <tr>\n",
       "      <th>1</th>\n",
       "      <td>0506</td>\n",
       "      <td>2</td>\n",
       "      <td>2</td>\n",
       "      <td>Leverkusen</td>\n",
       "      <td>1</td>\n",
       "      <td>1</td>\n",
       "      <td>0</td>\n",
       "      <td>0</td>\n",
       "      <td>4</td>\n",
       "      <td>1</td>\n",
       "      <td>3</td>\n",
       "      <td>bundesliga</td>\n",
       "    </tr>\n",
       "    <tr>\n",
       "      <th>2</th>\n",
       "      <td>0506</td>\n",
       "      <td>2</td>\n",
       "      <td>3</td>\n",
       "      <td>FC Bayern</td>\n",
       "      <td>1</td>\n",
       "      <td>1</td>\n",
       "      <td>0</td>\n",
       "      <td>0</td>\n",
       "      <td>3</td>\n",
       "      <td>0</td>\n",
       "      <td>3</td>\n",
       "      <td>bundesliga</td>\n",
       "    </tr>\n",
       "    <tr>\n",
       "      <th>3</th>\n",
       "      <td>0506</td>\n",
       "      <td>2</td>\n",
       "      <td>3</td>\n",
       "      <td>Hamburger SV</td>\n",
       "      <td>1</td>\n",
       "      <td>1</td>\n",
       "      <td>0</td>\n",
       "      <td>0</td>\n",
       "      <td>3</td>\n",
       "      <td>0</td>\n",
       "      <td>3</td>\n",
       "      <td>bundesliga</td>\n",
       "    </tr>\n",
       "    <tr>\n",
       "      <th>4</th>\n",
       "      <td>0506</td>\n",
       "      <td>2</td>\n",
       "      <td>5</td>\n",
       "      <td>Schalke 04</td>\n",
       "      <td>1</td>\n",
       "      <td>1</td>\n",
       "      <td>0</td>\n",
       "      <td>0</td>\n",
       "      <td>2</td>\n",
       "      <td>1</td>\n",
       "      <td>3</td>\n",
       "      <td>bundesliga</td>\n",
       "    </tr>\n",
       "  </tbody>\n",
       "</table>\n",
       "</div>"
      ],
      "text/plain": [
       "  season  matchday  rank          team  games_played  wins  draw  lost  \\\n",
       "0   0506         2     1     SV Werder             1     1     0     0   \n",
       "1   0506         2     2    Leverkusen             1     1     0     0   \n",
       "2   0506         2     3     FC Bayern             1     1     0     0   \n",
       "3   0506         2     3  Hamburger SV             1     1     0     0   \n",
       "4   0506         2     5    Schalke 04             1     1     0     0   \n",
       "\n",
       "   total_goals_scored  total_goals_received  points      league  \n",
       "0                   5                     2       3  bundesliga  \n",
       "1                   4                     1       3  bundesliga  \n",
       "2                   3                     0       3  bundesliga  \n",
       "3                   3                     0       3  bundesliga  \n",
       "4                   2                     1       3  bundesliga  "
      ]
     },
     "execution_count": 54,
     "metadata": {},
     "output_type": "execute_result"
    }
   ],
   "source": [
    "join_standings = standings.copy()\n",
    "join_standings.matchday = join_standings.matchday+1\n",
    "\n",
    "join_standings.head()"
   ]
  },
  {
   "cell_type": "code",
   "execution_count": 55,
   "metadata": {},
   "outputs": [],
   "source": [
    "start_rows = []\n",
    "for (team, season, league),g in join_standings.groupby(['team', 'season', 'league']):\n",
    "    start_rows.append([season, 1, 1, team, 0, 0, 0, 0, 0, 0, 0, league])\n",
    "start_rows = pd.DataFrame(start_rows, columns=join_standings.columns)"
   ]
  },
  {
   "cell_type": "code",
   "execution_count": 65,
   "metadata": {},
   "outputs": [],
   "source": [
    "join_standings = join_standings.append(start_rows)"
   ]
  },
  {
   "cell_type": "code",
   "execution_count": null,
   "metadata": {},
   "outputs": [],
   "source": []
  },
  {
   "cell_type": "code",
   "execution_count": 65,
   "metadata": {},
   "outputs": [
    {
     "data": {
      "text/plain": [
       "['home_season',\n",
       " 'home_matchday',\n",
       " 'home_rank',\n",
       " 'home_team',\n",
       " 'home_games_played',\n",
       " 'home_wins',\n",
       " 'home_draw',\n",
       " 'home_lost',\n",
       " 'home_total_goals_scored',\n",
       " 'home_total_goals_received',\n",
       " 'home_points',\n",
       " 'home_league']"
      ]
     },
     "execution_count": 65,
     "metadata": {},
     "output_type": "execute_result"
    }
   ],
   "source": [
    "old_columns = join_standings.columns.values\n",
    "home_cols = ['home_'+col for col in old_columns]\n",
    "home_cols"
   ]
  },
  {
   "cell_type": "code",
   "execution_count": 58,
   "metadata": {},
   "outputs": [
    {
     "data": {
      "text/plain": [
       "(2586, 24)"
      ]
     },
     "execution_count": 58,
     "metadata": {},
     "output_type": "execute_result"
    }
   ],
   "source": [
    "joined = pd.merge(buli, join_standings, left_on=['home_team', 'matchday', 'season', 'league'], right_on=['team', 'matchday', 'season', 'league'], how='inner')\n",
    "joined.shape"
   ]
  },
  {
   "cell_type": "code",
   "execution_count": 60,
   "metadata": {},
   "outputs": [
    {
     "data": {
      "text/html": [
       "<div>\n",
       "<style scoped>\n",
       "    .dataframe tbody tr th:only-of-type {\n",
       "        vertical-align: middle;\n",
       "    }\n",
       "\n",
       "    .dataframe tbody tr th {\n",
       "        vertical-align: top;\n",
       "    }\n",
       "\n",
       "    .dataframe thead th {\n",
       "        text-align: right;\n",
       "    }\n",
       "</style>\n",
       "<table border=\"1\" class=\"dataframe\">\n",
       "  <thead>\n",
       "    <tr style=\"text-align: right;\">\n",
       "      <th></th>\n",
       "      <th>match_id</th>\n",
       "      <th>league</th>\n",
       "      <th>match_date</th>\n",
       "      <th>home_team</th>\n",
       "      <th>home_score</th>\n",
       "      <th>away_team</th>\n",
       "      <th>away_score</th>\n",
       "      <th>avg_odds_home_win</th>\n",
       "      <th>avg_odds_draw</th>\n",
       "      <th>avg_odds_away_win</th>\n",
       "      <th>...</th>\n",
       "      <th>matchday</th>\n",
       "      <th>rank</th>\n",
       "      <th>team</th>\n",
       "      <th>games_played</th>\n",
       "      <th>wins</th>\n",
       "      <th>draw</th>\n",
       "      <th>lost</th>\n",
       "      <th>total_goals_scored</th>\n",
       "      <th>total_goals_received</th>\n",
       "      <th>points</th>\n",
       "    </tr>\n",
       "  </thead>\n",
       "  <tbody>\n",
       "    <tr>\n",
       "      <th>2581</th>\n",
       "      <td>870168</td>\n",
       "      <td>bundesliga</td>\n",
       "      <td>2015-05-23</td>\n",
       "      <td>Hamburger SV</td>\n",
       "      <td>2</td>\n",
       "      <td>Schalke 04</td>\n",
       "      <td>0</td>\n",
       "      <td>2.1193</td>\n",
       "      <td>3.6983</td>\n",
       "      <td>3.1952</td>\n",
       "      <td>...</td>\n",
       "      <td>34</td>\n",
       "      <td>17</td>\n",
       "      <td>Hamburger SV</td>\n",
       "      <td>33</td>\n",
       "      <td>8</td>\n",
       "      <td>8</td>\n",
       "      <td>17</td>\n",
       "      <td>23</td>\n",
       "      <td>50</td>\n",
       "      <td>32</td>\n",
       "    </tr>\n",
       "    <tr>\n",
       "      <th>2582</th>\n",
       "      <td>870167</td>\n",
       "      <td>bundesliga</td>\n",
       "      <td>2015-05-23</td>\n",
       "      <td>Frankfurt</td>\n",
       "      <td>2</td>\n",
       "      <td>Leverkusen</td>\n",
       "      <td>1</td>\n",
       "      <td>4.2062</td>\n",
       "      <td>4.0383</td>\n",
       "      <td>1.7552</td>\n",
       "      <td>...</td>\n",
       "      <td>34</td>\n",
       "      <td>11</td>\n",
       "      <td>Frankfurt</td>\n",
       "      <td>33</td>\n",
       "      <td>10</td>\n",
       "      <td>10</td>\n",
       "      <td>13</td>\n",
       "      <td>54</td>\n",
       "      <td>61</td>\n",
       "      <td>40</td>\n",
       "    </tr>\n",
       "    <tr>\n",
       "      <th>2583</th>\n",
       "      <td>870166</td>\n",
       "      <td>bundesliga</td>\n",
       "      <td>2015-05-23</td>\n",
       "      <td>Dortmund</td>\n",
       "      <td>3</td>\n",
       "      <td>SV Werder</td>\n",
       "      <td>2</td>\n",
       "      <td>1.2541</td>\n",
       "      <td>6.4234</td>\n",
       "      <td>9.9490</td>\n",
       "      <td>...</td>\n",
       "      <td>34</td>\n",
       "      <td>7</td>\n",
       "      <td>Dortmund</td>\n",
       "      <td>33</td>\n",
       "      <td>12</td>\n",
       "      <td>7</td>\n",
       "      <td>14</td>\n",
       "      <td>44</td>\n",
       "      <td>40</td>\n",
       "      <td>43</td>\n",
       "    </tr>\n",
       "    <tr>\n",
       "      <th>2584</th>\n",
       "      <td>870164</td>\n",
       "      <td>bundesliga</td>\n",
       "      <td>2015-05-23</td>\n",
       "      <td>FC Bayern</td>\n",
       "      <td>2</td>\n",
       "      <td>Mainz 05</td>\n",
       "      <td>0</td>\n",
       "      <td>1.1700</td>\n",
       "      <td>7.9562</td>\n",
       "      <td>13.4545</td>\n",
       "      <td>...</td>\n",
       "      <td>34</td>\n",
       "      <td>1</td>\n",
       "      <td>FC Bayern</td>\n",
       "      <td>33</td>\n",
       "      <td>24</td>\n",
       "      <td>4</td>\n",
       "      <td>5</td>\n",
       "      <td>78</td>\n",
       "      <td>18</td>\n",
       "      <td>76</td>\n",
       "    </tr>\n",
       "    <tr>\n",
       "      <th>2585</th>\n",
       "      <td>870165</td>\n",
       "      <td>bundesliga</td>\n",
       "      <td>2015-05-23</td>\n",
       "      <td>M'gladbach</td>\n",
       "      <td>1</td>\n",
       "      <td>Augsburg</td>\n",
       "      <td>3</td>\n",
       "      <td>1.4703</td>\n",
       "      <td>4.5645</td>\n",
       "      <td>6.3879</td>\n",
       "      <td>...</td>\n",
       "      <td>34</td>\n",
       "      <td>3</td>\n",
       "      <td>M'gladbach</td>\n",
       "      <td>33</td>\n",
       "      <td>19</td>\n",
       "      <td>9</td>\n",
       "      <td>5</td>\n",
       "      <td>52</td>\n",
       "      <td>23</td>\n",
       "      <td>66</td>\n",
       "    </tr>\n",
       "  </tbody>\n",
       "</table>\n",
       "<p>5 rows × 24 columns</p>\n",
       "</div>"
      ],
      "text/plain": [
       "      match_id      league match_date     home_team  home_score   away_team  \\\n",
       "2581    870168  bundesliga 2015-05-23  Hamburger SV           2  Schalke 04   \n",
       "2582    870167  bundesliga 2015-05-23     Frankfurt           2  Leverkusen   \n",
       "2583    870166  bundesliga 2015-05-23      Dortmund           3   SV Werder   \n",
       "2584    870164  bundesliga 2015-05-23     FC Bayern           2    Mainz 05   \n",
       "2585    870165  bundesliga 2015-05-23    M'gladbach           1    Augsburg   \n",
       "\n",
       "      away_score  avg_odds_home_win  avg_odds_draw  avg_odds_away_win  ...  \\\n",
       "2581           0             2.1193         3.6983             3.1952  ...   \n",
       "2582           1             4.2062         4.0383             1.7552  ...   \n",
       "2583           2             1.2541         6.4234             9.9490  ...   \n",
       "2584           0             1.1700         7.9562            13.4545  ...   \n",
       "2585           3             1.4703         4.5645             6.3879  ...   \n",
       "\n",
       "      matchday  rank          team games_played  wins  draw lost  \\\n",
       "2581        34    17  Hamburger SV           33     8     8   17   \n",
       "2582        34    11     Frankfurt           33    10    10   13   \n",
       "2583        34     7      Dortmund           33    12     7   14   \n",
       "2584        34     1     FC Bayern           33    24     4    5   \n",
       "2585        34     3    M'gladbach           33    19     9    5   \n",
       "\n",
       "      total_goals_scored  total_goals_received  points  \n",
       "2581                  23                    50      32  \n",
       "2582                  54                    61      40  \n",
       "2583                  44                    40      43  \n",
       "2584                  78                    18      76  \n",
       "2585                  52                    23      66  \n",
       "\n",
       "[5 rows x 24 columns]"
      ]
     },
     "execution_count": 60,
     "metadata": {},
     "output_type": "execute_result"
    }
   ],
   "source": [
    "joined.tail()"
   ]
  },
  {
   "cell_type": "code",
   "execution_count": null,
   "metadata": {},
   "outputs": [],
   "source": [
    "joined['position_diff'] = joined.rank"
   ]
  },
  {
   "cell_type": "code",
   "execution_count": 61,
   "metadata": {},
   "outputs": [],
   "source": [
    "matchday_mask = (5<joined.matchday)\n"
   ]
  },
  {
   "cell_type": "code",
   "execution_count": null,
   "metadata": {},
   "outputs": [],
   "source": []
  }
 ],
 "metadata": {
  "kernelspec": {
   "display_name": "Python 3",
   "language": "python",
   "name": "python3"
  },
  "language_info": {
   "codemirror_mode": {
    "name": "ipython",
    "version": 3
   },
   "file_extension": ".py",
   "mimetype": "text/x-python",
   "name": "python",
   "nbconvert_exporter": "python",
   "pygments_lexer": "ipython3",
   "version": "3.8.3"
  }
 },
 "nbformat": 4,
 "nbformat_minor": 4
}
