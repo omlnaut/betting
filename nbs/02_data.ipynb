{
 "cells": [
  {
   "cell_type": "code",
   "execution_count": null,
   "metadata": {},
   "outputs": [],
   "source": [
    "from nbdev import *\n",
    "# default_exp data.football_uk"
   ]
  },
  {
   "cell_type": "code",
   "execution_count": null,
   "metadata": {},
   "outputs": [],
   "source": [
    "#all_scraping"
   ]
  },
  {
   "cell_type": "code",
   "execution_count": null,
   "metadata": {},
   "outputs": [],
   "source": [
    "# hide\n",
    "from betting.scraping import *\n",
    "from betting.utility import *\n",
    "\n",
    "import urllib.parse\n",
    "import re\n",
    "import functools"
   ]
  },
  {
   "cell_type": "code",
   "execution_count": null,
   "metadata": {},
   "outputs": [],
   "source": [
    "# export\n",
    "from dataclasses import dataclass\n",
    "import urllib.parse"
   ]
  },
  {
   "cell_type": "markdown",
   "metadata": {},
   "source": [
    "# First source football-data.co.uk\n",
    "\n",
    "> This page shows how to acquire data from fotball-data.co.uk"
   ]
  },
  {
   "cell_type": "markdown",
   "metadata": {},
   "source": [
    "# Examine the source"
   ]
  },
  {
   "cell_type": "markdown",
   "metadata": {},
   "source": [
    "Link: https://www.football-data.co.uk/data.php"
   ]
  },
  {
   "cell_type": "markdown",
   "metadata": {},
   "source": [
    "This site provides an extensive list of match statistics, outcomes and odds. However, for some reason there is no easy way to download the data. The main page contains links to the main leagues. Each main league site then provides a list of links to each result csv, **grouped by season and league**."
   ]
  },
  {
   "cell_type": "code",
   "execution_count": null,
   "metadata": {},
   "outputs": [],
   "source": [
    "mainpage_link = r'https://www.football-data.co.uk/data.php'\n",
    "mainpage_bs = get_html(mainpage_link)"
   ]
  },
  {
   "cell_type": "markdown",
   "metadata": {},
   "source": [
    "Since parallelizatoin doesn't really work from within jupyter notebooks (at least on windows), I'll use this notebook to develop all necessary functions to later run a normal python script (with parallelization)."
   ]
  },
  {
   "cell_type": "code",
   "execution_count": null,
   "metadata": {},
   "outputs": [],
   "source": [
    "# export\n",
    "FOOTBALL_DATA_LINK = r'https://www.football-data.co.uk/data.php'"
   ]
  },
  {
   "cell_type": "markdown",
   "metadata": {},
   "source": [
    "## Understanding the features"
   ]
  },
  {
   "cell_type": "markdown",
   "metadata": {},
   "source": [
    "The column names for this datasource are rather cryptic. Here are the most useful ones:\n",
    "- **Date**\n",
    "- **HomeTeam**, **AwayTeam**\n",
    "- **FTHG*, **FTAG** -> Full Time Home/Away Team Goals\n",
    "- **B365H/D/A** Bet365 home/draw/away odds"
   ]
  },
  {
   "cell_type": "markdown",
   "metadata": {},
   "source": [
    "# Parsing"
   ]
  },
  {
   "cell_type": "markdown",
   "metadata": {},
   "source": [
    "The following two sections derive the method for generating all necessary download links to the individual csv files. Most of this derivation is not needed in the actual download script and is only kept here for future reference."
   ]
  },
  {
   "cell_type": "markdown",
   "metadata": {},
   "source": [
    "## Parsing mainpage for country pages"
   ]
  },
  {
   "cell_type": "markdown",
   "metadata": {},
   "source": [
    "The sub-pages we are looking for have sub-urls of roughly the shape: **\\<country_name\\>m.php**, so lets look for links like this."
   ]
  },
  {
   "cell_type": "code",
   "execution_count": null,
   "metadata": {},
   "outputs": [
    {
     "name": "stdout",
     "output_type": "stream",
     "text": [
      "Number of php links: 209\n",
      "Examples:\n",
      "spainm.php\n",
      "francem.php\n",
      "netherlandsm.php\n",
      "belgiumm.php\n",
      "portugalm.php\n",
      "turkeym.php\n",
      "greecem.php\n",
      "Argentina.php\n",
      "Austria.php\n",
      "Brazil.php\n"
     ]
    }
   ],
   "source": [
    "php_links = find_links_by_func(mainpage_bs)\n",
    "            \n",
    "print(f'Number of php links: {len(php_links)}')\n",
    "print('Examples:')\n",
    "print('\\n'.join(php_links[65:75]))"
   ]
  },
  {
   "cell_type": "markdown",
   "metadata": {},
   "source": [
    "So the good news is that the links we're looking for are in there. The bad news is that there's also a bunch of other stuff. Lets try using some regex magic."
   ]
  },
  {
   "cell_type": "code",
   "execution_count": null,
   "metadata": {},
   "outputs": [
    {
     "data": {
      "text/plain": [
       "['englandm.php',\n",
       " 'scotlandm.php',\n",
       " 'germanym.php',\n",
       " 'italym.php',\n",
       " 'spainm.php',\n",
       " 'francem.php',\n",
       " 'netherlandsm.php',\n",
       " 'belgiumm.php',\n",
       " 'portugalm.php',\n",
       " 'turkeym.php',\n",
       " 'greecem.php']"
      ]
     },
     "execution_count": null,
     "metadata": {},
     "output_type": "execute_result"
    }
   ],
   "source": [
    "country_links = find_links_by_pattern(mainpage_bs, r'\\w+m\\.php')\n",
    "country_links"
   ]
  },
  {
   "cell_type": "markdown",
   "metadata": {},
   "source": [
    "Manually checking the site shows that this is exactly the list of links we're looking for. So far so good."
   ]
  },
  {
   "cell_type": "markdown",
   "metadata": {},
   "source": [
    "## Parsing country pages for results"
   ]
  },
  {
   "cell_type": "markdown",
   "metadata": {},
   "source": [
    "The country links we gathered in the last step are relative. To build the full links we have to join them with the base link."
   ]
  },
  {
   "cell_type": "code",
   "execution_count": null,
   "metadata": {},
   "outputs": [
    {
     "data": {
      "text/plain": [
       "'https://www.football-data.co.uk/englandm.php'"
      ]
     },
     "execution_count": null,
     "metadata": {},
     "output_type": "execute_result"
    }
   ],
   "source": [
    "example_country_link = urllib.parse.urljoin(mainpage_link, country_links[0])\n",
    "country_html = get_html(example_country_link)\n",
    "example_country_link"
   ]
  },
  {
   "cell_type": "markdown",
   "metadata": {},
   "source": [
    "The result files seem to be located all under the same structure: https://www.football-data.co.uk/mmz4281/\n",
    "\n",
    "The next part that follows is the season, encoded as yyYY. Here yy are the last two digits of the year of the seasons beginning. YY are the last two digits of the year of the seasons ending."
   ]
  },
  {
   "cell_type": "markdown",
   "metadata": {},
   "source": [
    "#### Getting all seasons"
   ]
  },
  {
   "cell_type": "markdown",
   "metadata": {},
   "source": [
    "We'll try to parse all available years from the example country page:"
   ]
  },
  {
   "cell_type": "code",
   "execution_count": null,
   "metadata": {},
   "outputs": [
    {
     "data": {
      "text/plain": [
       "['mmz4281/2021/E0.csv',\n",
       " 'mmz4281/2021/E1.csv',\n",
       " 'mmz4281/2021/E2.csv',\n",
       " 'mmz4281/2021/E3.csv',\n",
       " 'mmz4281/1920/E0.csv']"
      ]
     },
     "execution_count": null,
     "metadata": {},
     "output_type": "execute_result"
    }
   ],
   "source": [
    "csv_links = find_links_by_pattern(country_html, 'mmz4281/\\d{4}/\\w*\\d\\.csv')\n",
    "csv_links[:5]"
   ]
  },
  {
   "cell_type": "markdown",
   "metadata": {},
   "source": [
    "From here we can easily extract the season data:"
   ]
  },
  {
   "cell_type": "code",
   "execution_count": null,
   "metadata": {},
   "outputs": [
    {
     "name": "stdout",
     "output_type": "stream",
     "text": [
      "Amount of seasons: 28\n",
      "Example: 0809\n"
     ]
    }
   ],
   "source": [
    "seasons = set(csv_link.split('/')[1] for csv_link in csv_links)\n",
    "print(f'Amount of seasons: {len(seasons)}')\n",
    "print(f'Example: {seasons.__iter__().__next__()}')"
   ]
  },
  {
   "cell_type": "markdown",
   "metadata": {},
   "source": [
    "Lets refactor that as preparation for using for all the countries:"
   ]
  },
  {
   "cell_type": "code",
   "execution_count": null,
   "metadata": {},
   "outputs": [],
   "source": [
    "def unique_seasons(html):\n",
    "    'Returns a list of all unique seasons for which result.csv files are found in the given html'\n",
    "    csv_links = find_links_by_pattern(html, 'mmz4281/\\d{4}/\\w*\\d\\.csv')\n",
    "    return set(csv_link.split('/')[1] for csv_link in csv_links)"
   ]
  },
  {
   "cell_type": "code",
   "execution_count": null,
   "metadata": {},
   "outputs": [],
   "source": [
    "assert unique_seasons(country_html)==seasons"
   ]
  },
  {
   "cell_type": "code",
   "execution_count": null,
   "metadata": {},
   "outputs": [
    {
     "name": "stdout",
     "output_type": "stream",
     "text": [
      "Processing  https://www.football-data.co.uk/scotlandm.php\n",
      "Processing  https://www.football-data.co.uk/germanym.php\n",
      "Processing  https://www.football-data.co.uk/italym.php\n",
      "Processing  https://www.football-data.co.uk/spainm.php\n",
      "Processing  https://www.football-data.co.uk/francem.php\n",
      "Processing  https://www.football-data.co.uk/netherlandsm.php\n",
      "Processing  https://www.football-data.co.uk/belgiumm.php\n",
      "Processing  https://www.football-data.co.uk/portugalm.php\n",
      "Processing  https://www.football-data.co.uk/turkeym.php\n",
      "Processing  https://www.football-data.co.uk/greecem.php\n"
     ]
    }
   ],
   "source": [
    "country_links = [urllib.parse.urljoin(mainpage_link, country_link) for country_link in country_links]\n",
    "\n",
    "seasons = []\n",
    "for country_link in country_links[1:]:\n",
    "    print('Processing ', country_link)\n",
    "    html = get_html(country_link)\n",
    "    unique = unique_seasons(html)\n",
    "    if unique:\n",
    "        seasons.append(unique)\n",
    "    else:\n",
    "        print('Found no seasons')"
   ]
  },
  {
   "cell_type": "markdown",
   "metadata": {},
   "source": [
    "Let's see which seasons are available for all leagues:"
   ]
  },
  {
   "cell_type": "code",
   "execution_count": null,
   "metadata": {},
   "outputs": [],
   "source": [
    "seasons = list(functools.reduce(lambda a,b: a.intersection(b), seasons))"
   ]
  },
  {
   "cell_type": "code",
   "execution_count": null,
   "metadata": {},
   "outputs": [
    {
     "name": "stdout",
     "output_type": "stream",
     "text": [
      "Number of available complete leagues: 26\n",
      "0809, 0102, 0001, 0910, 0405, 1213, 1718, 9798, 0304, 9697, 2021, 1314, 1819, 1011, 0607, 9596, 1516, 1617, 1415, 1112, 1920, 0506, 0708, 9899, 0203, 9900\n"
     ]
    }
   ],
   "source": [
    "print('Number of available complete leagues:', len(seasons))\n",
    "print(', '.join(seasons))"
   ]
  },
  {
   "cell_type": "code",
   "execution_count": null,
   "metadata": {},
   "outputs": [],
   "source": [
    "# export\n",
    "FOOTBALL_DATA_SEASONS = ['1314', '9900', '1112', '9697', '0708', '1920', '9798', '1819', '0405', '9596', '0001', '1213', '0203', '0102', '0809', '1617', '1516', '1718', '1011', '0506', '0607', '9899', '0304', '1415', '0910']"
   ]
  },
  {
   "cell_type": "markdown",
   "metadata": {},
   "source": [
    "So appearently the data goes from 1995/96 all the way up to 2019/2020 (the currently running season). I'll grab all the data that's available, we can sort it out later."
   ]
  },
  {
   "cell_type": "markdown",
   "metadata": {},
   "source": [
    "#### Getting the correct sub-league"
   ]
  },
  {
   "cell_type": "markdown",
   "metadata": {},
   "source": [
    "Looking at the csv links from earlier, the next part is a sub-league code, in this case 'E0'."
   ]
  },
  {
   "cell_type": "code",
   "execution_count": null,
   "metadata": {},
   "outputs": [
    {
     "data": {
      "text/plain": [
       "'mmz4281/2021/E0.csv'"
      ]
     },
     "execution_count": null,
     "metadata": {},
     "output_type": "execute_result"
    }
   ],
   "source": [
    "csv_links[0]"
   ]
  },
  {
   "cell_type": "markdown",
   "metadata": {},
   "source": [
    "The letter(s) in this code refer to the country in which the season is played. The number seems to be a sort-of ranking. For most countries, number 1 is assigned to the highest league. But not for all. In the example above for england, number 0 is assigned to the premier league. We'll therefore try to get all the relevant subleague-number -> subleague-name mappings.\n",
    "\n",
    "We still have the example html code some country page.\n",
    "\n",
    "Since we know that each country page has links to the last season (18/19), we'll parse for result links for this season:"
   ]
  },
  {
   "cell_type": "code",
   "execution_count": null,
   "metadata": {},
   "outputs": [
    {
     "name": "stdout",
     "output_type": "stream",
     "text": [
      "E0: Premier League\n",
      "E1: Championship\n",
      "E2: League 1\n",
      "E3: League 2\n"
     ]
    }
   ],
   "source": [
    "def find_subpage_mapping(country_html):\n",
    "    for link in find_links_by_pattern(country_html, r'mmz4281/1819/\\w*\\d\\.csv', return_href=False):\n",
    "        match = re.match(r'mmz4281/1819/(\\w*\\d)\\.csv', link.get('href'))\n",
    "        print(f'{match.group(1)}: {link.text}')\n",
    "        \n",
    "find_subpage_mapping(country_html)"
   ]
  },
  {
   "cell_type": "code",
   "execution_count": null,
   "metadata": {},
   "outputs": [
    {
     "name": "stdout",
     "output_type": "stream",
     "text": [
      "--------------------\n",
      "https://www.football-data.co.uk/englandm.php\n",
      "E0: Premier League\n",
      "E1: Championship\n",
      "E2: League 1\n",
      "E3: League 2\n",
      "--------------------\n",
      "--------------------\n",
      "https://www.football-data.co.uk/scotlandm.php\n",
      "SC0: Premier League\n",
      "SC1: Division 1\n",
      "SC2: Division 2\n",
      "SC3: Division 3\n",
      "--------------------\n",
      "--------------------\n",
      "https://www.football-data.co.uk/germanym.php\n",
      "D1: Bundesliga 1\n",
      "D2: Bundesliga 2\n",
      "--------------------\n",
      "--------------------\n",
      "https://www.football-data.co.uk/italym.php\n",
      "I1: Serie A\n",
      "I2: Serie B\n",
      "--------------------\n",
      "--------------------\n",
      "https://www.football-data.co.uk/spainm.php\n",
      "SP1: La Liga Primera Division\n",
      "SP2: La Liga Segunda Division\n",
      "--------------------\n",
      "--------------------\n",
      "https://www.football-data.co.uk/francem.php\n",
      "F1: Le Championnat\n",
      "F2: Division 2\n",
      "--------------------\n",
      "--------------------\n",
      "https://www.football-data.co.uk/netherlandsm.php\n",
      "N1: Eredivisie\n",
      "--------------------\n",
      "--------------------\n",
      "https://www.football-data.co.uk/belgiumm.php\n",
      "B1: Jupiler League\n",
      "--------------------\n",
      "--------------------\n",
      "https://www.football-data.co.uk/portugalm.php\n",
      "P1: Liga I\n",
      "--------------------\n",
      "--------------------\n",
      "https://www.football-data.co.uk/turkeym.php\n",
      "T1: Futbol Ligi 1\n",
      "--------------------\n",
      "--------------------\n",
      "https://www.football-data.co.uk/greecem.php\n",
      "G1: Ethniki Katigoria\n",
      "--------------------\n"
     ]
    }
   ],
   "source": [
    "for country_link in country_links:\n",
    "    html = get_html(country_link)\n",
    "    print('-'*20)\n",
    "    print(country_link)\n",
    "    find_subpage_mapping(html)\n",
    "    print('-'*20)"
   ]
  },
  {
   "cell_type": "markdown",
   "metadata": {},
   "source": [
    "We're interested in the highest league for each country, we'll manually grab those codes:"
   ]
  },
  {
   "cell_type": "code",
   "execution_count": null,
   "metadata": {},
   "outputs": [],
   "source": [
    "# exporti\n",
    "_FOOTBALL_DATA_LEAGUE_CODES = ['E0', 'E0', 'D1', 'I1', 'SP1', 'F1', 'N1', 'B1', 'P1', 'T1', 'G1']\n",
    "_FOOTBALL_DATA_LEAGUE_NAMES = ['england', 'scotland', 'germany', 'italy', 'spain', 'france', 'netherlands', 'belgium', 'portugal', 'turkey', 'greece']"
   ]
  },
  {
   "cell_type": "code",
   "execution_count": null,
   "metadata": {},
   "outputs": [],
   "source": [
    "# export\n",
    "\n",
    "@dataclass\n",
    "class League:\n",
    "    name: str\n",
    "    code: str"
   ]
  },
  {
   "cell_type": "code",
   "execution_count": null,
   "metadata": {},
   "outputs": [],
   "source": [
    "# export\n",
    "FOOTBALL_DATA_LEAGUES = [League(name=name, code=code) for name,code in zip(_FOOTBALL_DATA_LEAGUE_NAMES, _FOOTBALL_DATA_LEAGUE_CODES)]"
   ]
  },
  {
   "cell_type": "markdown",
   "metadata": {},
   "source": [
    "## Putting it all together"
   ]
  },
  {
   "cell_type": "markdown",
   "metadata": {},
   "source": [
    "We have all the seasons and league information:"
   ]
  },
  {
   "cell_type": "code",
   "execution_count": null,
   "metadata": {},
   "outputs": [
    {
     "data": {
      "text/plain": [
       "[League(name='england', code='E0'),\n",
       " League(name='scotland', code='E0'),\n",
       " League(name='germany', code='D1'),\n",
       " League(name='italy', code='I1'),\n",
       " League(name='spain', code='SP1'),\n",
       " League(name='france', code='F1'),\n",
       " League(name='netherlands', code='N1'),\n",
       " League(name='belgium', code='B1'),\n",
       " League(name='portugal', code='P1'),\n",
       " League(name='turkey', code='T1'),\n",
       " League(name='greece', code='G1')]"
      ]
     },
     "execution_count": null,
     "metadata": {},
     "output_type": "execute_result"
    }
   ],
   "source": [
    "FOOTBALL_DATA_LEAGUES"
   ]
  },
  {
   "cell_type": "code",
   "execution_count": null,
   "metadata": {},
   "outputs": [
    {
     "data": {
      "text/plain": [
       "['1314',\n",
       " '9900',\n",
       " '1112',\n",
       " '9697',\n",
       " '0708',\n",
       " '1920',\n",
       " '9798',\n",
       " '1819',\n",
       " '0405',\n",
       " '9596',\n",
       " '0001',\n",
       " '1213',\n",
       " '0203',\n",
       " '0102',\n",
       " '0809',\n",
       " '1617',\n",
       " '1516',\n",
       " '1718',\n",
       " '1011',\n",
       " '0506',\n",
       " '0607',\n",
       " '9899',\n",
       " '0304',\n",
       " '1415',\n",
       " '0910']"
      ]
     },
     "execution_count": null,
     "metadata": {},
     "output_type": "execute_result"
    }
   ],
   "source": [
    "FOOTBALL_DATA_SEASONS"
   ]
  },
  {
   "cell_type": "code",
   "execution_count": null,
   "metadata": {},
   "outputs": [
    {
     "name": "stdout",
     "output_type": "stream",
     "text": [
      "Number of leagues:  11\n",
      "Number of seasons for each league:  25\n"
     ]
    }
   ],
   "source": [
    "print('Number of leagues: ', len(FOOTBALL_DATA_LEAGUES))\n",
    "print('Number of seasons for each league: ', len(FOOTBALL_DATA_SEASONS))"
   ]
  },
  {
   "cell_type": "markdown",
   "metadata": {},
   "source": [
    "For a given league and season"
   ]
  },
  {
   "cell_type": "code",
   "execution_count": null,
   "metadata": {},
   "outputs": [
    {
     "name": "stdout",
     "output_type": "stream",
     "text": [
      "Season:  1920\n",
      "League code:  B1\n"
     ]
    }
   ],
   "source": [
    "season = FOOTBALL_DATA_SEASONS[5]\n",
    "league_code = FOOTBALL_DATA_LEAGUES[7].code\n",
    "\n",
    "print('Season: ', season)\n",
    "print('League code: ', league_code)"
   ]
  },
  {
   "cell_type": "markdown",
   "metadata": {},
   "source": [
    "we can generate the link to the results file:"
   ]
  },
  {
   "cell_type": "code",
   "execution_count": null,
   "metadata": {},
   "outputs": [],
   "source": [
    "# export\n",
    "def build_full_link(season, league_code, mainpage_link):\n",
    "    file_url = f'mmz4281/{season}/{league_code}.csv'\n",
    "    return urllib.parse.urljoin(mainpage_link, file_url)"
   ]
  },
  {
   "cell_type": "code",
   "execution_count": null,
   "metadata": {},
   "outputs": [
    {
     "data": {
      "text/plain": [
       "'https://www.football-data.co.uk/mmz4281/1920/B1.csv'"
      ]
     },
     "execution_count": null,
     "metadata": {},
     "output_type": "execute_result"
    }
   ],
   "source": [
    "build_full_link(season, league_code, mainpage_link)"
   ]
  },
  {
   "cell_type": "code",
   "execution_count": null,
   "metadata": {},
   "outputs": [],
   "source": []
  }
 ],
 "metadata": {
  "kernelspec": {
   "display_name": "Python 3",
   "language": "python",
   "name": "python3"
  }
 },
 "nbformat": 4,
 "nbformat_minor": 4
}
