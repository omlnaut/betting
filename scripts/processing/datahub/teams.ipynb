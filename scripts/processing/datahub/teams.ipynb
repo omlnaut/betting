{
 "cells": [
  {
   "cell_type": "code",
   "execution_count": 15,
   "id": "retired-vacation",
   "metadata": {},
   "outputs": [
    {
     "name": "stdout",
     "output_type": "stream",
     "text": [
      "The autoreload extension is already loaded. To reload it, use:\n",
      "  %reload_ext autoreload\n"
     ]
    }
   ],
   "source": [
    "%load_ext autoreload\n",
    "%autoreload 2"
   ]
  },
  {
   "cell_type": "code",
   "execution_count": 16,
   "id": "radio-friendship",
   "metadata": {},
   "outputs": [],
   "source": [
    "import pandas as pd\n",
    "from pathlib import Path\n",
    "\n",
    "from betting.data.cleanup import *"
   ]
  },
  {
   "cell_type": "markdown",
   "id": "supreme-camcorder",
   "metadata": {},
   "source": [
    "# Matching team names"
   ]
  },
  {
   "cell_type": "code",
   "execution_count": 3,
   "id": "pacific-confirmation",
   "metadata": {},
   "outputs": [],
   "source": [
    "hub_dir = Path('../../../data/datahub')\n",
    "meta_dir = Path('../../../data/sportde/')"
   ]
  },
  {
   "cell_type": "markdown",
   "id": "combined-sleeve",
   "metadata": {
    "heading_collapsed": "true"
   },
   "source": [
    "## Premier League"
   ]
  },
  {
   "cell_type": "code",
   "execution_count": 10,
   "id": "gothic-correspondence",
   "metadata": {},
   "outputs": [
    {
     "data": {
      "text/plain": [
       "{'Stoke': 'Stoke City',\n",
       " 'Burnley': 'Burnley',\n",
       " 'Everton': 'Everton',\n",
       " 'Arsenal': 'Arsenal',\n",
       " 'Man United': 'ManUtd',\n",
       " 'Birmingham': 'Birmingham',\n",
       " 'Sunderland': 'Sunderland',\n",
       " 'Chelsea': 'Chelsea',\n",
       " 'Wigan': 'Wigan',\n",
       " 'Wolves': 'Wolverhampton',\n",
       " 'Hull': 'Hull City',\n",
       " 'Tottenham': 'Tottenham',\n",
       " 'Liverpool': 'Liverpool',\n",
       " 'Blackburn': 'Blackburn',\n",
       " 'Man City': 'Man City',\n",
       " 'Fulham': 'Fulham',\n",
       " 'Portsmouth': 'Portsmouth',\n",
       " 'West Ham': 'West Ham',\n",
       " 'Aston Villa': 'Aston Villa',\n",
       " 'Bolton': 'Bolton',\n",
       " 'Blackpool': 'Blackpool',\n",
       " 'West Brom': 'West Brom',\n",
       " 'Newcastle': 'Newcastle',\n",
       " 'QPR': 'QPR',\n",
       " 'Swansea': 'Swansea',\n",
       " 'Norwich': 'Norwich City',\n",
       " 'Reading': 'Reading FC',\n",
       " 'Southampton': 'Southampton',\n",
       " 'Crystal Palace': 'Cr. Palace',\n",
       " 'Cardiff': 'Cardiff',\n",
       " 'Leicester': 'Leicester',\n",
       " 'Watford': 'Watford',\n",
       " 'Bournemouth': 'Bournemouth',\n",
       " 'Middlesbrough': 'Middlesbrough',\n",
       " 'Huddersfield': 'Huddersfield',\n",
       " 'Brighton': 'Brighton'}"
      ]
     },
     "execution_count": 10,
     "metadata": {},
     "output_type": "execute_result"
    }
   ],
   "source": [
    "league_dir = hub_dir / 'english-premier-league_zip'\n",
    "\n",
    "actual_matches = pd.read_feather(league_dir / 'concat.feather')\n",
    "meta = load_meta(meta_dir)\n",
    "\n",
    "actual_matches = add_season_from_date(actual_matches, meta, 'Date')\n",
    "actual_matches['league'] = 'premier_league'\n",
    "\n",
    "translation = match_teams_from_goals(actual_matches, meta, 'HomeTeam', 'AwayTeam', 'FTHG', 'FTAG', 'premier_league', 'Date')\n",
    "translation"
   ]
  },
  {
   "cell_type": "code",
   "execution_count": 11,
   "id": "thousand-frame",
   "metadata": {},
   "outputs": [],
   "source": [
    "actual_matches.HomeTeam.replace(translation, inplace=True)\n",
    "actual_matches.AwayTeam.replace(translation, inplace=True)\n",
    "actual_matches.to_feather(league_dir / 'translated.feather')"
   ]
  },
  {
   "cell_type": "markdown",
   "id": "studied-hammer",
   "metadata": {
    "heading_collapsed": "true"
   },
   "source": [
    "## Bundesliga"
   ]
  },
  {
   "cell_type": "code",
   "execution_count": 12,
   "id": "enhanced-duplicate",
   "metadata": {},
   "outputs": [
    {
     "data": {
      "text/plain": [
       "{'Wolfsburg': 'Wolfsburg',\n",
       " 'Stuttgart': 'VfB Stuttgart',\n",
       " 'Nurnberg': 'Nürnberg',\n",
       " 'Schalke 04': 'Schalke 04',\n",
       " 'Werder Bremen': 'SV Werder',\n",
       " 'Ein Frankfurt': 'Frankfurt',\n",
       " 'Mainz': 'Mainz 05',\n",
       " 'Leverkusen': 'Leverkusen',\n",
       " 'Bochum': 'Bochum',\n",
       " \"M'gladbach\": \"M'gladbach\",\n",
       " 'Freiburg': 'SC Freiburg',\n",
       " 'Hamburg': 'Hamburger SV',\n",
       " 'Dortmund': 'Dortmund',\n",
       " 'Hoffenheim': 'Hoffenheim',\n",
       " 'FC Koln': '1.FC Köln',\n",
       " 'Hertha': 'Hertha BSC',\n",
       " 'Bayern Munich': 'FC Bayern',\n",
       " 'Hannover': 'Hannover 96',\n",
       " 'Kaiserslautern': \"K'lautern\",\n",
       " 'St Pauli': 'St. Pauli',\n",
       " 'Augsburg': 'Augsburg',\n",
       " 'Fortuna Dusseldorf': 'Düsseldorf',\n",
       " 'Greuther Furth': 'Gr. Fürth',\n",
       " 'Braunschweig': 'Braunschweig',\n",
       " 'Paderborn': 'Paderborn',\n",
       " 'Darmstadt': 'Darmstadt',\n",
       " 'Ingolstadt': 'Ingolstadt',\n",
       " 'RB Leipzig': 'RB Leipzig'}"
      ]
     },
     "execution_count": 12,
     "metadata": {},
     "output_type": "execute_result"
    }
   ],
   "source": [
    "league_dir = hub_dir / 'german-bundesliga_zip'\n",
    "\n",
    "actual_matches = pd.read_feather(league_dir / 'concat.feather')\n",
    "meta = load_meta(meta_dir)\n",
    "\n",
    "actual_matches = add_season_from_date(actual_matches, meta, 'Date')\n",
    "actual_matches['league'] = 'bundesliga'\n",
    "\n",
    "translation = match_teams_from_goals(actual_matches, meta, 'HomeTeam', 'AwayTeam', 'FTHG', 'FTAG', 'bundesliga', 'Date')\n",
    "translation"
   ]
  },
  {
   "cell_type": "code",
   "execution_count": 13,
   "id": "electrical-ferry",
   "metadata": {},
   "outputs": [],
   "source": [
    "actual_matches.HomeTeam.replace(translation, inplace=True)\n",
    "actual_matches.AwayTeam.replace(translation, inplace=True)\n",
    "actual_matches.to_feather(league_dir / 'translated.feather')"
   ]
  },
  {
   "cell_type": "markdown",
   "id": "unknown-montana",
   "metadata": {},
   "source": [
    "## Ligue 1"
   ]
  },
  {
   "cell_type": "code",
   "execution_count": 17,
   "id": "surprising-senate",
   "metadata": {},
   "outputs": [
    {
     "data": {
      "text/plain": [
       "{'Auxerre': 'Auxerre',\n",
       " 'Sochaux': 'Sochaux',\n",
       " 'Le Mans': 'Le Mans',\n",
       " 'Lyon': 'Lyon',\n",
       " 'Monaco': 'AS Monaco',\n",
       " 'Toulouse': 'Toulouse',\n",
       " 'Montpellier': 'Montpellier',\n",
       " 'Paris SG': 'PSG',\n",
       " 'Rennes': 'Rennes',\n",
       " 'Boulogne': 'US Boulogne',\n",
       " 'Valenciennes': 'VAFC',\n",
       " 'Nancy': 'AS Nancy',\n",
       " 'Lille': 'Lille',\n",
       " 'Lorient': 'Lorient',\n",
       " 'Bordeaux': 'Bordeaux',\n",
       " 'Lens': 'RC Lens',\n",
       " 'Grenoble': 'Grenoble',\n",
       " 'Nice': 'OGC Nizza',\n",
       " 'St Etienne': 'Saint-Étienne',\n",
       " 'Marseille': 'Marseille',\n",
       " 'Arles': 'AC Arles',\n",
       " 'Brest': 'Stade Brest',\n",
       " 'Caen': 'SM Caen',\n",
       " 'Ajaccio': 'AC Ajaccio',\n",
       " 'Dijon': 'Dijon FCO',\n",
       " 'Evian Thonon Gaillard': 'Thonon Évian FC',\n",
       " 'Troyes': 'ESTAC Troyes',\n",
       " 'Reims': 'Stade Reims',\n",
       " 'Bastia': 'Bastia',\n",
       " 'Guingamp': 'Guingamp',\n",
       " 'Nantes': 'FC Nantes',\n",
       " 'Metz': 'FC Metz',\n",
       " 'Angers': 'Angers',\n",
       " 'Ajaccio GFCO': 'GFC Ajaccio',\n",
       " 'Amiens': 'Amiens',\n",
       " 'Strasbourg': 'Strasbourg',\n",
       " 'Nimes': 'Nîmes'}"
      ]
     },
     "execution_count": 17,
     "metadata": {},
     "output_type": "execute_result"
    }
   ],
   "source": [
    "league_dir = hub_dir / 'french-ligue-1_zip'\n",
    "\n",
    "actual_matches = pd.read_feather(league_dir / 'concat.feather')\n",
    "meta = load_meta(meta_dir)\n",
    "\n",
    "actual_matches = add_season_from_date(actual_matches, meta, 'Date')\n",
    "actual_matches['league'] = 'league_one'\n",
    "\n",
    "translation = match_teams_from_goals(actual_matches, meta, 'HomeTeam', 'AwayTeam', 'FTHG', 'FTAG', 'league_one', 'Date')\n",
    "translation"
   ]
  },
  {
   "cell_type": "code",
   "execution_count": 18,
   "id": "brilliant-template",
   "metadata": {},
   "outputs": [],
   "source": [
    "actual_matches.HomeTeam.replace(translation, inplace=True)\n",
    "actual_matches.AwayTeam.replace(translation, inplace=True)\n",
    "actual_matches.to_feather(league_dir / 'translated.feather')"
   ]
  },
  {
   "cell_type": "markdown",
   "id": "hollywood-looking",
   "metadata": {},
   "source": [
    "## La Liga"
   ]
  },
  {
   "cell_type": "code",
   "execution_count": 20,
   "id": "cellular-modeling",
   "metadata": {},
   "outputs": [
    {
     "data": {
      "text/plain": [
       "{'Real Madrid': 'Real Madrid',\n",
       " 'La Coruna': 'Deportivo',\n",
       " 'Osasuna': 'Osasuna',\n",
       " 'Villarreal': 'Villarreal',\n",
       " 'Santander': 'Racing',\n",
       " 'Getafe': 'Getafe',\n",
       " 'Almeria': 'Almería',\n",
       " 'Valladolid': 'Valladolid',\n",
       " 'Barcelona': 'Barcelona',\n",
       " 'Espanol': 'Espanyol',\n",
       " 'Sevilla': 'FC Sevilla',\n",
       " 'Zaragoza': 'Zaragoza',\n",
       " 'Tenerife': 'Tenerife',\n",
       " 'Valencia': 'Valencia',\n",
       " 'Xerez': 'Xerez',\n",
       " 'Ath Bilbao': 'Athletic',\n",
       " 'Mallorca': 'Mallorca',\n",
       " 'Ath Madrid': 'Atlético',\n",
       " 'Sp Gijon': 'Sporting Gijón',\n",
       " 'Malaga': 'Málaga',\n",
       " 'Hercules': 'Hércules',\n",
       " 'Levante': 'Levante',\n",
       " 'Sociedad': 'S. Sebastian',\n",
       " 'Vallecano': 'Rayo',\n",
       " 'Granada': 'Granada CF',\n",
       " 'Betis': 'Betis Sevilla',\n",
       " 'Celta': 'RC Celta',\n",
       " 'Elche': 'Elche CF',\n",
       " 'Cordoba': 'Córdoba',\n",
       " 'Eibar': 'Eibar',\n",
       " 'Las Palmas': 'UD Las Palmas',\n",
       " 'Leganes': 'Leganés',\n",
       " 'Alaves': 'Alavés',\n",
       " 'Girona': 'Girona',\n",
       " 'Huesca': 'Huesca'}"
      ]
     },
     "execution_count": 20,
     "metadata": {},
     "output_type": "execute_result"
    }
   ],
   "source": [
    "league_dir = hub_dir / 'spanish-la-liga_zip'\n",
    "\n",
    "actual_matches = pd.read_feather(league_dir / 'concat.feather')\n",
    "meta = load_meta(meta_dir)\n",
    "\n",
    "actual_matches = add_season_from_date(actual_matches, meta, 'Date')\n",
    "actual_matches['league'] = 'primera_division'\n",
    "\n",
    "translation = match_teams_from_goals(actual_matches, meta, 'HomeTeam', 'AwayTeam', 'FTHG', 'FTAG', 'primera_division', 'Date')\n",
    "translation"
   ]
  },
  {
   "cell_type": "code",
   "execution_count": 21,
   "id": "protective-creation",
   "metadata": {},
   "outputs": [],
   "source": [
    "actual_matches.HomeTeam.replace(translation, inplace=True)\n",
    "actual_matches.AwayTeam.replace(translation, inplace=True)\n",
    "actual_matches.to_feather(league_dir / 'translated.feather')"
   ]
  },
  {
   "cell_type": "code",
   "execution_count": null,
   "id": "tough-reading",
   "metadata": {},
   "outputs": [],
   "source": []
  }
 ],
 "metadata": {
  "kernelspec": {
   "display_name": "Python 3",
   "language": "python",
   "name": "python3"
  },
  "language_info": {
   "codemirror_mode": {
    "name": "ipython",
    "version": 3
   },
   "file_extension": ".py",
   "mimetype": "text/x-python",
   "name": "python",
   "nbconvert_exporter": "python",
   "pygments_lexer": "ipython3",
   "version": "3.8.5"
  }
 },
 "nbformat": 4,
 "nbformat_minor": 5
}
