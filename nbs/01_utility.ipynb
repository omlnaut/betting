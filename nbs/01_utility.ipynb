{
 "cells": [
  {
   "cell_type": "code",
   "execution_count": null,
   "metadata": {},
   "outputs": [],
   "source": [
    "from nbdev import *\n",
    "# default_exp utility"
   ]
  },
  {
   "cell_type": "markdown",
   "metadata": {},
   "source": [
    "# Utility functions\n",
    "> Basic functions that didn't fit anywhere else"
   ]
  },
  {
   "cell_type": "markdown",
   "metadata": {},
   "source": [
    "## Multiprocessing"
   ]
  },
  {
   "cell_type": "code",
   "execution_count": null,
   "metadata": {},
   "outputs": [],
   "source": [
    "# export\n",
    "import multiprocessing as mp"
   ]
  },
  {
   "cell_type": "markdown",
   "metadata": {},
   "source": [
    "Python offers an easy way to have a function run on arguments of a list in parallel. Unfortunately, the jupyter environment (on windows?) does not support this feature (yet?). So in order to actually use multiprocessing, we have to write a traditional .py script which uses the below function."
   ]
  },
  {
   "cell_type": "code",
   "execution_count": null,
   "metadata": {},
   "outputs": [],
   "source": [
    "# exports\n",
    "def run_in_parallel(func, iterable, n_workers=6):\n",
    "    pool = mp.Pool(processes=n_workers)\n",
    "    return pool.map(func, iterable)"
   ]
  },
  {
   "cell_type": "markdown",
   "metadata": {},
   "source": [
    "## Pandas\n"
   ]
  },
  {
   "cell_type": "code",
   "execution_count": null,
   "metadata": {},
   "outputs": [],
   "source": [
    "# export\n",
    "import pandas as pd"
   ]
  },
  {
   "cell_type": "code",
   "execution_count": null,
   "metadata": {},
   "outputs": [
    {
     "data": {
      "text/html": [
       "<div>\n",
       "<style scoped>\n",
       "    .dataframe tbody tr th:only-of-type {\n",
       "        vertical-align: middle;\n",
       "    }\n",
       "\n",
       "    .dataframe tbody tr th {\n",
       "        vertical-align: top;\n",
       "    }\n",
       "\n",
       "    .dataframe thead th {\n",
       "        text-align: right;\n",
       "    }\n",
       "</style>\n",
       "<table border=\"1\" class=\"dataframe\">\n",
       "  <thead>\n",
       "    <tr style=\"text-align: right;\">\n",
       "      <th></th>\n",
       "      <th>A</th>\n",
       "      <th>B</th>\n",
       "      <th>C</th>\n",
       "    </tr>\n",
       "  </thead>\n",
       "  <tbody>\n",
       "    <tr>\n",
       "      <th>0</th>\n",
       "      <td>1</td>\n",
       "      <td>2</td>\n",
       "      <td>3</td>\n",
       "    </tr>\n",
       "    <tr>\n",
       "      <th>1</th>\n",
       "      <td>4</td>\n",
       "      <td>5</td>\n",
       "      <td>6</td>\n",
       "    </tr>\n",
       "  </tbody>\n",
       "</table>\n",
       "</div>"
      ],
      "text/plain": [
       "   A  B  C\n",
       "0  1  2  3\n",
       "1  4  5  6"
      ]
     },
     "execution_count": null,
     "metadata": {},
     "output_type": "execute_result"
    }
   ],
   "source": [
    "original = pd.DataFrame([[1,2,3], [4,5,6]], columns=['A','B','C'])\n",
    "original"
   ]
  },
  {
   "cell_type": "code",
   "execution_count": null,
   "metadata": {},
   "outputs": [
    {
     "data": {
      "text/html": [
       "<div>\n",
       "<style scoped>\n",
       "    .dataframe tbody tr th:only-of-type {\n",
       "        vertical-align: middle;\n",
       "    }\n",
       "\n",
       "    .dataframe tbody tr th {\n",
       "        vertical-align: top;\n",
       "    }\n",
       "\n",
       "    .dataframe thead th {\n",
       "        text-align: right;\n",
       "    }\n",
       "</style>\n",
       "<table border=\"1\" class=\"dataframe\">\n",
       "  <thead>\n",
       "    <tr style=\"text-align: right;\">\n",
       "      <th></th>\n",
       "      <th>A</th>\n",
       "      <th>B</th>\n",
       "      <th>E</th>\n",
       "      <th>F</th>\n",
       "    </tr>\n",
       "  </thead>\n",
       "  <tbody>\n",
       "    <tr>\n",
       "      <th>0</th>\n",
       "      <td>1</td>\n",
       "      <td>2</td>\n",
       "      <td>9</td>\n",
       "      <td>10</td>\n",
       "    </tr>\n",
       "    <tr>\n",
       "      <th>1</th>\n",
       "      <td>4</td>\n",
       "      <td>5</td>\n",
       "      <td>13</td>\n",
       "      <td>14</td>\n",
       "    </tr>\n",
       "    <tr>\n",
       "      <th>2</th>\n",
       "      <td>4</td>\n",
       "      <td>6</td>\n",
       "      <td>13</td>\n",
       "      <td>14</td>\n",
       "    </tr>\n",
       "  </tbody>\n",
       "</table>\n",
       "</div>"
      ],
      "text/plain": [
       "   A  B   E   F\n",
       "0  1  2   9  10\n",
       "1  4  5  13  14\n",
       "2  4  6  13  14"
      ]
     },
     "execution_count": null,
     "metadata": {},
     "output_type": "execute_result"
    }
   ],
   "source": [
    "additional = pd.DataFrame([[1,2,9,10], [4,5,13,14], [4,6,13,14]], columns=['A','B','E','F'])\n",
    "additional.head()"
   ]
  },
  {
   "cell_type": "code",
   "execution_count": null,
   "metadata": {},
   "outputs": [],
   "source": [
    "# export\n",
    "def overlapping_cols(df1, df2):\n",
    "    return [col1 for col1 in df1.columns if col1 in df2.columns]\n",
    "\n",
    "\n",
    "def merge_with_prefix(original, additional, prefix, left_on=None, right_on=None, drop_additional=False):\n",
    "    assert not ((left_on is not None) ^ (right_on is not None)), \"Leave both left_on and right_on as None to merge over all columns with the same name or specify both.\"\n",
    "    \n",
    "    if right_on is None:\n",
    "        left_on = overlapping_cols(original, additional)\n",
    "        right_on = left_on\n",
    "        \n",
    "    col_renamer = {col: prefix+col for col in additional.columns if not col in right_on}\n",
    "    to_merge = additional.rename(col_renamer, axis='columns')\n",
    "\n",
    "    merged = pd.merge(original, to_merge, left_on=left_on, right_on=right_on)\n",
    "    \n",
    "    if drop_additional:\n",
    "        to_drop = [col for col in right_on if not col in left_on]\n",
    "        merged.drop(columns=to_drop, inplace=True)\n",
    "    \n",
    "    return merged"
   ]
  },
  {
   "cell_type": "code",
   "execution_count": null,
   "metadata": {},
   "outputs": [
    {
     "data": {
      "text/html": [
       "<div>\n",
       "<style scoped>\n",
       "    .dataframe tbody tr th:only-of-type {\n",
       "        vertical-align: middle;\n",
       "    }\n",
       "\n",
       "    .dataframe tbody tr th {\n",
       "        vertical-align: top;\n",
       "    }\n",
       "\n",
       "    .dataframe thead th {\n",
       "        text-align: right;\n",
       "    }\n",
       "</style>\n",
       "<table border=\"1\" class=\"dataframe\">\n",
       "  <thead>\n",
       "    <tr style=\"text-align: right;\">\n",
       "      <th></th>\n",
       "      <th>A</th>\n",
       "      <th>B</th>\n",
       "      <th>C</th>\n",
       "      <th>home_E</th>\n",
       "      <th>home_F</th>\n",
       "    </tr>\n",
       "  </thead>\n",
       "  <tbody>\n",
       "    <tr>\n",
       "      <th>0</th>\n",
       "      <td>1</td>\n",
       "      <td>2</td>\n",
       "      <td>3</td>\n",
       "      <td>9</td>\n",
       "      <td>10</td>\n",
       "    </tr>\n",
       "    <tr>\n",
       "      <th>1</th>\n",
       "      <td>4</td>\n",
       "      <td>5</td>\n",
       "      <td>6</td>\n",
       "      <td>13</td>\n",
       "      <td>14</td>\n",
       "    </tr>\n",
       "  </tbody>\n",
       "</table>\n",
       "</div>"
      ],
      "text/plain": [
       "   A  B  C  home_E  home_F\n",
       "0  1  2  3       9      10\n",
       "1  4  5  6      13      14"
      ]
     },
     "execution_count": null,
     "metadata": {},
     "output_type": "execute_result"
    }
   ],
   "source": [
    "merge_with_prefix(original, additional, 'home_')"
   ]
  },
  {
   "cell_type": "code",
   "execution_count": null,
   "metadata": {},
   "outputs": [
    {
     "data": {
      "text/html": [
       "<div>\n",
       "<style scoped>\n",
       "    .dataframe tbody tr th:only-of-type {\n",
       "        vertical-align: middle;\n",
       "    }\n",
       "\n",
       "    .dataframe tbody tr th {\n",
       "        vertical-align: top;\n",
       "    }\n",
       "\n",
       "    .dataframe thead th {\n",
       "        text-align: right;\n",
       "    }\n",
       "</style>\n",
       "<table border=\"1\" class=\"dataframe\">\n",
       "  <thead>\n",
       "    <tr style=\"text-align: right;\">\n",
       "      <th></th>\n",
       "      <th>A</th>\n",
       "      <th>B</th>\n",
       "      <th>C</th>\n",
       "      <th>one_B</th>\n",
       "      <th>one_E</th>\n",
       "      <th>one_F</th>\n",
       "    </tr>\n",
       "  </thead>\n",
       "  <tbody>\n",
       "    <tr>\n",
       "      <th>0</th>\n",
       "      <td>1</td>\n",
       "      <td>2</td>\n",
       "      <td>3</td>\n",
       "      <td>2</td>\n",
       "      <td>9</td>\n",
       "      <td>10</td>\n",
       "    </tr>\n",
       "    <tr>\n",
       "      <th>1</th>\n",
       "      <td>4</td>\n",
       "      <td>5</td>\n",
       "      <td>6</td>\n",
       "      <td>5</td>\n",
       "      <td>13</td>\n",
       "      <td>14</td>\n",
       "    </tr>\n",
       "    <tr>\n",
       "      <th>2</th>\n",
       "      <td>4</td>\n",
       "      <td>5</td>\n",
       "      <td>6</td>\n",
       "      <td>6</td>\n",
       "      <td>13</td>\n",
       "      <td>14</td>\n",
       "    </tr>\n",
       "  </tbody>\n",
       "</table>\n",
       "</div>"
      ],
      "text/plain": [
       "   A  B  C  one_B  one_E  one_F\n",
       "0  1  2  3      2      9     10\n",
       "1  4  5  6      5     13     14\n",
       "2  4  5  6      6     13     14"
      ]
     },
     "execution_count": null,
     "metadata": {},
     "output_type": "execute_result"
    }
   ],
   "source": [
    "merge_with_prefix(original, additional, 'one_', left_on=['A'], right_on=['A'])"
   ]
  },
  {
   "cell_type": "code",
   "execution_count": null,
   "metadata": {},
   "outputs": [
    {
     "data": {
      "text/html": [
       "<div>\n",
       "<style scoped>\n",
       "    .dataframe tbody tr th:only-of-type {\n",
       "        vertical-align: middle;\n",
       "    }\n",
       "\n",
       "    .dataframe tbody tr th {\n",
       "        vertical-align: top;\n",
       "    }\n",
       "\n",
       "    .dataframe thead th {\n",
       "        text-align: right;\n",
       "    }\n",
       "</style>\n",
       "<table border=\"1\" class=\"dataframe\">\n",
       "  <thead>\n",
       "    <tr style=\"text-align: right;\">\n",
       "      <th></th>\n",
       "      <th>A</th>\n",
       "      <th>B</th>\n",
       "      <th>C</th>\n",
       "      <th>two_E</th>\n",
       "      <th>two_F</th>\n",
       "    </tr>\n",
       "  </thead>\n",
       "  <tbody>\n",
       "    <tr>\n",
       "      <th>0</th>\n",
       "      <td>1</td>\n",
       "      <td>2</td>\n",
       "      <td>3</td>\n",
       "      <td>9</td>\n",
       "      <td>10</td>\n",
       "    </tr>\n",
       "    <tr>\n",
       "      <th>1</th>\n",
       "      <td>4</td>\n",
       "      <td>5</td>\n",
       "      <td>6</td>\n",
       "      <td>13</td>\n",
       "      <td>14</td>\n",
       "    </tr>\n",
       "  </tbody>\n",
       "</table>\n",
       "</div>"
      ],
      "text/plain": [
       "   A  B  C  two_E  two_F\n",
       "0  1  2  3      9     10\n",
       "1  4  5  6     13     14"
      ]
     },
     "execution_count": null,
     "metadata": {},
     "output_type": "execute_result"
    }
   ],
   "source": [
    "merge_with_prefix(original, additional, 'two_', left_on=['A', 'B'], right_on=['A', 'B'])"
   ]
  },
  {
   "cell_type": "code",
   "execution_count": null,
   "metadata": {},
   "outputs": [
    {
     "data": {
      "text/html": [
       "<div>\n",
       "<style scoped>\n",
       "    .dataframe tbody tr th:only-of-type {\n",
       "        vertical-align: middle;\n",
       "    }\n",
       "\n",
       "    .dataframe tbody tr th {\n",
       "        vertical-align: top;\n",
       "    }\n",
       "\n",
       "    .dataframe thead th {\n",
       "        text-align: right;\n",
       "    }\n",
       "</style>\n",
       "<table border=\"1\" class=\"dataframe\">\n",
       "  <thead>\n",
       "    <tr style=\"text-align: right;\">\n",
       "      <th></th>\n",
       "      <th>A</th>\n",
       "      <th>B</th>\n",
       "      <th>C</th>\n",
       "    </tr>\n",
       "  </thead>\n",
       "  <tbody>\n",
       "    <tr>\n",
       "      <th>0</th>\n",
       "      <td>1</td>\n",
       "      <td>2</td>\n",
       "      <td>3</td>\n",
       "    </tr>\n",
       "    <tr>\n",
       "      <th>1</th>\n",
       "      <td>4</td>\n",
       "      <td>5</td>\n",
       "      <td>6</td>\n",
       "    </tr>\n",
       "  </tbody>\n",
       "</table>\n",
       "</div>"
      ],
      "text/plain": [
       "   A  B  C\n",
       "0  1  2  3\n",
       "1  4  5  6"
      ]
     },
     "execution_count": null,
     "metadata": {},
     "output_type": "execute_result"
    }
   ],
   "source": [
    "original"
   ]
  },
  {
   "cell_type": "code",
   "execution_count": null,
   "metadata": {},
   "outputs": [
    {
     "data": {
      "text/html": [
       "<div>\n",
       "<style scoped>\n",
       "    .dataframe tbody tr th:only-of-type {\n",
       "        vertical-align: middle;\n",
       "    }\n",
       "\n",
       "    .dataframe tbody tr th {\n",
       "        vertical-align: top;\n",
       "    }\n",
       "\n",
       "    .dataframe thead th {\n",
       "        text-align: right;\n",
       "    }\n",
       "</style>\n",
       "<table border=\"1\" class=\"dataframe\">\n",
       "  <thead>\n",
       "    <tr style=\"text-align: right;\">\n",
       "      <th></th>\n",
       "      <th>D</th>\n",
       "      <th>E</th>\n",
       "      <th>F</th>\n",
       "    </tr>\n",
       "  </thead>\n",
       "  <tbody>\n",
       "    <tr>\n",
       "      <th>0</th>\n",
       "      <td>4</td>\n",
       "      <td>7</td>\n",
       "      <td>8</td>\n",
       "    </tr>\n",
       "  </tbody>\n",
       "</table>\n",
       "</div>"
      ],
      "text/plain": [
       "   D  E  F\n",
       "0  4  7  8"
      ]
     },
     "execution_count": null,
     "metadata": {},
     "output_type": "execute_result"
    }
   ],
   "source": [
    "different_names = pd.DataFrame([[4,7,8]], columns=['D', 'E', 'F'])\n",
    "different_names"
   ]
  },
  {
   "cell_type": "code",
   "execution_count": null,
   "metadata": {},
   "outputs": [
    {
     "data": {
      "text/html": [
       "<div>\n",
       "<style scoped>\n",
       "    .dataframe tbody tr th:only-of-type {\n",
       "        vertical-align: middle;\n",
       "    }\n",
       "\n",
       "    .dataframe tbody tr th {\n",
       "        vertical-align: top;\n",
       "    }\n",
       "\n",
       "    .dataframe thead th {\n",
       "        text-align: right;\n",
       "    }\n",
       "</style>\n",
       "<table border=\"1\" class=\"dataframe\">\n",
       "  <thead>\n",
       "    <tr style=\"text-align: right;\">\n",
       "      <th></th>\n",
       "      <th>A</th>\n",
       "      <th>B</th>\n",
       "      <th>C</th>\n",
       "      <th>D</th>\n",
       "      <th>other_E</th>\n",
       "      <th>other_F</th>\n",
       "    </tr>\n",
       "  </thead>\n",
       "  <tbody>\n",
       "    <tr>\n",
       "      <th>0</th>\n",
       "      <td>4</td>\n",
       "      <td>5</td>\n",
       "      <td>6</td>\n",
       "      <td>4</td>\n",
       "      <td>7</td>\n",
       "      <td>8</td>\n",
       "    </tr>\n",
       "  </tbody>\n",
       "</table>\n",
       "</div>"
      ],
      "text/plain": [
       "   A  B  C  D  other_E  other_F\n",
       "0  4  5  6  4        7        8"
      ]
     },
     "execution_count": null,
     "metadata": {},
     "output_type": "execute_result"
    }
   ],
   "source": [
    "merge_with_prefix(original, different_names, 'other_', left_on=['A'], right_on=['D'])"
   ]
  },
  {
   "cell_type": "code",
   "execution_count": null,
   "metadata": {},
   "outputs": [
    {
     "data": {
      "text/html": [
       "<div>\n",
       "<style scoped>\n",
       "    .dataframe tbody tr th:only-of-type {\n",
       "        vertical-align: middle;\n",
       "    }\n",
       "\n",
       "    .dataframe tbody tr th {\n",
       "        vertical-align: top;\n",
       "    }\n",
       "\n",
       "    .dataframe thead th {\n",
       "        text-align: right;\n",
       "    }\n",
       "</style>\n",
       "<table border=\"1\" class=\"dataframe\">\n",
       "  <thead>\n",
       "    <tr style=\"text-align: right;\">\n",
       "      <th></th>\n",
       "      <th>A</th>\n",
       "      <th>B</th>\n",
       "      <th>C</th>\n",
       "      <th>other_E</th>\n",
       "      <th>other_F</th>\n",
       "    </tr>\n",
       "  </thead>\n",
       "  <tbody>\n",
       "    <tr>\n",
       "      <th>0</th>\n",
       "      <td>4</td>\n",
       "      <td>5</td>\n",
       "      <td>6</td>\n",
       "      <td>7</td>\n",
       "      <td>8</td>\n",
       "    </tr>\n",
       "  </tbody>\n",
       "</table>\n",
       "</div>"
      ],
      "text/plain": [
       "   A  B  C  other_E  other_F\n",
       "0  4  5  6        7        8"
      ]
     },
     "execution_count": null,
     "metadata": {},
     "output_type": "execute_result"
    }
   ],
   "source": [
    "merge_with_prefix(original, different_names, 'other_', left_on=['A'], right_on=['D'], drop_additional=True)"
   ]
  },
  {
   "cell_type": "markdown",
   "metadata": {},
   "source": [
    "## Translation with SequenceMatcher"
   ]
  },
  {
   "cell_type": "code",
   "execution_count": null,
   "metadata": {},
   "outputs": [],
   "source": [
    "# export\n",
    "import numpy as np\n",
    "from difflib import SequenceMatcher"
   ]
  },
  {
   "cell_type": "code",
   "execution_count": null,
   "metadata": {},
   "outputs": [],
   "source": [
    "actuals = ['Bayern Munich', 'Wolfsburg', 'Schalke', 'Nurnberg', 'Mainz', 'Hansa Rostock', 'B. Monchengladbach', 'Bochum', 'Hannover', 'Kaiserslautern', 'VfB Stuttgart', 'Hamburger SV', 'Freiburg', 'Bayer Leverkusen', 'Dortmund', 'Arminia Bielefeld', 'Hertha Berlin', 'Werder Bremen', 'Duisburg', 'Eintracht Frankfurt', 'Alemannia Aachen', 'Energie Cottbus', 'Karlsruher', 'Hoffenheim', 'Augsburg', 'Greuther Furth', 'Dusseldorf', 'Braunschweig', 'Paderborn', 'Köln']\n",
    "targets = ['SV Werder', 'Leverkusen', 'FC Bayern', 'Hamburger SV', 'Schalke 04', '1.FC Köln', 'Dortmund', 'Hannover 96', 'Hertha BSC', 'Wolfsburg', 'Duisburg', 'VfB Stuttgart', \"K'lautern\", 'Mainz 05', 'Bielefeld', 'Frankfurt', 'Nürnberg', \"M'gladbach\", 'Bochum', 'Cottbus', 'Aachen', 'Karlsruhe', 'Rostock', 'Hoffenheim', 'SC Freiburg', 'St. Pauli', 'Augsburg', 'Düsseldorf', 'Gr. Fürth', 'Braunschweig', 'Paderborn', 'Ingolstadt', 'Darmstadt', 'RB Leipzig', 'Union Berlin']"
   ]
  },
  {
   "cell_type": "code",
   "execution_count": null,
   "metadata": {},
   "outputs": [],
   "source": [
    "# export\n",
    "def similar_score(a, b):\n",
    "    return SequenceMatcher(None, a, b).ratio()\n",
    "\n",
    "def similar_n(actual, targets, n=5):\n",
    "    scores = np.array([similar_score(actual, target) for target in targets])\n",
    "    ids = scores.argsort()[-n:]\n",
    "    return [targets[id] for id in reversed(ids)]"
   ]
  },
  {
   "cell_type": "code",
   "execution_count": null,
   "metadata": {},
   "outputs": [
    {
     "data": {
      "text/plain": [
       "'Bayern Munich'"
      ]
     },
     "execution_count": null,
     "metadata": {},
     "output_type": "execute_result"
    }
   ],
   "source": [
    "actuals[0]"
   ]
  },
  {
   "cell_type": "code",
   "execution_count": null,
   "metadata": {},
   "outputs": [
    {
     "data": {
      "text/plain": [
       "['FC Bayern', 'Braunschweig', 'Paderborn', \"K'lautern\", 'Hannover 96']"
      ]
     },
     "execution_count": null,
     "metadata": {},
     "output_type": "execute_result"
    }
   ],
   "source": [
    "similar_n(actuals[0], targets)"
   ]
  },
  {
   "cell_type": "code",
   "execution_count": null,
   "metadata": {},
   "outputs": [],
   "source": [
    "# export\n",
    "def create_translation(actuals, targets):\n",
    "    return {actual: similar_n(actual, targets, n=1)[0] for actual in actuals}"
   ]
  },
  {
   "cell_type": "code",
   "execution_count": null,
   "metadata": {},
   "outputs": [
    {
     "data": {
      "text/plain": [
       "{'Bayern Munich': 'FC Bayern',\n",
       " 'Wolfsburg': 'Wolfsburg',\n",
       " 'Schalke': 'Schalke 04',\n",
       " 'Nurnberg': 'Nürnberg',\n",
       " 'Mainz': 'Mainz 05',\n",
       " 'Hansa Rostock': 'Rostock',\n",
       " 'B. Monchengladbach': \"M'gladbach\",\n",
       " 'Bochum': 'Bochum',\n",
       " 'Hannover': 'Hannover 96',\n",
       " 'Kaiserslautern': \"K'lautern\",\n",
       " 'VfB Stuttgart': 'VfB Stuttgart',\n",
       " 'Hamburger SV': 'Hamburger SV',\n",
       " 'Freiburg': 'SC Freiburg',\n",
       " 'Bayer Leverkusen': 'Leverkusen',\n",
       " 'Dortmund': 'Dortmund',\n",
       " 'Arminia Bielefeld': 'Bielefeld',\n",
       " 'Hertha Berlin': 'Hertha BSC',\n",
       " 'Werder Bremen': 'SV Werder',\n",
       " 'Duisburg': 'Duisburg',\n",
       " 'Eintracht Frankfurt': 'Frankfurt',\n",
       " 'Alemannia Aachen': 'Aachen',\n",
       " 'Energie Cottbus': 'Cottbus',\n",
       " 'Karlsruher': 'Karlsruhe',\n",
       " 'Hoffenheim': 'Hoffenheim',\n",
       " 'Augsburg': 'Augsburg',\n",
       " 'Greuther Furth': 'Gr. Fürth',\n",
       " 'Dusseldorf': 'Düsseldorf',\n",
       " 'Braunschweig': 'Braunschweig',\n",
       " 'Paderborn': 'Paderborn',\n",
       " 'Köln': '1.FC Köln'}"
      ]
     },
     "execution_count": null,
     "metadata": {},
     "output_type": "execute_result"
    }
   ],
   "source": [
    "translation = create_translation(actuals, targets)\n",
    "translation"
   ]
  },
  {
   "cell_type": "code",
   "execution_count": null,
   "metadata": {},
   "outputs": [],
   "source": [
    "# export\n",
    "def reverse_dict(d):\n",
    "    return {value: key for key,value in d.items()}"
   ]
  },
  {
   "cell_type": "code",
   "execution_count": null,
   "metadata": {},
   "outputs": [
    {
     "data": {
      "text/plain": [
       "{'FC Bayern': 'Bayern Munich',\n",
       " 'Wolfsburg': 'Wolfsburg',\n",
       " 'Schalke 04': 'Schalke',\n",
       " 'Nürnberg': 'Nurnberg',\n",
       " 'Mainz 05': 'Mainz',\n",
       " 'Rostock': 'Hansa Rostock',\n",
       " \"M'gladbach\": 'B. Monchengladbach',\n",
       " 'Bochum': 'Bochum',\n",
       " 'Hannover 96': 'Hannover',\n",
       " \"K'lautern\": 'Kaiserslautern',\n",
       " 'VfB Stuttgart': 'VfB Stuttgart',\n",
       " 'Hamburger SV': 'Hamburger SV',\n",
       " 'SC Freiburg': 'Freiburg',\n",
       " 'Leverkusen': 'Bayer Leverkusen',\n",
       " 'Dortmund': 'Dortmund',\n",
       " 'Bielefeld': 'Arminia Bielefeld',\n",
       " 'Hertha BSC': 'Hertha Berlin',\n",
       " 'SV Werder': 'Werder Bremen',\n",
       " 'Duisburg': 'Duisburg',\n",
       " 'Frankfurt': 'Eintracht Frankfurt',\n",
       " 'Aachen': 'Alemannia Aachen',\n",
       " 'Cottbus': 'Energie Cottbus',\n",
       " 'Karlsruhe': 'Karlsruher',\n",
       " 'Hoffenheim': 'Hoffenheim',\n",
       " 'Augsburg': 'Augsburg',\n",
       " 'Gr. Fürth': 'Greuther Furth',\n",
       " 'Düsseldorf': 'Dusseldorf',\n",
       " 'Braunschweig': 'Braunschweig',\n",
       " 'Paderborn': 'Paderborn',\n",
       " '1.FC Köln': 'Köln'}"
      ]
     },
     "execution_count": null,
     "metadata": {},
     "output_type": "execute_result"
    }
   ],
   "source": [
    "reverse_dict(translation)"
   ]
  },
  {
   "cell_type": "markdown",
   "metadata": {},
   "source": [
    "## Export"
   ]
  },
  {
   "cell_type": "code",
   "execution_count": null,
   "metadata": {},
   "outputs": [
    {
     "name": "stdout",
     "output_type": "stream",
     "text": [
      "Converted 00_scraping.ipynb.\n",
      "Converted 01_utility.ipynb.\n",
      "Converted 02_data.ipynb.\n",
      "Converted 03_sportde.ipynb.\n",
      "Converted 04_feature_engineering.ipynb.\n",
      "Converted index.ipynb.\n"
     ]
    }
   ],
   "source": [
    "#hide\n",
    "from nbdev.export import *\n",
    "notebook2script()"
   ]
  },
  {
   "cell_type": "code",
   "execution_count": null,
   "metadata": {},
   "outputs": [],
   "source": []
  }
 ],
 "metadata": {
  "kernelspec": {
   "display_name": "Python 3",
   "language": "python",
   "name": "python3"
  }
 },
 "nbformat": 4,
 "nbformat_minor": 4
}
