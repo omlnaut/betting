{
 "cells": [
  {
   "cell_type": "code",
   "execution_count": 1,
   "id": "speaking-production",
   "metadata": {},
   "outputs": [],
   "source": [
    "%load_ext autoreload\n",
    "%autoreload 2"
   ]
  },
  {
   "cell_type": "code",
   "execution_count": 2,
   "id": "august-insert",
   "metadata": {},
   "outputs": [],
   "source": [
    "import pandas as pd\n",
    "from pathlib import Path"
   ]
  },
  {
   "cell_type": "markdown",
   "id": "monetary-embassy",
   "metadata": {},
   "source": [
    "# Cleaning of datahub data"
   ]
  },
  {
   "cell_type": "code",
   "execution_count": 4,
   "id": "signed-louisville",
   "metadata": {},
   "outputs": [],
   "source": [
    "data_dir = Path('../../../data/datahub')"
   ]
  },
  {
   "cell_type": "code",
   "execution_count": 24,
   "id": "sexual-oriental",
   "metadata": {},
   "outputs": [],
   "source": [
    "odds_cols = ['B365H', 'B365D', 'B365A']\n",
    "to_keep = ['Div', 'Date', 'HomeTeam', 'AwayTeam', 'FTHG', 'FTAG'] + odds_cols"
   ]
  },
  {
   "cell_type": "code",
   "execution_count": 53,
   "id": "posted-ecology",
   "metadata": {},
   "outputs": [
    {
     "name": "stdout",
     "output_type": "stream",
     "text": [
      "..\\..\\..\\data\\datahub\\english-premier-league_zip\n",
      "..\\..\\..\\data\\datahub\\french-ligue-1_zip\n",
      "..\\..\\..\\data\\datahub\\german-bundesliga_zip\n",
      "..\\..\\..\\data\\datahub\\italian-serie-a_zip\n",
      "..\\..\\..\\data\\datahub\\spanish-la-liga_zip\n"
     ]
    }
   ],
   "source": [
    "for league_dir in data_dir.glob('*_zip'):\n",
    "    print(league_dir)\n",
    "    dfs = []\n",
    "    for csv_path in league_dir.glob('data/*.csv'):\n",
    "        df = pd.read_csv(csv_path)\n",
    "        try:\n",
    "            df.Date = pd.to_datetime(df.Date, format='%d/%m/%y')\n",
    "        except:\n",
    "            try:\n",
    "                df.Date = pd.to_datetime(df.Date, format='%Y-%m-%d')\n",
    "            except:\n",
    "                df.Date = pd.to_datetime(df.Date, format='%d/%m/%Y')\n",
    "        df.dropna(subset=odds_cols, inplace=True)\n",
    "        dfs.append(df.loc[:,to_keep].copy())\n",
    "\n",
    "    concat = pd.concat(dfs)\n",
    "    concat.reset_index(inplace=True)\n",
    "    concat.to_feather(league_dir/'concat.feather')"
   ]
  },
  {
   "cell_type": "code",
   "execution_count": null,
   "id": "respiratory-probability",
   "metadata": {},
   "outputs": [],
   "source": []
  }
 ],
 "metadata": {
  "kernelspec": {
   "display_name": "Python 3",
   "language": "python",
   "name": "python3"
  },
  "language_info": {
   "codemirror_mode": {
    "name": "ipython",
    "version": 3
   },
   "file_extension": ".py",
   "mimetype": "text/x-python",
   "name": "python",
   "nbconvert_exporter": "python",
   "pygments_lexer": "ipython3",
   "version": "3.8.5"
  }
 },
 "nbformat": 4,
 "nbformat_minor": 5
}
