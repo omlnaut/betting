{
 "cells": [
  {
   "cell_type": "code",
   "execution_count": null,
   "metadata": {},
   "outputs": [],
   "source": [
    "%load_ext autoreload\n",
    "%autoreload 2"
   ]
  },
  {
   "cell_type": "code",
   "execution_count": null,
   "metadata": {},
   "outputs": [],
   "source": [
    "# default_exp data.sportde"
   ]
  },
  {
   "cell_type": "code",
   "execution_count": null,
   "metadata": {},
   "outputs": [],
   "source": [
    "# export\n",
    "from betting.scraping import *\n",
    "import re\n",
    "from datetime import datetime\n",
    "import pandas as pd"
   ]
  },
  {
   "cell_type": "code",
   "execution_count": null,
   "metadata": {},
   "outputs": [],
   "source": [
    "from pathlib import Path\n",
    "import os"
   ]
  },
  {
   "cell_type": "markdown",
   "metadata": {},
   "source": [
    "# Sport.de\n",
    "> Standings, points, matchday information"
   ]
  },
  {
   "cell_type": "markdown",
   "metadata": {},
   "source": [
    "Calculating points and standings from raw (and noisy) match data seems to be too prone to error. It's not rare that there are missing matches in 'complete' datasets. Therefore, accurate information about points, standings and matchdays is needed. Thankfully, sports.de offers a clean html representation of such data that is easily parseable."
   ]
  },
  {
   "cell_type": "code",
   "execution_count": null,
   "metadata": {},
   "outputs": [],
   "source": [
    "# export\n",
    "BASE_URL = 'https://www.sport.de'"
   ]
  },
  {
   "cell_type": "code",
   "execution_count": null,
   "metadata": {},
   "outputs": [],
   "source": [
    "league_example_url = BASE_URL + '/fussball/england-premier-league/se36131/2020-2021/ergebnisse-und-tabelle/'\n",
    "\n",
    "league_example_bs = cache(league_example_url, 'league_example_premiera')"
   ]
  },
  {
   "cell_type": "markdown",
   "metadata": {},
   "source": [
    "## Season links"
   ]
  },
  {
   "cell_type": "markdown",
   "metadata": {},
   "source": [
    "From any result page for a league, links to all the seasons can be extracted."
   ]
  },
  {
   "cell_type": "code",
   "execution_count": null,
   "metadata": {},
   "outputs": [],
   "source": [
    "# export\n",
    "def season_links_from_page(bs):\n",
    "    select_element = bs.find_all('select', {'class': 'navigation season-navigation'})[0]\n",
    "    seasons_urls = {}\n",
    "\n",
    "    for option in select_element.find_all('option'):\n",
    "        match = re.match(r'''/fussball/[^/]+/.+/(\\d\\d\\d\\d-\\d\\d\\d\\d)/ergebnisse-und-tabelle/''', option['value'])\n",
    "        if match is None:\n",
    "            print(option['value'])\n",
    "            continue\n",
    "        url = match.group(0)\n",
    "        season = match.group(1)\n",
    "        if int(season[:4])<1950: continue\n",
    "        season = season[2] + season[3] + season[7] + season[8]\n",
    "        seasons_urls[season] = BASE_URL + url\n",
    "\n",
    "    return seasons_urls"
   ]
  },
  {
   "cell_type": "code",
   "execution_count": null,
   "metadata": {},
   "outputs": [
    {
     "data": {
      "text/plain": [
       "{'2021': 'https://www.sport.de/fussball/england-premier-league/se36131/2020-2021/ergebnisse-und-tabelle/',\n",
       " '1920': 'https://www.sport.de/fussball/england-premier-league/se31730/2019-2020/ergebnisse-und-tabelle/',\n",
       " '1819': 'https://www.sport.de/fussball/england-premier-league/se28514/2018-2019/ergebnisse-und-tabelle/',\n",
       " '1718': 'https://www.sport.de/fussball/england-premier-league/se23911/2017-2018/ergebnisse-und-tabelle/',\n",
       " '1617': 'https://www.sport.de/fussball/england-premier-league/se20827/2016-2017/ergebnisse-und-tabelle/',\n",
       " '1516': 'https://www.sport.de/fussball/england-premier-league/se18350/2015-2016/ergebnisse-und-tabelle/',\n",
       " '1415': 'https://www.sport.de/fussball/england-premier-league/se15390/2014-2015/ergebnisse-und-tabelle/',\n",
       " '1314': 'https://www.sport.de/fussball/england-premier-league/se11979/2013-2014/ergebnisse-und-tabelle/',\n",
       " '1213': 'https://www.sport.de/fussball/england-premier-league/se9032/2012-2013/ergebnisse-und-tabelle/',\n",
       " '1112': 'https://www.sport.de/fussball/england-premier-league/se7119/2011-2012/ergebnisse-und-tabelle/',\n",
       " '1011': 'https://www.sport.de/fussball/england-premier-league/se2437/2010-2011/ergebnisse-und-tabelle/',\n",
       " '0910': 'https://www.sport.de/fussball/england-premier-league/se1418/2009-2010/ergebnisse-und-tabelle/',\n",
       " '0809': 'https://www.sport.de/fussball/england-premier-league/se91/2008-2009/ergebnisse-und-tabelle/',\n",
       " '0708': 'https://www.sport.de/fussball/england-premier-league/se5111/2007-2008/ergebnisse-und-tabelle/',\n",
       " '0607': 'https://www.sport.de/fussball/england-premier-league/se4411/2006-2007/ergebnisse-und-tabelle/',\n",
       " '0506': 'https://www.sport.de/fussball/england-premier-league/se4051/2005-2006/ergebnisse-und-tabelle/',\n",
       " '0405': 'https://www.sport.de/fussball/england-premier-league/se3804/2004-2005/ergebnisse-und-tabelle/',\n",
       " '0304': 'https://www.sport.de/fussball/england-premier-league/se3170/2003-2004/ergebnisse-und-tabelle/',\n",
       " '0203': 'https://www.sport.de/fussball/england-premier-league/se2751/2002-2003/ergebnisse-und-tabelle/',\n",
       " '0102': 'https://www.sport.de/fussball/england-premier-league/se2690/2001-2002/ergebnisse-und-tabelle/',\n",
       " '0001': 'https://www.sport.de/fussball/england-premier-league/se3243/2000-2001/ergebnisse-und-tabelle/',\n",
       " '9900': 'https://www.sport.de/fussball/england-premier-league/se3244/1999-2000/ergebnisse-und-tabelle/',\n",
       " '9899': 'https://www.sport.de/fussball/england-premier-league/se3245/1998-1999/ergebnisse-und-tabelle/',\n",
       " '9798': 'https://www.sport.de/fussball/england-premier-league/se3246/1997-1998/ergebnisse-und-tabelle/',\n",
       " '9697': 'https://www.sport.de/fussball/england-premier-league/se3285/1996-1997/ergebnisse-und-tabelle/',\n",
       " '9596': 'https://www.sport.de/fussball/england-premier-league/se3286/1995-1996/ergebnisse-und-tabelle/',\n",
       " '9495': 'https://www.sport.de/fussball/england-premier-league/se3937/1994-1995/ergebnisse-und-tabelle/',\n",
       " '9394': 'https://www.sport.de/fussball/england-premier-league/se3938/1993-1994/ergebnisse-und-tabelle/',\n",
       " '9293': 'https://www.sport.de/fussball/england-premier-league/se4726/1992-1993/ergebnisse-und-tabelle/',\n",
       " '9192': 'https://www.sport.de/fussball/england-premier-league/se4725/1991-1992/ergebnisse-und-tabelle/',\n",
       " '9091': 'https://www.sport.de/fussball/england-premier-league/se4724/1990-1991/ergebnisse-und-tabelle/',\n",
       " '8990': 'https://www.sport.de/fussball/england-premier-league/se4723/1989-1990/ergebnisse-und-tabelle/',\n",
       " '8889': 'https://www.sport.de/fussball/england-premier-league/se4722/1988-1989/ergebnisse-und-tabelle/',\n",
       " '8788': 'https://www.sport.de/fussball/england-premier-league/se4721/1987-1988/ergebnisse-und-tabelle/',\n",
       " '8687': 'https://www.sport.de/fussball/england-premier-league/se4720/1986-1987/ergebnisse-und-tabelle/',\n",
       " '8586': 'https://www.sport.de/fussball/england-premier-league/se4719/1985-1986/ergebnisse-und-tabelle/',\n",
       " '8485': 'https://www.sport.de/fussball/england-premier-league/se4718/1984-1985/ergebnisse-und-tabelle/',\n",
       " '8384': 'https://www.sport.de/fussball/england-premier-league/se4717/1983-1984/ergebnisse-und-tabelle/',\n",
       " '8283': 'https://www.sport.de/fussball/england-premier-league/se4716/1982-1983/ergebnisse-und-tabelle/',\n",
       " '8182': 'https://www.sport.de/fussball/england-premier-league/se4715/1981-1982/ergebnisse-und-tabelle/',\n",
       " '8081': 'https://www.sport.de/fussball/england-premier-league/se4714/1980-1981/ergebnisse-und-tabelle/',\n",
       " '7980': 'https://www.sport.de/fussball/england-premier-league/se4713/1979-1980/ergebnisse-und-tabelle/',\n",
       " '7879': 'https://www.sport.de/fussball/england-premier-league/se4712/1978-1979/ergebnisse-und-tabelle/',\n",
       " '7778': 'https://www.sport.de/fussball/england-premier-league/se4711/1977-1978/ergebnisse-und-tabelle/',\n",
       " '7677': 'https://www.sport.de/fussball/england-premier-league/se4710/1976-1977/ergebnisse-und-tabelle/',\n",
       " '7576': 'https://www.sport.de/fussball/england-premier-league/se4709/1975-1976/ergebnisse-und-tabelle/',\n",
       " '7475': 'https://www.sport.de/fussball/england-premier-league/se4708/1974-1975/ergebnisse-und-tabelle/',\n",
       " '7374': 'https://www.sport.de/fussball/england-premier-league/se4707/1973-1974/ergebnisse-und-tabelle/',\n",
       " '7273': 'https://www.sport.de/fussball/england-premier-league/se4706/1972-1973/ergebnisse-und-tabelle/',\n",
       " '7172': 'https://www.sport.de/fussball/england-premier-league/se4705/1971-1972/ergebnisse-und-tabelle/',\n",
       " '7071': 'https://www.sport.de/fussball/england-premier-league/se4704/1970-1971/ergebnisse-und-tabelle/',\n",
       " '6970': 'https://www.sport.de/fussball/england-premier-league/se4703/1969-1970/ergebnisse-und-tabelle/',\n",
       " '6869': 'https://www.sport.de/fussball/england-premier-league/se4702/1968-1969/ergebnisse-und-tabelle/',\n",
       " '6768': 'https://www.sport.de/fussball/england-premier-league/se4701/1967-1968/ergebnisse-und-tabelle/',\n",
       " '6667': 'https://www.sport.de/fussball/england-premier-league/se4700/1966-1967/ergebnisse-und-tabelle/',\n",
       " '6566': 'https://www.sport.de/fussball/england-premier-league/se4699/1965-1966/ergebnisse-und-tabelle/',\n",
       " '6465': 'https://www.sport.de/fussball/england-premier-league/se4698/1964-1965/ergebnisse-und-tabelle/',\n",
       " '6364': 'https://www.sport.de/fussball/england-premier-league/se4697/1963-1964/ergebnisse-und-tabelle/',\n",
       " '6263': 'https://www.sport.de/fussball/england-premier-league/se4696/1962-1963/ergebnisse-und-tabelle/',\n",
       " '6162': 'https://www.sport.de/fussball/england-premier-league/se4695/1961-1962/ergebnisse-und-tabelle/',\n",
       " '6061': 'https://www.sport.de/fussball/england-premier-league/se4694/1960-1961/ergebnisse-und-tabelle/',\n",
       " '5960': 'https://www.sport.de/fussball/england-premier-league/se4693/1959-1960/ergebnisse-und-tabelle/',\n",
       " '5859': 'https://www.sport.de/fussball/england-premier-league/se4692/1958-1959/ergebnisse-und-tabelle/',\n",
       " '5758': 'https://www.sport.de/fussball/england-premier-league/se4691/1957-1958/ergebnisse-und-tabelle/',\n",
       " '5657': 'https://www.sport.de/fussball/england-premier-league/se4690/1956-1957/ergebnisse-und-tabelle/',\n",
       " '5556': 'https://www.sport.de/fussball/england-premier-league/se4689/1955-1956/ergebnisse-und-tabelle/',\n",
       " '5455': 'https://www.sport.de/fussball/england-premier-league/se4688/1954-1955/ergebnisse-und-tabelle/',\n",
       " '5354': 'https://www.sport.de/fussball/england-premier-league/se4687/1953-1954/ergebnisse-und-tabelle/',\n",
       " '5253': 'https://www.sport.de/fussball/england-premier-league/se4686/1952-1953/ergebnisse-und-tabelle/',\n",
       " '5152': 'https://www.sport.de/fussball/england-premier-league/se4685/1951-1952/ergebnisse-und-tabelle/',\n",
       " '5051': 'https://www.sport.de/fussball/england-premier-league/se4684/1950-1951/ergebnisse-und-tabelle/'}"
      ]
     },
     "execution_count": null,
     "metadata": {},
     "output_type": "execute_result"
    }
   ],
   "source": [
    "season_urls = season_links_from_page(league_example_bs)\n",
    "season_urls"
   ]
  },
  {
   "cell_type": "markdown",
   "metadata": {},
   "source": [
    "## Matchdays"
   ]
  },
  {
   "cell_type": "markdown",
   "metadata": {},
   "source": [
    "### Links"
   ]
  },
  {
   "cell_type": "code",
   "execution_count": null,
   "metadata": {},
   "outputs": [],
   "source": [
    "# export\n",
    "def get_matchday_links(bs, expected_length=34):\n",
    "    matchday_links = []\n",
    "    for li in bs.find_all('li'):\n",
    "        try:\n",
    "            matchday_links.append(BASE_URL+li['data'])\n",
    "        except:\n",
    "            pass\n",
    "\n",
    "    if expected_length is not None:\n",
    "        assert len(matchday_links)==expected_length, f'Expected: {expected_length}. Actual: {len(matchday_links)}'\n",
    "    return matchday_links"
   ]
  },
  {
   "cell_type": "code",
   "execution_count": null,
   "metadata": {},
   "outputs": [
    {
     "data": {
      "text/plain": [
       "['https://www.sport.de/fussball/england-premier-league/se36131/2020-2021/ro109998/spieltag/md1/ergebnisse-und-tabelle/',\n",
       " 'https://www.sport.de/fussball/england-premier-league/se36131/2020-2021/ro109998/spieltag/md2/ergebnisse-und-tabelle/',\n",
       " 'https://www.sport.de/fussball/england-premier-league/se36131/2020-2021/ro109998/spieltag/md3/ergebnisse-und-tabelle/',\n",
       " 'https://www.sport.de/fussball/england-premier-league/se36131/2020-2021/ro109998/spieltag/md4/ergebnisse-und-tabelle/',\n",
       " 'https://www.sport.de/fussball/england-premier-league/se36131/2020-2021/ro109998/spieltag/md5/ergebnisse-und-tabelle/',\n",
       " 'https://www.sport.de/fussball/england-premier-league/se36131/2020-2021/ro109998/spieltag/md6/ergebnisse-und-tabelle/',\n",
       " 'https://www.sport.de/fussball/england-premier-league/se36131/2020-2021/ro109998/spieltag/md7/ergebnisse-und-tabelle/',\n",
       " 'https://www.sport.de/fussball/england-premier-league/se36131/2020-2021/ro109998/spieltag/md8/ergebnisse-und-tabelle/',\n",
       " 'https://www.sport.de/fussball/england-premier-league/se36131/2020-2021/ro109998/spieltag/md9/ergebnisse-und-tabelle/',\n",
       " 'https://www.sport.de/fussball/england-premier-league/se36131/2020-2021/ro109998/spieltag/md10/ergebnisse-und-tabelle/',\n",
       " 'https://www.sport.de/fussball/england-premier-league/se36131/2020-2021/ro109998/spieltag/md11/ergebnisse-und-tabelle/',\n",
       " 'https://www.sport.de/fussball/england-premier-league/se36131/2020-2021/ro109998/spieltag/md12/ergebnisse-und-tabelle/',\n",
       " 'https://www.sport.de/fussball/england-premier-league/se36131/2020-2021/ro109998/spieltag/md13/ergebnisse-und-tabelle/',\n",
       " 'https://www.sport.de/fussball/england-premier-league/se36131/2020-2021/ro109998/spieltag/md14/ergebnisse-und-tabelle/',\n",
       " 'https://www.sport.de/fussball/england-premier-league/se36131/2020-2021/ro109998/spieltag/md15/ergebnisse-und-tabelle/',\n",
       " 'https://www.sport.de/fussball/england-premier-league/se36131/2020-2021/ro109998/spieltag/md16/ergebnisse-und-tabelle/',\n",
       " 'https://www.sport.de/fussball/england-premier-league/se36131/2020-2021/ro109998/spieltag/md17/ergebnisse-und-tabelle/',\n",
       " 'https://www.sport.de/fussball/england-premier-league/se36131/2020-2021/ro109998/spieltag/md18/ergebnisse-und-tabelle/',\n",
       " 'https://www.sport.de/fussball/england-premier-league/se36131/2020-2021/ro109998/spieltag/md19/ergebnisse-und-tabelle/',\n",
       " 'https://www.sport.de/fussball/england-premier-league/se36131/2020-2021/ro109998/spieltag/md20/ergebnisse-und-tabelle/',\n",
       " 'https://www.sport.de/fussball/england-premier-league/se36131/2020-2021/ro109998/spieltag/md21/ergebnisse-und-tabelle/',\n",
       " 'https://www.sport.de/fussball/england-premier-league/se36131/2020-2021/ro109998/spieltag/md22/ergebnisse-und-tabelle/',\n",
       " 'https://www.sport.de/fussball/england-premier-league/se36131/2020-2021/ro109998/spieltag/md23/ergebnisse-und-tabelle/',\n",
       " 'https://www.sport.de/fussball/england-premier-league/se36131/2020-2021/ro109998/spieltag/md24/ergebnisse-und-tabelle/',\n",
       " 'https://www.sport.de/fussball/england-premier-league/se36131/2020-2021/ro109998/spieltag/md25/ergebnisse-und-tabelle/',\n",
       " 'https://www.sport.de/fussball/england-premier-league/se36131/2020-2021/ro109998/spieltag/md26/ergebnisse-und-tabelle/',\n",
       " 'https://www.sport.de/fussball/england-premier-league/se36131/2020-2021/ro109998/spieltag/md27/ergebnisse-und-tabelle/',\n",
       " 'https://www.sport.de/fussball/england-premier-league/se36131/2020-2021/ro109998/spieltag/md28/ergebnisse-und-tabelle/',\n",
       " 'https://www.sport.de/fussball/england-premier-league/se36131/2020-2021/ro109998/spieltag/md29/ergebnisse-und-tabelle/',\n",
       " 'https://www.sport.de/fussball/england-premier-league/se36131/2020-2021/ro109998/spieltag/md30/ergebnisse-und-tabelle/',\n",
       " 'https://www.sport.de/fussball/england-premier-league/se36131/2020-2021/ro109998/spieltag/md31/ergebnisse-und-tabelle/',\n",
       " 'https://www.sport.de/fussball/england-premier-league/se36131/2020-2021/ro109998/spieltag/md32/ergebnisse-und-tabelle/',\n",
       " 'https://www.sport.de/fussball/england-premier-league/se36131/2020-2021/ro109998/spieltag/md33/ergebnisse-und-tabelle/',\n",
       " 'https://www.sport.de/fussball/england-premier-league/se36131/2020-2021/ro109998/spieltag/md34/ergebnisse-und-tabelle/',\n",
       " 'https://www.sport.de/fussball/england-premier-league/se36131/2020-2021/ro109998/spieltag/md35/ergebnisse-und-tabelle/',\n",
       " 'https://www.sport.de/fussball/england-premier-league/se36131/2020-2021/ro109998/spieltag/md36/ergebnisse-und-tabelle/',\n",
       " 'https://www.sport.de/fussball/england-premier-league/se36131/2020-2021/ro109998/spieltag/md37/ergebnisse-und-tabelle/',\n",
       " 'https://www.sport.de/fussball/england-premier-league/se36131/2020-2021/ro109998/spieltag/md38/ergebnisse-und-tabelle/']"
      ]
     },
     "execution_count": null,
     "metadata": {},
     "output_type": "execute_result"
    }
   ],
   "source": [
    "matchday_links = get_matchday_links(league_example_bs, expected_length=None)\n",
    "matchday_links"
   ]
  },
  {
   "cell_type": "markdown",
   "metadata": {},
   "source": [
    "### Dates"
   ]
  },
  {
   "cell_type": "code",
   "execution_count": null,
   "metadata": {},
   "outputs": [],
   "source": [
    "# export\n",
    "def get_matchday_dates(matchday_bs):\n",
    "    divs = matchday_bs.find_all('div', {'class': 'match-date'})\n",
    "    dates = [div.text.split(' ')[0] for div in divs]\n",
    "    dates = list(set(map(lambda d: datetime.strptime(d, '%d.%m.%Y'), dates)))\n",
    "    return dates"
   ]
  },
  {
   "cell_type": "code",
   "execution_count": null,
   "metadata": {},
   "outputs": [
    {
     "data": {
      "text/plain": [
       "[datetime.datetime(2021, 1, 12, 0, 0),\n",
       " datetime.datetime(2020, 9, 14, 0, 0),\n",
       " datetime.datetime(2020, 9, 13, 0, 0),\n",
       " datetime.datetime(2020, 9, 12, 0, 0),\n",
       " datetime.datetime(2021, 1, 20, 0, 0)]"
      ]
     },
     "execution_count": null,
     "metadata": {},
     "output_type": "execute_result"
    }
   ],
   "source": [
    "example_matchday_bs = cache(matchday_links[0], 'sportde_matchday_example_premiera')\n",
    "get_matchday_dates(example_matchday_bs)"
   ]
  },
  {
   "cell_type": "markdown",
   "metadata": {},
   "source": [
    "## Matches"
   ]
  },
  {
   "cell_type": "code",
   "execution_count": null,
   "metadata": {},
   "outputs": [],
   "source": [
    "# export\n",
    "def get_match_infos(matchday_bs):\n",
    "    \"\"\"\n",
    "    Returns [[home_team, away_team, home_goals, away_goals], ...]\n",
    "    \"\"\"\n",
    "    divs = [div for div in matchday_bs.find_all('div') if 'position' in div.attrs.keys()]\n",
    "    matches = []\n",
    "    for div in divs:\n",
    "        home_team = div.find('div', {'class', 'team-shortname-home'}).text\n",
    "        away_team = div.find('div', {'class', 'team-shortname-away'}).text\n",
    "        \n",
    "        home_div = div.find('div', {'class', 'match-result match-result-home'})\n",
    "        home_goals = int(home_div.find('div', {'class': 'match-result match-result-0'}).text)\n",
    "        \n",
    "        away_div = div.find('div', {'class', 'match-result match-result-away'})\n",
    "        away_goals = int(away_div.find('div', {'class': 'match-result match-result-0'}).text)\n",
    "\n",
    "        match = [home_team, away_team, home_goals, away_goals]\n",
    "        matches.append(match)\n",
    "        \n",
    "    return matches"
   ]
  },
  {
   "cell_type": "code",
   "execution_count": null,
   "metadata": {},
   "outputs": [
    {
     "data": {
      "text/plain": [
       "[['Fulham', 'Arsenal', 0, 3],\n",
       " ['Cr. Palace', 'Southampton', 1, 0],\n",
       " ['Liverpool', 'Leeds Utd', 4, 3],\n",
       " ['West Ham', 'Newcastle', 0, 2],\n",
       " ['West Brom', 'Leicester', 0, 3],\n",
       " ['Tottenham', 'Everton', 0, 1],\n",
       " ['Sheffield Utd', 'Wolverhampton', 0, 2],\n",
       " ['Brighton', 'Chelsea', 1, 3],\n",
       " ['Burnley', 'ManUtd', 0, 1],\n",
       " ['Man City', 'Aston Villa', 0, 0]]"
      ]
     },
     "execution_count": null,
     "metadata": {},
     "output_type": "execute_result"
    }
   ],
   "source": [
    "get_match_infos(example_matchday_bs)"
   ]
  },
  {
   "cell_type": "markdown",
   "metadata": {},
   "source": [
    "## Standings"
   ]
  },
  {
   "cell_type": "code",
   "execution_count": null,
   "metadata": {},
   "outputs": [],
   "source": [
    "# export\n",
    "def get_standings(matchday_bs):\n",
    "    \"\"\"\n",
    "    Returns [[rank, team, games_played, wins, draw, lost, total_goals_scored, total_goals_received, points], ...]\n",
    "    \"\"\"\n",
    "    standing_divs = matchday_bs.find_all('tr', {'class': 'standing'})\n",
    "    standings = []\n",
    "\n",
    "    for div in standing_divs:\n",
    "        rank = div.find('td', {'class': 'standing-rank'}).text\n",
    "        team = div.find('td', {'class': 'team-shortname'}).text\n",
    "        games_played = div.find('td', {'class': 'standing-games_played'}).text\n",
    "\n",
    "        wins = div.find('td', {'class': 'standing-win'}).text\n",
    "        draw = div.find('td', {'class': 'standing-draw'}).text\n",
    "        lost = div.find('td', {'class': 'standing-lost'}).text\n",
    "\n",
    "        total_goals = div.find('td', {'class': 'standing-goaldiff'}).text\n",
    "        total_goals_scored, total_goals_received = total_goals.split(':')\n",
    "\n",
    "        points = div.find('td', {'class': 'standing-points'}).text\n",
    "\n",
    "        standing = [rank, team, games_played, wins, draw, lost, total_goals_scored, total_goals_received, points]\n",
    "        standings.append(standing)\n",
    "\n",
    "    return standings"
   ]
  },
  {
   "cell_type": "code",
   "execution_count": null,
   "metadata": {},
   "outputs": [
    {
     "data": {
      "text/plain": [
       "[['1', 'Arsenal', '1', '1', '0', '0', '3', '0', '3'],\n",
       " ['1', 'Leicester', '1', '1', '0', '0', '3', '0', '3'],\n",
       " ['3', 'Chelsea', '1', '1', '0', '0', '3', '1', '3'],\n",
       " ['4', 'Newcastle', '1', '1', '0', '0', '2', '0', '3'],\n",
       " ['4', 'Wolverhampton', '1', '1', '0', '0', '2', '0', '3'],\n",
       " ['6', 'Liverpool', '1', '1', '0', '0', '4', '3', '3'],\n",
       " ['7', 'Cr. Palace', '1', '1', '0', '0', '1', '0', '3'],\n",
       " ['7', 'Everton', '1', '1', '0', '0', '1', '0', '3'],\n",
       " ['7', 'ManUtd', '1', '1', '0', '0', '1', '0', '3'],\n",
       " ['10', 'Aston Villa', '0', '0', '0', '0', '0', '0', '0'],\n",
       " ['10', 'Man City', '0', '0', '0', '0', '0', '0', '0'],\n",
       " ['12', 'Leeds Utd', '1', '0', '0', '1', '3', '4', '0'],\n",
       " ['13', 'Burnley', '1', '0', '0', '1', '0', '1', '0'],\n",
       " ['13', 'Southampton', '1', '0', '0', '1', '0', '1', '0'],\n",
       " ['13', 'Tottenham', '1', '0', '0', '1', '0', '1', '0'],\n",
       " ['16', 'Brighton', '1', '0', '0', '1', '1', '3', '0'],\n",
       " ['17', 'Sheffield Utd', '1', '0', '0', '1', '0', '2', '0'],\n",
       " ['17', 'West Ham', '1', '0', '0', '1', '0', '2', '0'],\n",
       " ['19', 'Fulham', '1', '0', '0', '1', '0', '3', '0'],\n",
       " ['19', 'West Brom', '1', '0', '0', '1', '0', '3', '0']]"
      ]
     },
     "execution_count": null,
     "metadata": {},
     "output_type": "execute_result"
    }
   ],
   "source": [
    "get_standings(example_matchday_bs)"
   ]
  },
  {
   "cell_type": "markdown",
   "metadata": {},
   "source": [
    "## Scrape entire season"
   ]
  },
  {
   "cell_type": "code",
   "execution_count": null,
   "metadata": {},
   "outputs": [],
   "source": [
    "# export\n",
    "def scrape_season(season, season_link, expected_matchdays=None, do_cache=False):\n",
    "    season_bs = get_html(season_link)\n",
    "    matchday_links = get_matchday_links(season_bs, expected_length=expected_matchdays)\n",
    "\n",
    "    standings = []\n",
    "    matchdays = []\n",
    "    games = []\n",
    "\n",
    "    for matchday_link in matchday_links:\n",
    "        matchday = re.search('/md([^/]+)/', matchday_link).group(1)\n",
    "        if do_cache: matchday_bs = cache(matchday_link, f'scrape_{season}_{matchday}_premiera')\n",
    "        else: matchday_bs = get_html(matchday_link)\n",
    "\n",
    "        dates = get_matchday_dates(matchday_bs)\n",
    "        matchdays.append([season, matchday, min(dates), max(dates)])\n",
    "\n",
    "        day_standings = get_standings(matchday_bs)\n",
    "        for day_standing in day_standings:\n",
    "            row = [season, matchday, *day_standing]\n",
    "            standings.append(row)\n",
    "\n",
    "        day_games = get_match_infos(matchday_bs)\n",
    "        for day_game in day_games:\n",
    "            row = [season, matchday, *day_game]\n",
    "            games.append(row)\n",
    "            \n",
    "    return standings, matchdays, games"
   ]
  },
  {
   "cell_type": "code",
   "execution_count": null,
   "metadata": {},
   "outputs": [],
   "source": [
    "standings, matchdays, games = scrape_season('2021', season_urls['2021'], do_cache=True)"
   ]
  },
  {
   "cell_type": "code",
   "execution_count": null,
   "metadata": {},
   "outputs": [],
   "source": [
    "# export\n",
    "def set_dtypes(df, dtypes):\n",
    "    n_cols = df.shape[1]\n",
    "    for col,dtype in enumerate(dtypes):\n",
    "        df.iloc[:,col] = df.iloc[:,col].astype(dtype)\n",
    "    return df\n",
    "\n",
    "def save_season(standings, matchdays, games, league, save_path):\n",
    "    matchday_df = pd.DataFrame(matchdays, columns=['season', 'matchday', 'start_date', 'end_date'])\n",
    "    matchday_df.matchday = matchday_df.matchday.astype(int)\n",
    "    matchday_df['league'] = league\n",
    "    \n",
    "    season = matchday_df['season'].unique()\n",
    "    assert len(season)==1, f'Expected DataFrame of only one season, found: {season}'\n",
    "    season = season[0]\n",
    "    \n",
    "    matchday_path = save_path/f'{season}_matchdays.feather'\n",
    "    matchday_df.to_feather(matchday_path)\n",
    "    \n",
    "    standings_df = pd.DataFrame(standings, columns=['season', 'matchday', 'rank', 'team', 'games_played', 'wins', 'draw', 'lost', 'total_goals_scored', 'total_goals_received', 'points'])\n",
    "    standings_df = set_dtypes(standings_df, [str, int, int, str, int, int, int, int, int, int, int])\n",
    "    standings_df['league'] = league\n",
    "    standings_path = save_path/f'{season}_standings.feather'\n",
    "    standings_df.to_feather(standings_path)\n",
    "    \n",
    "    games_df = pd.DataFrame(games, columns=['season', 'matchday', 'home_team', 'away_team', 'home_goals', 'away_goals'])\n",
    "    games_df = set_dtypes(games_df, [str, int, str, str, int, int])\n",
    "    games_df['league'] = league\n",
    "    games_path = save_path/f'{season}_games.feather'\n",
    "    games_df.to_feather(games_path)\n",
    "    \n",
    "    return matchday_path, standings_path, games_path"
   ]
  },
  {
   "cell_type": "code",
   "execution_count": null,
   "metadata": {},
   "outputs": [],
   "source": [
    "paths = save_season(standings, matchdays, games, 'premier_league', Path('../data/sportde/premier_league/raw'))\n",
    "\n",
    "for path in paths:\n",
    "    assert path.is_file()\n",
    "    os.remove(path)"
   ]
  },
  {
   "cell_type": "code",
   "execution_count": null,
   "metadata": {},
   "outputs": [],
   "source": []
  }
 ],
 "metadata": {
  "kernelspec": {
   "display_name": "Python 3",
   "language": "python",
   "name": "python3"
  }
 },
 "nbformat": 4,
 "nbformat_minor": 4
}
