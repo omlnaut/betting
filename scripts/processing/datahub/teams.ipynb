{
 "cells": [
  {
   "cell_type": "code",
   "execution_count": 1,
   "id": "growing-jacob",
   "metadata": {},
   "outputs": [],
   "source": [
    "%load_ext autoreload\n",
    "%autoreload 2"
   ]
  },
  {
   "cell_type": "code",
   "execution_count": 2,
   "id": "genuine-chair",
   "metadata": {},
   "outputs": [],
   "source": [
    "import pandas as pd\n",
    "from pathlib import Path\n",
    "\n",
    "from betting.data.cleanup import *"
   ]
  },
  {
   "cell_type": "markdown",
   "id": "worst-nurse",
   "metadata": {},
   "source": [
    "# Matching team names"
   ]
  },
  {
   "cell_type": "code",
   "execution_count": 3,
   "id": "hidden-trustee",
   "metadata": {},
   "outputs": [],
   "source": [
    "hub_dir = Path('../../../data/datahub')\n",
    "meta_dir = Path('../../../data/sportde/')"
   ]
  },
  {
   "cell_type": "markdown",
   "id": "attended-northeast",
   "metadata": {
    "heading_collapsed": "true"
   },
   "source": [
    "## Premier League"
   ]
  },
  {
   "cell_type": "code",
   "execution_count": 10,
   "id": "historic-multimedia",
   "metadata": {},
   "outputs": [
    {
     "data": {
      "text/plain": [
       "{'Stoke': 'Stoke City',\n",
       " 'Burnley': 'Burnley',\n",
       " 'Everton': 'Everton',\n",
       " 'Arsenal': 'Arsenal',\n",
       " 'Man United': 'ManUtd',\n",
       " 'Birmingham': 'Birmingham',\n",
       " 'Sunderland': 'Sunderland',\n",
       " 'Chelsea': 'Chelsea',\n",
       " 'Wigan': 'Wigan',\n",
       " 'Wolves': 'Wolverhampton',\n",
       " 'Hull': 'Hull City',\n",
       " 'Tottenham': 'Tottenham',\n",
       " 'Liverpool': 'Liverpool',\n",
       " 'Blackburn': 'Blackburn',\n",
       " 'Man City': 'Man City',\n",
       " 'Fulham': 'Fulham',\n",
       " 'Portsmouth': 'Portsmouth',\n",
       " 'West Ham': 'West Ham',\n",
       " 'Aston Villa': 'Aston Villa',\n",
       " 'Bolton': 'Bolton',\n",
       " 'Blackpool': 'Blackpool',\n",
       " 'West Brom': 'West Brom',\n",
       " 'Newcastle': 'Newcastle',\n",
       " 'QPR': 'QPR',\n",
       " 'Swansea': 'Swansea',\n",
       " 'Norwich': 'Norwich City',\n",
       " 'Reading': 'Reading FC',\n",
       " 'Southampton': 'Southampton',\n",
       " 'Crystal Palace': 'Cr. Palace',\n",
       " 'Cardiff': 'Cardiff',\n",
       " 'Leicester': 'Leicester',\n",
       " 'Watford': 'Watford',\n",
       " 'Bournemouth': 'Bournemouth',\n",
       " 'Middlesbrough': 'Middlesbrough',\n",
       " 'Huddersfield': 'Huddersfield',\n",
       " 'Brighton': 'Brighton'}"
      ]
     },
     "execution_count": 10,
     "metadata": {},
     "output_type": "execute_result"
    }
   ],
   "source": [
    "league_dir = hub_dir / 'english-premier-league_zip'\n",
    "\n",
    "actual_matches = pd.read_feather(league_dir / 'concat.feather')\n",
    "meta = load_meta(meta_dir)\n",
    "\n",
    "actual_matches = add_season_from_date(actual_matches, meta, 'Date')\n",
    "actual_matches['league'] = 'premier_league'\n",
    "\n",
    "translation = match_teams_from_goals(actual_matches, meta, 'HomeTeam', 'AwayTeam', 'FTHG', 'FTAG', 'premier_league', 'Date')\n",
    "translation"
   ]
  },
  {
   "cell_type": "code",
   "execution_count": 11,
   "id": "disciplinary-desert",
   "metadata": {},
   "outputs": [],
   "source": [
    "actual_matches.HomeTeam.replace(translation, inplace=True)\n",
    "actual_matches.AwayTeam.replace(translation, inplace=True)\n",
    "actual_matches.to_feather(league_dir / 'translated.feather')"
   ]
  },
  {
   "cell_type": "markdown",
   "id": "involved-person",
   "metadata": {
    "heading_collapsed": "true"
   },
   "source": [
    "## Bundesliga"
   ]
  },
  {
   "cell_type": "code",
   "execution_count": 12,
   "id": "utility-parish",
   "metadata": {},
   "outputs": [
    {
     "data": {
      "text/plain": [
       "{'Wolfsburg': 'Wolfsburg',\n",
       " 'Stuttgart': 'VfB Stuttgart',\n",
       " 'Nurnberg': 'Nürnberg',\n",
       " 'Schalke 04': 'Schalke 04',\n",
       " 'Werder Bremen': 'SV Werder',\n",
       " 'Ein Frankfurt': 'Frankfurt',\n",
       " 'Mainz': 'Mainz 05',\n",
       " 'Leverkusen': 'Leverkusen',\n",
       " 'Bochum': 'Bochum',\n",
       " \"M'gladbach\": \"M'gladbach\",\n",
       " 'Freiburg': 'SC Freiburg',\n",
       " 'Hamburg': 'Hamburger SV',\n",
       " 'Dortmund': 'Dortmund',\n",
       " 'Hoffenheim': 'Hoffenheim',\n",
       " 'FC Koln': '1.FC Köln',\n",
       " 'Hertha': 'Hertha BSC',\n",
       " 'Bayern Munich': 'FC Bayern',\n",
       " 'Hannover': 'Hannover 96',\n",
       " 'Kaiserslautern': \"K'lautern\",\n",
       " 'St Pauli': 'St. Pauli',\n",
       " 'Augsburg': 'Augsburg',\n",
       " 'Fortuna Dusseldorf': 'Düsseldorf',\n",
       " 'Greuther Furth': 'Gr. Fürth',\n",
       " 'Braunschweig': 'Braunschweig',\n",
       " 'Paderborn': 'Paderborn',\n",
       " 'Darmstadt': 'Darmstadt',\n",
       " 'Ingolstadt': 'Ingolstadt',\n",
       " 'RB Leipzig': 'RB Leipzig'}"
      ]
     },
     "execution_count": 12,
     "metadata": {},
     "output_type": "execute_result"
    }
   ],
   "source": [
    "league_dir = hub_dir / 'german-bundesliga_zip'\n",
    "\n",
    "actual_matches = pd.read_feather(league_dir / 'concat.feather')\n",
    "meta = load_meta(meta_dir)\n",
    "\n",
    "actual_matches = add_season_from_date(actual_matches, meta, 'Date')\n",
    "actual_matches['league'] = 'bundesliga'\n",
    "\n",
    "translation = match_teams_from_goals(actual_matches, meta, 'HomeTeam', 'AwayTeam', 'FTHG', 'FTAG', 'bundesliga', 'Date')\n",
    "translation"
   ]
  },
  {
   "cell_type": "code",
   "execution_count": 13,
   "id": "elegant-favorite",
   "metadata": {},
   "outputs": [],
   "source": [
    "actual_matches.HomeTeam.replace(translation, inplace=True)\n",
    "actual_matches.AwayTeam.replace(translation, inplace=True)\n",
    "actual_matches.to_feather(league_dir / 'translated.feather')"
   ]
  },
  {
   "cell_type": "markdown",
   "id": "possible-bracket",
   "metadata": {
    "heading_collapsed": "true"
   },
   "source": [
    "## Ligue 1"
   ]
  },
  {
   "cell_type": "code",
   "execution_count": 17,
   "id": "broad-discussion",
   "metadata": {},
   "outputs": [
    {
     "data": {
      "text/plain": [
       "{'Auxerre': 'Auxerre',\n",
       " 'Sochaux': 'Sochaux',\n",
       " 'Le Mans': 'Le Mans',\n",
       " 'Lyon': 'Lyon',\n",
       " 'Monaco': 'AS Monaco',\n",
       " 'Toulouse': 'Toulouse',\n",
       " 'Montpellier': 'Montpellier',\n",
       " 'Paris SG': 'PSG',\n",
       " 'Rennes': 'Rennes',\n",
       " 'Boulogne': 'US Boulogne',\n",
       " 'Valenciennes': 'VAFC',\n",
       " 'Nancy': 'AS Nancy',\n",
       " 'Lille': 'Lille',\n",
       " 'Lorient': 'Lorient',\n",
       " 'Bordeaux': 'Bordeaux',\n",
       " 'Lens': 'RC Lens',\n",
       " 'Grenoble': 'Grenoble',\n",
       " 'Nice': 'OGC Nizza',\n",
       " 'St Etienne': 'Saint-Étienne',\n",
       " 'Marseille': 'Marseille',\n",
       " 'Arles': 'AC Arles',\n",
       " 'Brest': 'Stade Brest',\n",
       " 'Caen': 'SM Caen',\n",
       " 'Ajaccio': 'AC Ajaccio',\n",
       " 'Dijon': 'Dijon FCO',\n",
       " 'Evian Thonon Gaillard': 'Thonon Évian FC',\n",
       " 'Troyes': 'ESTAC Troyes',\n",
       " 'Reims': 'Stade Reims',\n",
       " 'Bastia': 'Bastia',\n",
       " 'Guingamp': 'Guingamp',\n",
       " 'Nantes': 'FC Nantes',\n",
       " 'Metz': 'FC Metz',\n",
       " 'Angers': 'Angers',\n",
       " 'Ajaccio GFCO': 'GFC Ajaccio',\n",
       " 'Amiens': 'Amiens',\n",
       " 'Strasbourg': 'Strasbourg',\n",
       " 'Nimes': 'Nîmes'}"
      ]
     },
     "execution_count": 17,
     "metadata": {},
     "output_type": "execute_result"
    }
   ],
   "source": [
    "league_dir = hub_dir / 'french-ligue-1_zip'\n",
    "\n",
    "actual_matches = pd.read_feather(league_dir / 'concat.feather')\n",
    "meta = load_meta(meta_dir)\n",
    "\n",
    "actual_matches = add_season_from_date(actual_matches, meta, 'Date')\n",
    "actual_matches['league'] = 'league_one'\n",
    "\n",
    "translation = match_teams_from_goals(actual_matches, meta, 'HomeTeam', 'AwayTeam', 'FTHG', 'FTAG', 'league_one', 'Date')\n",
    "translation"
   ]
  },
  {
   "cell_type": "code",
   "execution_count": 18,
   "id": "statewide-letters",
   "metadata": {},
   "outputs": [],
   "source": [
    "actual_matches.HomeTeam.replace(translation, inplace=True)\n",
    "actual_matches.AwayTeam.replace(translation, inplace=True)\n",
    "actual_matches.to_feather(league_dir / 'translated.feather')"
   ]
  },
  {
   "cell_type": "markdown",
   "id": "active-bunny",
   "metadata": {
    "heading_collapsed": "true"
   },
   "source": [
    "## La Liga"
   ]
  },
  {
   "cell_type": "code",
   "execution_count": 20,
   "id": "phantom-quarter",
   "metadata": {},
   "outputs": [
    {
     "data": {
      "text/plain": [
       "{'Real Madrid': 'Real Madrid',\n",
       " 'La Coruna': 'Deportivo',\n",
       " 'Osasuna': 'Osasuna',\n",
       " 'Villarreal': 'Villarreal',\n",
       " 'Santander': 'Racing',\n",
       " 'Getafe': 'Getafe',\n",
       " 'Almeria': 'Almería',\n",
       " 'Valladolid': 'Valladolid',\n",
       " 'Barcelona': 'Barcelona',\n",
       " 'Espanol': 'Espanyol',\n",
       " 'Sevilla': 'FC Sevilla',\n",
       " 'Zaragoza': 'Zaragoza',\n",
       " 'Tenerife': 'Tenerife',\n",
       " 'Valencia': 'Valencia',\n",
       " 'Xerez': 'Xerez',\n",
       " 'Ath Bilbao': 'Athletic',\n",
       " 'Mallorca': 'Mallorca',\n",
       " 'Ath Madrid': 'Atlético',\n",
       " 'Sp Gijon': 'Sporting Gijón',\n",
       " 'Malaga': 'Málaga',\n",
       " 'Hercules': 'Hércules',\n",
       " 'Levante': 'Levante',\n",
       " 'Sociedad': 'S. Sebastian',\n",
       " 'Vallecano': 'Rayo',\n",
       " 'Granada': 'Granada CF',\n",
       " 'Betis': 'Betis Sevilla',\n",
       " 'Celta': 'RC Celta',\n",
       " 'Elche': 'Elche CF',\n",
       " 'Cordoba': 'Córdoba',\n",
       " 'Eibar': 'Eibar',\n",
       " 'Las Palmas': 'UD Las Palmas',\n",
       " 'Leganes': 'Leganés',\n",
       " 'Alaves': 'Alavés',\n",
       " 'Girona': 'Girona',\n",
       " 'Huesca': 'Huesca'}"
      ]
     },
     "execution_count": 20,
     "metadata": {},
     "output_type": "execute_result"
    }
   ],
   "source": [
    "league_dir = hub_dir / 'spanish-la-liga_zip'\n",
    "\n",
    "actual_matches = pd.read_feather(league_dir / 'concat.feather')\n",
    "meta = load_meta(meta_dir)\n",
    "\n",
    "actual_matches = add_season_from_date(actual_matches, meta, 'Date')\n",
    "actual_matches['league'] = 'primera_division'\n",
    "\n",
    "translation = match_teams_from_goals(actual_matches, meta, 'HomeTeam', 'AwayTeam', 'FTHG', 'FTAG', 'primera_division', 'Date')\n",
    "translation"
   ]
  },
  {
   "cell_type": "code",
   "execution_count": 21,
   "id": "contrary-honolulu",
   "metadata": {},
   "outputs": [],
   "source": [
    "actual_matches.HomeTeam.replace(translation, inplace=True)\n",
    "actual_matches.AwayTeam.replace(translation, inplace=True)\n",
    "actual_matches.to_feather(league_dir / 'translated.feather')"
   ]
  },
  {
   "cell_type": "markdown",
   "id": "educational-actor",
   "metadata": {},
   "source": [
    "## Serie A"
   ]
  },
  {
   "cell_type": "code",
   "execution_count": 4,
   "id": "choice-college",
   "metadata": {},
   "outputs": [
    {
     "data": {
      "text/plain": [
       "{'Genoa': 'FC Genua',\n",
       " 'Roma': 'AS Rom',\n",
       " 'Livorno': 'Livorno',\n",
       " 'Cagliari': 'Cagliari',\n",
       " 'Palermo': 'Palermo',\n",
       " 'Napoli': 'SSC Neapel',\n",
       " 'Udinese': 'Udinese',\n",
       " 'Parma': 'Parma',\n",
       " 'Bari': 'Bari',\n",
       " 'Bologna': 'Bologna',\n",
       " 'Milan': 'AC Mailand',\n",
       " 'Inter': 'Inter',\n",
       " 'Atalanta': 'Atalanta',\n",
       " 'Chievo': 'Chievo Verona',\n",
       " 'Lazio': 'Lazio Rom',\n",
       " 'Fiorentina': 'AC Florenz',\n",
       " 'Catania': 'Catania',\n",
       " 'Sampdoria': 'Sampdoria',\n",
       " 'Siena': 'Siena',\n",
       " 'Juventus': 'Juventus',\n",
       " 'Lecce': 'Lecce',\n",
       " 'Cesena': 'Cesena',\n",
       " 'Brescia': 'Brescia',\n",
       " 'Novara': 'Novara',\n",
       " 'Torino': 'FC Turin',\n",
       " 'Pescara': 'Pescara',\n",
       " 'Verona': 'Hellas Verona',\n",
       " 'Sassuolo': 'Sassuolo',\n",
       " 'Empoli': 'Empoli',\n",
       " 'Frosinone': 'Frosinone',\n",
       " 'Carpi': 'Carpi',\n",
       " 'Crotone': 'Crotone',\n",
       " 'Benevento': 'Benevento',\n",
       " 'Spal': 'SPAL Ferrara'}"
      ]
     },
     "execution_count": 4,
     "metadata": {},
     "output_type": "execute_result"
    }
   ],
   "source": [
    "league_dir = hub_dir / 'italian-serie-a_zip'\n",
    "\n",
    "actual_matches = pd.read_feather(league_dir / 'concat.feather')\n",
    "meta = load_meta(meta_dir)\n",
    "\n",
    "actual_matches = add_season_from_date(actual_matches, meta, 'Date')\n",
    "actual_matches['league'] = 'serie_a'\n",
    "\n",
    "translation = match_teams_from_goals(actual_matches, meta, 'HomeTeam', 'AwayTeam', 'FTHG', 'FTAG', 'serie_a', 'Date')\n",
    "translation"
   ]
  },
  {
   "cell_type": "code",
   "execution_count": 5,
   "id": "european-substitute",
   "metadata": {},
   "outputs": [],
   "source": [
    "actual_matches.HomeTeam.replace(translation, inplace=True)\n",
    "actual_matches.AwayTeam.replace(translation, inplace=True)\n",
    "actual_matches.to_feather(league_dir / 'translated.feather')"
   ]
  },
  {
   "cell_type": "markdown",
   "id": "extensive-extension",
   "metadata": {},
   "source": [
    "# Concat"
   ]
  },
  {
   "cell_type": "code",
   "execution_count": 6,
   "id": "warming-citizen",
   "metadata": {},
   "outputs": [
    {
     "data": {
      "text/plain": [
       "[WindowsPath('../../../data/datahub/english-premier-league_zip'),\n",
       " WindowsPath('../../../data/datahub/french-ligue-1_zip'),\n",
       " WindowsPath('../../../data/datahub/german-bundesliga_zip'),\n",
       " WindowsPath('../../../data/datahub/italian-serie-a_zip'),\n",
       " WindowsPath('../../../data/datahub/spanish-la-liga_zip')]"
      ]
     },
     "execution_count": 6,
     "metadata": {},
     "output_type": "execute_result"
    }
   ],
   "source": [
    "dirs = [element for element in hub_dir.glob('*') if element.is_dir()]\n",
    "dirs"
   ]
  },
  {
   "cell_type": "code",
   "execution_count": 24,
   "id": "animal-addiction",
   "metadata": {},
   "outputs": [
    {
     "data": {
      "text/html": [
       "<div>\n",
       "<style scoped>\n",
       "    .dataframe tbody tr th:only-of-type {\n",
       "        vertical-align: middle;\n",
       "    }\n",
       "\n",
       "    .dataframe tbody tr th {\n",
       "        vertical-align: top;\n",
       "    }\n",
       "\n",
       "    .dataframe thead th {\n",
       "        text-align: right;\n",
       "    }\n",
       "</style>\n",
       "<table border=\"1\" class=\"dataframe\">\n",
       "  <thead>\n",
       "    <tr style=\"text-align: right;\">\n",
       "      <th></th>\n",
       "      <th>Date</th>\n",
       "      <th>HomeTeam</th>\n",
       "      <th>AwayTeam</th>\n",
       "      <th>FTHG</th>\n",
       "      <th>FTAG</th>\n",
       "      <th>B365H</th>\n",
       "      <th>B365D</th>\n",
       "      <th>B365A</th>\n",
       "      <th>season</th>\n",
       "      <th>league</th>\n",
       "    </tr>\n",
       "  </thead>\n",
       "  <tbody>\n",
       "    <tr>\n",
       "      <th>18251</th>\n",
       "      <td>2019-05-18</td>\n",
       "      <td>Levante</td>\n",
       "      <td>Atlético</td>\n",
       "      <td>2</td>\n",
       "      <td>2</td>\n",
       "      <td>3.75</td>\n",
       "      <td>3.75</td>\n",
       "      <td>1.95</td>\n",
       "      <td>2018</td>\n",
       "      <td>primera_division</td>\n",
       "    </tr>\n",
       "    <tr>\n",
       "      <th>18252</th>\n",
       "      <td>2019-05-18</td>\n",
       "      <td>FC Sevilla</td>\n",
       "      <td>Athletic</td>\n",
       "      <td>2</td>\n",
       "      <td>0</td>\n",
       "      <td>1.85</td>\n",
       "      <td>3.40</td>\n",
       "      <td>4.33</td>\n",
       "      <td>2018</td>\n",
       "      <td>primera_division</td>\n",
       "    </tr>\n",
       "    <tr>\n",
       "      <th>18253</th>\n",
       "      <td>2019-05-18</td>\n",
       "      <td>Valladolid</td>\n",
       "      <td>Valencia</td>\n",
       "      <td>0</td>\n",
       "      <td>2</td>\n",
       "      <td>8.00</td>\n",
       "      <td>5.25</td>\n",
       "      <td>1.36</td>\n",
       "      <td>2018</td>\n",
       "      <td>primera_division</td>\n",
       "    </tr>\n",
       "    <tr>\n",
       "      <th>18254</th>\n",
       "      <td>2019-05-19</td>\n",
       "      <td>Eibar</td>\n",
       "      <td>Barcelona</td>\n",
       "      <td>2</td>\n",
       "      <td>2</td>\n",
       "      <td>3.60</td>\n",
       "      <td>4.00</td>\n",
       "      <td>1.90</td>\n",
       "      <td>2018</td>\n",
       "      <td>primera_division</td>\n",
       "    </tr>\n",
       "    <tr>\n",
       "      <th>18255</th>\n",
       "      <td>2019-05-19</td>\n",
       "      <td>Real Madrid</td>\n",
       "      <td>Betis Sevilla</td>\n",
       "      <td>0</td>\n",
       "      <td>2</td>\n",
       "      <td>1.57</td>\n",
       "      <td>4.75</td>\n",
       "      <td>4.75</td>\n",
       "      <td>2018</td>\n",
       "      <td>primera_division</td>\n",
       "    </tr>\n",
       "  </tbody>\n",
       "</table>\n",
       "</div>"
      ],
      "text/plain": [
       "            Date     HomeTeam       AwayTeam  FTHG  FTAG  B365H  B365D  B365A  \\\n",
       "18251 2019-05-18      Levante       Atlético     2     2   3.75   3.75   1.95   \n",
       "18252 2019-05-18   FC Sevilla       Athletic     2     0   1.85   3.40   4.33   \n",
       "18253 2019-05-18   Valladolid       Valencia     0     2   8.00   5.25   1.36   \n",
       "18254 2019-05-19        Eibar      Barcelona     2     2   3.60   4.00   1.90   \n",
       "18255 2019-05-19  Real Madrid  Betis Sevilla     0     2   1.57   4.75   4.75   \n",
       "\n",
       "       season            league  \n",
       "18251    2018  primera_division  \n",
       "18252    2018  primera_division  \n",
       "18253    2018  primera_division  \n",
       "18254    2018  primera_division  \n",
       "18255    2018  primera_division  "
      ]
     },
     "execution_count": 24,
     "metadata": {},
     "output_type": "execute_result"
    }
   ],
   "source": [
    "dfs = [pd.read_feather(league_dir/'translated.feather').drop(columns=['index', 'Div']) for league_dir in dirs]\n",
    "concat = pd.concat(dfs)\n",
    "concat.reset_index(inplace=True, drop=True)\n",
    "concat.tail()"
   ]
  },
  {
   "cell_type": "code",
   "execution_count": 25,
   "id": "stone-juvenile",
   "metadata": {},
   "outputs": [],
   "source": [
    "concat.to_feather(hub_dir/'concat.feather')"
   ]
  },
  {
   "cell_type": "code",
   "execution_count": 27,
   "id": "expired-pickup",
   "metadata": {},
   "outputs": [
    {
     "data": {
      "text/plain": [
       "array(['premier_league', 'league_one', 'bundesliga', 'serie_a',\n",
       "       'primera_division'], dtype=object)"
      ]
     },
     "execution_count": 27,
     "metadata": {},
     "output_type": "execute_result"
    }
   ],
   "source": [
    "concat.league.unique()"
   ]
  },
  {
   "cell_type": "code",
   "execution_count": null,
   "id": "martial-symbol",
   "metadata": {},
   "outputs": [],
   "source": []
  }
 ],
 "metadata": {
  "kernelspec": {
   "display_name": "Python 3",
   "language": "python",
   "name": "python3"
  },
  "language_info": {
   "codemirror_mode": {
    "name": "ipython",
    "version": 3
   },
   "file_extension": ".py",
   "mimetype": "text/x-python",
   "name": "python",
   "nbconvert_exporter": "python",
   "pygments_lexer": "ipython3",
   "version": "3.8.5"
  }
 },
 "nbformat": 4,
 "nbformat_minor": 5
}
