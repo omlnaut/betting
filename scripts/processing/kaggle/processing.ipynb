{
 "cells": [
  {
   "cell_type": "code",
   "execution_count": 1,
   "metadata": {},
   "outputs": [],
   "source": [
    "%load_ext autoreload\n",
    "%autoreload 2"
   ]
  },
  {
   "cell_type": "code",
   "execution_count": 11,
   "metadata": {},
   "outputs": [],
   "source": [
    "from pathlib import Path\n",
    "import pandas as pd\n",
    "import numpy as np\n",
    "from datetime import datetime\n",
    "from difflib import SequenceMatcher\n",
    "\n",
    "from betting.data.sportde import set_dtypes\n",
    "from betting.utility import *"
   ]
  },
  {
   "cell_type": "markdown",
   "metadata": {},
   "source": [
    "# Processing the kaggle dataset "
   ]
  },
  {
   "cell_type": "markdown",
   "metadata": {},
   "source": [
    "## Filetype"
   ]
  },
  {
   "cell_type": "code",
   "execution_count": 3,
   "metadata": {},
   "outputs": [],
   "source": [
    "data_dir = Path('../../../data/kaggle')\n",
    "csv_path = data_dir / 'closing_odds.csv'\n",
    "target_path = data_dir / 'closing_odds.feather'"
   ]
  },
  {
   "cell_type": "code",
   "execution_count": 4,
   "metadata": {},
   "outputs": [],
   "source": [
    "if not target_path.is_file():\n",
    "    df = pd.read_csv(csv_path)\n",
    "    df.sort_values('match_date', inplace=True)\n",
    "    df = df.reset_index(drop=True)\n",
    "\n",
    "    df.drop(['top_bookie_home_win', 'top_bookie_draw', 'top_bookie_away_win', 'n_odds_home_win', 'n_odds_draw', 'n_odds_away_win'], inplace=True, axis=1)\n",
    "\n",
    "    df = set_dtypes(df, [int, str, str, str, int, str, int, float, float, float, float, float, float])\n",
    "    df.match_date = pd.to_datetime(df.match_date, format='%Y-%m-%d')\n",
    "\n",
    "    df.to_feather(target_path)\n",
    "\n",
    "df = pd.read_feather(target_path)"
   ]
  },
  {
   "cell_type": "code",
   "execution_count": 5,
   "metadata": {},
   "outputs": [
    {
     "data": {
      "text/plain": [
       "(Index(['match_id', 'league', 'match_date', 'home_team', 'home_score',\n",
       "        'away_team', 'away_score', 'avg_odds_home_win', 'avg_odds_draw',\n",
       "        'avg_odds_away_win', 'max_odds_home_win', 'max_odds_draw',\n",
       "        'max_odds_away_win'],\n",
       "       dtype='object'),\n",
       " (479440, 13))"
      ]
     },
     "execution_count": 5,
     "metadata": {},
     "output_type": "execute_result"
    }
   ],
   "source": [
    "df.columns, df.shape"
   ]
  },
  {
   "cell_type": "markdown",
   "metadata": {},
   "source": [
    "## Compare against meta"
   ]
  },
  {
   "cell_type": "code",
   "execution_count": 6,
   "metadata": {},
   "outputs": [
    {
     "data": {
      "text/html": [
       "<div>\n",
       "<style scoped>\n",
       "    .dataframe tbody tr th:only-of-type {\n",
       "        vertical-align: middle;\n",
       "    }\n",
       "\n",
       "    .dataframe tbody tr th {\n",
       "        vertical-align: top;\n",
       "    }\n",
       "\n",
       "    .dataframe thead th {\n",
       "        text-align: right;\n",
       "    }\n",
       "</style>\n",
       "<table border=\"1\" class=\"dataframe\">\n",
       "  <thead>\n",
       "    <tr style=\"text-align: right;\">\n",
       "      <th></th>\n",
       "      <th>season</th>\n",
       "      <th>matchday</th>\n",
       "      <th>home_team</th>\n",
       "      <th>away_team</th>\n",
       "      <th>home_goals</th>\n",
       "      <th>away_goals</th>\n",
       "      <th>league</th>\n",
       "    </tr>\n",
       "  </thead>\n",
       "  <tbody>\n",
       "    <tr>\n",
       "      <th>0</th>\n",
       "      <td>0506</td>\n",
       "      <td>1</td>\n",
       "      <td>FC Bayern</td>\n",
       "      <td>M'gladbach</td>\n",
       "      <td>3</td>\n",
       "      <td>0</td>\n",
       "      <td>bundesliga</td>\n",
       "    </tr>\n",
       "    <tr>\n",
       "      <th>1</th>\n",
       "      <td>0506</td>\n",
       "      <td>1</td>\n",
       "      <td>Hamburger SV</td>\n",
       "      <td>Nürnberg</td>\n",
       "      <td>3</td>\n",
       "      <td>0</td>\n",
       "      <td>bundesliga</td>\n",
       "    </tr>\n",
       "    <tr>\n",
       "      <th>2</th>\n",
       "      <td>0506</td>\n",
       "      <td>1</td>\n",
       "      <td>1.FC Köln</td>\n",
       "      <td>Mainz 05</td>\n",
       "      <td>1</td>\n",
       "      <td>0</td>\n",
       "      <td>bundesliga</td>\n",
       "    </tr>\n",
       "    <tr>\n",
       "      <th>3</th>\n",
       "      <td>0506</td>\n",
       "      <td>1</td>\n",
       "      <td>Duisburg</td>\n",
       "      <td>VfB Stuttgart</td>\n",
       "      <td>1</td>\n",
       "      <td>1</td>\n",
       "      <td>bundesliga</td>\n",
       "    </tr>\n",
       "    <tr>\n",
       "      <th>4</th>\n",
       "      <td>0506</td>\n",
       "      <td>1</td>\n",
       "      <td>Wolfsburg</td>\n",
       "      <td>Dortmund</td>\n",
       "      <td>2</td>\n",
       "      <td>2</td>\n",
       "      <td>bundesliga</td>\n",
       "    </tr>\n",
       "    <tr>\n",
       "      <th>5</th>\n",
       "      <td>0506</td>\n",
       "      <td>1</td>\n",
       "      <td>Hannover 96</td>\n",
       "      <td>Hertha BSC</td>\n",
       "      <td>2</td>\n",
       "      <td>2</td>\n",
       "      <td>bundesliga</td>\n",
       "    </tr>\n",
       "    <tr>\n",
       "      <th>6</th>\n",
       "      <td>0506</td>\n",
       "      <td>1</td>\n",
       "      <td>SV Werder</td>\n",
       "      <td>Bielefeld</td>\n",
       "      <td>5</td>\n",
       "      <td>2</td>\n",
       "      <td>bundesliga</td>\n",
       "    </tr>\n",
       "    <tr>\n",
       "      <th>7</th>\n",
       "      <td>0506</td>\n",
       "      <td>1</td>\n",
       "      <td>Schalke 04</td>\n",
       "      <td>K'lautern</td>\n",
       "      <td>2</td>\n",
       "      <td>1</td>\n",
       "      <td>bundesliga</td>\n",
       "    </tr>\n",
       "    <tr>\n",
       "      <th>8</th>\n",
       "      <td>0506</td>\n",
       "      <td>1</td>\n",
       "      <td>Frankfurt</td>\n",
       "      <td>Leverkusen</td>\n",
       "      <td>1</td>\n",
       "      <td>4</td>\n",
       "      <td>bundesliga</td>\n",
       "    </tr>\n",
       "    <tr>\n",
       "      <th>9</th>\n",
       "      <td>0506</td>\n",
       "      <td>2</td>\n",
       "      <td>Hertha BSC</td>\n",
       "      <td>Frankfurt</td>\n",
       "      <td>2</td>\n",
       "      <td>0</td>\n",
       "      <td>bundesliga</td>\n",
       "    </tr>\n",
       "  </tbody>\n",
       "</table>\n",
       "</div>"
      ],
      "text/plain": [
       "  season  matchday     home_team      away_team  home_goals  away_goals  \\\n",
       "0   0506         1     FC Bayern     M'gladbach           3           0   \n",
       "1   0506         1  Hamburger SV       Nürnberg           3           0   \n",
       "2   0506         1     1.FC Köln       Mainz 05           1           0   \n",
       "3   0506         1      Duisburg  VfB Stuttgart           1           1   \n",
       "4   0506         1     Wolfsburg       Dortmund           2           2   \n",
       "5   0506         1   Hannover 96     Hertha BSC           2           2   \n",
       "6   0506         1     SV Werder      Bielefeld           5           2   \n",
       "7   0506         1    Schalke 04      K'lautern           2           1   \n",
       "8   0506         1     Frankfurt     Leverkusen           1           4   \n",
       "9   0506         2    Hertha BSC      Frankfurt           2           0   \n",
       "\n",
       "       league  \n",
       "0  bundesliga  \n",
       "1  bundesliga  \n",
       "2  bundesliga  \n",
       "3  bundesliga  \n",
       "4  bundesliga  \n",
       "5  bundesliga  \n",
       "6  bundesliga  \n",
       "7  bundesliga  \n",
       "8  bundesliga  \n",
       "9  bundesliga  "
      ]
     },
     "execution_count": 6,
     "metadata": {},
     "output_type": "execute_result"
    }
   ],
   "source": [
    "meta_path = Path('../../../data/sportde/bundesliga')\n",
    "matches_df = pd.read_feather(meta_path/'games.feather')\n",
    "matches_df.head(10)"
   ]
  },
  {
   "cell_type": "markdown",
   "metadata": {},
   "source": [
    "## Split leagues"
   ]
  },
  {
   "cell_type": "code",
   "execution_count": 12,
   "metadata": {},
   "outputs": [
    {
     "data": {
      "text/plain": [
       "['bundesliga']"
      ]
     },
     "execution_count": 12,
     "metadata": {},
     "output_type": "execute_result"
    }
   ],
   "source": [
    "meta_leagues = list(matches_df.league.unique())\n",
    "meta_leagues"
   ]
  },
  {
   "cell_type": "code",
   "execution_count": 18,
   "metadata": {},
   "outputs": [
    {
     "data": {
      "text/html": [
       "<div>\n",
       "<style scoped>\n",
       "    .dataframe tbody tr th:only-of-type {\n",
       "        vertical-align: middle;\n",
       "    }\n",
       "\n",
       "    .dataframe tbody tr th {\n",
       "        vertical-align: top;\n",
       "    }\n",
       "\n",
       "    .dataframe thead th {\n",
       "        text-align: right;\n",
       "    }\n",
       "</style>\n",
       "<table border=\"1\" class=\"dataframe\">\n",
       "  <thead>\n",
       "    <tr style=\"text-align: right;\">\n",
       "      <th></th>\n",
       "      <th>match_id</th>\n",
       "      <th>league</th>\n",
       "      <th>match_date</th>\n",
       "      <th>home_team</th>\n",
       "      <th>home_score</th>\n",
       "      <th>away_team</th>\n",
       "      <th>away_score</th>\n",
       "      <th>avg_odds_home_win</th>\n",
       "      <th>avg_odds_draw</th>\n",
       "      <th>avg_odds_away_win</th>\n",
       "      <th>max_odds_home_win</th>\n",
       "      <th>max_odds_draw</th>\n",
       "      <th>max_odds_away_win</th>\n",
       "    </tr>\n",
       "  </thead>\n",
       "  <tbody>\n",
       "    <tr>\n",
       "      <th>616</th>\n",
       "      <td>171624</td>\n",
       "      <td>bundesliga</td>\n",
       "      <td>2005-01-21</td>\n",
       "      <td>Bayern Munich</td>\n",
       "      <td>3</td>\n",
       "      <td>Hamburger SV</td>\n",
       "      <td>0</td>\n",
       "      <td>1.421</td>\n",
       "      <td>3.846</td>\n",
       "      <td>6.840</td>\n",
       "      <td>1.45</td>\n",
       "      <td>4.00</td>\n",
       "      <td>7.75</td>\n",
       "    </tr>\n",
       "    <tr>\n",
       "      <th>644</th>\n",
       "      <td>171806</td>\n",
       "      <td>bundesliga</td>\n",
       "      <td>2005-01-22</td>\n",
       "      <td>Wolfsburg</td>\n",
       "      <td>1</td>\n",
       "      <td>Dortmund</td>\n",
       "      <td>2</td>\n",
       "      <td>1.838</td>\n",
       "      <td>3.325</td>\n",
       "      <td>3.785</td>\n",
       "      <td>1.91</td>\n",
       "      <td>3.45</td>\n",
       "      <td>4.20</td>\n",
       "    </tr>\n",
       "    <tr>\n",
       "      <th>645</th>\n",
       "      <td>171805</td>\n",
       "      <td>bundesliga</td>\n",
       "      <td>2005-01-22</td>\n",
       "      <td>Schalke</td>\n",
       "      <td>2</td>\n",
       "      <td>Werder Bremen</td>\n",
       "      <td>1</td>\n",
       "      <td>1.996</td>\n",
       "      <td>3.245</td>\n",
       "      <td>3.360</td>\n",
       "      <td>2.13</td>\n",
       "      <td>3.35</td>\n",
       "      <td>3.75</td>\n",
       "    </tr>\n",
       "    <tr>\n",
       "      <th>646</th>\n",
       "      <td>171804</td>\n",
       "      <td>bundesliga</td>\n",
       "      <td>2005-01-22</td>\n",
       "      <td>Nurnberg</td>\n",
       "      <td>1</td>\n",
       "      <td>Kaiserslautern</td>\n",
       "      <td>3</td>\n",
       "      <td>1.957</td>\n",
       "      <td>3.270</td>\n",
       "      <td>3.435</td>\n",
       "      <td>2.00</td>\n",
       "      <td>3.45</td>\n",
       "      <td>3.75</td>\n",
       "    </tr>\n",
       "    <tr>\n",
       "      <th>647</th>\n",
       "      <td>171803</td>\n",
       "      <td>bundesliga</td>\n",
       "      <td>2005-01-22</td>\n",
       "      <td>Mainz</td>\n",
       "      <td>2</td>\n",
       "      <td>VfB Stuttgart</td>\n",
       "      <td>3</td>\n",
       "      <td>3.061</td>\n",
       "      <td>3.217</td>\n",
       "      <td>2.128</td>\n",
       "      <td>3.30</td>\n",
       "      <td>3.30</td>\n",
       "      <td>2.20</td>\n",
       "    </tr>\n",
       "  </tbody>\n",
       "</table>\n",
       "</div>"
      ],
      "text/plain": [
       "     match_id      league match_date      home_team  home_score  \\\n",
       "616    171624  bundesliga 2005-01-21  Bayern Munich           3   \n",
       "644    171806  bundesliga 2005-01-22      Wolfsburg           1   \n",
       "645    171805  bundesliga 2005-01-22        Schalke           2   \n",
       "646    171804  bundesliga 2005-01-22       Nurnberg           1   \n",
       "647    171803  bundesliga 2005-01-22          Mainz           2   \n",
       "\n",
       "          away_team  away_score  avg_odds_home_win  avg_odds_draw  \\\n",
       "616    Hamburger SV           0              1.421          3.846   \n",
       "644        Dortmund           2              1.838          3.325   \n",
       "645   Werder Bremen           1              1.996          3.245   \n",
       "646  Kaiserslautern           3              1.957          3.270   \n",
       "647   VfB Stuttgart           3              3.061          3.217   \n",
       "\n",
       "     avg_odds_away_win  max_odds_home_win  max_odds_draw  max_odds_away_win  \n",
       "616              6.840               1.45           4.00               7.75  \n",
       "644              3.785               1.91           3.45               4.20  \n",
       "645              3.360               2.13           3.35               3.75  \n",
       "646              3.435               2.00           3.45               3.75  \n",
       "647              2.128               3.30           3.30               2.20  "
      ]
     },
     "execution_count": 18,
     "metadata": {},
     "output_type": "execute_result"
    }
   ],
   "source": [
    "actual_leagues = df.league.unique()\n",
    "league_translation = reverse_dict(create_translation(meta_leagues, actual_leagues))\n",
    "df.league.replace(league_translation, inplace=True)\n",
    "\n",
    "league_df = df.loc[df.league.isin(meta_leagues)].copy()\n",
    "league_df.head()"
   ]
  },
  {
   "cell_type": "code",
   "execution_count": 19,
   "metadata": {},
   "outputs": [
    {
     "data": {
      "text/plain": [
       "2747"
      ]
     },
     "execution_count": 19,
     "metadata": {},
     "output_type": "execute_result"
    }
   ],
   "source": [
    "len(league_df)"
   ]
  },
  {
   "cell_type": "markdown",
   "metadata": {},
   "source": [
    "## Seasons"
   ]
  },
  {
   "cell_type": "code",
   "execution_count": 21,
   "metadata": {},
   "outputs": [
    {
     "data": {
      "text/plain": [
       "(2005, 1)"
      ]
     },
     "execution_count": 21,
     "metadata": {},
     "output_type": "execute_result"
    }
   ],
   "source": [
    "row = league_df.iloc[0,:]\n",
    "date = row.match_date\n",
    "date.year, date.month"
   ]
  },
  {
   "cell_type": "code",
   "execution_count": 23,
   "metadata": {},
   "outputs": [],
   "source": [
    "def season_from_date(row):\n",
    "    date = row.match_date\n",
    "    if date.month<=7:\n",
    "        season = (date.year-1)%100\n",
    "    else:\n",
    "        season = (date.year)%100\n",
    "\n",
    "    return season"
   ]
  },
  {
   "cell_type": "code",
   "execution_count": 26,
   "metadata": {},
   "outputs": [
    {
     "data": {
      "text/html": [
       "<div>\n",
       "<style scoped>\n",
       "    .dataframe tbody tr th:only-of-type {\n",
       "        vertical-align: middle;\n",
       "    }\n",
       "\n",
       "    .dataframe tbody tr th {\n",
       "        vertical-align: top;\n",
       "    }\n",
       "\n",
       "    .dataframe thead th {\n",
       "        text-align: right;\n",
       "    }\n",
       "</style>\n",
       "<table border=\"1\" class=\"dataframe\">\n",
       "  <thead>\n",
       "    <tr style=\"text-align: right;\">\n",
       "      <th></th>\n",
       "      <th>match_id</th>\n",
       "      <th>league</th>\n",
       "      <th>match_date</th>\n",
       "      <th>home_team</th>\n",
       "      <th>home_score</th>\n",
       "      <th>away_team</th>\n",
       "      <th>away_score</th>\n",
       "      <th>avg_odds_home_win</th>\n",
       "      <th>avg_odds_draw</th>\n",
       "      <th>avg_odds_away_win</th>\n",
       "      <th>max_odds_home_win</th>\n",
       "      <th>max_odds_draw</th>\n",
       "      <th>max_odds_away_win</th>\n",
       "      <th>season</th>\n",
       "    </tr>\n",
       "  </thead>\n",
       "  <tbody>\n",
       "    <tr>\n",
       "      <th>474730</th>\n",
       "      <td>870166</td>\n",
       "      <td>bundesliga</td>\n",
       "      <td>2015-05-23</td>\n",
       "      <td>Dortmund</td>\n",
       "      <td>3</td>\n",
       "      <td>Werder Bremen</td>\n",
       "      <td>2</td>\n",
       "      <td>1.2541</td>\n",
       "      <td>6.4234</td>\n",
       "      <td>9.9490</td>\n",
       "      <td>1.30</td>\n",
       "      <td>7.47</td>\n",
       "      <td>13.00</td>\n",
       "      <td>14</td>\n",
       "    </tr>\n",
       "    <tr>\n",
       "      <th>474731</th>\n",
       "      <td>870164</td>\n",
       "      <td>bundesliga</td>\n",
       "      <td>2015-05-23</td>\n",
       "      <td>Bayern Munich</td>\n",
       "      <td>2</td>\n",
       "      <td>Mainz</td>\n",
       "      <td>0</td>\n",
       "      <td>1.1700</td>\n",
       "      <td>7.9562</td>\n",
       "      <td>13.4545</td>\n",
       "      <td>1.20</td>\n",
       "      <td>9.48</td>\n",
       "      <td>17.00</td>\n",
       "      <td>14</td>\n",
       "    </tr>\n",
       "    <tr>\n",
       "      <th>474739</th>\n",
       "      <td>870165</td>\n",
       "      <td>bundesliga</td>\n",
       "      <td>2015-05-23</td>\n",
       "      <td>B. Monchengladbach</td>\n",
       "      <td>1</td>\n",
       "      <td>Augsburg</td>\n",
       "      <td>3</td>\n",
       "      <td>1.4703</td>\n",
       "      <td>4.5645</td>\n",
       "      <td>6.3879</td>\n",
       "      <td>1.53</td>\n",
       "      <td>5.00</td>\n",
       "      <td>7.16</td>\n",
       "      <td>14</td>\n",
       "    </tr>\n",
       "    <tr>\n",
       "      <th>475481</th>\n",
       "      <td>871556</td>\n",
       "      <td>bundesliga</td>\n",
       "      <td>2015-05-28</td>\n",
       "      <td>Hamburger SV</td>\n",
       "      <td>1</td>\n",
       "      <td>Karlsruher</td>\n",
       "      <td>1</td>\n",
       "      <td>2.2679</td>\n",
       "      <td>3.1768</td>\n",
       "      <td>3.2704</td>\n",
       "      <td>2.46</td>\n",
       "      <td>3.40</td>\n",
       "      <td>3.85</td>\n",
       "      <td>14</td>\n",
       "    </tr>\n",
       "    <tr>\n",
       "      <th>476386</th>\n",
       "      <td>872810</td>\n",
       "      <td>bundesliga</td>\n",
       "      <td>2015-06-01</td>\n",
       "      <td>Karlsruher</td>\n",
       "      <td>1</td>\n",
       "      <td>Hamburger SV</td>\n",
       "      <td>1</td>\n",
       "      <td>2.1682</td>\n",
       "      <td>3.3089</td>\n",
       "      <td>3.3564</td>\n",
       "      <td>2.30</td>\n",
       "      <td>3.45</td>\n",
       "      <td>3.87</td>\n",
       "      <td>14</td>\n",
       "    </tr>\n",
       "  </tbody>\n",
       "</table>\n",
       "</div>"
      ],
      "text/plain": [
       "        match_id      league match_date           home_team  home_score  \\\n",
       "474730    870166  bundesliga 2015-05-23            Dortmund           3   \n",
       "474731    870164  bundesliga 2015-05-23       Bayern Munich           2   \n",
       "474739    870165  bundesliga 2015-05-23  B. Monchengladbach           1   \n",
       "475481    871556  bundesliga 2015-05-28        Hamburger SV           1   \n",
       "476386    872810  bundesliga 2015-06-01          Karlsruher           1   \n",
       "\n",
       "            away_team  away_score  avg_odds_home_win  avg_odds_draw  \\\n",
       "474730  Werder Bremen           2             1.2541         6.4234   \n",
       "474731          Mainz           0             1.1700         7.9562   \n",
       "474739       Augsburg           3             1.4703         4.5645   \n",
       "475481     Karlsruher           1             2.2679         3.1768   \n",
       "476386   Hamburger SV           1             2.1682         3.3089   \n",
       "\n",
       "        avg_odds_away_win  max_odds_home_win  max_odds_draw  \\\n",
       "474730             9.9490               1.30           7.47   \n",
       "474731            13.4545               1.20           9.48   \n",
       "474739             6.3879               1.53           5.00   \n",
       "475481             3.2704               2.46           3.40   \n",
       "476386             3.3564               2.30           3.45   \n",
       "\n",
       "        max_odds_away_win  season  \n",
       "474730              13.00      14  \n",
       "474731              17.00      14  \n",
       "474739               7.16      14  \n",
       "475481               3.85      14  \n",
       "476386               3.87      14  "
      ]
     },
     "execution_count": 26,
     "metadata": {},
     "output_type": "execute_result"
    }
   ],
   "source": [
    "league_df['season'] = league_df.apply(func=season_from_date, axis=1)\n",
    "\n",
    "league_df.tail()"
   ]
  },
  {
   "cell_type": "code",
   "execution_count": 28,
   "metadata": {},
   "outputs": [
    {
     "name": "stdout",
     "output_type": "stream",
     "text": [
      "4 153\n",
      "5 272\n",
      "6 306\n",
      "7 306\n",
      "8 274\n",
      "9 272\n",
      "11 272\n",
      "12 308\n",
      "13 308\n",
      "14 276\n"
     ]
    }
   ],
   "source": [
    "for season,group in league_df.groupby('season'):\n",
    "    print(season, len(group))"
   ]
  },
  {
   "cell_type": "markdown",
   "metadata": {},
   "source": [
    "## Team names"
   ]
  },
  {
   "cell_type": "code",
   "execution_count": null,
   "metadata": {},
   "outputs": [],
   "source": [
    "standings = pd.read_feather(meta_path/'standings.feather')\n",
    "standings.head()"
   ]
  },
  {
   "cell_type": "code",
   "execution_count": null,
   "metadata": {},
   "outputs": [],
   "source": [
    "league = 'bundesliga'\n",
    "league_standings = standings.loc[standings.league==league, :].copy()\n",
    "target_teams = list(league_standings.team.unique())\n",
    "len(target_teams)"
   ]
  },
  {
   "cell_type": "code",
   "execution_count": null,
   "metadata": {},
   "outputs": [],
   "source": [
    "actual_teams = list(buli_df.home_team.unique())\n",
    "len(actual_teams)"
   ]
  },
  {
   "cell_type": "code",
   "execution_count": null,
   "metadata": {},
   "outputs": [],
   "source": [
    "def similar(a, b):\n",
    "    return SequenceMatcher(None, a, b).ratio()"
   ]
  },
  {
   "cell_type": "code",
   "execution_count": null,
   "metadata": {},
   "outputs": [],
   "source": [
    "translation = {}\n",
    "\n",
    "for actual_team in actual_teams:\n",
    "    scores = np.array([similar(actual_team, target_team) for target_team in target_teams])\n",
    "    max_id = scores.argmax()\n",
    "    translation[actual_team] = target_teams[max_id]\n",
    "\n",
    "translation"
   ]
  },
  {
   "cell_type": "code",
   "execution_count": null,
   "metadata": {},
   "outputs": [],
   "source": [
    "buli_df['home_team'].replace(translation, inplace=True)\n",
    "buli_df['away_team'].replace(translation, inplace=True)"
   ]
  },
  {
   "cell_type": "code",
   "execution_count": null,
   "metadata": {},
   "outputs": [],
   "source": [
    "buli_df.head()"
   ]
  },
  {
   "cell_type": "markdown",
   "metadata": {
    "heading_collapsed": "true"
   },
   "source": [
    "## Matchday"
   ]
  },
  {
   "cell_type": "code",
   "execution_count": null,
   "metadata": {},
   "outputs": [],
   "source": [
    "seasons = matches_df.season.unique()\n",
    "season_translation = {season: int(season[:2]) for season in seasons}\n",
    "\n",
    "matches_df.season.replace(season_translation, inplace=True)\n",
    "matches_df.rename(columns={'home_goals':'home_score', 'away_goals':'away_score'}, inplace=True)\n",
    "matches_df.head()"
   ]
  },
  {
   "cell_type": "code",
   "execution_count": null,
   "metadata": {},
   "outputs": [],
   "source": [
    " len(buli_df), len(matches_df)"
   ]
  },
  {
   "cell_type": "code",
   "execution_count": null,
   "metadata": {},
   "outputs": [],
   "source": [
    "buli_df = pd.merge(buli_df, matches_df, on=['season', 'league', 'home_team', 'away_team', 'home_score', 'away_score'])\n",
    "buli_df.tail()"
   ]
  },
  {
   "cell_type": "markdown",
   "metadata": {},
   "source": [
    "## Standing"
   ]
  },
  {
   "cell_type": "code",
   "execution_count": null,
   "metadata": {},
   "outputs": [],
   "source": [
    "join_standings = standings.copy()\n",
    "join_standings.matchday += 1\n",
    "join_standings.season.replace(season_translation, inplace=True)\n",
    "\n",
    "join_standings.head()"
   ]
  },
  {
   "cell_type": "code",
   "execution_count": null,
   "metadata": {},
   "outputs": [],
   "source": [
    "joined = merge_with_prefix(buli_df, join_standings, 'home_', left_on=['home_team', 'matchday', 'season', 'league'], right_on=['team', 'matchday', 'season', 'league'])\n",
    "joined = merge_with_prefix(buli_df, join_standings, 'away_', left_on=['away_team', 'matchday', 'season', 'league'], right_on=['team', 'matchday', 'season', 'league'])\n",
    "joined.head()"
   ]
  },
  {
   "cell_type": "code",
   "execution_count": null,
   "metadata": {},
   "outputs": [],
   "source": []
  }
 ],
 "metadata": {
  "kernelspec": {
   "display_name": "Python 3",
   "language": "python",
   "name": "python3"
  },
  "language_info": {
   "codemirror_mode": {
    "name": "ipython",
    "version": 3
   },
   "file_extension": ".py",
   "mimetype": "text/x-python",
   "name": "python",
   "nbconvert_exporter": "python",
   "pygments_lexer": "ipython3",
   "version": "3.8.5"
  }
 },
 "nbformat": 4,
 "nbformat_minor": 4
}
