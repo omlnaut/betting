{
 "cells": [
  {
   "cell_type": "code",
   "execution_count": 1,
   "metadata": {},
   "outputs": [],
   "source": [
    "%load_ext autoreload\n",
    "%autoreload 2"
   ]
  },
  {
   "cell_type": "code",
   "execution_count": 30,
   "metadata": {},
   "outputs": [],
   "source": [
    "from betting.scraping import *\n",
    "\n",
    "import urllib.request\n",
    "import re\n",
    "from dataclasses import dataclass"
   ]
  },
  {
   "cell_type": "markdown",
   "metadata": {},
   "source": [
    "# Scraping for bundesliga data"
   ]
  },
  {
   "cell_type": "code",
   "execution_count": 3,
   "metadata": {},
   "outputs": [],
   "source": [
    "base_url = 'https://www.sport.de'\n",
    "example_url = base_url + '/fussball/deutschland-bundesliga/se580/2006-2007/ergebnisse-und-tabelle'"
   ]
  },
  {
   "cell_type": "code",
   "execution_count": 4,
   "metadata": {},
   "outputs": [],
   "source": [
    "bs = get_html(example_url)"
   ]
  },
  {
   "cell_type": "markdown",
   "metadata": {},
   "source": [
    "## Find season links"
   ]
  },
  {
   "cell_type": "code",
   "execution_count": 5,
   "metadata": {},
   "outputs": [],
   "source": [
    "select_element = bs.find_all('select', {'class': 'navigation season-navigation'})[0]\n",
    "seasons = {}\n",
    "\n",
    "for option in select_element.find_all('option'):\n",
    "    match = re.match(r'''/fussball/deutschland-bundesliga/.+/(\\d\\d\\d\\d-\\d\\d\\d\\d)/ergebnisse-und-tabelle/''', option['value'])\n",
    "    if match is None:\n",
    "        print(option['value'])\n",
    "        continue\n",
    "    url = match.group(0)\n",
    "    season = match.group(1)\n",
    "    season = season[2] + season[3] + season[7] + season[8]\n",
    "    seasons[season] = url"
   ]
  },
  {
   "cell_type": "code",
   "execution_count": 6,
   "metadata": {},
   "outputs": [
    {
     "data": {
      "text/plain": [
       "{'2021': '/fussball/deutschland-bundesliga/se35753/2020-2021/ergebnisse-und-tabelle/',\n",
       " '1920': '/fussball/deutschland-bundesliga/se31723/2019-2020/ergebnisse-und-tabelle/',\n",
       " '1819': '/fussball/deutschland-bundesliga/se28567/2018-2019/ergebnisse-und-tabelle/',\n",
       " '1718': '/fussball/deutschland-bundesliga/se23906/2017-2018/ergebnisse-und-tabelle/',\n",
       " '1617': '/fussball/deutschland-bundesliga/se20812/2016-2017/ergebnisse-und-tabelle/',\n",
       " '1516': '/fussball/deutschland-bundesliga/se18336/2015-2016/ergebnisse-und-tabelle/',\n",
       " '1415': '/fussball/deutschland-bundesliga/se15388/2014-2015/ergebnisse-und-tabelle/',\n",
       " '1314': '/fussball/deutschland-bundesliga/se11976/2013-2014/ergebnisse-und-tabelle/',\n",
       " '1213': '/fussball/deutschland-bundesliga/se9024/2012-2013/ergebnisse-und-tabelle/',\n",
       " '1112': '/fussball/deutschland-bundesliga/se7094/2011-2012/ergebnisse-und-tabelle/',\n",
       " '1011': '/fussball/deutschland-bundesliga/se5823/2010-2011/ergebnisse-und-tabelle/',\n",
       " '0910': '/fussball/deutschland-bundesliga/se1459/2009-2010/ergebnisse-und-tabelle/',\n",
       " '0809': '/fussball/deutschland-bundesliga/se12/2008-2009/ergebnisse-und-tabelle/',\n",
       " '0708': '/fussball/deutschland-bundesliga/se579/2007-2008/ergebnisse-und-tabelle/',\n",
       " '0607': '/fussball/deutschland-bundesliga/se580/2006-2007/ergebnisse-und-tabelle/',\n",
       " '0506': '/fussball/deutschland-bundesliga/se4034/2005-2006/ergebnisse-und-tabelle/',\n",
       " '0405': '/fussball/deutschland-bundesliga/se3785/2004-2005/ergebnisse-und-tabelle/',\n",
       " '0304': '/fussball/deutschland-bundesliga/se3146/2003-2004/ergebnisse-und-tabelle/',\n",
       " '0203': '/fussball/deutschland-bundesliga/se2747/2002-2003/ergebnisse-und-tabelle/',\n",
       " '0102': '/fussball/deutschland-bundesliga/se2623/2001-2002/ergebnisse-und-tabelle/',\n",
       " '0001': '/fussball/deutschland-bundesliga/se2622/2000-2001/ergebnisse-und-tabelle/',\n",
       " '9900': '/fussball/deutschland-bundesliga/se2621/1999-2000/ergebnisse-und-tabelle/',\n",
       " '9899': '/fussball/deutschland-bundesliga/se2620/1998-1999/ergebnisse-und-tabelle/',\n",
       " '9798': '/fussball/deutschland-bundesliga/se2619/1997-1998/ergebnisse-und-tabelle/',\n",
       " '9697': '/fussball/deutschland-bundesliga/se2618/1996-1997/ergebnisse-und-tabelle/',\n",
       " '9596': '/fussball/deutschland-bundesliga/se2617/1995-1996/ergebnisse-und-tabelle/',\n",
       " '9495': '/fussball/deutschland-bundesliga/se2616/1994-1995/ergebnisse-und-tabelle/',\n",
       " '9394': '/fussball/deutschland-bundesliga/se2615/1993-1994/ergebnisse-und-tabelle/',\n",
       " '9293': '/fussball/deutschland-bundesliga/se2614/1992-1993/ergebnisse-und-tabelle/',\n",
       " '9192': '/fussball/deutschland-bundesliga/se2613/1991-1992/ergebnisse-und-tabelle/',\n",
       " '9091': '/fussball/deutschland-bundesliga/se2612/1990-1991/ergebnisse-und-tabelle/',\n",
       " '8990': '/fussball/deutschland-bundesliga/se2611/1989-1990/ergebnisse-und-tabelle/',\n",
       " '8889': '/fussball/deutschland-bundesliga/se2610/1988-1989/ergebnisse-und-tabelle/',\n",
       " '8788': '/fussball/deutschland-bundesliga/se2609/1987-1988/ergebnisse-und-tabelle/',\n",
       " '8687': '/fussball/deutschland-bundesliga/se2608/1986-1987/ergebnisse-und-tabelle/',\n",
       " '8586': '/fussball/deutschland-bundesliga/se2607/1985-1986/ergebnisse-und-tabelle/',\n",
       " '8485': '/fussball/deutschland-bundesliga/se2606/1984-1985/ergebnisse-und-tabelle/',\n",
       " '8384': '/fussball/deutschland-bundesliga/se2605/1983-1984/ergebnisse-und-tabelle/',\n",
       " '8283': '/fussball/deutschland-bundesliga/se2604/1982-1983/ergebnisse-und-tabelle/',\n",
       " '8182': '/fussball/deutschland-bundesliga/se2603/1981-1982/ergebnisse-und-tabelle/',\n",
       " '8081': '/fussball/deutschland-bundesliga/se2602/1980-1981/ergebnisse-und-tabelle/',\n",
       " '7980': '/fussball/deutschland-bundesliga/se2601/1979-1980/ergebnisse-und-tabelle/',\n",
       " '7879': '/fussball/deutschland-bundesliga/se2600/1978-1979/ergebnisse-und-tabelle/',\n",
       " '7778': '/fussball/deutschland-bundesliga/se2599/1977-1978/ergebnisse-und-tabelle/',\n",
       " '7677': '/fussball/deutschland-bundesliga/se2598/1976-1977/ergebnisse-und-tabelle/',\n",
       " '7576': '/fussball/deutschland-bundesliga/se2597/1975-1976/ergebnisse-und-tabelle/',\n",
       " '7475': '/fussball/deutschland-bundesliga/se2596/1974-1975/ergebnisse-und-tabelle/',\n",
       " '7374': '/fussball/deutschland-bundesliga/se2595/1973-1974/ergebnisse-und-tabelle/',\n",
       " '7273': '/fussball/deutschland-bundesliga/se2594/1972-1973/ergebnisse-und-tabelle/',\n",
       " '7172': '/fussball/deutschland-bundesliga/se2593/1971-1972/ergebnisse-und-tabelle/',\n",
       " '7071': '/fussball/deutschland-bundesliga/se2592/1970-1971/ergebnisse-und-tabelle/',\n",
       " '6970': '/fussball/deutschland-bundesliga/se2591/1969-1970/ergebnisse-und-tabelle/',\n",
       " '6869': '/fussball/deutschland-bundesliga/se2590/1968-1969/ergebnisse-und-tabelle/',\n",
       " '6768': '/fussball/deutschland-bundesliga/se2589/1967-1968/ergebnisse-und-tabelle/',\n",
       " '6667': '/fussball/deutschland-bundesliga/se2588/1966-1967/ergebnisse-und-tabelle/',\n",
       " '6566': '/fussball/deutschland-bundesliga/se2587/1965-1966/ergebnisse-und-tabelle/',\n",
       " '6465': '/fussball/deutschland-bundesliga/se2586/1964-1965/ergebnisse-und-tabelle/',\n",
       " '6364': '/fussball/deutschland-bundesliga/se2585/1963-1964/ergebnisse-und-tabelle/'}"
      ]
     },
     "execution_count": 6,
     "metadata": {},
     "output_type": "execute_result"
    }
   ],
   "source": [
    "seasons"
   ]
  },
  {
   "cell_type": "markdown",
   "metadata": {},
   "source": [
    "## Matchday information"
   ]
  },
  {
   "cell_type": "markdown",
   "metadata": {},
   "source": [
    "### Matchday links"
   ]
  },
  {
   "cell_type": "code",
   "execution_count": 7,
   "metadata": {},
   "outputs": [],
   "source": [
    "season = seasons['1213']\n",
    "bs = get_html(base_url+season)"
   ]
  },
  {
   "cell_type": "code",
   "execution_count": 8,
   "metadata": {},
   "outputs": [],
   "source": [
    "def get_matchday_links(bs, expected_length=34):\n",
    "    matchday_links = []\n",
    "    for li in bs.find_all('li'):\n",
    "        try:\n",
    "            matchday_links.append(li['data'])\n",
    "        except:\n",
    "            pass\n",
    "\n",
    "    assert len(matchday_links)==expected_length, f'Expected: {expected_length}. Actual: {len(matchday_links)}'\n",
    "    return matchday_links"
   ]
  },
  {
   "cell_type": "code",
   "execution_count": 9,
   "metadata": {},
   "outputs": [
    {
     "data": {
      "text/plain": [
       "['/fussball/deutschland-bundesliga/se9024/2012-2013/ro29872/spieltag/md1/ergebnisse-und-tabelle/',\n",
       " '/fussball/deutschland-bundesliga/se9024/2012-2013/ro29872/spieltag/md2/ergebnisse-und-tabelle/',\n",
       " '/fussball/deutschland-bundesliga/se9024/2012-2013/ro29872/spieltag/md3/ergebnisse-und-tabelle/',\n",
       " '/fussball/deutschland-bundesliga/se9024/2012-2013/ro29872/spieltag/md4/ergebnisse-und-tabelle/',\n",
       " '/fussball/deutschland-bundesliga/se9024/2012-2013/ro29872/spieltag/md5/ergebnisse-und-tabelle/']"
      ]
     },
     "execution_count": 9,
     "metadata": {},
     "output_type": "execute_result"
    }
   ],
   "source": [
    "matchday_links = get_matchday_links(bs)\n",
    "matchday_links[:5]"
   ]
  },
  {
   "cell_type": "markdown",
   "metadata": {},
   "source": [
    "### Dates"
   ]
  },
  {
   "cell_type": "code",
   "execution_count": 10,
   "metadata": {},
   "outputs": [],
   "source": [
    "matchday_link = matchday_links[0]\n",
    "bs = get_html(base_url+matchday_link)"
   ]
  },
  {
   "cell_type": "code",
   "execution_count": 11,
   "metadata": {},
   "outputs": [],
   "source": [
    "def get_matchday_dates(matchday_bs):\n",
    "    divs = bs.find_all('div', {'class': 'match-date'})\n",
    "    dates = [div.text.split(' ')[0] for div in divs]\n",
    "    return dates"
   ]
  },
  {
   "cell_type": "code",
   "execution_count": 12,
   "metadata": {},
   "outputs": [
    {
     "data": {
      "text/plain": [
       "['24.08.2012', '25.08.2012', '25.08.2012', '25.08.2012', '26.08.2012']"
      ]
     },
     "execution_count": 12,
     "metadata": {},
     "output_type": "execute_result"
    }
   ],
   "source": [
    "get_matchday_dates(bs)"
   ]
  },
  {
   "cell_type": "code",
   "execution_count": 13,
   "metadata": {},
   "outputs": [
    {
     "data": {
      "text/plain": [
       "'/fussball/deutschland-bundesliga/se9024/2012-2013/ro29872/spieltag/md1/ergebnisse-und-tabelle/'"
      ]
     },
     "execution_count": 13,
     "metadata": {},
     "output_type": "execute_result"
    }
   ],
   "source": [
    "matchday_link"
   ]
  },
  {
   "cell_type": "markdown",
   "metadata": {},
   "source": [
    "### Matches"
   ]
  },
  {
   "cell_type": "code",
   "execution_count": 79,
   "metadata": {},
   "outputs": [],
   "source": [
    "@dataclass\n",
    "class Match:\n",
    "    home_team: str\n",
    "    away_team: str\n",
    "    home_goals: int\n",
    "    away_goals: int"
   ]
  },
  {
   "cell_type": "code",
   "execution_count": 80,
   "metadata": {},
   "outputs": [
    {
     "data": {
      "text/plain": [
       "9"
      ]
     },
     "execution_count": 80,
     "metadata": {},
     "output_type": "execute_result"
    }
   ],
   "source": [
    "divs = [div for div in bs.find_all('div') if 'position' in div.attrs.keys()]\n",
    "len(divs)"
   ]
  },
  {
   "cell_type": "code",
   "execution_count": 81,
   "metadata": {},
   "outputs": [],
   "source": [
    "def get_match_infos(matchday_bs):\n",
    "    divs = [div for div in bs.find_all('div') if 'position' in div.attrs.keys()]\n",
    "    matches = []\n",
    "    for div in divs:\n",
    "        home_team = div.find('div', {'class', 'team-shortname-home'}).text\n",
    "        away_team = div.find('div', {'class', 'team-shortname-away'}).text\n",
    "        \n",
    "        home_div = div.find('div', {'class', 'match-result match-result-home'})\n",
    "        home_goals = int(home_div.find('div', {'class': 'match-result match-result-0'}).text)\n",
    "        \n",
    "        away_div = div.find('div', {'class', 'match-result match-result-away'})\n",
    "        away_goals = int(away_div.find('div', {'class': 'match-result match-result-0'}).text)\n",
    "\n",
    "        match = Match(home_team, away_team, home_goals, away_goals)\n",
    "        matches.append(match)\n",
    "        \n",
    "    return matches"
   ]
  },
  {
   "cell_type": "code",
   "execution_count": 83,
   "metadata": {},
   "outputs": [
    {
     "data": {
      "text/plain": [
       "[Match(home_team='Dortmund', away_team='SV Werder', home_goals=2, away_goals=1),\n",
       " Match(home_team=\"M'gladbach\", away_team='Hoffenheim', home_goals=2, away_goals=1),\n",
       " Match(home_team='SC Freiburg', away_team='Mainz 05', home_goals=1, away_goals=1),\n",
       " Match(home_team='Augsburg', away_team='Düsseldorf', home_goals=0, away_goals=2),\n",
       " Match(home_team='Hamburger SV', away_team='Nürnberg', home_goals=0, away_goals=1),\n",
       " Match(home_team='Gr. Fürth', away_team='FC Bayern', home_goals=0, away_goals=3),\n",
       " Match(home_team='Frankfurt', away_team='Leverkusen', home_goals=2, away_goals=1),\n",
       " Match(home_team='VfB Stuttgart', away_team='Wolfsburg', home_goals=0, away_goals=1),\n",
       " Match(home_team='Hannover 96', away_team='Schalke 04', home_goals=2, away_goals=2)]"
      ]
     },
     "execution_count": 83,
     "metadata": {},
     "output_type": "execute_result"
    }
   ],
   "source": [
    "matches = get_match_infos(bs)\n",
    "matches"
   ]
  },
  {
   "cell_type": "markdown",
   "metadata": {},
   "source": [
    "### Standings"
   ]
  },
  {
   "cell_type": "code",
   "execution_count": null,
   "metadata": {},
   "outputs": [],
   "source": []
  }
 ],
 "metadata": {
  "kernelspec": {
   "display_name": "Python 3",
   "language": "python",
   "name": "python3"
  },
  "language_info": {
   "codemirror_mode": {
    "name": "ipython",
    "version": 3
   },
   "file_extension": ".py",
   "mimetype": "text/x-python",
   "name": "python",
   "nbconvert_exporter": "python",
   "pygments_lexer": "ipython3",
   "version": "3.8.3"
  }
 },
 "nbformat": 4,
 "nbformat_minor": 4
}
