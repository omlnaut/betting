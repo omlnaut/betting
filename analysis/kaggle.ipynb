{
 "cells": [
  {
   "cell_type": "code",
   "execution_count": 1,
   "metadata": {},
   "outputs": [],
   "source": [
    "%load_ext autoreload\n",
    "%autoreload 2"
   ]
  },
  {
   "cell_type": "code",
   "execution_count": 2,
   "metadata": {},
   "outputs": [],
   "source": [
    "from fastai.tabular.all import *\n",
    "import betting.feature_engineering as features"
   ]
  },
  {
   "cell_type": "markdown",
   "metadata": {},
   "source": [
    "# Kaggle analysis"
   ]
  },
  {
   "cell_type": "markdown",
   "metadata": {},
   "source": [
    "## Data preparation"
   ]
  },
  {
   "cell_type": "code",
   "execution_count": 3,
   "metadata": {},
   "outputs": [
    {
     "data": {
      "text/plain": [
       "(#3) [Path('../data/kaggle/.ipynb_checkpoints'),Path('../data/kaggle/closing_odds.feather'),Path('../data/kaggle/closed_preprocess.feather')]"
      ]
     },
     "execution_count": 3,
     "metadata": {},
     "output_type": "execute_result"
    }
   ],
   "source": [
    "data_dir = Path('../data/kaggle')\n",
    "data_dir.ls()"
   ]
  },
  {
   "cell_type": "code",
   "execution_count": 4,
   "metadata": {},
   "outputs": [
    {
     "data": {
      "text/html": [
       "<div>\n",
       "<style scoped>\n",
       "    .dataframe tbody tr th:only-of-type {\n",
       "        vertical-align: middle;\n",
       "    }\n",
       "\n",
       "    .dataframe tbody tr th {\n",
       "        vertical-align: top;\n",
       "    }\n",
       "\n",
       "    .dataframe thead th {\n",
       "        text-align: right;\n",
       "    }\n",
       "</style>\n",
       "<table border=\"1\" class=\"dataframe\">\n",
       "  <thead>\n",
       "    <tr style=\"text-align: right;\">\n",
       "      <th></th>\n",
       "      <th>match_id</th>\n",
       "      <th>league</th>\n",
       "      <th>match_date</th>\n",
       "      <th>home_team</th>\n",
       "      <th>home_score</th>\n",
       "      <th>away_team</th>\n",
       "      <th>away_score</th>\n",
       "      <th>avg_odds_home_win</th>\n",
       "      <th>avg_odds_draw</th>\n",
       "      <th>avg_odds_away_win</th>\n",
       "      <th>max_odds_home_win</th>\n",
       "      <th>max_odds_draw</th>\n",
       "      <th>max_odds_away_win</th>\n",
       "    </tr>\n",
       "  </thead>\n",
       "  <tbody>\n",
       "    <tr>\n",
       "      <th>0</th>\n",
       "      <td>170088</td>\n",
       "      <td>England: Premier League</td>\n",
       "      <td>2005-01-01</td>\n",
       "      <td>Liverpool</td>\n",
       "      <td>0</td>\n",
       "      <td>Chelsea</td>\n",
       "      <td>1</td>\n",
       "      <td>2.9944</td>\n",
       "      <td>3.1944</td>\n",
       "      <td>2.2256</td>\n",
       "      <td>3.20</td>\n",
       "      <td>3.25</td>\n",
       "      <td>2.29</td>\n",
       "    </tr>\n",
       "    <tr>\n",
       "      <th>1</th>\n",
       "      <td>170125</td>\n",
       "      <td>England: League Two</td>\n",
       "      <td>2005-01-01</td>\n",
       "      <td>Lincoln City</td>\n",
       "      <td>1</td>\n",
       "      <td>Bury</td>\n",
       "      <td>0</td>\n",
       "      <td>1.8667</td>\n",
       "      <td>3.2222</td>\n",
       "      <td>3.6922</td>\n",
       "      <td>1.91</td>\n",
       "      <td>3.30</td>\n",
       "      <td>3.93</td>\n",
       "    </tr>\n",
       "    <tr>\n",
       "      <th>2</th>\n",
       "      <td>170126</td>\n",
       "      <td>England: League Two</td>\n",
       "      <td>2005-01-01</td>\n",
       "      <td>Macclesfield</td>\n",
       "      <td>1</td>\n",
       "      <td>Chester</td>\n",
       "      <td>2</td>\n",
       "      <td>1.7822</td>\n",
       "      <td>3.3000</td>\n",
       "      <td>4.0000</td>\n",
       "      <td>1.85</td>\n",
       "      <td>3.50</td>\n",
       "      <td>4.34</td>\n",
       "    </tr>\n",
       "    <tr>\n",
       "      <th>3</th>\n",
       "      <td>170127</td>\n",
       "      <td>England: League Two</td>\n",
       "      <td>2005-01-01</td>\n",
       "      <td>Oxford Utd</td>\n",
       "      <td>2</td>\n",
       "      <td>Wycombe</td>\n",
       "      <td>1</td>\n",
       "      <td>2.3122</td>\n",
       "      <td>3.1967</td>\n",
       "      <td>2.7067</td>\n",
       "      <td>2.38</td>\n",
       "      <td>3.27</td>\n",
       "      <td>2.85</td>\n",
       "    </tr>\n",
       "    <tr>\n",
       "      <th>4</th>\n",
       "      <td>170128</td>\n",
       "      <td>England: League Two</td>\n",
       "      <td>2005-01-01</td>\n",
       "      <td>Scunthorpe</td>\n",
       "      <td>0</td>\n",
       "      <td>Darlington</td>\n",
       "      <td>1</td>\n",
       "      <td>1.6411</td>\n",
       "      <td>3.3922</td>\n",
       "      <td>4.7078</td>\n",
       "      <td>1.67</td>\n",
       "      <td>3.50</td>\n",
       "      <td>5.50</td>\n",
       "    </tr>\n",
       "  </tbody>\n",
       "</table>\n",
       "</div>"
      ],
      "text/plain": [
       "   match_id                   league match_date     home_team  home_score  \\\n",
       "0    170088  England: Premier League 2005-01-01     Liverpool           0   \n",
       "1    170125      England: League Two 2005-01-01  Lincoln City           1   \n",
       "2    170126      England: League Two 2005-01-01  Macclesfield           1   \n",
       "3    170127      England: League Two 2005-01-01    Oxford Utd           2   \n",
       "4    170128      England: League Two 2005-01-01    Scunthorpe           0   \n",
       "\n",
       "    away_team  away_score  avg_odds_home_win  avg_odds_draw  \\\n",
       "0     Chelsea           1             2.9944         3.1944   \n",
       "1        Bury           0             1.8667         3.2222   \n",
       "2     Chester           2             1.7822         3.3000   \n",
       "3     Wycombe           1             2.3122         3.1967   \n",
       "4  Darlington           1             1.6411         3.3922   \n",
       "\n",
       "   avg_odds_away_win  max_odds_home_win  max_odds_draw  max_odds_away_win  \n",
       "0             2.2256               3.20           3.25               2.29  \n",
       "1             3.6922               1.91           3.30               3.93  \n",
       "2             4.0000               1.85           3.50               4.34  \n",
       "3             2.7067               2.38           3.27               2.85  \n",
       "4             4.7078               1.67           3.50               5.50  "
      ]
     },
     "execution_count": 4,
     "metadata": {},
     "output_type": "execute_result"
    }
   ],
   "source": [
    "raw_df = pd.read_feather(data_dir/'closing_odds.feather')\n",
    "raw_df.head()"
   ]
  },
  {
   "cell_type": "code",
   "execution_count": 5,
   "metadata": {},
   "outputs": [],
   "source": [
    "raw_df['result'] = features.results_from_goals(raw_df, 'home_score', 'away_score')"
   ]
  },
  {
   "cell_type": "markdown",
   "metadata": {},
   "source": [
    "## Odds only"
   ]
  },
  {
   "cell_type": "markdown",
   "metadata": {},
   "source": [
    "To see if this method is viable at all we'll use the maximum odds for betting."
   ]
  },
  {
   "cell_type": "code",
   "execution_count": 6,
   "metadata": {},
   "outputs": [
    {
     "data": {
      "text/html": [
       "<div>\n",
       "<style scoped>\n",
       "    .dataframe tbody tr th:only-of-type {\n",
       "        vertical-align: middle;\n",
       "    }\n",
       "\n",
       "    .dataframe tbody tr th {\n",
       "        vertical-align: top;\n",
       "    }\n",
       "\n",
       "    .dataframe thead th {\n",
       "        text-align: right;\n",
       "    }\n",
       "</style>\n",
       "<table border=\"1\" class=\"dataframe\">\n",
       "  <thead>\n",
       "    <tr style=\"text-align: right;\">\n",
       "      <th></th>\n",
       "      <th>x_home</th>\n",
       "      <th>x_draw</th>\n",
       "      <th>x_away</th>\n",
       "      <th>y_home</th>\n",
       "      <th>y_draw</th>\n",
       "      <th>y_away</th>\n",
       "    </tr>\n",
       "  </thead>\n",
       "  <tbody>\n",
       "    <tr>\n",
       "      <th>0</th>\n",
       "      <td>3.20</td>\n",
       "      <td>3.25</td>\n",
       "      <td>2.29</td>\n",
       "      <td>-1.00</td>\n",
       "      <td>-1.0</td>\n",
       "      <td>1.29</td>\n",
       "    </tr>\n",
       "    <tr>\n",
       "      <th>1</th>\n",
       "      <td>1.91</td>\n",
       "      <td>3.30</td>\n",
       "      <td>3.93</td>\n",
       "      <td>0.91</td>\n",
       "      <td>-1.0</td>\n",
       "      <td>-1.00</td>\n",
       "    </tr>\n",
       "    <tr>\n",
       "      <th>2</th>\n",
       "      <td>1.85</td>\n",
       "      <td>3.50</td>\n",
       "      <td>4.34</td>\n",
       "      <td>-1.00</td>\n",
       "      <td>-1.0</td>\n",
       "      <td>3.34</td>\n",
       "    </tr>\n",
       "    <tr>\n",
       "      <th>3</th>\n",
       "      <td>2.38</td>\n",
       "      <td>3.27</td>\n",
       "      <td>2.85</td>\n",
       "      <td>1.38</td>\n",
       "      <td>-1.0</td>\n",
       "      <td>-1.00</td>\n",
       "    </tr>\n",
       "    <tr>\n",
       "      <th>4</th>\n",
       "      <td>1.67</td>\n",
       "      <td>3.50</td>\n",
       "      <td>5.50</td>\n",
       "      <td>-1.00</td>\n",
       "      <td>-1.0</td>\n",
       "      <td>4.50</td>\n",
       "    </tr>\n",
       "  </tbody>\n",
       "</table>\n",
       "</div>"
      ],
      "text/plain": [
       "   x_home  x_draw  x_away  y_home  y_draw  y_away\n",
       "0    3.20    3.25    2.29   -1.00    -1.0    1.29\n",
       "1    1.91    3.30    3.93    0.91    -1.0   -1.00\n",
       "2    1.85    3.50    4.34   -1.00    -1.0    3.34\n",
       "3    2.38    3.27    2.85    1.38    -1.0   -1.00\n",
       "4    1.67    3.50    5.50   -1.00    -1.0    4.50"
      ]
     },
     "execution_count": 6,
     "metadata": {},
     "output_type": "execute_result"
    }
   ],
   "source": [
    "odds_df = pd.DataFrame()\n",
    "\n",
    "odds_df['x_home'] = raw_df.max_odds_home_win\n",
    "odds_df['x_draw'] = raw_df.max_odds_draw\n",
    "odds_df['x_away'] = raw_df.max_odds_away_win\n",
    "\n",
    "odds_df = odds_df.merge(features.create_profit_df(raw_df, 'max_odds_home_win', 'max_odds_draw', 'max_odds_away_win'),\n",
    "                        left_index=True, right_index=True)\n",
    "\n",
    "#odds_df['y_none'] = 0\n",
    "odds_df.head()"
   ]
  },
  {
   "cell_type": "markdown",
   "metadata": {},
   "source": [
    "### Add league info"
   ]
  },
  {
   "cell_type": "markdown",
   "metadata": {},
   "source": [
    "Due to a bug(?) in fastai we need at least one categorical column for the model to work, so we'll add the league name and the country (or 'category' in case of 'world' and 'europe')."
   ]
  },
  {
   "cell_type": "code",
   "execution_count": 7,
   "metadata": {},
   "outputs": [],
   "source": [
    "league_df = raw_df.league.str.split(pat=': ', expand=True)\n",
    "league_df.columns = ['country', 'league']"
   ]
  },
  {
   "cell_type": "code",
   "execution_count": 8,
   "metadata": {},
   "outputs": [],
   "source": [
    "odds_df['country'] = league_df.country\n",
    "odds_df['league'] = league_df.league"
   ]
  },
  {
   "cell_type": "code",
   "execution_count": 9,
   "metadata": {},
   "outputs": [
    {
     "data": {
      "text/html": [
       "<div>\n",
       "<style scoped>\n",
       "    .dataframe tbody tr th:only-of-type {\n",
       "        vertical-align: middle;\n",
       "    }\n",
       "\n",
       "    .dataframe tbody tr th {\n",
       "        vertical-align: top;\n",
       "    }\n",
       "\n",
       "    .dataframe thead th {\n",
       "        text-align: right;\n",
       "    }\n",
       "</style>\n",
       "<table border=\"1\" class=\"dataframe\">\n",
       "  <thead>\n",
       "    <tr style=\"text-align: right;\">\n",
       "      <th></th>\n",
       "      <th>x_home</th>\n",
       "      <th>x_draw</th>\n",
       "      <th>x_away</th>\n",
       "      <th>y_home</th>\n",
       "      <th>y_draw</th>\n",
       "      <th>y_away</th>\n",
       "      <th>country</th>\n",
       "      <th>league</th>\n",
       "    </tr>\n",
       "  </thead>\n",
       "  <tbody>\n",
       "    <tr>\n",
       "      <th>0</th>\n",
       "      <td>3.20</td>\n",
       "      <td>3.25</td>\n",
       "      <td>2.29</td>\n",
       "      <td>-1.00</td>\n",
       "      <td>-1.0</td>\n",
       "      <td>1.29</td>\n",
       "      <td>England</td>\n",
       "      <td>Premier League</td>\n",
       "    </tr>\n",
       "    <tr>\n",
       "      <th>1</th>\n",
       "      <td>1.91</td>\n",
       "      <td>3.30</td>\n",
       "      <td>3.93</td>\n",
       "      <td>0.91</td>\n",
       "      <td>-1.0</td>\n",
       "      <td>-1.00</td>\n",
       "      <td>England</td>\n",
       "      <td>League Two</td>\n",
       "    </tr>\n",
       "    <tr>\n",
       "      <th>2</th>\n",
       "      <td>1.85</td>\n",
       "      <td>3.50</td>\n",
       "      <td>4.34</td>\n",
       "      <td>-1.00</td>\n",
       "      <td>-1.0</td>\n",
       "      <td>3.34</td>\n",
       "      <td>England</td>\n",
       "      <td>League Two</td>\n",
       "    </tr>\n",
       "    <tr>\n",
       "      <th>3</th>\n",
       "      <td>2.38</td>\n",
       "      <td>3.27</td>\n",
       "      <td>2.85</td>\n",
       "      <td>1.38</td>\n",
       "      <td>-1.0</td>\n",
       "      <td>-1.00</td>\n",
       "      <td>England</td>\n",
       "      <td>League Two</td>\n",
       "    </tr>\n",
       "    <tr>\n",
       "      <th>4</th>\n",
       "      <td>1.67</td>\n",
       "      <td>3.50</td>\n",
       "      <td>5.50</td>\n",
       "      <td>-1.00</td>\n",
       "      <td>-1.0</td>\n",
       "      <td>4.50</td>\n",
       "      <td>England</td>\n",
       "      <td>League Two</td>\n",
       "    </tr>\n",
       "  </tbody>\n",
       "</table>\n",
       "</div>"
      ],
      "text/plain": [
       "   x_home  x_draw  x_away  y_home  y_draw  y_away  country          league\n",
       "0    3.20    3.25    2.29   -1.00    -1.0    1.29  England  Premier League\n",
       "1    1.91    3.30    3.93    0.91    -1.0   -1.00  England      League Two\n",
       "2    1.85    3.50    4.34   -1.00    -1.0    3.34  England      League Two\n",
       "3    2.38    3.27    2.85    1.38    -1.0   -1.00  England      League Two\n",
       "4    1.67    3.50    5.50   -1.00    -1.0    4.50  England      League Two"
      ]
     },
     "execution_count": 9,
     "metadata": {},
     "output_type": "execute_result"
    }
   ],
   "source": [
    "odds_df.head()"
   ]
  },
  {
   "cell_type": "markdown",
   "metadata": {},
   "source": [
    "### Standardization"
   ]
  },
  {
   "cell_type": "markdown",
   "metadata": {},
   "source": [
    "We want the three input odds to be standardized according to their (total) mean and standard deviation, so we'll do this by hand."
   ]
  },
  {
   "cell_type": "code",
   "execution_count": 10,
   "metadata": {},
   "outputs": [
    {
     "name": "stdout",
     "output_type": "stream",
     "text": [
      "Odds mean:  3.767972801601869\n",
      "Odds std:  3.1308143325062425\n"
     ]
    }
   ],
   "source": [
    "odds_mean = odds_df.iloc[:,:3].values.mean()\n",
    "odds_std = odds_df.iloc[:,:3].values.std()\n",
    "print('Odds mean: ', odds_mean)\n",
    "print('Odds std: ', odds_std)"
   ]
  },
  {
   "cell_type": "code",
   "execution_count": 11,
   "metadata": {},
   "outputs": [
    {
     "data": {
      "text/html": [
       "<div>\n",
       "<style scoped>\n",
       "    .dataframe tbody tr th:only-of-type {\n",
       "        vertical-align: middle;\n",
       "    }\n",
       "\n",
       "    .dataframe tbody tr th {\n",
       "        vertical-align: top;\n",
       "    }\n",
       "\n",
       "    .dataframe thead th {\n",
       "        text-align: right;\n",
       "    }\n",
       "</style>\n",
       "<table border=\"1\" class=\"dataframe\">\n",
       "  <thead>\n",
       "    <tr style=\"text-align: right;\">\n",
       "      <th></th>\n",
       "      <th>x_home</th>\n",
       "      <th>x_draw</th>\n",
       "      <th>x_away</th>\n",
       "      <th>y_home</th>\n",
       "      <th>y_draw</th>\n",
       "      <th>y_away</th>\n",
       "      <th>country</th>\n",
       "      <th>league</th>\n",
       "    </tr>\n",
       "  </thead>\n",
       "  <tbody>\n",
       "    <tr>\n",
       "      <th>0</th>\n",
       "      <td>-0.181414</td>\n",
       "      <td>-0.165443</td>\n",
       "      <td>-0.472073</td>\n",
       "      <td>-1.00</td>\n",
       "      <td>-1.0</td>\n",
       "      <td>1.29</td>\n",
       "      <td>England</td>\n",
       "      <td>Premier League</td>\n",
       "    </tr>\n",
       "    <tr>\n",
       "      <th>1</th>\n",
       "      <td>-0.593447</td>\n",
       "      <td>-0.149473</td>\n",
       "      <td>0.051752</td>\n",
       "      <td>0.91</td>\n",
       "      <td>-1.0</td>\n",
       "      <td>-1.00</td>\n",
       "      <td>England</td>\n",
       "      <td>League Two</td>\n",
       "    </tr>\n",
       "    <tr>\n",
       "      <th>2</th>\n",
       "      <td>-0.612611</td>\n",
       "      <td>-0.085592</td>\n",
       "      <td>0.182709</td>\n",
       "      <td>-1.00</td>\n",
       "      <td>-1.0</td>\n",
       "      <td>3.34</td>\n",
       "      <td>England</td>\n",
       "      <td>League Two</td>\n",
       "    </tr>\n",
       "    <tr>\n",
       "      <th>3</th>\n",
       "      <td>-0.443326</td>\n",
       "      <td>-0.159055</td>\n",
       "      <td>-0.293206</td>\n",
       "      <td>1.38</td>\n",
       "      <td>-1.0</td>\n",
       "      <td>-1.00</td>\n",
       "      <td>England</td>\n",
       "      <td>League Two</td>\n",
       "    </tr>\n",
       "    <tr>\n",
       "      <th>4</th>\n",
       "      <td>-0.670105</td>\n",
       "      <td>-0.085592</td>\n",
       "      <td>0.553219</td>\n",
       "      <td>-1.00</td>\n",
       "      <td>-1.0</td>\n",
       "      <td>4.50</td>\n",
       "      <td>England</td>\n",
       "      <td>League Two</td>\n",
       "    </tr>\n",
       "  </tbody>\n",
       "</table>\n",
       "</div>"
      ],
      "text/plain": [
       "     x_home    x_draw    x_away  y_home  y_draw  y_away  country  \\\n",
       "0 -0.181414 -0.165443 -0.472073   -1.00    -1.0    1.29  England   \n",
       "1 -0.593447 -0.149473  0.051752    0.91    -1.0   -1.00  England   \n",
       "2 -0.612611 -0.085592  0.182709   -1.00    -1.0    3.34  England   \n",
       "3 -0.443326 -0.159055 -0.293206    1.38    -1.0   -1.00  England   \n",
       "4 -0.670105 -0.085592  0.553219   -1.00    -1.0    4.50  England   \n",
       "\n",
       "           league  \n",
       "0  Premier League  \n",
       "1      League Two  \n",
       "2      League Two  \n",
       "3      League Two  \n",
       "4      League Two  "
      ]
     },
     "execution_count": 11,
     "metadata": {},
     "output_type": "execute_result"
    }
   ],
   "source": [
    "odds_df.iloc[:, :3] = (odds_df.iloc[:, :3] - odds_mean) / odds_std\n",
    "\n",
    "odds_df.head()"
   ]
  },
  {
   "cell_type": "markdown",
   "metadata": {},
   "source": [
    "### Dataloaders"
   ]
  },
  {
   "cell_type": "code",
   "execution_count": 12,
   "metadata": {},
   "outputs": [],
   "source": [
    "to = TabularPandas(odds_df, cat_names=['league', 'country'], procs=[Categorify],\n",
    "                   cont_names = ['x_home', 'x_draw', 'x_away'],\n",
    "                   y_names=['y_home', 'y_draw', 'y_away'],\n",
    "                   splits=RandomSplitter(valid_pct=0.2)(range_of(odds_df)))"
   ]
  },
  {
   "cell_type": "code",
   "execution_count": 13,
   "metadata": {},
   "outputs": [
    {
     "data": {
      "text/html": [
       "<table border=\"1\" class=\"dataframe\">\n",
       "  <thead>\n",
       "    <tr style=\"text-align: right;\">\n",
       "      <th></th>\n",
       "      <th>league</th>\n",
       "      <th>country</th>\n",
       "      <th>x_home</th>\n",
       "      <th>x_draw</th>\n",
       "      <th>x_away</th>\n",
       "      <th>y_home</th>\n",
       "      <th>y_draw</th>\n",
       "      <th>y_away</th>\n",
       "    </tr>\n",
       "  </thead>\n",
       "  <tbody>\n",
       "    <tr>\n",
       "      <th>0</th>\n",
       "      <td>APL Premier League</td>\n",
       "      <td>Australia</td>\n",
       "      <td>-0.414580</td>\n",
       "      <td>-0.117533</td>\n",
       "      <td>-0.245295</td>\n",
       "      <td>-1.00</td>\n",
       "      <td>-1.00</td>\n",
       "      <td>2.0</td>\n",
       "    </tr>\n",
       "    <tr>\n",
       "      <th>1</th>\n",
       "      <td>Torneo Postobon</td>\n",
       "      <td>Colombia</td>\n",
       "      <td>-0.778702</td>\n",
       "      <td>0.585160</td>\n",
       "      <td>1.830842</td>\n",
       "      <td>0.33</td>\n",
       "      <td>-1.00</td>\n",
       "      <td>-1.0</td>\n",
       "    </tr>\n",
       "    <tr>\n",
       "      <th>2</th>\n",
       "      <td>Gambrinus liga</td>\n",
       "      <td>Czech Republic</td>\n",
       "      <td>-0.436938</td>\n",
       "      <td>-0.152667</td>\n",
       "      <td>0.010230</td>\n",
       "      <td>-1.00</td>\n",
       "      <td>2.29</td>\n",
       "      <td>-1.0</td>\n",
       "    </tr>\n",
       "    <tr>\n",
       "      <th>3</th>\n",
       "      <td>Botola</td>\n",
       "      <td>Morocco</td>\n",
       "      <td>-0.293206</td>\n",
       "      <td>-0.309176</td>\n",
       "      <td>-0.283624</td>\n",
       "      <td>1.85</td>\n",
       "      <td>-1.00</td>\n",
       "      <td>-1.0</td>\n",
       "    </tr>\n",
       "    <tr>\n",
       "      <th>4</th>\n",
       "      <td>Super League</td>\n",
       "      <td>Malaysia</td>\n",
       "      <td>-0.404998</td>\n",
       "      <td>-0.181414</td>\n",
       "      <td>-0.181414</td>\n",
       "      <td>-1.00</td>\n",
       "      <td>2.20</td>\n",
       "      <td>-1.0</td>\n",
       "    </tr>\n",
       "    <tr>\n",
       "      <th>5</th>\n",
       "      <td>Primera Division</td>\n",
       "      <td>Venezuela</td>\n",
       "      <td>0.137992</td>\n",
       "      <td>-0.101562</td>\n",
       "      <td>-0.551924</td>\n",
       "      <td>-1.00</td>\n",
       "      <td>2.45</td>\n",
       "      <td>-1.0</td>\n",
       "    </tr>\n",
       "    <tr>\n",
       "      <th>6</th>\n",
       "      <td>Club Friendly</td>\n",
       "      <td>World</td>\n",
       "      <td>-0.564701</td>\n",
       "      <td>-0.149473</td>\n",
       "      <td>-0.104756</td>\n",
       "      <td>1.00</td>\n",
       "      <td>-1.00</td>\n",
       "      <td>-1.0</td>\n",
       "    </tr>\n",
       "    <tr>\n",
       "      <th>7</th>\n",
       "      <td>Club Friendly</td>\n",
       "      <td>World</td>\n",
       "      <td>-0.724404</td>\n",
       "      <td>-0.005741</td>\n",
       "      <td>0.553219</td>\n",
       "      <td>0.50</td>\n",
       "      <td>-1.00</td>\n",
       "      <td>-1.0</td>\n",
       "    </tr>\n",
       "    <tr>\n",
       "      <th>8</th>\n",
       "      <td>Oberliga Hamburg</td>\n",
       "      <td>Germany</td>\n",
       "      <td>0.521279</td>\n",
       "      <td>0.122022</td>\n",
       "      <td>-0.724404</td>\n",
       "      <td>-1.00</td>\n",
       "      <td>3.15</td>\n",
       "      <td>-1.0</td>\n",
       "    </tr>\n",
       "    <tr>\n",
       "      <th>9</th>\n",
       "      <td>Regionalliga West</td>\n",
       "      <td>Germany</td>\n",
       "      <td>-0.641358</td>\n",
       "      <td>-0.101562</td>\n",
       "      <td>0.249784</td>\n",
       "      <td>0.76</td>\n",
       "      <td>-1.00</td>\n",
       "      <td>-1.0</td>\n",
       "    </tr>\n",
       "  </tbody>\n",
       "</table>"
      ],
      "text/plain": [
       "<IPython.core.display.HTML object>"
      ]
     },
     "metadata": {},
     "output_type": "display_data"
    }
   ],
   "source": [
    "dls = to.dataloaders(bs=1024)\n",
    "dls.show_batch()"
   ]
  },
  {
   "cell_type": "markdown",
   "metadata": {},
   "source": [
    "### Loss function, profit"
   ]
  },
  {
   "cell_type": "markdown",
   "metadata": {},
   "source": [
    "Applying softmax to the output of the network lets us interpret the values as ratios. These ratios can be understood as the ratio of a fixed amount of money that is bet on one of the outcomes (home win, draw, away win). Multiplying these ratios with the odds(which already have 1 selected to account for the cost of taking the bet) and summing across that row gives the bank roll after the bet.\n",
    "\n",
    "Optimization algorithms in machine learning usually minimize, so we'll use minus the bank roll as the loss function. More precise: The mean of the bank rolls in the current batch.\n",
    "\n",
    "When watching the training progress keep in mind that a negative loss is good in this case. Additionally, the actual profit for each batch is shown too (fastai takes the mean across all validation batches?)"
   ]
  },
  {
   "cell_type": "code",
   "execution_count": 14,
   "metadata": {},
   "outputs": [],
   "source": [
    "def odds_loss(actual, target):\n",
    "    probs = F.softmax(actual, dim=1)\n",
    "    return -(probs*target).sum(dim=1).mean()\n",
    "\n",
    "def odds_profit(actual, target):\n",
    "    probs = F.softmax(actual, dim=1)\n",
    "    return (probs*target).sum()"
   ]
  },
  {
   "cell_type": "markdown",
   "metadata": {},
   "source": [
    "This looked good in first runs, but that was due to a bug. The result now indicates that only having the maximum odds (and the league) is not sufficient to win."
   ]
  },
  {
   "cell_type": "markdown",
   "metadata": {},
   "source": [
    "### Better validation, seasons"
   ]
  },
  {
   "cell_type": "markdown",
   "metadata": {},
   "source": [
    "The easiest way to get better validation data is to transform the dates into seasons. First as string ('0506' for the season 2005/2006) for storage, then as category."
   ]
  },
  {
   "cell_type": "code",
   "execution_count": 15,
   "metadata": {},
   "outputs": [],
   "source": [
    "def season_from_row(row):\n",
    "    date = row.match_date\n",
    "    if date.month<=7:\n",
    "        season = date.year-1\n",
    "    else:\n",
    "        season = date.year\n",
    "    return season"
   ]
  },
  {
   "cell_type": "code",
   "execution_count": 16,
   "metadata": {},
   "outputs": [
    {
     "data": {
      "text/plain": [
       "2004"
      ]
     },
     "execution_count": 16,
     "metadata": {},
     "output_type": "execute_result"
    }
   ],
   "source": [
    "season_from_row(raw_df.iloc[0])"
   ]
  },
  {
   "cell_type": "code",
   "execution_count": 17,
   "metadata": {},
   "outputs": [
    {
     "data": {
      "text/html": [
       "<div>\n",
       "<style scoped>\n",
       "    .dataframe tbody tr th:only-of-type {\n",
       "        vertical-align: middle;\n",
       "    }\n",
       "\n",
       "    .dataframe tbody tr th {\n",
       "        vertical-align: top;\n",
       "    }\n",
       "\n",
       "    .dataframe thead th {\n",
       "        text-align: right;\n",
       "    }\n",
       "</style>\n",
       "<table border=\"1\" class=\"dataframe\">\n",
       "  <thead>\n",
       "    <tr style=\"text-align: right;\">\n",
       "      <th></th>\n",
       "      <th>match_id</th>\n",
       "      <th>league</th>\n",
       "      <th>match_date</th>\n",
       "      <th>home_team</th>\n",
       "      <th>home_score</th>\n",
       "      <th>away_team</th>\n",
       "      <th>away_score</th>\n",
       "      <th>avg_odds_home_win</th>\n",
       "      <th>avg_odds_draw</th>\n",
       "      <th>avg_odds_away_win</th>\n",
       "      <th>max_odds_home_win</th>\n",
       "      <th>max_odds_draw</th>\n",
       "      <th>max_odds_away_win</th>\n",
       "      <th>result</th>\n",
       "      <th>season</th>\n",
       "    </tr>\n",
       "  </thead>\n",
       "  <tbody>\n",
       "    <tr>\n",
       "      <th>0</th>\n",
       "      <td>170088</td>\n",
       "      <td>England: Premier League</td>\n",
       "      <td>2005-01-01</td>\n",
       "      <td>Liverpool</td>\n",
       "      <td>0</td>\n",
       "      <td>Chelsea</td>\n",
       "      <td>1</td>\n",
       "      <td>2.9944</td>\n",
       "      <td>3.1944</td>\n",
       "      <td>2.2256</td>\n",
       "      <td>3.20</td>\n",
       "      <td>3.25</td>\n",
       "      <td>2.29</td>\n",
       "      <td>1</td>\n",
       "      <td>2004</td>\n",
       "    </tr>\n",
       "    <tr>\n",
       "      <th>1</th>\n",
       "      <td>170125</td>\n",
       "      <td>England: League Two</td>\n",
       "      <td>2005-01-01</td>\n",
       "      <td>Lincoln City</td>\n",
       "      <td>1</td>\n",
       "      <td>Bury</td>\n",
       "      <td>0</td>\n",
       "      <td>1.8667</td>\n",
       "      <td>3.2222</td>\n",
       "      <td>3.6922</td>\n",
       "      <td>1.91</td>\n",
       "      <td>3.30</td>\n",
       "      <td>3.93</td>\n",
       "      <td>-1</td>\n",
       "      <td>2004</td>\n",
       "    </tr>\n",
       "    <tr>\n",
       "      <th>2</th>\n",
       "      <td>170126</td>\n",
       "      <td>England: League Two</td>\n",
       "      <td>2005-01-01</td>\n",
       "      <td>Macclesfield</td>\n",
       "      <td>1</td>\n",
       "      <td>Chester</td>\n",
       "      <td>2</td>\n",
       "      <td>1.7822</td>\n",
       "      <td>3.3000</td>\n",
       "      <td>4.0000</td>\n",
       "      <td>1.85</td>\n",
       "      <td>3.50</td>\n",
       "      <td>4.34</td>\n",
       "      <td>1</td>\n",
       "      <td>2004</td>\n",
       "    </tr>\n",
       "    <tr>\n",
       "      <th>3</th>\n",
       "      <td>170127</td>\n",
       "      <td>England: League Two</td>\n",
       "      <td>2005-01-01</td>\n",
       "      <td>Oxford Utd</td>\n",
       "      <td>2</td>\n",
       "      <td>Wycombe</td>\n",
       "      <td>1</td>\n",
       "      <td>2.3122</td>\n",
       "      <td>3.1967</td>\n",
       "      <td>2.7067</td>\n",
       "      <td>2.38</td>\n",
       "      <td>3.27</td>\n",
       "      <td>2.85</td>\n",
       "      <td>-1</td>\n",
       "      <td>2004</td>\n",
       "    </tr>\n",
       "    <tr>\n",
       "      <th>4</th>\n",
       "      <td>170128</td>\n",
       "      <td>England: League Two</td>\n",
       "      <td>2005-01-01</td>\n",
       "      <td>Scunthorpe</td>\n",
       "      <td>0</td>\n",
       "      <td>Darlington</td>\n",
       "      <td>1</td>\n",
       "      <td>1.6411</td>\n",
       "      <td>3.3922</td>\n",
       "      <td>4.7078</td>\n",
       "      <td>1.67</td>\n",
       "      <td>3.50</td>\n",
       "      <td>5.50</td>\n",
       "      <td>1</td>\n",
       "      <td>2004</td>\n",
       "    </tr>\n",
       "  </tbody>\n",
       "</table>\n",
       "</div>"
      ],
      "text/plain": [
       "   match_id                   league match_date     home_team  home_score  \\\n",
       "0    170088  England: Premier League 2005-01-01     Liverpool           0   \n",
       "1    170125      England: League Two 2005-01-01  Lincoln City           1   \n",
       "2    170126      England: League Two 2005-01-01  Macclesfield           1   \n",
       "3    170127      England: League Two 2005-01-01    Oxford Utd           2   \n",
       "4    170128      England: League Two 2005-01-01    Scunthorpe           0   \n",
       "\n",
       "    away_team  away_score  avg_odds_home_win  avg_odds_draw  \\\n",
       "0     Chelsea           1             2.9944         3.1944   \n",
       "1        Bury           0             1.8667         3.2222   \n",
       "2     Chester           2             1.7822         3.3000   \n",
       "3     Wycombe           1             2.3122         3.1967   \n",
       "4  Darlington           1             1.6411         3.3922   \n",
       "\n",
       "   avg_odds_away_win  max_odds_home_win  max_odds_draw  max_odds_away_win  \\\n",
       "0             2.2256               3.20           3.25               2.29   \n",
       "1             3.6922               1.91           3.30               3.93   \n",
       "2             4.0000               1.85           3.50               4.34   \n",
       "3             2.7067               2.38           3.27               2.85   \n",
       "4             4.7078               1.67           3.50               5.50   \n",
       "\n",
       "   result  season  \n",
       "0       1    2004  \n",
       "1      -1    2004  \n",
       "2       1    2004  \n",
       "3      -1    2004  \n",
       "4       1    2004  "
      ]
     },
     "execution_count": 17,
     "metadata": {},
     "output_type": "execute_result"
    }
   ],
   "source": [
    "raw_df['season'] = raw_df.apply(season_from_row, axis=1)\n",
    "raw_df.head()"
   ]
  },
  {
   "cell_type": "code",
   "execution_count": 18,
   "metadata": {},
   "outputs": [],
   "source": [
    "class ColumnNormalizer:\n",
    "    def __init__(self, column):\n",
    "        self.mean = column.mean()\n",
    "        self.std = column.std()\n",
    "        \n",
    "    def __call__(self, col):\n",
    "        return (col-self.mean) / self.std\n",
    "    \n",
    "    def __str__(self): return f'Mean: {self.mean} | Std: {self.std}'\n",
    "    def __repr__(self): return str(self)"
   ]
  },
  {
   "cell_type": "code",
   "execution_count": 19,
   "metadata": {},
   "outputs": [
    {
     "data": {
      "text/plain": [
       "Mean: 2010.4186446687802 | Std: 2.7880621822507554"
      ]
     },
     "execution_count": 19,
     "metadata": {},
     "output_type": "execute_result"
    }
   ],
   "source": [
    "season_norm = ColumnNormalizer(raw_df.season)\n",
    "season_norm"
   ]
  },
  {
   "cell_type": "code",
   "execution_count": 20,
   "metadata": {},
   "outputs": [
    {
     "data": {
      "text/html": [
       "<div>\n",
       "<style scoped>\n",
       "    .dataframe tbody tr th:only-of-type {\n",
       "        vertical-align: middle;\n",
       "    }\n",
       "\n",
       "    .dataframe tbody tr th {\n",
       "        vertical-align: top;\n",
       "    }\n",
       "\n",
       "    .dataframe thead th {\n",
       "        text-align: right;\n",
       "    }\n",
       "</style>\n",
       "<table border=\"1\" class=\"dataframe\">\n",
       "  <thead>\n",
       "    <tr style=\"text-align: right;\">\n",
       "      <th></th>\n",
       "      <th>x_home</th>\n",
       "      <th>x_draw</th>\n",
       "      <th>x_away</th>\n",
       "      <th>y_home</th>\n",
       "      <th>y_draw</th>\n",
       "      <th>y_away</th>\n",
       "      <th>country</th>\n",
       "      <th>league</th>\n",
       "      <th>season</th>\n",
       "    </tr>\n",
       "  </thead>\n",
       "  <tbody>\n",
       "    <tr>\n",
       "      <th>0</th>\n",
       "      <td>-0.181414</td>\n",
       "      <td>-0.165443</td>\n",
       "      <td>-0.472073</td>\n",
       "      <td>-1.00</td>\n",
       "      <td>-1.0</td>\n",
       "      <td>1.29</td>\n",
       "      <td>England</td>\n",
       "      <td>Premier League</td>\n",
       "      <td>-2.302188</td>\n",
       "    </tr>\n",
       "    <tr>\n",
       "      <th>1</th>\n",
       "      <td>-0.593447</td>\n",
       "      <td>-0.149473</td>\n",
       "      <td>0.051752</td>\n",
       "      <td>0.91</td>\n",
       "      <td>-1.0</td>\n",
       "      <td>-1.00</td>\n",
       "      <td>England</td>\n",
       "      <td>League Two</td>\n",
       "      <td>-2.302188</td>\n",
       "    </tr>\n",
       "    <tr>\n",
       "      <th>2</th>\n",
       "      <td>-0.612611</td>\n",
       "      <td>-0.085592</td>\n",
       "      <td>0.182709</td>\n",
       "      <td>-1.00</td>\n",
       "      <td>-1.0</td>\n",
       "      <td>3.34</td>\n",
       "      <td>England</td>\n",
       "      <td>League Two</td>\n",
       "      <td>-2.302188</td>\n",
       "    </tr>\n",
       "    <tr>\n",
       "      <th>3</th>\n",
       "      <td>-0.443326</td>\n",
       "      <td>-0.159055</td>\n",
       "      <td>-0.293206</td>\n",
       "      <td>1.38</td>\n",
       "      <td>-1.0</td>\n",
       "      <td>-1.00</td>\n",
       "      <td>England</td>\n",
       "      <td>League Two</td>\n",
       "      <td>-2.302188</td>\n",
       "    </tr>\n",
       "    <tr>\n",
       "      <th>4</th>\n",
       "      <td>-0.670105</td>\n",
       "      <td>-0.085592</td>\n",
       "      <td>0.553219</td>\n",
       "      <td>-1.00</td>\n",
       "      <td>-1.0</td>\n",
       "      <td>4.50</td>\n",
       "      <td>England</td>\n",
       "      <td>League Two</td>\n",
       "      <td>-2.302188</td>\n",
       "    </tr>\n",
       "  </tbody>\n",
       "</table>\n",
       "</div>"
      ],
      "text/plain": [
       "     x_home    x_draw    x_away  y_home  y_draw  y_away  country  \\\n",
       "0 -0.181414 -0.165443 -0.472073   -1.00    -1.0    1.29  England   \n",
       "1 -0.593447 -0.149473  0.051752    0.91    -1.0   -1.00  England   \n",
       "2 -0.612611 -0.085592  0.182709   -1.00    -1.0    3.34  England   \n",
       "3 -0.443326 -0.159055 -0.293206    1.38    -1.0   -1.00  England   \n",
       "4 -0.670105 -0.085592  0.553219   -1.00    -1.0    4.50  England   \n",
       "\n",
       "           league    season  \n",
       "0  Premier League -2.302188  \n",
       "1      League Two -2.302188  \n",
       "2      League Two -2.302188  \n",
       "3      League Two -2.302188  \n",
       "4      League Two -2.302188  "
      ]
     },
     "execution_count": 20,
     "metadata": {},
     "output_type": "execute_result"
    }
   ],
   "source": [
    "odds_df['season'] = season_norm(raw_df.season)\n",
    "odds_df.head()"
   ]
  },
  {
   "cell_type": "code",
   "execution_count": 21,
   "metadata": {},
   "outputs": [
    {
     "data": {
      "text/html": [
       "<div>\n",
       "<style scoped>\n",
       "    .dataframe tbody tr th:only-of-type {\n",
       "        vertical-align: middle;\n",
       "    }\n",
       "\n",
       "    .dataframe tbody tr th {\n",
       "        vertical-align: top;\n",
       "    }\n",
       "\n",
       "    .dataframe thead th {\n",
       "        text-align: right;\n",
       "    }\n",
       "</style>\n",
       "<table border=\"1\" class=\"dataframe\">\n",
       "  <thead>\n",
       "    <tr style=\"text-align: right;\">\n",
       "      <th></th>\n",
       "      <th>x_home</th>\n",
       "      <th>x_draw</th>\n",
       "      <th>x_away</th>\n",
       "      <th>y_home</th>\n",
       "      <th>y_draw</th>\n",
       "      <th>y_away</th>\n",
       "      <th>country</th>\n",
       "      <th>league</th>\n",
       "      <th>season</th>\n",
       "      <th>valid</th>\n",
       "    </tr>\n",
       "  </thead>\n",
       "  <tbody>\n",
       "    <tr>\n",
       "      <th>0</th>\n",
       "      <td>-0.181414</td>\n",
       "      <td>-0.165443</td>\n",
       "      <td>-0.472073</td>\n",
       "      <td>-1.00</td>\n",
       "      <td>-1.0</td>\n",
       "      <td>1.29</td>\n",
       "      <td>England</td>\n",
       "      <td>Premier League</td>\n",
       "      <td>-2.302188</td>\n",
       "      <td>False</td>\n",
       "    </tr>\n",
       "    <tr>\n",
       "      <th>1</th>\n",
       "      <td>-0.593447</td>\n",
       "      <td>-0.149473</td>\n",
       "      <td>0.051752</td>\n",
       "      <td>0.91</td>\n",
       "      <td>-1.0</td>\n",
       "      <td>-1.00</td>\n",
       "      <td>England</td>\n",
       "      <td>League Two</td>\n",
       "      <td>-2.302188</td>\n",
       "      <td>False</td>\n",
       "    </tr>\n",
       "    <tr>\n",
       "      <th>2</th>\n",
       "      <td>-0.612611</td>\n",
       "      <td>-0.085592</td>\n",
       "      <td>0.182709</td>\n",
       "      <td>-1.00</td>\n",
       "      <td>-1.0</td>\n",
       "      <td>3.34</td>\n",
       "      <td>England</td>\n",
       "      <td>League Two</td>\n",
       "      <td>-2.302188</td>\n",
       "      <td>False</td>\n",
       "    </tr>\n",
       "    <tr>\n",
       "      <th>3</th>\n",
       "      <td>-0.443326</td>\n",
       "      <td>-0.159055</td>\n",
       "      <td>-0.293206</td>\n",
       "      <td>1.38</td>\n",
       "      <td>-1.0</td>\n",
       "      <td>-1.00</td>\n",
       "      <td>England</td>\n",
       "      <td>League Two</td>\n",
       "      <td>-2.302188</td>\n",
       "      <td>False</td>\n",
       "    </tr>\n",
       "    <tr>\n",
       "      <th>4</th>\n",
       "      <td>-0.670105</td>\n",
       "      <td>-0.085592</td>\n",
       "      <td>0.553219</td>\n",
       "      <td>-1.00</td>\n",
       "      <td>-1.0</td>\n",
       "      <td>4.50</td>\n",
       "      <td>England</td>\n",
       "      <td>League Two</td>\n",
       "      <td>-2.302188</td>\n",
       "      <td>False</td>\n",
       "    </tr>\n",
       "  </tbody>\n",
       "</table>\n",
       "</div>"
      ],
      "text/plain": [
       "     x_home    x_draw    x_away  y_home  y_draw  y_away  country  \\\n",
       "0 -0.181414 -0.165443 -0.472073   -1.00    -1.0    1.29  England   \n",
       "1 -0.593447 -0.149473  0.051752    0.91    -1.0   -1.00  England   \n",
       "2 -0.612611 -0.085592  0.182709   -1.00    -1.0    3.34  England   \n",
       "3 -0.443326 -0.159055 -0.293206    1.38    -1.0   -1.00  England   \n",
       "4 -0.670105 -0.085592  0.553219   -1.00    -1.0    4.50  England   \n",
       "\n",
       "           league    season  valid  \n",
       "0  Premier League -2.302188  False  \n",
       "1      League Two -2.302188  False  \n",
       "2      League Two -2.302188  False  \n",
       "3      League Two -2.302188  False  \n",
       "4      League Two -2.302188  False  "
      ]
     },
     "execution_count": 21,
     "metadata": {},
     "output_type": "execute_result"
    }
   ],
   "source": [
    "odds_df['valid'] = raw_df.season>=2013\n",
    "odds_df.head()"
   ]
  },
  {
   "cell_type": "code",
   "execution_count": 22,
   "metadata": {},
   "outputs": [],
   "source": [
    "to = TabularPandas(odds_df, cat_names=['country', 'league'], procs=[Categorify],\n",
    "                   cont_names = ['x_home', 'x_draw', 'x_away', 'season'],\n",
    "                   y_names=['y_home', 'y_draw', 'y_away'],\n",
    "                   splits=ColSplitter('valid')(odds_df))\n",
    "dls = to.dataloaders(bs=1024)"
   ]
  },
  {
   "cell_type": "code",
   "execution_count": 23,
   "metadata": {},
   "outputs": [],
   "source": [
    "learn = tabular_learner(dls, loss_func=odds_loss, metrics=odds_profit, layers=[1000, 500, 250, 100, 50])\n",
    "learn.model = learn.model.to('cuda')"
   ]
  },
  {
   "cell_type": "code",
   "execution_count": 24,
   "metadata": {},
   "outputs": [
    {
     "data": {
      "text/html": [],
      "text/plain": [
       "<IPython.core.display.HTML object>"
      ]
     },
     "metadata": {},
     "output_type": "display_data"
    },
    {
     "data": {
      "text/plain": [
       "SuggestedLRs(lr_min=0.2754228591918945, lr_steep=0.3019951581954956)"
      ]
     },
     "execution_count": 24,
     "metadata": {},
     "output_type": "execute_result"
    },
    {
     "data": {
      "image/png": "[encoded data removed]",
      "text/plain": [
       "<Figure size 432x288 with 1 Axes>"
      ]
     },
     "metadata": {
      "needs_background": "light"
     },
     "output_type": "display_data"
    }
   ],
   "source": [
    "learn.lr_find()"
   ]
  },
  {
   "cell_type": "code",
   "execution_count": 25,
   "metadata": {},
   "outputs": [
    {
     "data": {
      "text/html": [
       "<table border=\"1\" class=\"dataframe\">\n",
       "  <thead>\n",
       "    <tr style=\"text-align: left;\">\n",
       "      <th>epoch</th>\n",
       "      <th>train_loss</th>\n",
       "      <th>valid_loss</th>\n",
       "      <th>odds_profit</th>\n",
       "      <th>time</th>\n",
       "    </tr>\n",
       "  </thead>\n",
       "  <tbody>\n",
       "    <tr>\n",
       "      <td>0</td>\n",
       "      <td>0.012114</td>\n",
       "      <td>0.016340</td>\n",
       "      <td>-16.756662</td>\n",
       "      <td>00:06</td>\n",
       "    </tr>\n",
       "    <tr>\n",
       "      <td>1</td>\n",
       "      <td>0.023771</td>\n",
       "      <td>0.016735</td>\n",
       "      <td>-17.103012</td>\n",
       "      <td>00:06</td>\n",
       "    </tr>\n",
       "    <tr>\n",
       "      <td>2</td>\n",
       "      <td>0.014704</td>\n",
       "      <td>0.004573</td>\n",
       "      <td>-4.690269</td>\n",
       "      <td>00:06</td>\n",
       "    </tr>\n",
       "    <tr>\n",
       "      <td>3</td>\n",
       "      <td>-0.001411</td>\n",
       "      <td>0.006576</td>\n",
       "      <td>-6.840491</td>\n",
       "      <td>00:06</td>\n",
       "    </tr>\n",
       "    <tr>\n",
       "      <td>4</td>\n",
       "      <td>-0.007962</td>\n",
       "      <td>0.006975</td>\n",
       "      <td>-7.237962</td>\n",
       "      <td>00:06</td>\n",
       "    </tr>\n",
       "  </tbody>\n",
       "</table>"
      ],
      "text/plain": [
       "<IPython.core.display.HTML object>"
      ]
     },
     "metadata": {},
     "output_type": "display_data"
    }
   ],
   "source": [
    "learn.fit_one_cycle(5, lr_max=1e-3)"
   ]
  },
  {
   "cell_type": "code",
   "execution_count": 26,
   "metadata": {},
   "outputs": [
    {
     "name": "stdout",
     "output_type": "stream",
     "text": [
      "Total profit on the validation set:  -954.2088623046875\n",
      "Samples in the validation set:  136811\n"
     ]
    }
   ],
   "source": [
    "profit = 0.\n",
    "for x1,x2,y in dls.valid:\n",
    "    preds = learn.model(x1,x2)\n",
    "    profit += odds_profit(preds, y)\n",
    "\n",
    "print('Total profit on the validation set: ', profit.item())\n",
    "print('Samples in the validation set: ', len(dls.valid_ds))"
   ]
  },
  {
   "cell_type": "code",
   "execution_count": 27,
   "metadata": {},
   "outputs": [],
   "source": [
    "save_path = Path('../data/kaggle/closed_preprocess.feather')\n",
    "odds_df.to_feather(save_path)"
   ]
  },
  {
   "cell_type": "markdown",
   "metadata": {},
   "source": [
    "## Compare with bookie edge"
   ]
  },
  {
   "cell_type": "markdown",
   "metadata": {},
   "source": [
    "Bookkeeper incorporate an endge into their betting odds. If there is no systematic error in their odds, a model should not be able to be better than the edge."
   ]
  },
  {
   "cell_type": "code",
   "execution_count": 28,
   "metadata": {},
   "outputs": [
    {
     "data": {
      "text/plain": [
       "0.038320276395318265"
      ]
     },
     "execution_count": 28,
     "metadata": {},
     "output_type": "execute_result"
    }
   ],
   "source": [
    "odds_cols = ['max_odds_home_win', 'max_odds_draw', 'max_odds_away_win']\n",
    "probs  = 1/raw_df.loc[:,odds_cols]\n",
    "probs = probs.replace([np.inf, -np.inf], np.nan).dropna(subset=odds_cols, how=\"any\")\n",
    "edges = probs.sum(axis=1) - 1\n",
    "\n",
    "edges.mean()"
   ]
  },
  {
   "cell_type": "markdown",
   "metadata": {},
   "source": [
    "So betting by using the implied probabilities shouldn't be profitable:"
   ]
  },
  {
   "cell_type": "code",
   "execution_count": 29,
   "metadata": {},
   "outputs": [
    {
     "data": {
      "text/html": [
       "<div>\n",
       "<style scoped>\n",
       "    .dataframe tbody tr th:only-of-type {\n",
       "        vertical-align: middle;\n",
       "    }\n",
       "\n",
       "    .dataframe tbody tr th {\n",
       "        vertical-align: top;\n",
       "    }\n",
       "\n",
       "    .dataframe thead th {\n",
       "        text-align: right;\n",
       "    }\n",
       "</style>\n",
       "<table border=\"1\" class=\"dataframe\">\n",
       "  <thead>\n",
       "    <tr style=\"text-align: right;\">\n",
       "      <th></th>\n",
       "      <th>x_home</th>\n",
       "      <th>x_draw</th>\n",
       "      <th>x_away</th>\n",
       "      <th>y_home</th>\n",
       "      <th>y_draw</th>\n",
       "      <th>y_away</th>\n",
       "    </tr>\n",
       "  </thead>\n",
       "  <tbody>\n",
       "    <tr>\n",
       "      <th>0</th>\n",
       "      <td>3.20</td>\n",
       "      <td>3.25</td>\n",
       "      <td>2.29</td>\n",
       "      <td>-1.00</td>\n",
       "      <td>-1.0</td>\n",
       "      <td>1.29</td>\n",
       "    </tr>\n",
       "    <tr>\n",
       "      <th>1</th>\n",
       "      <td>1.91</td>\n",
       "      <td>3.30</td>\n",
       "      <td>3.93</td>\n",
       "      <td>0.91</td>\n",
       "      <td>-1.0</td>\n",
       "      <td>-1.00</td>\n",
       "    </tr>\n",
       "    <tr>\n",
       "      <th>2</th>\n",
       "      <td>1.85</td>\n",
       "      <td>3.50</td>\n",
       "      <td>4.34</td>\n",
       "      <td>-1.00</td>\n",
       "      <td>-1.0</td>\n",
       "      <td>3.34</td>\n",
       "    </tr>\n",
       "    <tr>\n",
       "      <th>3</th>\n",
       "      <td>2.38</td>\n",
       "      <td>3.27</td>\n",
       "      <td>2.85</td>\n",
       "      <td>1.38</td>\n",
       "      <td>-1.0</td>\n",
       "      <td>-1.00</td>\n",
       "    </tr>\n",
       "    <tr>\n",
       "      <th>4</th>\n",
       "      <td>1.67</td>\n",
       "      <td>3.50</td>\n",
       "      <td>5.50</td>\n",
       "      <td>-1.00</td>\n",
       "      <td>-1.0</td>\n",
       "      <td>4.50</td>\n",
       "    </tr>\n",
       "  </tbody>\n",
       "</table>\n",
       "</div>"
      ],
      "text/plain": [
       "   x_home  x_draw  x_away  y_home  y_draw  y_away\n",
       "0    3.20    3.25    2.29   -1.00    -1.0    1.29\n",
       "1    1.91    3.30    3.93    0.91    -1.0   -1.00\n",
       "2    1.85    3.50    4.34   -1.00    -1.0    3.34\n",
       "3    2.38    3.27    2.85    1.38    -1.0   -1.00\n",
       "4    1.67    3.50    5.50   -1.00    -1.0    4.50"
      ]
     },
     "execution_count": 29,
     "metadata": {},
     "output_type": "execute_result"
    }
   ],
   "source": [
    "bet_df = pd.DataFrame()\n",
    "\n",
    "bet_df['x_home'] = raw_df.max_odds_home_win\n",
    "bet_df['x_draw'] = raw_df.max_odds_draw\n",
    "bet_df['x_away'] = raw_df.max_odds_away_win\n",
    "\n",
    "bet_df = bet_df.merge(features.create_profit_df(raw_df, 'max_odds_home_win', 'max_odds_draw', 'max_odds_away_win'),\n",
    "                        left_index=True, right_index=True)\n",
    "\n",
    "bet_df.head()"
   ]
  },
  {
   "cell_type": "code",
   "execution_count": 30,
   "metadata": {},
   "outputs": [
    {
     "data": {
      "text/html": [
       "<div>\n",
       "<style scoped>\n",
       "    .dataframe tbody tr th:only-of-type {\n",
       "        vertical-align: middle;\n",
       "    }\n",
       "\n",
       "    .dataframe tbody tr th {\n",
       "        vertical-align: top;\n",
       "    }\n",
       "\n",
       "    .dataframe thead th {\n",
       "        text-align: right;\n",
       "    }\n",
       "</style>\n",
       "<table border=\"1\" class=\"dataframe\">\n",
       "  <thead>\n",
       "    <tr style=\"text-align: right;\">\n",
       "      <th></th>\n",
       "      <th>x_home</th>\n",
       "      <th>x_draw</th>\n",
       "      <th>x_away</th>\n",
       "      <th>y_home</th>\n",
       "      <th>y_draw</th>\n",
       "      <th>y_away</th>\n",
       "      <th>b_home</th>\n",
       "      <th>b_draw</th>\n",
       "      <th>b_away</th>\n",
       "    </tr>\n",
       "  </thead>\n",
       "  <tbody>\n",
       "    <tr>\n",
       "      <th>0</th>\n",
       "      <td>3.20</td>\n",
       "      <td>3.25</td>\n",
       "      <td>2.29</td>\n",
       "      <td>-1.00</td>\n",
       "      <td>-1.0</td>\n",
       "      <td>1.29</td>\n",
       "      <td>0.312500</td>\n",
       "      <td>0.307692</td>\n",
       "      <td>0.436681</td>\n",
       "    </tr>\n",
       "    <tr>\n",
       "      <th>1</th>\n",
       "      <td>1.91</td>\n",
       "      <td>3.30</td>\n",
       "      <td>3.93</td>\n",
       "      <td>0.91</td>\n",
       "      <td>-1.0</td>\n",
       "      <td>-1.00</td>\n",
       "      <td>0.523560</td>\n",
       "      <td>0.303030</td>\n",
       "      <td>0.254453</td>\n",
       "    </tr>\n",
       "    <tr>\n",
       "      <th>2</th>\n",
       "      <td>1.85</td>\n",
       "      <td>3.50</td>\n",
       "      <td>4.34</td>\n",
       "      <td>-1.00</td>\n",
       "      <td>-1.0</td>\n",
       "      <td>3.34</td>\n",
       "      <td>0.540541</td>\n",
       "      <td>0.285714</td>\n",
       "      <td>0.230415</td>\n",
       "    </tr>\n",
       "    <tr>\n",
       "      <th>3</th>\n",
       "      <td>2.38</td>\n",
       "      <td>3.27</td>\n",
       "      <td>2.85</td>\n",
       "      <td>1.38</td>\n",
       "      <td>-1.0</td>\n",
       "      <td>-1.00</td>\n",
       "      <td>0.420168</td>\n",
       "      <td>0.305810</td>\n",
       "      <td>0.350877</td>\n",
       "    </tr>\n",
       "    <tr>\n",
       "      <th>4</th>\n",
       "      <td>1.67</td>\n",
       "      <td>3.50</td>\n",
       "      <td>5.50</td>\n",
       "      <td>-1.00</td>\n",
       "      <td>-1.0</td>\n",
       "      <td>4.50</td>\n",
       "      <td>0.598802</td>\n",
       "      <td>0.285714</td>\n",
       "      <td>0.181818</td>\n",
       "    </tr>\n",
       "  </tbody>\n",
       "</table>\n",
       "</div>"
      ],
      "text/plain": [
       "   x_home  x_draw  x_away  y_home  y_draw  y_away    b_home    b_draw  \\\n",
       "0    3.20    3.25    2.29   -1.00    -1.0    1.29  0.312500  0.307692   \n",
       "1    1.91    3.30    3.93    0.91    -1.0   -1.00  0.523560  0.303030   \n",
       "2    1.85    3.50    4.34   -1.00    -1.0    3.34  0.540541  0.285714   \n",
       "3    2.38    3.27    2.85    1.38    -1.0   -1.00  0.420168  0.305810   \n",
       "4    1.67    3.50    5.50   -1.00    -1.0    4.50  0.598802  0.285714   \n",
       "\n",
       "     b_away  \n",
       "0  0.436681  \n",
       "1  0.254453  \n",
       "2  0.230415  \n",
       "3  0.350877  \n",
       "4  0.181818  "
      ]
     },
     "execution_count": 30,
     "metadata": {},
     "output_type": "execute_result"
    }
   ],
   "source": [
    "bet_df['b_home'] = 1/bet_df.x_home\n",
    "bet_df['b_draw'] = 1/bet_df.x_draw\n",
    "bet_df['b_away'] = 1/bet_df.x_away\n",
    "\n",
    "bet_df = bet_df.replace([np.inf, -np.inf], np.nan).dropna(subset=['b_home', 'b_draw', 'b_away'], how=\"any\")\n",
    "\n",
    "bet_df.head()"
   ]
  },
  {
   "cell_type": "code",
   "execution_count": 31,
   "metadata": {},
   "outputs": [
    {
     "data": {
      "text/plain": [
       "(-0.012773425465106089, -18370.280660598833)"
      ]
     },
     "execution_count": 31,
     "metadata": {},
     "output_type": "execute_result"
    }
   ],
   "source": [
    "bets = bet_df.loc[:,['b_home', 'b_draw', 'b_away']].values\n",
    "targets = bet_df.loc[:, ['y_home', 'y_draw', 'y_away']].values\n",
    "\n",
    "(bets*targets).mean(), (bets*targets).sum()"
   ]
  },
  {
   "cell_type": "markdown",
   "metadata": {},
   "source": [
    "## With average odds"
   ]
  },
  {
   "cell_type": "markdown",
   "metadata": {},
   "source": [
    "Adding the average odds to the dataset should help the model."
   ]
  },
  {
   "cell_type": "code",
   "execution_count": 32,
   "metadata": {},
   "outputs": [
    {
     "data": {
      "text/html": [
       "<div>\n",
       "<style scoped>\n",
       "    .dataframe tbody tr th:only-of-type {\n",
       "        vertical-align: middle;\n",
       "    }\n",
       "\n",
       "    .dataframe tbody tr th {\n",
       "        vertical-align: top;\n",
       "    }\n",
       "\n",
       "    .dataframe thead th {\n",
       "        text-align: right;\n",
       "    }\n",
       "</style>\n",
       "<table border=\"1\" class=\"dataframe\">\n",
       "  <thead>\n",
       "    <tr style=\"text-align: right;\">\n",
       "      <th></th>\n",
       "      <th>y_home</th>\n",
       "      <th>y_draw</th>\n",
       "      <th>y_away</th>\n",
       "      <th>country</th>\n",
       "      <th>league</th>\n",
       "      <th>season</th>\n",
       "      <th>valid</th>\n",
       "      <th>x_home_max</th>\n",
       "      <th>x_draw_max</th>\n",
       "      <th>x_away_max</th>\n",
       "      <th>x_home_avg</th>\n",
       "      <th>x_draw_avg</th>\n",
       "      <th>x_away_avg</th>\n",
       "    </tr>\n",
       "  </thead>\n",
       "  <tbody>\n",
       "    <tr>\n",
       "      <th>0</th>\n",
       "      <td>-1.00</td>\n",
       "      <td>-1.0</td>\n",
       "      <td>1.29</td>\n",
       "      <td>England</td>\n",
       "      <td>Premier League</td>\n",
       "      <td>-2.302188</td>\n",
       "      <td>False</td>\n",
       "      <td>3.20</td>\n",
       "      <td>3.25</td>\n",
       "      <td>2.29</td>\n",
       "      <td>2.9944</td>\n",
       "      <td>3.1944</td>\n",
       "      <td>2.2256</td>\n",
       "    </tr>\n",
       "    <tr>\n",
       "      <th>1</th>\n",
       "      <td>0.91</td>\n",
       "      <td>-1.0</td>\n",
       "      <td>-1.00</td>\n",
       "      <td>England</td>\n",
       "      <td>League Two</td>\n",
       "      <td>-2.302188</td>\n",
       "      <td>False</td>\n",
       "      <td>1.91</td>\n",
       "      <td>3.30</td>\n",
       "      <td>3.93</td>\n",
       "      <td>1.8667</td>\n",
       "      <td>3.2222</td>\n",
       "      <td>3.6922</td>\n",
       "    </tr>\n",
       "    <tr>\n",
       "      <th>2</th>\n",
       "      <td>-1.00</td>\n",
       "      <td>-1.0</td>\n",
       "      <td>3.34</td>\n",
       "      <td>England</td>\n",
       "      <td>League Two</td>\n",
       "      <td>-2.302188</td>\n",
       "      <td>False</td>\n",
       "      <td>1.85</td>\n",
       "      <td>3.50</td>\n",
       "      <td>4.34</td>\n",
       "      <td>1.7822</td>\n",
       "      <td>3.3000</td>\n",
       "      <td>4.0000</td>\n",
       "    </tr>\n",
       "    <tr>\n",
       "      <th>3</th>\n",
       "      <td>1.38</td>\n",
       "      <td>-1.0</td>\n",
       "      <td>-1.00</td>\n",
       "      <td>England</td>\n",
       "      <td>League Two</td>\n",
       "      <td>-2.302188</td>\n",
       "      <td>False</td>\n",
       "      <td>2.38</td>\n",
       "      <td>3.27</td>\n",
       "      <td>2.85</td>\n",
       "      <td>2.3122</td>\n",
       "      <td>3.1967</td>\n",
       "      <td>2.7067</td>\n",
       "    </tr>\n",
       "    <tr>\n",
       "      <th>4</th>\n",
       "      <td>-1.00</td>\n",
       "      <td>-1.0</td>\n",
       "      <td>4.50</td>\n",
       "      <td>England</td>\n",
       "      <td>League Two</td>\n",
       "      <td>-2.302188</td>\n",
       "      <td>False</td>\n",
       "      <td>1.67</td>\n",
       "      <td>3.50</td>\n",
       "      <td>5.50</td>\n",
       "      <td>1.6411</td>\n",
       "      <td>3.3922</td>\n",
       "      <td>4.7078</td>\n",
       "    </tr>\n",
       "  </tbody>\n",
       "</table>\n",
       "</div>"
      ],
      "text/plain": [
       "   y_home  y_draw  y_away  country          league    season  valid  \\\n",
       "0   -1.00    -1.0    1.29  England  Premier League -2.302188  False   \n",
       "1    0.91    -1.0   -1.00  England      League Two -2.302188  False   \n",
       "2   -1.00    -1.0    3.34  England      League Two -2.302188  False   \n",
       "3    1.38    -1.0   -1.00  England      League Two -2.302188  False   \n",
       "4   -1.00    -1.0    4.50  England      League Two -2.302188  False   \n",
       "\n",
       "   x_home_max  x_draw_max  x_away_max  x_home_avg  x_draw_avg  x_away_avg  \n",
       "0        3.20        3.25        2.29      2.9944      3.1944      2.2256  \n",
       "1        1.91        3.30        3.93      1.8667      3.2222      3.6922  \n",
       "2        1.85        3.50        4.34      1.7822      3.3000      4.0000  \n",
       "3        2.38        3.27        2.85      2.3122      3.1967      2.7067  \n",
       "4        1.67        3.50        5.50      1.6411      3.3922      4.7078  "
      ]
     },
     "execution_count": 32,
     "metadata": {},
     "output_type": "execute_result"
    }
   ],
   "source": [
    "try:\n",
    "    odds_df.drop(columns=['x_home', 'x_draw', 'x_away'], inplace=True)\n",
    "except:\n",
    "    print('cols already removed')\n",
    "odds_df['x_home_max'] = raw_df.max_odds_home_win\n",
    "odds_df['x_draw_max'] = raw_df.max_odds_draw\n",
    "odds_df['x_away_max'] = raw_df.max_odds_away_win\n",
    "\n",
    "odds_df['x_home_avg'] = raw_df.avg_odds_home_win\n",
    "odds_df['x_draw_avg'] = raw_df.avg_odds_draw\n",
    "odds_df['x_away_avg'] = raw_df.avg_odds_away_win\n",
    "\n",
    "odds_df.head()"
   ]
  },
  {
   "cell_type": "code",
   "execution_count": 33,
   "metadata": {},
   "outputs": [
    {
     "data": {
      "text/plain": [
       "(3.5789158864160977, 2.6919255422008534)"
      ]
     },
     "execution_count": 33,
     "metadata": {},
     "output_type": "execute_result"
    }
   ],
   "source": [
    "odds_mean = odds_df.loc[:, ['x_home_max', 'x_draw_max', 'x_away_max', 'x_home_avg', 'x_draw_avg', 'x_away_avg']].values.mean()\n",
    "odds_std = odds_df.loc[:, ['x_home_max', 'x_draw_max', 'x_away_max', 'x_home_avg', 'x_draw_avg', 'x_away_avg']].values.std()\n",
    "\n",
    "odds_mean, odds_std"
   ]
  },
  {
   "cell_type": "code",
   "execution_count": 34,
   "metadata": {},
   "outputs": [
    {
     "data": {
      "text/html": [
       "<div>\n",
       "<style scoped>\n",
       "    .dataframe tbody tr th:only-of-type {\n",
       "        vertical-align: middle;\n",
       "    }\n",
       "\n",
       "    .dataframe tbody tr th {\n",
       "        vertical-align: top;\n",
       "    }\n",
       "\n",
       "    .dataframe thead th {\n",
       "        text-align: right;\n",
       "    }\n",
       "</style>\n",
       "<table border=\"1\" class=\"dataframe\">\n",
       "  <thead>\n",
       "    <tr style=\"text-align: right;\">\n",
       "      <th></th>\n",
       "      <th>y_home</th>\n",
       "      <th>y_draw</th>\n",
       "      <th>y_away</th>\n",
       "      <th>country</th>\n",
       "      <th>league</th>\n",
       "      <th>season</th>\n",
       "      <th>valid</th>\n",
       "      <th>x_home_max</th>\n",
       "      <th>x_draw_max</th>\n",
       "      <th>x_away_max</th>\n",
       "      <th>x_home_avg</th>\n",
       "      <th>x_draw_avg</th>\n",
       "      <th>x_away_avg</th>\n",
       "    </tr>\n",
       "  </thead>\n",
       "  <tbody>\n",
       "    <tr>\n",
       "      <th>0</th>\n",
       "      <td>-1.00</td>\n",
       "      <td>-1.0</td>\n",
       "      <td>1.29</td>\n",
       "      <td>England</td>\n",
       "      <td>Premier League</td>\n",
       "      <td>-2.302188</td>\n",
       "      <td>False</td>\n",
       "      <td>-0.140760</td>\n",
       "      <td>-0.122186</td>\n",
       "      <td>-0.478808</td>\n",
       "      <td>-0.217137</td>\n",
       "      <td>-0.142840</td>\n",
       "      <td>-0.502732</td>\n",
       "    </tr>\n",
       "    <tr>\n",
       "      <th>1</th>\n",
       "      <td>0.91</td>\n",
       "      <td>-1.0</td>\n",
       "      <td>-1.00</td>\n",
       "      <td>England</td>\n",
       "      <td>League Two</td>\n",
       "      <td>-2.302188</td>\n",
       "      <td>False</td>\n",
       "      <td>-0.619971</td>\n",
       "      <td>-0.103612</td>\n",
       "      <td>0.130421</td>\n",
       "      <td>-0.636056</td>\n",
       "      <td>-0.132513</td>\n",
       "      <td>0.042083</td>\n",
       "    </tr>\n",
       "    <tr>\n",
       "      <th>2</th>\n",
       "      <td>-1.00</td>\n",
       "      <td>-1.0</td>\n",
       "      <td>3.34</td>\n",
       "      <td>England</td>\n",
       "      <td>League Two</td>\n",
       "      <td>-2.302188</td>\n",
       "      <td>False</td>\n",
       "      <td>-0.642260</td>\n",
       "      <td>-0.029316</td>\n",
       "      <td>0.282729</td>\n",
       "      <td>-0.667446</td>\n",
       "      <td>-0.103612</td>\n",
       "      <td>0.156425</td>\n",
       "    </tr>\n",
       "    <tr>\n",
       "      <th>3</th>\n",
       "      <td>1.38</td>\n",
       "      <td>-1.0</td>\n",
       "      <td>-1.00</td>\n",
       "      <td>England</td>\n",
       "      <td>League Two</td>\n",
       "      <td>-2.302188</td>\n",
       "      <td>False</td>\n",
       "      <td>-0.445375</td>\n",
       "      <td>-0.114756</td>\n",
       "      <td>-0.270779</td>\n",
       "      <td>-0.470561</td>\n",
       "      <td>-0.141986</td>\n",
       "      <td>-0.324012</td>\n",
       "    </tr>\n",
       "    <tr>\n",
       "      <th>4</th>\n",
       "      <td>-1.00</td>\n",
       "      <td>-1.0</td>\n",
       "      <td>4.50</td>\n",
       "      <td>England</td>\n",
       "      <td>League Two</td>\n",
       "      <td>-2.302188</td>\n",
       "      <td>False</td>\n",
       "      <td>-0.709127</td>\n",
       "      <td>-0.029316</td>\n",
       "      <td>0.713647</td>\n",
       "      <td>-0.719862</td>\n",
       "      <td>-0.069361</td>\n",
       "      <td>0.419359</td>\n",
       "    </tr>\n",
       "  </tbody>\n",
       "</table>\n",
       "</div>"
      ],
      "text/plain": [
       "   y_home  y_draw  y_away  country          league    season  valid  \\\n",
       "0   -1.00    -1.0    1.29  England  Premier League -2.302188  False   \n",
       "1    0.91    -1.0   -1.00  England      League Two -2.302188  False   \n",
       "2   -1.00    -1.0    3.34  England      League Two -2.302188  False   \n",
       "3    1.38    -1.0   -1.00  England      League Two -2.302188  False   \n",
       "4   -1.00    -1.0    4.50  England      League Two -2.302188  False   \n",
       "\n",
       "   x_home_max  x_draw_max  x_away_max  x_home_avg  x_draw_avg  x_away_avg  \n",
       "0   -0.140760   -0.122186   -0.478808   -0.217137   -0.142840   -0.502732  \n",
       "1   -0.619971   -0.103612    0.130421   -0.636056   -0.132513    0.042083  \n",
       "2   -0.642260   -0.029316    0.282729   -0.667446   -0.103612    0.156425  \n",
       "3   -0.445375   -0.114756   -0.270779   -0.470561   -0.141986   -0.324012  \n",
       "4   -0.709127   -0.029316    0.713647   -0.719862   -0.069361    0.419359  "
      ]
     },
     "execution_count": 34,
     "metadata": {},
     "output_type": "execute_result"
    }
   ],
   "source": [
    "odds_df.loc[:, ['x_home_max', 'x_draw_max', 'x_away_max', 'x_home_avg', 'x_draw_avg', 'x_away_avg']] = (odds_df.loc[:, ['x_home_max', 'x_draw_max', 'x_away_max', 'x_home_avg', 'x_draw_avg', 'x_away_avg']]-odds_mean)/odds_std\n",
    "odds_df.head()"
   ]
  },
  {
   "cell_type": "code",
   "execution_count": 67,
   "metadata": {},
   "outputs": [],
   "source": [
    "odds_df['y_none'] = 0."
   ]
  },
  {
   "cell_type": "code",
   "execution_count": 68,
   "metadata": {},
   "outputs": [],
   "source": [
    "to = TabularPandas(odds_df, cat_names=['country', 'league'], procs=[Categorify],\n",
    "                   cont_names = ['x_home_max', 'x_draw_max', 'x_away_max', 'x_home_avg', 'x_draw_avg', 'x_away_avg', 'season'],\n",
    "                   y_names=['y_home', 'y_draw', 'y_away'],#, 'y_none'],\n",
    "                   splits=ColSplitter('valid')(odds_df))\n",
    "dls = to.dataloaders(bs=1024)"
   ]
  },
  {
   "cell_type": "code",
   "execution_count": 69,
   "metadata": {},
   "outputs": [],
   "source": [
    "learn = tabular_learner(dls, loss_func=odds_loss, metrics=odds_profit, layers=[50, 25, 10, 6])\n",
    "learn.model = learn.model.to('cuda')"
   ]
  },
  {
   "cell_type": "code",
   "execution_count": 70,
   "metadata": {},
   "outputs": [
    {
     "data": {
      "text/html": [],
      "text/plain": [
       "<IPython.core.display.HTML object>"
      ]
     },
     "metadata": {},
     "output_type": "display_data"
    },
    {
     "data": {
      "text/plain": [
       "SuggestedLRs(lr_min=0.33113112449646, lr_steep=6.309573450380412e-07)"
      ]
     },
     "execution_count": 70,
     "metadata": {},
     "output_type": "execute_result"
    },
    {
     "data": {
      "image/png": "[encoded data removed]",
      "text/plain": [
       "<Figure size 432x288 with 1 Axes>"
      ]
     },
     "metadata": {
      "needs_background": "light"
     },
     "output_type": "display_data"
    }
   ],
   "source": [
    "learn.lr_find()"
   ]
  },
  {
   "cell_type": "code",
   "execution_count": 71,
   "metadata": {},
   "outputs": [
    {
     "data": {
      "text/html": [
       "<table border=\"1\" class=\"dataframe\">\n",
       "  <thead>\n",
       "    <tr style=\"text-align: left;\">\n",
       "      <th>epoch</th>\n",
       "      <th>train_loss</th>\n",
       "      <th>valid_loss</th>\n",
       "      <th>odds_profit</th>\n",
       "      <th>time</th>\n",
       "    </tr>\n",
       "  </thead>\n",
       "  <tbody>\n",
       "    <tr>\n",
       "      <td>0</td>\n",
       "      <td>0.020095</td>\n",
       "      <td>0.037849</td>\n",
       "      <td>-38.687271</td>\n",
       "      <td>00:06</td>\n",
       "    </tr>\n",
       "    <tr>\n",
       "      <td>1</td>\n",
       "      <td>0.042958</td>\n",
       "      <td>0.041267</td>\n",
       "      <td>-42.261276</td>\n",
       "      <td>00:05</td>\n",
       "    </tr>\n",
       "    <tr>\n",
       "      <td>2</td>\n",
       "      <td>0.024411</td>\n",
       "      <td>0.019136</td>\n",
       "      <td>-19.561897</td>\n",
       "      <td>00:05</td>\n",
       "    </tr>\n",
       "    <tr>\n",
       "      <td>3</td>\n",
       "      <td>0.024238</td>\n",
       "      <td>0.019136</td>\n",
       "      <td>-19.562063</td>\n",
       "      <td>00:06</td>\n",
       "    </tr>\n",
       "    <tr>\n",
       "      <td>4</td>\n",
       "      <td>0.021563</td>\n",
       "      <td>0.019136</td>\n",
       "      <td>-19.562115</td>\n",
       "      <td>00:06</td>\n",
       "    </tr>\n",
       "  </tbody>\n",
       "</table>"
      ],
      "text/plain": [
       "<IPython.core.display.HTML object>"
      ]
     },
     "metadata": {},
     "output_type": "display_data"
    }
   ],
   "source": [
    "learn.fit_one_cycle(5, lr_max=1e-1)"
   ]
  },
  {
   "cell_type": "code",
   "execution_count": 72,
   "metadata": {},
   "outputs": [
    {
     "data": {
      "text/html": [],
      "text/plain": [
       "<IPython.core.display.HTML object>"
      ]
     },
     "metadata": {},
     "output_type": "display_data"
    },
    {
     "data": {
      "text/plain": [
       "tensor([[16.3960, -7.5250, -9.0360],\n",
       "        [ 7.7649, -8.8138, -6.5815],\n",
       "        [16.3909, -7.5218, -9.0385],\n",
       "        ...,\n",
       "        [ 7.8523, -8.9307, -6.6656],\n",
       "        [ 7.8636, -8.9483, -6.6763],\n",
       "        [ 7.8544, -8.9389, -6.6673]])"
      ]
     },
     "execution_count": 72,
     "metadata": {},
     "output_type": "execute_result"
    }
   ],
   "source": [
    "preds, _ = learn.get_preds()\n",
    "preds"
   ]
  },
  {
   "cell_type": "markdown",
   "metadata": {},
   "source": [
    "Appearently the model collapses to set all the money on the home team."
   ]
  },
  {
   "cell_type": "code",
   "execution_count": null,
   "metadata": {},
   "outputs": [],
   "source": []
  }
 ],
 "metadata": {
  "kernelspec": {
   "display_name": "Python 3",
   "language": "python",
   "name": "python3"
  },
  "language_info": {
   "codemirror_mode": {
    "name": "ipython",
    "version": 3
   },
   "file_extension": ".py",
   "mimetype": "text/x-python",
   "name": "python",
   "nbconvert_exporter": "python",
   "pygments_lexer": "ipython3",
   "version": "3.8.5"
  }
 },
 "nbformat": 4,
 "nbformat_minor": 4
}
