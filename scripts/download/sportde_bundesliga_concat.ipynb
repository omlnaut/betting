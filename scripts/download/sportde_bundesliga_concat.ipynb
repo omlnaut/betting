{
 "cells": [
  {
   "cell_type": "code",
   "execution_count": 1,
   "metadata": {},
   "outputs": [],
   "source": [
    "%load_ext autoreload\n",
    "%autoreload 2"
   ]
  },
  {
   "cell_type": "code",
   "execution_count": 2,
   "metadata": {},
   "outputs": [],
   "source": [
    "import pandas as pd\n",
    "from pathlib import Path"
   ]
  },
  {
   "cell_type": "markdown",
   "metadata": {},
   "source": [
    "# Concat of downloaded files"
   ]
  },
  {
   "cell_type": "code",
   "execution_count": 35,
   "metadata": {},
   "outputs": [],
   "source": [
    "path = Path('../../data/sportde/bundesliga/raw')"
   ]
  },
  {
   "cell_type": "code",
   "execution_count": 39,
   "metadata": {},
   "outputs": [],
   "source": [
    "matchday_paths = list(path.glob('*_matchdays.feather'))\n",
    "standings_paths = list(path.glob('*_standings.feather'))\n",
    "games_paths = list(path.glob('*_games.feather'))"
   ]
  },
  {
   "cell_type": "code",
   "execution_count": 43,
   "metadata": {},
   "outputs": [],
   "source": [
    "def merge_dfs_from_paths(paths):\n",
    "    dfs = [pd.read_feather(path) for path in paths]\n",
    "    expected_len = sum(len(df) for df in dfs)\n",
    "    \n",
    "    concat = pd.concat(dfs)\n",
    "    \n",
    "    assert len(concat)==expected_len, f'Expected len: {expected_len}, got: {len(concat)}'\n",
    "    \n",
    "    return concat.reset_index(drop=True)"
   ]
  },
  {
   "cell_type": "code",
   "execution_count": 44,
   "metadata": {},
   "outputs": [],
   "source": [
    "matchday_df = merge_dfs_from_paths(matchday_paths)\n",
    "matchday_df.to_feather(path/'../matchdays.feather')\n",
    "\n",
    "standings_df = merge_dfs_from_paths(standings_paths)\n",
    "standings_df.to_feather(path/'../standings.feather')\n",
    "\n",
    "games_df = merge_dfs_from_paths(games_paths)\n",
    "games_df.to_feather(path/'../games.feather')"
   ]
  },
  {
   "cell_type": "code",
   "execution_count": null,
   "metadata": {},
   "outputs": [],
   "source": []
  }
 ],
 "metadata": {
  "kernelspec": {
   "display_name": "Python 3",
   "language": "python",
   "name": "python3"
  },
  "language_info": {
   "codemirror_mode": {
    "name": "ipython",
    "version": 3
   },
   "file_extension": ".py",
   "mimetype": "text/x-python",
   "name": "python",
   "nbconvert_exporter": "python",
   "pygments_lexer": "ipython3",
   "version": "3.8.3"
  }
 },
 "nbformat": 4,
 "nbformat_minor": 4
}
