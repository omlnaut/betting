{
 "cells": [
  {
   "cell_type": "code",
   "execution_count": 1,
   "metadata": {},
   "outputs": [],
   "source": [
    "%load_ext autoreload\n",
    "%autoreload 2"
   ]
  },
  {
   "cell_type": "code",
   "execution_count": 2,
   "metadata": {},
   "outputs": [],
   "source": [
    "from fastai.tabular.all import *\n",
    "import betting.feature_engineering as features"
   ]
  },
  {
   "cell_type": "markdown",
   "metadata": {},
   "source": [
    "# Analysis of kaggle odds with metadata"
   ]
  },
  {
   "cell_type": "code",
   "execution_count": 3,
   "metadata": {},
   "outputs": [
    {
     "data": {
      "text/html": [
       "<div>\n",
       "<style scoped>\n",
       "    .dataframe tbody tr th:only-of-type {\n",
       "        vertical-align: middle;\n",
       "    }\n",
       "\n",
       "    .dataframe tbody tr th {\n",
       "        vertical-align: top;\n",
       "    }\n",
       "\n",
       "    .dataframe thead th {\n",
       "        text-align: right;\n",
       "    }\n",
       "</style>\n",
       "<table border=\"1\" class=\"dataframe\">\n",
       "  <thead>\n",
       "    <tr style=\"text-align: right;\">\n",
       "      <th></th>\n",
       "      <th>match_id</th>\n",
       "      <th>league</th>\n",
       "      <th>match_date</th>\n",
       "      <th>home_team</th>\n",
       "      <th>home_score</th>\n",
       "      <th>away_team</th>\n",
       "      <th>away_score</th>\n",
       "      <th>avg_odds_home_win</th>\n",
       "      <th>avg_odds_draw</th>\n",
       "      <th>avg_odds_away_win</th>\n",
       "      <th>...</th>\n",
       "      <th>home_total_goals_received</th>\n",
       "      <th>home_points</th>\n",
       "      <th>away_rank</th>\n",
       "      <th>away_games_played</th>\n",
       "      <th>away_wins</th>\n",
       "      <th>away_draw</th>\n",
       "      <th>away_lost</th>\n",
       "      <th>away_total_goals_scored</th>\n",
       "      <th>away_total_goals_received</th>\n",
       "      <th>away_points</th>\n",
       "    </tr>\n",
       "  </thead>\n",
       "  <tbody>\n",
       "    <tr>\n",
       "      <th>0</th>\n",
       "      <td>194908</td>\n",
       "      <td>league_one</td>\n",
       "      <td>2005-08-06</td>\n",
       "      <td>RC Lens</td>\n",
       "      <td>2</td>\n",
       "      <td>Marseille</td>\n",
       "      <td>0</td>\n",
       "      <td>2.1783</td>\n",
       "      <td>2.9350</td>\n",
       "      <td>3.2050</td>\n",
       "      <td>...</td>\n",
       "      <td>2</td>\n",
       "      <td>0</td>\n",
       "      <td>18</td>\n",
       "      <td>1</td>\n",
       "      <td>0</td>\n",
       "      <td>0</td>\n",
       "      <td>1</td>\n",
       "      <td>0</td>\n",
       "      <td>2</td>\n",
       "      <td>0</td>\n",
       "    </tr>\n",
       "    <tr>\n",
       "      <th>1</th>\n",
       "      <td>194909</td>\n",
       "      <td>league_one</td>\n",
       "      <td>2005-08-06</td>\n",
       "      <td>AC Ajaccio</td>\n",
       "      <td>3</td>\n",
       "      <td>Lille</td>\n",
       "      <td>3</td>\n",
       "      <td>2.6657</td>\n",
       "      <td>2.8643</td>\n",
       "      <td>2.6014</td>\n",
       "      <td>...</td>\n",
       "      <td>0</td>\n",
       "      <td>1</td>\n",
       "      <td>5</td>\n",
       "      <td>1</td>\n",
       "      <td>1</td>\n",
       "      <td>0</td>\n",
       "      <td>0</td>\n",
       "      <td>1</td>\n",
       "      <td>0</td>\n",
       "      <td>3</td>\n",
       "    </tr>\n",
       "    <tr>\n",
       "      <th>2</th>\n",
       "      <td>194910</td>\n",
       "      <td>league_one</td>\n",
       "      <td>2005-08-06</td>\n",
       "      <td>Bordeaux</td>\n",
       "      <td>1</td>\n",
       "      <td>AS Nancy</td>\n",
       "      <td>0</td>\n",
       "      <td>1.5957</td>\n",
       "      <td>3.2500</td>\n",
       "      <td>5.7443</td>\n",
       "      <td>...</td>\n",
       "      <td>0</td>\n",
       "      <td>3</td>\n",
       "      <td>15</td>\n",
       "      <td>1</td>\n",
       "      <td>0</td>\n",
       "      <td>0</td>\n",
       "      <td>1</td>\n",
       "      <td>0</td>\n",
       "      <td>1</td>\n",
       "      <td>0</td>\n",
       "    </tr>\n",
       "    <tr>\n",
       "      <th>3</th>\n",
       "      <td>194911</td>\n",
       "      <td>league_one</td>\n",
       "      <td>2005-08-06</td>\n",
       "      <td>FC Metz</td>\n",
       "      <td>0</td>\n",
       "      <td>Le Mans</td>\n",
       "      <td>0</td>\n",
       "      <td>1.9500</td>\n",
       "      <td>3.0157</td>\n",
       "      <td>3.8014</td>\n",
       "      <td>...</td>\n",
       "      <td>4</td>\n",
       "      <td>0</td>\n",
       "      <td>14</td>\n",
       "      <td>1</td>\n",
       "      <td>0</td>\n",
       "      <td>0</td>\n",
       "      <td>1</td>\n",
       "      <td>1</td>\n",
       "      <td>2</td>\n",
       "      <td>0</td>\n",
       "    </tr>\n",
       "    <tr>\n",
       "      <th>4</th>\n",
       "      <td>194912</td>\n",
       "      <td>league_one</td>\n",
       "      <td>2005-08-06</td>\n",
       "      <td>AS Monaco</td>\n",
       "      <td>0</td>\n",
       "      <td>Auxerre</td>\n",
       "      <td>2</td>\n",
       "      <td>1.6083</td>\n",
       "      <td>3.2117</td>\n",
       "      <td>5.4483</td>\n",
       "      <td>...</td>\n",
       "      <td>0</td>\n",
       "      <td>3</td>\n",
       "      <td>10</td>\n",
       "      <td>1</td>\n",
       "      <td>0</td>\n",
       "      <td>1</td>\n",
       "      <td>0</td>\n",
       "      <td>0</td>\n",
       "      <td>0</td>\n",
       "      <td>1</td>\n",
       "    </tr>\n",
       "  </tbody>\n",
       "</table>\n",
       "<p>5 rows × 33 columns</p>\n",
       "</div>"
      ],
      "text/plain": [
       "   match_id      league match_date   home_team  home_score  away_team  \\\n",
       "0    194908  league_one 2005-08-06     RC Lens           2  Marseille   \n",
       "1    194909  league_one 2005-08-06  AC Ajaccio           3      Lille   \n",
       "2    194910  league_one 2005-08-06    Bordeaux           1   AS Nancy   \n",
       "3    194911  league_one 2005-08-06     FC Metz           0    Le Mans   \n",
       "4    194912  league_one 2005-08-06   AS Monaco           0    Auxerre   \n",
       "\n",
       "   away_score  avg_odds_home_win  avg_odds_draw  avg_odds_away_win  ...  \\\n",
       "0           0             2.1783         2.9350             3.2050  ...   \n",
       "1           3             2.6657         2.8643             2.6014  ...   \n",
       "2           0             1.5957         3.2500             5.7443  ...   \n",
       "3           0             1.9500         3.0157             3.8014  ...   \n",
       "4           2             1.6083         3.2117             5.4483  ...   \n",
       "\n",
       "   home_total_goals_received  home_points  away_rank  away_games_played  \\\n",
       "0                          2            0         18                  1   \n",
       "1                          0            1          5                  1   \n",
       "2                          0            3         15                  1   \n",
       "3                          4            0         14                  1   \n",
       "4                          0            3         10                  1   \n",
       "\n",
       "   away_wins  away_draw  away_lost  away_total_goals_scored  \\\n",
       "0          0          0          1                        0   \n",
       "1          1          0          0                        1   \n",
       "2          0          0          1                        0   \n",
       "3          0          0          1                        1   \n",
       "4          0          1          0                        0   \n",
       "\n",
       "   away_total_goals_received  away_points  \n",
       "0                          2            0  \n",
       "1                          0            3  \n",
       "2                          1            0  \n",
       "3                          2            0  \n",
       "4                          0            1  \n",
       "\n",
       "[5 rows x 33 columns]"
      ]
     },
     "execution_count": 3,
     "metadata": {},
     "output_type": "execute_result"
    }
   ],
   "source": [
    "data_path = Path('../data/kaggle/with_meta.feather')\n",
    "raw_df = pd.read_feather(data_path)\n",
    "raw_df.head()"
   ]
  },
  {
   "cell_type": "code",
   "execution_count": 4,
   "metadata": {},
   "outputs": [
    {
     "data": {
      "text/plain": [
       "((12500, 33),\n",
       " Index(['match_id', 'league', 'match_date', 'home_team', 'home_score',\n",
       "        'away_team', 'away_score', 'avg_odds_home_win', 'avg_odds_draw',\n",
       "        'avg_odds_away_win', 'max_odds_home_win', 'max_odds_draw',\n",
       "        'max_odds_away_win', 'season', 'matchday', 'home_goals', 'away_goals',\n",
       "        'home_rank', 'home_games_played', 'home_wins', 'home_draw', 'home_lost',\n",
       "        'home_total_goals_scored', 'home_total_goals_received', 'home_points',\n",
       "        'away_rank', 'away_games_played', 'away_wins', 'away_draw', 'away_lost',\n",
       "        'away_total_goals_scored', 'away_total_goals_received', 'away_points'],\n",
       "       dtype='object'))"
      ]
     },
     "execution_count": 4,
     "metadata": {},
     "output_type": "execute_result"
    }
   ],
   "source": [
    "raw_df.shape, raw_df.columns"
   ]
  },
  {
   "cell_type": "markdown",
   "metadata": {},
   "source": [
    "## Features"
   ]
  },
  {
   "cell_type": "markdown",
   "metadata": {},
   "source": [
    "### Game results"
   ]
  },
  {
   "cell_type": "code",
   "execution_count": 5,
   "metadata": {},
   "outputs": [],
   "source": [
    "raw_df['result'] = features.results_from_goals(raw_df, 'home_score', 'away_score')"
   ]
  },
  {
   "cell_type": "markdown",
   "metadata": {},
   "source": [
    "### Target columns"
   ]
  },
  {
   "cell_type": "code",
   "execution_count": 6,
   "metadata": {},
   "outputs": [
    {
     "data": {
      "text/html": [
       "<div>\n",
       "<style scoped>\n",
       "    .dataframe tbody tr th:only-of-type {\n",
       "        vertical-align: middle;\n",
       "    }\n",
       "\n",
       "    .dataframe tbody tr th {\n",
       "        vertical-align: top;\n",
       "    }\n",
       "\n",
       "    .dataframe thead th {\n",
       "        text-align: right;\n",
       "    }\n",
       "</style>\n",
       "<table border=\"1\" class=\"dataframe\">\n",
       "  <thead>\n",
       "    <tr style=\"text-align: right;\">\n",
       "      <th></th>\n",
       "      <th>match_id</th>\n",
       "      <th>league</th>\n",
       "      <th>match_date</th>\n",
       "      <th>home_team</th>\n",
       "      <th>home_score</th>\n",
       "      <th>away_team</th>\n",
       "      <th>away_score</th>\n",
       "      <th>avg_odds_home_win</th>\n",
       "      <th>avg_odds_draw</th>\n",
       "      <th>avg_odds_away_win</th>\n",
       "      <th>...</th>\n",
       "      <th>away_draw</th>\n",
       "      <th>away_lost</th>\n",
       "      <th>away_total_goals_scored</th>\n",
       "      <th>away_total_goals_received</th>\n",
       "      <th>away_points</th>\n",
       "      <th>result</th>\n",
       "      <th>y_home</th>\n",
       "      <th>y_draw</th>\n",
       "      <th>y_away</th>\n",
       "      <th>y_none</th>\n",
       "    </tr>\n",
       "  </thead>\n",
       "  <tbody>\n",
       "    <tr>\n",
       "      <th>0</th>\n",
       "      <td>194908</td>\n",
       "      <td>league_one</td>\n",
       "      <td>2005-08-06</td>\n",
       "      <td>RC Lens</td>\n",
       "      <td>2</td>\n",
       "      <td>Marseille</td>\n",
       "      <td>0</td>\n",
       "      <td>2.1783</td>\n",
       "      <td>2.9350</td>\n",
       "      <td>3.2050</td>\n",
       "      <td>...</td>\n",
       "      <td>0</td>\n",
       "      <td>1</td>\n",
       "      <td>0</td>\n",
       "      <td>2</td>\n",
       "      <td>0</td>\n",
       "      <td>-1</td>\n",
       "      <td>1.45</td>\n",
       "      <td>-1.0</td>\n",
       "      <td>-1.0</td>\n",
       "      <td>0.0</td>\n",
       "    </tr>\n",
       "    <tr>\n",
       "      <th>1</th>\n",
       "      <td>194909</td>\n",
       "      <td>league_one</td>\n",
       "      <td>2005-08-06</td>\n",
       "      <td>AC Ajaccio</td>\n",
       "      <td>3</td>\n",
       "      <td>Lille</td>\n",
       "      <td>3</td>\n",
       "      <td>2.6657</td>\n",
       "      <td>2.8643</td>\n",
       "      <td>2.6014</td>\n",
       "      <td>...</td>\n",
       "      <td>0</td>\n",
       "      <td>0</td>\n",
       "      <td>1</td>\n",
       "      <td>0</td>\n",
       "      <td>3</td>\n",
       "      <td>0</td>\n",
       "      <td>-1.00</td>\n",
       "      <td>2.0</td>\n",
       "      <td>-1.0</td>\n",
       "      <td>0.0</td>\n",
       "    </tr>\n",
       "    <tr>\n",
       "      <th>2</th>\n",
       "      <td>194910</td>\n",
       "      <td>league_one</td>\n",
       "      <td>2005-08-06</td>\n",
       "      <td>Bordeaux</td>\n",
       "      <td>1</td>\n",
       "      <td>AS Nancy</td>\n",
       "      <td>0</td>\n",
       "      <td>1.5957</td>\n",
       "      <td>3.2500</td>\n",
       "      <td>5.7443</td>\n",
       "      <td>...</td>\n",
       "      <td>0</td>\n",
       "      <td>1</td>\n",
       "      <td>0</td>\n",
       "      <td>1</td>\n",
       "      <td>0</td>\n",
       "      <td>-1</td>\n",
       "      <td>0.65</td>\n",
       "      <td>-1.0</td>\n",
       "      <td>-1.0</td>\n",
       "      <td>0.0</td>\n",
       "    </tr>\n",
       "    <tr>\n",
       "      <th>3</th>\n",
       "      <td>194911</td>\n",
       "      <td>league_one</td>\n",
       "      <td>2005-08-06</td>\n",
       "      <td>FC Metz</td>\n",
       "      <td>0</td>\n",
       "      <td>Le Mans</td>\n",
       "      <td>0</td>\n",
       "      <td>1.9500</td>\n",
       "      <td>3.0157</td>\n",
       "      <td>3.8014</td>\n",
       "      <td>...</td>\n",
       "      <td>0</td>\n",
       "      <td>1</td>\n",
       "      <td>1</td>\n",
       "      <td>2</td>\n",
       "      <td>0</td>\n",
       "      <td>0</td>\n",
       "      <td>-1.00</td>\n",
       "      <td>2.1</td>\n",
       "      <td>-1.0</td>\n",
       "      <td>0.0</td>\n",
       "    </tr>\n",
       "    <tr>\n",
       "      <th>4</th>\n",
       "      <td>194912</td>\n",
       "      <td>league_one</td>\n",
       "      <td>2005-08-06</td>\n",
       "      <td>AS Monaco</td>\n",
       "      <td>0</td>\n",
       "      <td>Auxerre</td>\n",
       "      <td>2</td>\n",
       "      <td>1.6083</td>\n",
       "      <td>3.2117</td>\n",
       "      <td>5.4483</td>\n",
       "      <td>...</td>\n",
       "      <td>1</td>\n",
       "      <td>0</td>\n",
       "      <td>0</td>\n",
       "      <td>0</td>\n",
       "      <td>1</td>\n",
       "      <td>1</td>\n",
       "      <td>-1.00</td>\n",
       "      <td>-1.0</td>\n",
       "      <td>5.0</td>\n",
       "      <td>0.0</td>\n",
       "    </tr>\n",
       "  </tbody>\n",
       "</table>\n",
       "<p>5 rows × 38 columns</p>\n",
       "</div>"
      ],
      "text/plain": [
       "   match_id      league match_date   home_team  home_score  away_team  \\\n",
       "0    194908  league_one 2005-08-06     RC Lens           2  Marseille   \n",
       "1    194909  league_one 2005-08-06  AC Ajaccio           3      Lille   \n",
       "2    194910  league_one 2005-08-06    Bordeaux           1   AS Nancy   \n",
       "3    194911  league_one 2005-08-06     FC Metz           0    Le Mans   \n",
       "4    194912  league_one 2005-08-06   AS Monaco           0    Auxerre   \n",
       "\n",
       "   away_score  avg_odds_home_win  avg_odds_draw  avg_odds_away_win  ...  \\\n",
       "0           0             2.1783         2.9350             3.2050  ...   \n",
       "1           3             2.6657         2.8643             2.6014  ...   \n",
       "2           0             1.5957         3.2500             5.7443  ...   \n",
       "3           0             1.9500         3.0157             3.8014  ...   \n",
       "4           2             1.6083         3.2117             5.4483  ...   \n",
       "\n",
       "   away_draw  away_lost  away_total_goals_scored  away_total_goals_received  \\\n",
       "0          0          1                        0                          2   \n",
       "1          0          0                        1                          0   \n",
       "2          0          1                        0                          1   \n",
       "3          0          1                        1                          2   \n",
       "4          1          0                        0                          0   \n",
       "\n",
       "   away_points  result  y_home  y_draw  y_away  y_none  \n",
       "0            0      -1    1.45    -1.0    -1.0     0.0  \n",
       "1            3       0   -1.00     2.0    -1.0     0.0  \n",
       "2            0      -1    0.65    -1.0    -1.0     0.0  \n",
       "3            0       0   -1.00     2.1    -1.0     0.0  \n",
       "4            1       1   -1.00    -1.0     5.0     0.0  \n",
       "\n",
       "[5 rows x 38 columns]"
      ]
     },
     "execution_count": 6,
     "metadata": {},
     "output_type": "execute_result"
    }
   ],
   "source": [
    "raw_df = features.add_profit_cols(raw_df, 'max_odds_home_win', 'max_odds_draw', 'max_odds_away_win')\n",
    "raw_df['y_none'] = 0.\n",
    "raw_df.head()"
   ]
  },
  {
   "cell_type": "markdown",
   "metadata": {},
   "source": [
    "### Validation"
   ]
  },
  {
   "cell_type": "code",
   "execution_count": 7,
   "metadata": {},
   "outputs": [
    {
     "data": {
      "text/plain": [
       "array([2005, 2006, 2007, 2008, 2009, 2010, 2011, 2012, 2013, 2014])"
      ]
     },
     "execution_count": 7,
     "metadata": {},
     "output_type": "execute_result"
    }
   ],
   "source": [
    "raw_df.season.unique()"
   ]
  },
  {
   "cell_type": "code",
   "execution_count": 8,
   "metadata": {},
   "outputs": [],
   "source": [
    "raw_df['valid'] = False\n",
    "raw_df.loc[raw_df.season>=2013,'valid'] = True"
   ]
  },
  {
   "cell_type": "markdown",
   "metadata": {},
   "source": [
    "### Cats and conts"
   ]
  },
  {
   "cell_type": "code",
   "execution_count": 82,
   "metadata": {},
   "outputs": [],
   "source": [
    "cats = ['league', 'home_team', 'away_team']\n",
    "conts = ['season', 'matchday',\n",
    "        'home_rank', 'home_games_played', 'home_wins', 'home_draw', 'home_lost',\n",
    "        'home_total_goals_scored', 'home_total_goals_received', 'home_points',\n",
    "        'away_rank', 'away_games_played', 'away_wins', 'away_draw', 'away_lost',\n",
    "        'away_total_goals_scored', 'away_total_goals_received', 'away_points']"
   ]
  },
  {
   "cell_type": "markdown",
   "metadata": {},
   "source": [
    "### DataLoaders"
   ]
  },
  {
   "cell_type": "code",
   "execution_count": 83,
   "metadata": {},
   "outputs": [],
   "source": [
    "to = TabularPandas(raw_df, cat_names=cats, procs=[Categorify, Normalize],\n",
    "                   cont_names = conts,\n",
    "                   y_names=['y_home', 'y_draw', 'y_away', 'y_none'],\n",
    "                   splits=ColSplitter('valid')(raw_df))\n",
    "dls = to.dataloaders(bs=4096)"
   ]
  },
  {
   "cell_type": "code",
   "execution_count": 84,
   "metadata": {},
   "outputs": [
    {
     "data": {
      "text/html": [
       "<table border=\"1\" class=\"dataframe\">\n",
       "  <thead>\n",
       "    <tr style=\"text-align: right;\">\n",
       "      <th></th>\n",
       "      <th>league</th>\n",
       "      <th>home_team</th>\n",
       "      <th>away_team</th>\n",
       "      <th>season</th>\n",
       "      <th>matchday</th>\n",
       "      <th>home_rank</th>\n",
       "      <th>home_games_played</th>\n",
       "      <th>home_wins</th>\n",
       "      <th>home_draw</th>\n",
       "      <th>home_lost</th>\n",
       "      <th>home_total_goals_scored</th>\n",
       "      <th>home_total_goals_received</th>\n",
       "      <th>home_points</th>\n",
       "      <th>away_rank</th>\n",
       "      <th>away_games_played</th>\n",
       "      <th>away_wins</th>\n",
       "      <th>away_draw</th>\n",
       "      <th>away_lost</th>\n",
       "      <th>away_total_goals_scored</th>\n",
       "      <th>away_total_goals_received</th>\n",
       "      <th>away_points</th>\n",
       "      <th>y_home</th>\n",
       "      <th>y_draw</th>\n",
       "      <th>y_away</th>\n",
       "      <th>y_none</th>\n",
       "    </tr>\n",
       "  </thead>\n",
       "  <tbody>\n",
       "    <tr>\n",
       "      <th>0</th>\n",
       "      <td>primera_division</td>\n",
       "      <td>Real Madrid</td>\n",
       "      <td>Mallorca</td>\n",
       "      <td>2009.0</td>\n",
       "      <td>17.000000</td>\n",
       "      <td>2.0</td>\n",
       "      <td>16.000000</td>\n",
       "      <td>1.200000e+01</td>\n",
       "      <td>2.000000e+00</td>\n",
       "      <td>2.000000e+00</td>\n",
       "      <td>40.000000</td>\n",
       "      <td>1.300000e+01</td>\n",
       "      <td>38.000000</td>\n",
       "      <td>4.0</td>\n",
       "      <td>16.000000</td>\n",
       "      <td>9.000000e+00</td>\n",
       "      <td>3.000000e+00</td>\n",
       "      <td>4.0</td>\n",
       "      <td>3.000000e+01</td>\n",
       "      <td>18.000000</td>\n",
       "      <td>3.000000e+01</td>\n",
       "      <td>0.33</td>\n",
       "      <td>-1.00</td>\n",
       "      <td>-1.00</td>\n",
       "      <td>0.0</td>\n",
       "    </tr>\n",
       "    <tr>\n",
       "      <th>1</th>\n",
       "      <td>premier_league</td>\n",
       "      <td>Wigan</td>\n",
       "      <td>Man City</td>\n",
       "      <td>2009.0</td>\n",
       "      <td>9.000000</td>\n",
       "      <td>13.0</td>\n",
       "      <td>7.999999</td>\n",
       "      <td>3.000000e+00</td>\n",
       "      <td>-1.900826e-07</td>\n",
       "      <td>5.000000e+00</td>\n",
       "      <td>8.000000</td>\n",
       "      <td>1.500000e+01</td>\n",
       "      <td>9.000000</td>\n",
       "      <td>5.0</td>\n",
       "      <td>7.999999</td>\n",
       "      <td>5.000000e+00</td>\n",
       "      <td>1.000000e+00</td>\n",
       "      <td>2.0</td>\n",
       "      <td>1.500000e+01</td>\n",
       "      <td>10.000000</td>\n",
       "      <td>1.600000e+01</td>\n",
       "      <td>-1.00</td>\n",
       "      <td>2.70</td>\n",
       "      <td>-1.00</td>\n",
       "      <td>0.0</td>\n",
       "    </tr>\n",
       "    <tr>\n",
       "      <th>2</th>\n",
       "      <td>primera_division</td>\n",
       "      <td>Getafe</td>\n",
       "      <td>S. Sebastian</td>\n",
       "      <td>2011.0</td>\n",
       "      <td>28.000000</td>\n",
       "      <td>14.0</td>\n",
       "      <td>27.000000</td>\n",
       "      <td>8.000000e+00</td>\n",
       "      <td>9.000000e+00</td>\n",
       "      <td>1.000000e+01</td>\n",
       "      <td>28.000000</td>\n",
       "      <td>3.600000e+01</td>\n",
       "      <td>33.000000</td>\n",
       "      <td>11.0</td>\n",
       "      <td>27.000000</td>\n",
       "      <td>9.000000e+00</td>\n",
       "      <td>7.000000e+00</td>\n",
       "      <td>11.0</td>\n",
       "      <td>3.100000e+01</td>\n",
       "      <td>37.000000</td>\n",
       "      <td>3.400000e+01</td>\n",
       "      <td>1.17</td>\n",
       "      <td>-1.00</td>\n",
       "      <td>-1.00</td>\n",
       "      <td>0.0</td>\n",
       "    </tr>\n",
       "    <tr>\n",
       "      <th>3</th>\n",
       "      <td>primera_division</td>\n",
       "      <td>Nàstic</td>\n",
       "      <td>Levante</td>\n",
       "      <td>2006.0</td>\n",
       "      <td>14.000000</td>\n",
       "      <td>20.0</td>\n",
       "      <td>13.000000</td>\n",
       "      <td>9.999998e-01</td>\n",
       "      <td>2.000000e+00</td>\n",
       "      <td>1.000000e+01</td>\n",
       "      <td>11.000000</td>\n",
       "      <td>2.800000e+01</td>\n",
       "      <td>5.000001</td>\n",
       "      <td>16.0</td>\n",
       "      <td>13.000000</td>\n",
       "      <td>3.000000e+00</td>\n",
       "      <td>5.000000e+00</td>\n",
       "      <td>5.0</td>\n",
       "      <td>1.100000e+01</td>\n",
       "      <td>18.000000</td>\n",
       "      <td>1.400000e+01</td>\n",
       "      <td>2.40</td>\n",
       "      <td>-1.00</td>\n",
       "      <td>-1.00</td>\n",
       "      <td>0.0</td>\n",
       "    </tr>\n",
       "    <tr>\n",
       "      <th>4</th>\n",
       "      <td>bundesliga</td>\n",
       "      <td>Wolfsburg</td>\n",
       "      <td>FC Bayern</td>\n",
       "      <td>2011.0</td>\n",
       "      <td>2.000000</td>\n",
       "      <td>1.0</td>\n",
       "      <td>1.000000</td>\n",
       "      <td>9.999998e-01</td>\n",
       "      <td>-1.900826e-07</td>\n",
       "      <td>1.078842e-07</td>\n",
       "      <td>3.000001</td>\n",
       "      <td>-5.393437e-07</td>\n",
       "      <td>3.000000</td>\n",
       "      <td>12.0</td>\n",
       "      <td>1.000000</td>\n",
       "      <td>-1.232303e-07</td>\n",
       "      <td>-1.192610e-07</td>\n",
       "      <td>1.0</td>\n",
       "      <td>2.464979e-09</td>\n",
       "      <td>0.999999</td>\n",
       "      <td>-8.384479e-07</td>\n",
       "      <td>-1.00</td>\n",
       "      <td>-1.00</td>\n",
       "      <td>1.00</td>\n",
       "      <td>0.0</td>\n",
       "    </tr>\n",
       "    <tr>\n",
       "      <th>5</th>\n",
       "      <td>league_one</td>\n",
       "      <td>Marseille</td>\n",
       "      <td>Thonon Évian FC</td>\n",
       "      <td>2011.0</td>\n",
       "      <td>7.000000</td>\n",
       "      <td>20.0</td>\n",
       "      <td>6.000000</td>\n",
       "      <td>-1.271625e-07</td>\n",
       "      <td>3.000000e+00</td>\n",
       "      <td>3.000000e+00</td>\n",
       "      <td>5.999999</td>\n",
       "      <td>1.000000e+01</td>\n",
       "      <td>3.000000</td>\n",
       "      <td>10.0</td>\n",
       "      <td>6.000000</td>\n",
       "      <td>9.999998e-01</td>\n",
       "      <td>4.000000e+00</td>\n",
       "      <td>1.0</td>\n",
       "      <td>5.999999e+00</td>\n",
       "      <td>6.000001</td>\n",
       "      <td>7.000000e+00</td>\n",
       "      <td>0.45</td>\n",
       "      <td>-1.00</td>\n",
       "      <td>-1.00</td>\n",
       "      <td>0.0</td>\n",
       "    </tr>\n",
       "    <tr>\n",
       "      <th>6</th>\n",
       "      <td>premier_league</td>\n",
       "      <td>Chelsea</td>\n",
       "      <td>Wolverhampton</td>\n",
       "      <td>2009.0</td>\n",
       "      <td>13.000000</td>\n",
       "      <td>1.0</td>\n",
       "      <td>12.000000</td>\n",
       "      <td>1.000000e+01</td>\n",
       "      <td>-1.900826e-07</td>\n",
       "      <td>2.000000e+00</td>\n",
       "      <td>29.000000</td>\n",
       "      <td>7.999999e+00</td>\n",
       "      <td>30.000000</td>\n",
       "      <td>19.0</td>\n",
       "      <td>12.000000</td>\n",
       "      <td>2.000000e+00</td>\n",
       "      <td>4.000000e+00</td>\n",
       "      <td>6.0</td>\n",
       "      <td>1.200000e+01</td>\n",
       "      <td>22.000000</td>\n",
       "      <td>1.000000e+01</td>\n",
       "      <td>0.21</td>\n",
       "      <td>-1.00</td>\n",
       "      <td>-1.00</td>\n",
       "      <td>0.0</td>\n",
       "    </tr>\n",
       "    <tr>\n",
       "      <th>7</th>\n",
       "      <td>bundesliga</td>\n",
       "      <td>K'lautern</td>\n",
       "      <td>Schalke 04</td>\n",
       "      <td>2005.0</td>\n",
       "      <td>18.000000</td>\n",
       "      <td>18.0</td>\n",
       "      <td>17.000000</td>\n",
       "      <td>3.000000e+00</td>\n",
       "      <td>3.000000e+00</td>\n",
       "      <td>1.100000e+01</td>\n",
       "      <td>23.000000</td>\n",
       "      <td>4.400000e+01</td>\n",
       "      <td>12.000000</td>\n",
       "      <td>4.0</td>\n",
       "      <td>17.000000</td>\n",
       "      <td>8.000000e+00</td>\n",
       "      <td>7.000000e+00</td>\n",
       "      <td>2.0</td>\n",
       "      <td>2.000000e+01</td>\n",
       "      <td>12.000000</td>\n",
       "      <td>3.100000e+01</td>\n",
       "      <td>-1.00</td>\n",
       "      <td>-1.00</td>\n",
       "      <td>0.83</td>\n",
       "      <td>0.0</td>\n",
       "    </tr>\n",
       "    <tr>\n",
       "      <th>8</th>\n",
       "      <td>premier_league</td>\n",
       "      <td>Liverpool</td>\n",
       "      <td>Everton</td>\n",
       "      <td>2012.0</td>\n",
       "      <td>36.000001</td>\n",
       "      <td>7.0</td>\n",
       "      <td>35.000001</td>\n",
       "      <td>1.400000e+01</td>\n",
       "      <td>1.200000e+01</td>\n",
       "      <td>9.000000e+00</td>\n",
       "      <td>66.999999</td>\n",
       "      <td>4.200000e+01</td>\n",
       "      <td>53.999999</td>\n",
       "      <td>6.0</td>\n",
       "      <td>35.000001</td>\n",
       "      <td>1.500000e+01</td>\n",
       "      <td>1.400000e+01</td>\n",
       "      <td>6.0</td>\n",
       "      <td>5.200000e+01</td>\n",
       "      <td>38.000000</td>\n",
       "      <td>5.900000e+01</td>\n",
       "      <td>-1.00</td>\n",
       "      <td>2.75</td>\n",
       "      <td>-1.00</td>\n",
       "      <td>0.0</td>\n",
       "    </tr>\n",
       "    <tr>\n",
       "      <th>9</th>\n",
       "      <td>primera_division</td>\n",
       "      <td>Espanyol</td>\n",
       "      <td>Racing</td>\n",
       "      <td>2006.0</td>\n",
       "      <td>7.000000</td>\n",
       "      <td>16.0</td>\n",
       "      <td>6.000000</td>\n",
       "      <td>9.999998e-01</td>\n",
       "      <td>2.000000e+00</td>\n",
       "      <td>3.000000e+00</td>\n",
       "      <td>2.000000</td>\n",
       "      <td>6.000000e+00</td>\n",
       "      <td>5.000001</td>\n",
       "      <td>15.0</td>\n",
       "      <td>6.000000</td>\n",
       "      <td>9.999998e-01</td>\n",
       "      <td>2.000000e+00</td>\n",
       "      <td>3.0</td>\n",
       "      <td>4.000000e+00</td>\n",
       "      <td>7.999999</td>\n",
       "      <td>4.999999e+00</td>\n",
       "      <td>-1.00</td>\n",
       "      <td>2.27</td>\n",
       "      <td>-1.00</td>\n",
       "      <td>0.0</td>\n",
       "    </tr>\n",
       "  </tbody>\n",
       "</table>"
      ],
      "text/plain": [
       "<IPython.core.display.HTML object>"
      ]
     },
     "metadata": {},
     "output_type": "display_data"
    }
   ],
   "source": [
    "dls.show_batch()"
   ]
  },
  {
   "cell_type": "code",
   "execution_count": 85,
   "metadata": {},
   "outputs": [
    {
     "data": {
      "text/plain": [
       "(9717, 2783)"
      ]
     },
     "execution_count": 85,
     "metadata": {},
     "output_type": "execute_result"
    }
   ],
   "source": [
    "len(dls.train_ds), len(dls.valid_ds)"
   ]
  },
  {
   "cell_type": "markdown",
   "metadata": {},
   "source": [
    "# Model"
   ]
  },
  {
   "cell_type": "code",
   "execution_count": 86,
   "metadata": {},
   "outputs": [],
   "source": [
    "def offset(actuals, targets):\n",
    "    return 5+features.odds_loss(actuals, targets)"
   ]
  },
  {
   "cell_type": "code",
   "execution_count": 87,
   "metadata": {},
   "outputs": [],
   "source": [
    "def neg_lr_find(learn, offset=5):\n",
    "    old_loss = learn.loss_func\n",
    "    def loss(actuals, targets):\n",
    "        return offset + old_loss(actuals, targets)\n",
    "    learn.loss_func = loss\n",
    "    learn.lr_find()\n",
    "    learn.loss_func = old_loss"
   ]
  },
  {
   "cell_type": "code",
   "execution_count": 130,
   "metadata": {},
   "outputs": [
    {
     "data": {
      "text/plain": [
       "{'ps': 0.1}"
      ]
     },
     "execution_count": 130,
     "metadata": {},
     "output_type": "execute_result"
    }
   ],
   "source": [
    "config = tabular_config(ps=.1)\n",
    "\n",
    "learn = tabular_learner(dls, loss_func=features.odds_loss, metrics=features.odds_profit, layers=[10,5], wd=1e-2)#, config=config)\n",
    "learn.model = learn.model.to('cuda')"
   ]
  },
  {
   "cell_type": "code",
   "execution_count": 170,
   "metadata": {},
   "outputs": [
    {
     "data": {
      "text/html": [],
      "text/plain": [
       "<IPython.core.display.HTML object>"
      ]
     },
     "metadata": {},
     "output_type": "display_data"
    },
    {
     "data": {
      "image/png": "[encoded data removed]",
      "text/plain": [
       "<Figure size 432x288 with 1 Axes>"
      ]
     },
     "metadata": {
      "needs_background": "light"
     },
     "output_type": "display_data"
    }
   ],
   "source": [
    "neg_lr_find(learn)"
   ]
  },
  {
   "cell_type": "code",
   "execution_count": 171,
   "metadata": {},
   "outputs": [
    {
     "data": {
      "text/html": [
       "<table border=\"1\" class=\"dataframe\">\n",
       "  <thead>\n",
       "    <tr style=\"text-align: left;\">\n",
       "      <th>epoch</th>\n",
       "      <th>train_loss</th>\n",
       "      <th>valid_loss</th>\n",
       "      <th>odds_profit</th>\n",
       "      <th>time</th>\n",
       "    </tr>\n",
       "  </thead>\n",
       "  <tbody>\n",
       "    <tr>\n",
       "      <td>0</td>\n",
       "      <td>0.017549</td>\n",
       "      <td>0.009308</td>\n",
       "      <td>-25.905302</td>\n",
       "      <td>00:00</td>\n",
       "    </tr>\n",
       "    <tr>\n",
       "      <td>1</td>\n",
       "      <td>0.004389</td>\n",
       "      <td>0.008476</td>\n",
       "      <td>-23.588943</td>\n",
       "      <td>00:00</td>\n",
       "    </tr>\n",
       "    <tr>\n",
       "      <td>2</td>\n",
       "      <td>-0.008097</td>\n",
       "      <td>0.006922</td>\n",
       "      <td>-19.263105</td>\n",
       "      <td>00:00</td>\n",
       "    </tr>\n",
       "    <tr>\n",
       "      <td>3</td>\n",
       "      <td>-0.027811</td>\n",
       "      <td>0.006701</td>\n",
       "      <td>-18.649622</td>\n",
       "      <td>00:00</td>\n",
       "    </tr>\n",
       "    <tr>\n",
       "      <td>4</td>\n",
       "      <td>-0.056475</td>\n",
       "      <td>0.016187</td>\n",
       "      <td>-45.047112</td>\n",
       "      <td>00:00</td>\n",
       "    </tr>\n",
       "    <tr>\n",
       "      <td>5</td>\n",
       "      <td>-0.090519</td>\n",
       "      <td>0.016920</td>\n",
       "      <td>-47.088264</td>\n",
       "      <td>00:00</td>\n",
       "    </tr>\n",
       "    <tr>\n",
       "      <td>6</td>\n",
       "      <td>-0.124796</td>\n",
       "      <td>0.025191</td>\n",
       "      <td>-70.106552</td>\n",
       "      <td>00:00</td>\n",
       "    </tr>\n",
       "    <tr>\n",
       "      <td>7</td>\n",
       "      <td>-0.155586</td>\n",
       "      <td>0.043302</td>\n",
       "      <td>-120.509621</td>\n",
       "      <td>00:00</td>\n",
       "    </tr>\n",
       "    <tr>\n",
       "      <td>8</td>\n",
       "      <td>-0.182910</td>\n",
       "      <td>0.053897</td>\n",
       "      <td>-149.995331</td>\n",
       "      <td>00:00</td>\n",
       "    </tr>\n",
       "    <tr>\n",
       "      <td>9</td>\n",
       "      <td>-0.205350</td>\n",
       "      <td>0.057228</td>\n",
       "      <td>-159.264801</td>\n",
       "      <td>00:00</td>\n",
       "    </tr>\n",
       "  </tbody>\n",
       "</table>"
      ],
      "text/plain": [
       "<IPython.core.display.HTML object>"
      ]
     },
     "metadata": {},
     "output_type": "display_data"
    }
   ],
   "source": [
    "learn.fit_one_cycle(10, 5e-2)"
   ]
  },
  {
   "cell_type": "code",
   "execution_count": 172,
   "metadata": {},
   "outputs": [
    {
     "data": {
      "image/png": "[encoded data removed]",
      "text/plain": [
       "<Figure size 432x288 with 1 Axes>"
      ]
     },
     "metadata": {
      "needs_background": "light"
     },
     "output_type": "display_data"
    }
   ],
   "source": [
    "learn.recorder.plot_loss()"
   ]
  },
  {
   "cell_type": "markdown",
   "metadata": {},
   "source": [
    "## Recent seasons"
   ]
  },
  {
   "cell_type": "code",
   "execution_count": 174,
   "metadata": {},
   "outputs": [],
   "source": [
    "recent_df = raw_df.loc[raw_df.season>=2008,:].copy()"
   ]
  },
  {
   "cell_type": "code",
   "execution_count": 176,
   "metadata": {},
   "outputs": [],
   "source": [
    "cats = ['league']\n",
    "conts = ['season', 'matchday',\n",
    "        'home_rank', 'home_games_played', 'home_wins', 'home_draw', 'home_lost',\n",
    "        'home_total_goals_scored', 'home_total_goals_received', 'home_points',\n",
    "        'away_rank', 'away_games_played', 'away_wins', 'away_draw', 'away_lost',\n",
    "        'away_total_goals_scored', 'away_total_goals_received', 'away_points']\n",
    "\n",
    "to = TabularPandas(recent_df, cat_names=cats, procs=[Categorify, Normalize],\n",
    "                   cont_names = conts,\n",
    "                   y_names=['y_home', 'y_draw', 'y_away', 'y_none'],\n",
    "                   splits=ColSplitter('valid')(recent_df))\n",
    "dls = to.dataloaders(bs=4096)"
   ]
  },
  {
   "cell_type": "code",
   "execution_count": 181,
   "metadata": {},
   "outputs": [],
   "source": [
    "config = tabular_config(ps=.1)\n",
    "\n",
    "learn = tabular_learner(dls, loss_func=features.odds_loss, metrics=features.odds_profit, layers=[10,5], wd=1e-2)#, config=config)\n",
    "learn.model = learn.model.to('cuda')"
   ]
  },
  {
   "cell_type": "code",
   "execution_count": 182,
   "metadata": {},
   "outputs": [
    {
     "data": {
      "text/html": [],
      "text/plain": [
       "<IPython.core.display.HTML object>"
      ]
     },
     "metadata": {},
     "output_type": "display_data"
    },
    {
     "data": {
      "image/png": "[encoded data removed]",
      "text/plain": [
       "<Figure size 432x288 with 1 Axes>"
      ]
     },
     "metadata": {
      "needs_background": "light"
     },
     "output_type": "display_data"
    }
   ],
   "source": [
    "neg_lr_find(learn)"
   ]
  },
  {
   "cell_type": "code",
   "execution_count": 183,
   "metadata": {},
   "outputs": [
    {
     "data": {
      "text/html": [
       "<table border=\"1\" class=\"dataframe\">\n",
       "  <thead>\n",
       "    <tr style=\"text-align: left;\">\n",
       "      <th>epoch</th>\n",
       "      <th>train_loss</th>\n",
       "      <th>valid_loss</th>\n",
       "      <th>odds_profit</th>\n",
       "      <th>time</th>\n",
       "    </tr>\n",
       "  </thead>\n",
       "  <tbody>\n",
       "    <tr>\n",
       "      <td>0</td>\n",
       "      <td>0.000743</td>\n",
       "      <td>0.000145</td>\n",
       "      <td>-0.402433</td>\n",
       "      <td>00:00</td>\n",
       "    </tr>\n",
       "    <tr>\n",
       "      <td>1</td>\n",
       "      <td>0.004361</td>\n",
       "      <td>-0.000172</td>\n",
       "      <td>0.479634</td>\n",
       "      <td>00:00</td>\n",
       "    </tr>\n",
       "    <tr>\n",
       "      <td>2</td>\n",
       "      <td>0.003578</td>\n",
       "      <td>-0.000482</td>\n",
       "      <td>1.340505</td>\n",
       "      <td>00:00</td>\n",
       "    </tr>\n",
       "    <tr>\n",
       "      <td>3</td>\n",
       "      <td>0.001233</td>\n",
       "      <td>-0.000019</td>\n",
       "      <td>0.054089</td>\n",
       "      <td>00:00</td>\n",
       "    </tr>\n",
       "    <tr>\n",
       "      <td>4</td>\n",
       "      <td>0.001820</td>\n",
       "      <td>-0.000582</td>\n",
       "      <td>1.620134</td>\n",
       "      <td>00:00</td>\n",
       "    </tr>\n",
       "    <tr>\n",
       "      <td>5</td>\n",
       "      <td>0.000302</td>\n",
       "      <td>-0.001161</td>\n",
       "      <td>3.230304</td>\n",
       "      <td>00:00</td>\n",
       "    </tr>\n",
       "    <tr>\n",
       "      <td>6</td>\n",
       "      <td>-0.002164</td>\n",
       "      <td>-0.000768</td>\n",
       "      <td>2.138007</td>\n",
       "      <td>00:00</td>\n",
       "    </tr>\n",
       "    <tr>\n",
       "      <td>7</td>\n",
       "      <td>-0.005213</td>\n",
       "      <td>-0.003896</td>\n",
       "      <td>10.841584</td>\n",
       "      <td>00:00</td>\n",
       "    </tr>\n",
       "    <tr>\n",
       "      <td>8</td>\n",
       "      <td>-0.009186</td>\n",
       "      <td>-0.006458</td>\n",
       "      <td>17.973894</td>\n",
       "      <td>00:00</td>\n",
       "    </tr>\n",
       "    <tr>\n",
       "      <td>9</td>\n",
       "      <td>-0.013188</td>\n",
       "      <td>-0.010477</td>\n",
       "      <td>29.157597</td>\n",
       "      <td>00:00</td>\n",
       "    </tr>\n",
       "    <tr>\n",
       "      <td>10</td>\n",
       "      <td>-0.017535</td>\n",
       "      <td>-0.014886</td>\n",
       "      <td>41.427269</td>\n",
       "      <td>00:00</td>\n",
       "    </tr>\n",
       "    <tr>\n",
       "      <td>11</td>\n",
       "      <td>-0.021681</td>\n",
       "      <td>-0.018336</td>\n",
       "      <td>51.028194</td>\n",
       "      <td>00:00</td>\n",
       "    </tr>\n",
       "    <tr>\n",
       "      <td>12</td>\n",
       "      <td>-0.025151</td>\n",
       "      <td>-0.020834</td>\n",
       "      <td>57.980713</td>\n",
       "      <td>00:00</td>\n",
       "    </tr>\n",
       "    <tr>\n",
       "      <td>13</td>\n",
       "      <td>-0.029349</td>\n",
       "      <td>-0.021580</td>\n",
       "      <td>60.057701</td>\n",
       "      <td>00:00</td>\n",
       "    </tr>\n",
       "    <tr>\n",
       "      <td>14</td>\n",
       "      <td>-0.033567</td>\n",
       "      <td>-0.021722</td>\n",
       "      <td>60.453110</td>\n",
       "      <td>00:00</td>\n",
       "    </tr>\n",
       "  </tbody>\n",
       "</table>"
      ],
      "text/plain": [
       "<IPython.core.display.HTML object>"
      ]
     },
     "metadata": {},
     "output_type": "display_data"
    }
   ],
   "source": [
    "learn.fit_one_cycle(15, 5e-2)"
   ]
  },
  {
   "cell_type": "code",
   "execution_count": 184,
   "metadata": {},
   "outputs": [
    {
     "data": {
      "image/png": "[encoded data removed]",
      "text/plain": [
       "<Figure size 432x288 with 1 Axes>"
      ]
     },
     "metadata": {
      "needs_background": "light"
     },
     "output_type": "display_data"
    }
   ],
   "source": [
    "learn.recorder.plot_loss()"
   ]
  },
  {
   "cell_type": "markdown",
   "metadata": {},
   "source": [
    "# Season evaluation"
   ]
  },
  {
   "cell_type": "code",
   "execution_count": 186,
   "metadata": {},
   "outputs": [
    {
     "name": "stdout",
     "output_type": "stream",
     "text": [
      "2008\n",
      "2009\n",
      "2010\n",
      "2011\n",
      "2012\n",
      "2013\n",
      "2014\n"
     ]
    }
   ],
   "source": [
    "for season, df in recent_df.groupby('season'):\n",
    "    print(season)"
   ]
  },
  {
   "cell_type": "code",
   "execution_count": null,
   "metadata": {},
   "outputs": [],
   "source": [
    "to."
   ]
  }
 ],
 "metadata": {
  "kernelspec": {
   "display_name": "Python 3",
   "language": "python",
   "name": "python3"
  },
  "language_info": {
   "codemirror_mode": {
    "name": "ipython",
    "version": 3
   },
   "file_extension": ".py",
   "mimetype": "text/x-python",
   "name": "python",
   "nbconvert_exporter": "python",
   "pygments_lexer": "ipython3",
   "version": "3.8.5"
  }
 },
 "nbformat": 4,
 "nbformat_minor": 4
}
