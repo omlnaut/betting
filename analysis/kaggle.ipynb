{
 "cells": [
  {
   "cell_type": "code",
   "execution_count": 1,
   "metadata": {},
   "outputs": [],
   "source": [
    "%load_ext autoreload\n",
    "%autoreload 2"
   ]
  },
  {
   "cell_type": "code",
   "execution_count": 2,
   "metadata": {},
   "outputs": [],
   "source": [
    "from fastai.tabular.all import *"
   ]
  },
  {
   "cell_type": "markdown",
   "metadata": {},
   "source": [
    "# Kaggle analysis"
   ]
  },
  {
   "cell_type": "markdown",
   "metadata": {},
   "source": [
    "## Data preparation"
   ]
  },
  {
   "cell_type": "code",
   "execution_count": 3,
   "metadata": {},
   "outputs": [
    {
     "data": {
      "text/plain": [
       "(#1) [Path('../data/kaggle/closing_odds.feather')]"
      ]
     },
     "execution_count": 3,
     "metadata": {},
     "output_type": "execute_result"
    }
   ],
   "source": [
    "data_dir = Path('../data/kaggle')\n",
    "data_dir.ls()"
   ]
  },
  {
   "cell_type": "code",
   "execution_count": 4,
   "metadata": {},
   "outputs": [
    {
     "data": {
      "text/html": [
       "<div>\n",
       "<style scoped>\n",
       "    .dataframe tbody tr th:only-of-type {\n",
       "        vertical-align: middle;\n",
       "    }\n",
       "\n",
       "    .dataframe tbody tr th {\n",
       "        vertical-align: top;\n",
       "    }\n",
       "\n",
       "    .dataframe thead th {\n",
       "        text-align: right;\n",
       "    }\n",
       "</style>\n",
       "<table border=\"1\" class=\"dataframe\">\n",
       "  <thead>\n",
       "    <tr style=\"text-align: right;\">\n",
       "      <th></th>\n",
       "      <th>match_id</th>\n",
       "      <th>league</th>\n",
       "      <th>match_date</th>\n",
       "      <th>home_team</th>\n",
       "      <th>home_score</th>\n",
       "      <th>away_team</th>\n",
       "      <th>away_score</th>\n",
       "      <th>avg_odds_home_win</th>\n",
       "      <th>avg_odds_draw</th>\n",
       "      <th>avg_odds_away_win</th>\n",
       "      <th>max_odds_home_win</th>\n",
       "      <th>max_odds_draw</th>\n",
       "      <th>max_odds_away_win</th>\n",
       "    </tr>\n",
       "  </thead>\n",
       "  <tbody>\n",
       "    <tr>\n",
       "      <th>0</th>\n",
       "      <td>170088</td>\n",
       "      <td>England: Premier League</td>\n",
       "      <td>2005-01-01</td>\n",
       "      <td>Liverpool</td>\n",
       "      <td>0</td>\n",
       "      <td>Chelsea</td>\n",
       "      <td>1</td>\n",
       "      <td>2.9944</td>\n",
       "      <td>3.1944</td>\n",
       "      <td>2.2256</td>\n",
       "      <td>3.20</td>\n",
       "      <td>3.25</td>\n",
       "      <td>2.29</td>\n",
       "    </tr>\n",
       "    <tr>\n",
       "      <th>1</th>\n",
       "      <td>170125</td>\n",
       "      <td>England: League Two</td>\n",
       "      <td>2005-01-01</td>\n",
       "      <td>Lincoln City</td>\n",
       "      <td>1</td>\n",
       "      <td>Bury</td>\n",
       "      <td>0</td>\n",
       "      <td>1.8667</td>\n",
       "      <td>3.2222</td>\n",
       "      <td>3.6922</td>\n",
       "      <td>1.91</td>\n",
       "      <td>3.30</td>\n",
       "      <td>3.93</td>\n",
       "    </tr>\n",
       "    <tr>\n",
       "      <th>2</th>\n",
       "      <td>170126</td>\n",
       "      <td>England: League Two</td>\n",
       "      <td>2005-01-01</td>\n",
       "      <td>Macclesfield</td>\n",
       "      <td>1</td>\n",
       "      <td>Chester</td>\n",
       "      <td>2</td>\n",
       "      <td>1.7822</td>\n",
       "      <td>3.3000</td>\n",
       "      <td>4.0000</td>\n",
       "      <td>1.85</td>\n",
       "      <td>3.50</td>\n",
       "      <td>4.34</td>\n",
       "    </tr>\n",
       "    <tr>\n",
       "      <th>3</th>\n",
       "      <td>170127</td>\n",
       "      <td>England: League Two</td>\n",
       "      <td>2005-01-01</td>\n",
       "      <td>Oxford Utd</td>\n",
       "      <td>2</td>\n",
       "      <td>Wycombe</td>\n",
       "      <td>1</td>\n",
       "      <td>2.3122</td>\n",
       "      <td>3.1967</td>\n",
       "      <td>2.7067</td>\n",
       "      <td>2.38</td>\n",
       "      <td>3.27</td>\n",
       "      <td>2.85</td>\n",
       "    </tr>\n",
       "    <tr>\n",
       "      <th>4</th>\n",
       "      <td>170128</td>\n",
       "      <td>England: League Two</td>\n",
       "      <td>2005-01-01</td>\n",
       "      <td>Scunthorpe</td>\n",
       "      <td>0</td>\n",
       "      <td>Darlington</td>\n",
       "      <td>1</td>\n",
       "      <td>1.6411</td>\n",
       "      <td>3.3922</td>\n",
       "      <td>4.7078</td>\n",
       "      <td>1.67</td>\n",
       "      <td>3.50</td>\n",
       "      <td>5.50</td>\n",
       "    </tr>\n",
       "  </tbody>\n",
       "</table>\n",
       "</div>"
      ],
      "text/plain": [
       "   match_id                   league match_date     home_team  home_score  \\\n",
       "0    170088  England: Premier League 2005-01-01     Liverpool           0   \n",
       "1    170125      England: League Two 2005-01-01  Lincoln City           1   \n",
       "2    170126      England: League Two 2005-01-01  Macclesfield           1   \n",
       "3    170127      England: League Two 2005-01-01    Oxford Utd           2   \n",
       "4    170128      England: League Two 2005-01-01    Scunthorpe           0   \n",
       "\n",
       "    away_team  away_score  avg_odds_home_win  avg_odds_draw  \\\n",
       "0     Chelsea           1             2.9944         3.1944   \n",
       "1        Bury           0             1.8667         3.2222   \n",
       "2     Chester           2             1.7822         3.3000   \n",
       "3     Wycombe           1             2.3122         3.1967   \n",
       "4  Darlington           1             1.6411         3.3922   \n",
       "\n",
       "   avg_odds_away_win  max_odds_home_win  max_odds_draw  max_odds_away_win  \n",
       "0             2.2256               3.20           3.25               2.29  \n",
       "1             3.6922               1.91           3.30               3.93  \n",
       "2             4.0000               1.85           3.50               4.34  \n",
       "3             2.7067               2.38           3.27               2.85  \n",
       "4             4.7078               1.67           3.50               5.50  "
      ]
     },
     "execution_count": 4,
     "metadata": {},
     "output_type": "execute_result"
    }
   ],
   "source": [
    "raw_df = pd.read_feather(data_dir/'closing_odds.feather')\n",
    "raw_df.head()"
   ]
  },
  {
   "cell_type": "code",
   "execution_count": 5,
   "metadata": {},
   "outputs": [],
   "source": [
    "raw_df['result'] = 0\n",
    "raw_df.loc[raw_df.home_score>raw_df.away_score, 'result'] = -1\n",
    "raw_df.loc[raw_df.home_score<raw_df.away_score, 'result'] = 1"
   ]
  },
  {
   "cell_type": "markdown",
   "metadata": {},
   "source": [
    "## Odds only"
   ]
  },
  {
   "cell_type": "code",
   "execution_count": 6,
   "metadata": {},
   "outputs": [
    {
     "data": {
      "text/html": [
       "<div>\n",
       "<style scoped>\n",
       "    .dataframe tbody tr th:only-of-type {\n",
       "        vertical-align: middle;\n",
       "    }\n",
       "\n",
       "    .dataframe tbody tr th {\n",
       "        vertical-align: top;\n",
       "    }\n",
       "\n",
       "    .dataframe thead th {\n",
       "        text-align: right;\n",
       "    }\n",
       "</style>\n",
       "<table border=\"1\" class=\"dataframe\">\n",
       "  <thead>\n",
       "    <tr style=\"text-align: right;\">\n",
       "      <th></th>\n",
       "      <th>x_home</th>\n",
       "      <th>x_draw</th>\n",
       "      <th>x_away</th>\n",
       "    </tr>\n",
       "  </thead>\n",
       "  <tbody>\n",
       "    <tr>\n",
       "      <th>0</th>\n",
       "      <td>2.9944</td>\n",
       "      <td>3.1944</td>\n",
       "      <td>2.2256</td>\n",
       "    </tr>\n",
       "    <tr>\n",
       "      <th>1</th>\n",
       "      <td>1.8667</td>\n",
       "      <td>3.2222</td>\n",
       "      <td>3.6922</td>\n",
       "    </tr>\n",
       "    <tr>\n",
       "      <th>2</th>\n",
       "      <td>1.7822</td>\n",
       "      <td>3.3000</td>\n",
       "      <td>4.0000</td>\n",
       "    </tr>\n",
       "    <tr>\n",
       "      <th>3</th>\n",
       "      <td>2.3122</td>\n",
       "      <td>3.1967</td>\n",
       "      <td>2.7067</td>\n",
       "    </tr>\n",
       "    <tr>\n",
       "      <th>4</th>\n",
       "      <td>1.6411</td>\n",
       "      <td>3.3922</td>\n",
       "      <td>4.7078</td>\n",
       "    </tr>\n",
       "  </tbody>\n",
       "</table>\n",
       "</div>"
      ],
      "text/plain": [
       "   x_home  x_draw  x_away\n",
       "0  2.9944  3.1944  2.2256\n",
       "1  1.8667  3.2222  3.6922\n",
       "2  1.7822  3.3000  4.0000\n",
       "3  2.3122  3.1967  2.7067\n",
       "4  1.6411  3.3922  4.7078"
      ]
     },
     "execution_count": 6,
     "metadata": {},
     "output_type": "execute_result"
    }
   ],
   "source": [
    "odds_df = pd.DataFrame()\n",
    "\n",
    "odds_df['x_home'] = raw_df.max_odds_home_win\n",
    "odds_df['x_draw'] = raw_df.max_odds_draw\n",
    "odds_df['x_away'] = raw_df.max_odds_away_win\n",
    "\n",
    "odds_df.head()"
   ]
  },
  {
   "cell_type": "code",
   "execution_count": 7,
   "metadata": {},
   "outputs": [
    {
     "data": {
      "text/html": [
       "<div>\n",
       "<style scoped>\n",
       "    .dataframe tbody tr th:only-of-type {\n",
       "        vertical-align: middle;\n",
       "    }\n",
       "\n",
       "    .dataframe tbody tr th {\n",
       "        vertical-align: top;\n",
       "    }\n",
       "\n",
       "    .dataframe thead th {\n",
       "        text-align: right;\n",
       "    }\n",
       "</style>\n",
       "<table border=\"1\" class=\"dataframe\">\n",
       "  <thead>\n",
       "    <tr style=\"text-align: right;\">\n",
       "      <th></th>\n",
       "      <th>x_home</th>\n",
       "      <th>x_draw</th>\n",
       "      <th>x_away</th>\n",
       "      <th>y_home</th>\n",
       "      <th>y_away</th>\n",
       "      <th>y_draw</th>\n",
       "      <th>y_none</th>\n",
       "      <th>league</th>\n",
       "    </tr>\n",
       "  </thead>\n",
       "  <tbody>\n",
       "    <tr>\n",
       "      <th>0</th>\n",
       "      <td>2.9944</td>\n",
       "      <td>3.1944</td>\n",
       "      <td>2.2256</td>\n",
       "      <td>-1.0000</td>\n",
       "      <td>1.2256</td>\n",
       "      <td>-1.0</td>\n",
       "      <td>0</td>\n",
       "      <td>England: Premier League</td>\n",
       "    </tr>\n",
       "    <tr>\n",
       "      <th>1</th>\n",
       "      <td>1.8667</td>\n",
       "      <td>3.2222</td>\n",
       "      <td>3.6922</td>\n",
       "      <td>0.8667</td>\n",
       "      <td>-1.0000</td>\n",
       "      <td>-1.0</td>\n",
       "      <td>0</td>\n",
       "      <td>England: League Two</td>\n",
       "    </tr>\n",
       "    <tr>\n",
       "      <th>2</th>\n",
       "      <td>1.7822</td>\n",
       "      <td>3.3000</td>\n",
       "      <td>4.0000</td>\n",
       "      <td>-1.0000</td>\n",
       "      <td>3.0000</td>\n",
       "      <td>-1.0</td>\n",
       "      <td>0</td>\n",
       "      <td>England: League Two</td>\n",
       "    </tr>\n",
       "    <tr>\n",
       "      <th>3</th>\n",
       "      <td>2.3122</td>\n",
       "      <td>3.1967</td>\n",
       "      <td>2.7067</td>\n",
       "      <td>1.3122</td>\n",
       "      <td>-1.0000</td>\n",
       "      <td>-1.0</td>\n",
       "      <td>0</td>\n",
       "      <td>England: League Two</td>\n",
       "    </tr>\n",
       "    <tr>\n",
       "      <th>4</th>\n",
       "      <td>1.6411</td>\n",
       "      <td>3.3922</td>\n",
       "      <td>4.7078</td>\n",
       "      <td>-1.0000</td>\n",
       "      <td>3.7078</td>\n",
       "      <td>-1.0</td>\n",
       "      <td>0</td>\n",
       "      <td>England: League Two</td>\n",
       "    </tr>\n",
       "  </tbody>\n",
       "</table>\n",
       "</div>"
      ],
      "text/plain": [
       "   x_home  x_draw  x_away  y_home  y_away  y_draw  y_none  \\\n",
       "0  2.9944  3.1944  2.2256 -1.0000  1.2256    -1.0       0   \n",
       "1  1.8667  3.2222  3.6922  0.8667 -1.0000    -1.0       0   \n",
       "2  1.7822  3.3000  4.0000 -1.0000  3.0000    -1.0       0   \n",
       "3  2.3122  3.1967  2.7067  1.3122 -1.0000    -1.0       0   \n",
       "4  1.6411  3.3922  4.7078 -1.0000  3.7078    -1.0       0   \n",
       "\n",
       "                    league  \n",
       "0  England: Premier League  \n",
       "1      England: League Two  \n",
       "2      England: League Two  \n",
       "3      England: League Two  \n",
       "4      England: League Two  "
      ]
     },
     "execution_count": 7,
     "metadata": {},
     "output_type": "execute_result"
    }
   ],
   "source": [
    "odds_df['y_home'] = -1\n",
    "odds_df['y_away'] = -1\n",
    "odds_df['y_draw'] = -1\n",
    "odds_df['y_none'] = 0\n",
    "\n",
    "odds_df.loc[raw_df.result==-1, 'y_home'] = odds_df.x_home[raw_df.result==-1] - 1\n",
    "odds_df.loc[raw_df.result==1, 'y_away'] = odds_df.x_away[raw_df.result==1] - 1\n",
    "odds_df.loc[raw_df.result==0, 'y_draw'] = odds_df.x_away[raw_df.result==0] - 1\n",
    "\n",
    "odds_df['league'] = raw_df.league\n",
    "\n",
    "odds_df.head()"
   ]
  },
  {
   "cell_type": "code",
   "execution_count": 8,
   "metadata": {},
   "outputs": [
    {
     "data": {
      "text/plain": [
       "(3.389858971230326, 2.1492889127618686)"
      ]
     },
     "execution_count": 8,
     "metadata": {},
     "output_type": "execute_result"
    }
   ],
   "source": [
    "odds_mean = odds_df.iloc[:,:3].values.mean()\n",
    "odds_std = odds_df.iloc[:,:3].values.std()\n",
    "odds_mean, odds_std"
   ]
  },
  {
   "cell_type": "code",
   "execution_count": 9,
   "metadata": {},
   "outputs": [],
   "source": [
    "odds_df.iloc[:, :3] = (odds_df.iloc[:, :3] - odds_mean) / odds_std"
   ]
  },
  {
   "cell_type": "code",
   "execution_count": 10,
   "metadata": {},
   "outputs": [
    {
     "data": {
      "text/html": [
       "<div>\n",
       "<style scoped>\n",
       "    .dataframe tbody tr th:only-of-type {\n",
       "        vertical-align: middle;\n",
       "    }\n",
       "\n",
       "    .dataframe tbody tr th {\n",
       "        vertical-align: top;\n",
       "    }\n",
       "\n",
       "    .dataframe thead th {\n",
       "        text-align: right;\n",
       "    }\n",
       "</style>\n",
       "<table border=\"1\" class=\"dataframe\">\n",
       "  <thead>\n",
       "    <tr style=\"text-align: right;\">\n",
       "      <th></th>\n",
       "      <th>x_home</th>\n",
       "      <th>x_draw</th>\n",
       "      <th>x_away</th>\n",
       "      <th>y_home</th>\n",
       "      <th>y_away</th>\n",
       "      <th>y_draw</th>\n",
       "      <th>y_none</th>\n",
       "      <th>league</th>\n",
       "    </tr>\n",
       "  </thead>\n",
       "  <tbody>\n",
       "    <tr>\n",
       "      <th>0</th>\n",
       "      <td>-0.183995</td>\n",
       "      <td>-0.090941</td>\n",
       "      <td>-0.541695</td>\n",
       "      <td>-1.0000</td>\n",
       "      <td>1.2256</td>\n",
       "      <td>-1.0</td>\n",
       "      <td>0</td>\n",
       "      <td>England: Premier League</td>\n",
       "    </tr>\n",
       "    <tr>\n",
       "      <th>1</th>\n",
       "      <td>-0.708680</td>\n",
       "      <td>-0.078007</td>\n",
       "      <td>0.140670</td>\n",
       "      <td>0.8667</td>\n",
       "      <td>-1.0000</td>\n",
       "      <td>-1.0</td>\n",
       "      <td>0</td>\n",
       "      <td>England: League Two</td>\n",
       "    </tr>\n",
       "    <tr>\n",
       "      <th>2</th>\n",
       "      <td>-0.747996</td>\n",
       "      <td>-0.041809</td>\n",
       "      <td>0.283880</td>\n",
       "      <td>-1.0000</td>\n",
       "      <td>3.0000</td>\n",
       "      <td>-1.0</td>\n",
       "      <td>0</td>\n",
       "      <td>England: League Two</td>\n",
       "    </tr>\n",
       "    <tr>\n",
       "      <th>3</th>\n",
       "      <td>-0.501403</td>\n",
       "      <td>-0.089871</td>\n",
       "      <td>-0.317853</td>\n",
       "      <td>1.3122</td>\n",
       "      <td>-1.0000</td>\n",
       "      <td>-1.0</td>\n",
       "      <td>0</td>\n",
       "      <td>England: League Two</td>\n",
       "    </tr>\n",
       "    <tr>\n",
       "      <th>4</th>\n",
       "      <td>-0.813645</td>\n",
       "      <td>0.001089</td>\n",
       "      <td>0.613199</td>\n",
       "      <td>-1.0000</td>\n",
       "      <td>3.7078</td>\n",
       "      <td>-1.0</td>\n",
       "      <td>0</td>\n",
       "      <td>England: League Two</td>\n",
       "    </tr>\n",
       "  </tbody>\n",
       "</table>\n",
       "</div>"
      ],
      "text/plain": [
       "     x_home    x_draw    x_away  y_home  y_away  y_draw  y_none  \\\n",
       "0 -0.183995 -0.090941 -0.541695 -1.0000  1.2256    -1.0       0   \n",
       "1 -0.708680 -0.078007  0.140670  0.8667 -1.0000    -1.0       0   \n",
       "2 -0.747996 -0.041809  0.283880 -1.0000  3.0000    -1.0       0   \n",
       "3 -0.501403 -0.089871 -0.317853  1.3122 -1.0000    -1.0       0   \n",
       "4 -0.813645  0.001089  0.613199 -1.0000  3.7078    -1.0       0   \n",
       "\n",
       "                    league  \n",
       "0  England: Premier League  \n",
       "1      England: League Two  \n",
       "2      England: League Two  \n",
       "3      England: League Two  \n",
       "4      England: League Two  "
      ]
     },
     "execution_count": 10,
     "metadata": {},
     "output_type": "execute_result"
    }
   ],
   "source": [
    "odds_df.head()"
   ]
  },
  {
   "cell_type": "markdown",
   "metadata": {},
   "source": [
    "### Dataloaders"
   ]
  },
  {
   "cell_type": "code",
   "execution_count": 11,
   "metadata": {},
   "outputs": [],
   "source": [
    "to = TabularPandas(odds_df, cat_names=['league'], procs=[Categorify],\n",
    "                   cont_names = ['x_home', 'x_draw', 'x_away'],\n",
    "                   y_names=['y_home', 'y_draw', 'y_away', 'y_none'],\n",
    "                   splits=RandomSplitter(valid_pct=0.2)(range_of(odds_df)))"
   ]
  },
  {
   "cell_type": "code",
   "execution_count": 12,
   "metadata": {},
   "outputs": [
    {
     "data": {
      "text/html": [
       "<table border=\"1\" class=\"dataframe\">\n",
       "  <thead>\n",
       "    <tr style=\"text-align: right;\">\n",
       "      <th></th>\n",
       "      <th>league</th>\n",
       "      <th>x_home</th>\n",
       "      <th>x_draw</th>\n",
       "      <th>x_away</th>\n",
       "      <th>y_home</th>\n",
       "      <th>y_draw</th>\n",
       "      <th>y_away</th>\n",
       "      <th>y_none</th>\n",
       "    </tr>\n",
       "  </thead>\n",
       "  <tbody>\n",
       "    <tr>\n",
       "      <th>0</th>\n",
       "      <td>Serbia: Super Liga</td>\n",
       "      <td>-0.857009</td>\n",
       "      <td>-0.000679</td>\n",
       "      <td>0.985461</td>\n",
       "      <td>0.5479</td>\n",
       "      <td>-1.0000</td>\n",
       "      <td>-1.0000</td>\n",
       "      <td>0.0</td>\n",
       "    </tr>\n",
       "    <tr>\n",
       "      <th>1</th>\n",
       "      <td>World: Club Friendly</td>\n",
       "      <td>-0.222752</td>\n",
       "      <td>-0.042507</td>\n",
       "      <td>-0.557375</td>\n",
       "      <td>-1.0000</td>\n",
       "      <td>-1.0000</td>\n",
       "      <td>1.1919</td>\n",
       "      <td>0.0</td>\n",
       "    </tr>\n",
       "    <tr>\n",
       "      <th>2</th>\n",
       "      <td>Germany: 2. Bundesliga</td>\n",
       "      <td>-0.699887</td>\n",
       "      <td>-0.052138</td>\n",
       "      <td>0.129829</td>\n",
       "      <td>-1.0000</td>\n",
       "      <td>-1.0000</td>\n",
       "      <td>2.6689</td>\n",
       "      <td>0.0</td>\n",
       "    </tr>\n",
       "    <tr>\n",
       "      <th>3</th>\n",
       "      <td>Germany: Oberliga Niederrhein</td>\n",
       "      <td>0.291511</td>\n",
       "      <td>0.344691</td>\n",
       "      <td>-0.832442</td>\n",
       "      <td>-1.0000</td>\n",
       "      <td>-1.0000</td>\n",
       "      <td>0.6007</td>\n",
       "      <td>0.0</td>\n",
       "    </tr>\n",
       "    <tr>\n",
       "      <th>4</th>\n",
       "      <td>Germany: Regionalliga North</td>\n",
       "      <td>1.152307</td>\n",
       "      <td>0.314821</td>\n",
       "      <td>-0.893718</td>\n",
       "      <td>-1.0000</td>\n",
       "      <td>0.4690</td>\n",
       "      <td>-1.0000</td>\n",
       "      <td>0.0</td>\n",
       "    </tr>\n",
       "    <tr>\n",
       "      <th>5</th>\n",
       "      <td>Ireland: Division 1</td>\n",
       "      <td>1.466690</td>\n",
       "      <td>0.277832</td>\n",
       "      <td>-0.908421</td>\n",
       "      <td>-1.0000</td>\n",
       "      <td>0.4374</td>\n",
       "      <td>-1.0000</td>\n",
       "      <td>0.0</td>\n",
       "    </tr>\n",
       "    <tr>\n",
       "      <th>6</th>\n",
       "      <td>Scotland: Division 2</td>\n",
       "      <td>-0.913399</td>\n",
       "      <td>0.378982</td>\n",
       "      <td>0.977645</td>\n",
       "      <td>-1.0000</td>\n",
       "      <td>4.4911</td>\n",
       "      <td>-1.0000</td>\n",
       "      <td>0.0</td>\n",
       "    </tr>\n",
       "    <tr>\n",
       "      <th>7</th>\n",
       "      <td>England: Vanarama Conference North</td>\n",
       "      <td>-0.823649</td>\n",
       "      <td>0.177427</td>\n",
       "      <td>0.551039</td>\n",
       "      <td>-1.0000</td>\n",
       "      <td>-1.0000</td>\n",
       "      <td>3.5742</td>\n",
       "      <td>0.0</td>\n",
       "    </tr>\n",
       "    <tr>\n",
       "      <th>8</th>\n",
       "      <td>Chile: Primera B</td>\n",
       "      <td>0.077812</td>\n",
       "      <td>-0.055115</td>\n",
       "      <td>-0.699840</td>\n",
       "      <td>-1.0000</td>\n",
       "      <td>0.8857</td>\n",
       "      <td>-1.0000</td>\n",
       "      <td>0.0</td>\n",
       "    </tr>\n",
       "    <tr>\n",
       "      <th>9</th>\n",
       "      <td>Venezuela: Primera Division</td>\n",
       "      <td>-0.956065</td>\n",
       "      <td>0.341481</td>\n",
       "      <td>1.982116</td>\n",
       "      <td>-1.0000</td>\n",
       "      <td>-1.0000</td>\n",
       "      <td>6.6500</td>\n",
       "      <td>0.0</td>\n",
       "    </tr>\n",
       "  </tbody>\n",
       "</table>"
      ],
      "text/plain": [
       "<IPython.core.display.HTML object>"
      ]
     },
     "metadata": {},
     "output_type": "display_data"
    }
   ],
   "source": [
    "dls = to.dataloaders(bs=256)\n",
    "dls.show_batch()"
   ]
  },
  {
   "cell_type": "code",
   "execution_count": 13,
   "metadata": {},
   "outputs": [],
   "source": [
    "def odds_loss(actual, target):\n",
    "    probs = F.softmax(actual, dim=1)\n",
    "    return -(probs*target).sum(dim=1).mean()\n",
    "\n",
    "def odds_profit(actual, target):\n",
    "    probs = F.softmax(actual, dim=1)\n",
    "    return (probs*target).sum()"
   ]
  },
  {
   "cell_type": "code",
   "execution_count": 14,
   "metadata": {},
   "outputs": [],
   "source": [
    "learn = tabular_learner(dls, loss_func=odds_loss, metrics=odds_profit)\n",
    "learn.model = learn.model.to('cuda')"
   ]
  },
  {
   "cell_type": "code",
   "execution_count": 15,
   "metadata": {},
   "outputs": [
    {
     "data": {
      "text/html": [
       "<table border=\"1\" class=\"dataframe\">\n",
       "  <thead>\n",
       "    <tr style=\"text-align: left;\">\n",
       "      <th>epoch</th>\n",
       "      <th>train_loss</th>\n",
       "      <th>valid_loss</th>\n",
       "      <th>odds_profit</th>\n",
       "      <th>time</th>\n",
       "    </tr>\n",
       "  </thead>\n",
       "  <tbody>\n",
       "    <tr>\n",
       "      <td>0</td>\n",
       "      <td>0.076025</td>\n",
       "      <td>0.072771</td>\n",
       "      <td>-18.606413</td>\n",
       "      <td>00:16</td>\n",
       "    </tr>\n",
       "    <tr>\n",
       "      <td>1</td>\n",
       "      <td>0.053508</td>\n",
       "      <td>0.051151</td>\n",
       "      <td>-13.076734</td>\n",
       "      <td>00:17</td>\n",
       "    </tr>\n",
       "    <tr>\n",
       "      <td>2</td>\n",
       "      <td>0.006017</td>\n",
       "      <td>0.015160</td>\n",
       "      <td>-3.869580</td>\n",
       "      <td>00:16</td>\n",
       "    </tr>\n",
       "    <tr>\n",
       "      <td>3</td>\n",
       "      <td>-0.011368</td>\n",
       "      <td>-0.020713</td>\n",
       "      <td>5.309167</td>\n",
       "      <td>00:17</td>\n",
       "    </tr>\n",
       "    <tr>\n",
       "      <td>4</td>\n",
       "      <td>-0.041465</td>\n",
       "      <td>-0.044193</td>\n",
       "      <td>11.318804</td>\n",
       "      <td>00:16</td>\n",
       "    </tr>\n",
       "    <tr>\n",
       "      <td>5</td>\n",
       "      <td>-0.063444</td>\n",
       "      <td>-0.056178</td>\n",
       "      <td>14.386627</td>\n",
       "      <td>00:16</td>\n",
       "    </tr>\n",
       "    <tr>\n",
       "      <td>6</td>\n",
       "      <td>-0.081621</td>\n",
       "      <td>-0.061381</td>\n",
       "      <td>15.718001</td>\n",
       "      <td>00:17</td>\n",
       "    </tr>\n",
       "    <tr>\n",
       "      <td>7</td>\n",
       "      <td>-0.080551</td>\n",
       "      <td>-0.064154</td>\n",
       "      <td>16.427647</td>\n",
       "      <td>00:16</td>\n",
       "    </tr>\n",
       "    <tr>\n",
       "      <td>8</td>\n",
       "      <td>-0.065254</td>\n",
       "      <td>-0.064802</td>\n",
       "      <td>16.593849</td>\n",
       "      <td>00:16</td>\n",
       "    </tr>\n",
       "    <tr>\n",
       "      <td>9</td>\n",
       "      <td>-0.076853</td>\n",
       "      <td>-0.064920</td>\n",
       "      <td>16.624287</td>\n",
       "      <td>00:16</td>\n",
       "    </tr>\n",
       "  </tbody>\n",
       "</table>"
      ],
      "text/plain": [
       "<IPython.core.display.HTML object>"
      ]
     },
     "metadata": {},
     "output_type": "display_data"
    }
   ],
   "source": [
    "learn.fit_one_cycle(10, lr_max=1e-5)"
   ]
  },
  {
   "cell_type": "code",
   "execution_count": 16,
   "metadata": {},
   "outputs": [
    {
     "data": {
      "text/plain": [
       "95888"
      ]
     },
     "execution_count": 16,
     "metadata": {},
     "output_type": "execute_result"
    }
   ],
   "source": [
    "len(dls.valid_ds)"
   ]
  },
  {
   "cell_type": "code",
   "execution_count": 17,
   "metadata": {},
   "outputs": [
    {
     "data": {
      "text/plain": [
       "6225.01123046875"
      ]
     },
     "execution_count": 17,
     "metadata": {},
     "output_type": "execute_result"
    }
   ],
   "source": [
    "profit = 0.\n",
    "for x1,x2,y in dls.valid:\n",
    "    preds = learn.model(x1,x2)\n",
    "    profit += odds_profit(preds, y)\n",
    "\n",
    "profit.item()"
   ]
  },
  {
   "cell_type": "code",
   "execution_count": 18,
   "metadata": {},
   "outputs": [
    {
     "data": {
      "text/plain": [
       "tensor([91, 91, 60, 60], device='cuda:0')"
      ]
     },
     "execution_count": 18,
     "metadata": {},
     "output_type": "execute_result"
    }
   ],
   "source": [
    "F.softmax(preds, dim=1).argmin(dim=0)"
   ]
  },
  {
   "cell_type": "code",
   "execution_count": null,
   "metadata": {},
   "outputs": [],
   "source": []
  }
 ],
 "metadata": {
  "kernelspec": {
   "display_name": "Python 3",
   "language": "python",
   "name": "python3"
  },
  "language_info": {
   "codemirror_mode": {
    "name": "ipython",
    "version": 3
   },
   "file_extension": ".py",
   "mimetype": "text/x-python",
   "name": "python",
   "nbconvert_exporter": "python",
   "pygments_lexer": "ipython3",
   "version": "3.8.5"
  }
 },
 "nbformat": 4,
 "nbformat_minor": 4
}
