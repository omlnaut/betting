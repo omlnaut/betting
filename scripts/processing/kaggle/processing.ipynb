{
 "cells": [
  {
   "cell_type": "code",
   "execution_count": 1,
   "metadata": {},
   "outputs": [],
   "source": [
    "%load_ext autoreload\n",
    "%autoreload 2"
   ]
  },
  {
   "cell_type": "code",
   "execution_count": 2,
   "metadata": {},
   "outputs": [],
   "source": [
    "from pathlib import Path\n",
    "import pandas as pd"
   ]
  },
  {
   "cell_type": "markdown",
   "metadata": {},
   "source": [
    "# Processing the kaggle dataset "
   ]
  },
  {
   "cell_type": "code",
   "execution_count": 24,
   "metadata": {},
   "outputs": [],
   "source": [
    "path = Path('../../../data/kaggle/closing_odds.csv')\n",
    "df = pd.read_csv(path)\n",
    "df.match_date = pd.to_datetime(df.match_date, format='%Y-%m-%d')\n",
    "df.sort_values('match_date', inplace=True)"
   ]
  },
  {
   "cell_type": "code",
   "execution_count": 25,
   "metadata": {},
   "outputs": [
    {
     "data": {
      "text/plain": [
       "(479440, 19)"
      ]
     },
     "execution_count": 25,
     "metadata": {},
     "output_type": "execute_result"
    }
   ],
   "source": [
    "df.shape"
   ]
  },
  {
   "cell_type": "code",
   "execution_count": 26,
   "metadata": {},
   "outputs": [
    {
     "data": {
      "text/plain": [
       "Index(['match_id', 'league', 'match_date', 'home_team', 'home_score',\n",
       "       'away_team', 'away_score', 'avg_odds_home_win', 'avg_odds_draw',\n",
       "       'avg_odds_away_win', 'max_odds_home_win', 'max_odds_draw',\n",
       "       'max_odds_away_win', 'top_bookie_home_win', 'top_bookie_draw',\n",
       "       'top_bookie_away_win', 'n_odds_home_win', 'n_odds_draw',\n",
       "       'n_odds_away_win'],\n",
       "      dtype='object')"
      ]
     },
     "execution_count": 26,
     "metadata": {},
     "output_type": "execute_result"
    }
   ],
   "source": [
    "df.columns"
   ]
  },
  {
   "cell_type": "code",
   "execution_count": 27,
   "metadata": {},
   "outputs": [],
   "source": [
    "leagues = list(df.league.unique())\n",
    "buli_str = 'Germany: Bundesliga'\n",
    "buli_df = df[df.league==buli_str]"
   ]
  },
  {
   "cell_type": "code",
   "execution_count": 29,
   "metadata": {},
   "outputs": [
    {
     "data": {
      "text/html": [
       "<div>\n",
       "<style scoped>\n",
       "    .dataframe tbody tr th:only-of-type {\n",
       "        vertical-align: middle;\n",
       "    }\n",
       "\n",
       "    .dataframe tbody tr th {\n",
       "        vertical-align: top;\n",
       "    }\n",
       "\n",
       "    .dataframe thead th {\n",
       "        text-align: right;\n",
       "    }\n",
       "</style>\n",
       "<table border=\"1\" class=\"dataframe\">\n",
       "  <thead>\n",
       "    <tr style=\"text-align: right;\">\n",
       "      <th></th>\n",
       "      <th>match_id</th>\n",
       "      <th>league</th>\n",
       "      <th>match_date</th>\n",
       "      <th>home_team</th>\n",
       "      <th>home_score</th>\n",
       "      <th>away_team</th>\n",
       "      <th>away_score</th>\n",
       "      <th>avg_odds_home_win</th>\n",
       "      <th>avg_odds_draw</th>\n",
       "      <th>avg_odds_away_win</th>\n",
       "      <th>max_odds_home_win</th>\n",
       "      <th>max_odds_draw</th>\n",
       "      <th>max_odds_away_win</th>\n",
       "      <th>top_bookie_home_win</th>\n",
       "      <th>top_bookie_draw</th>\n",
       "      <th>top_bookie_away_win</th>\n",
       "      <th>n_odds_home_win</th>\n",
       "      <th>n_odds_draw</th>\n",
       "      <th>n_odds_away_win</th>\n",
       "    </tr>\n",
       "  </thead>\n",
       "  <tbody>\n",
       "    <tr>\n",
       "      <th>474430</th>\n",
       "      <td>870166</td>\n",
       "      <td>Germany: Bundesliga</td>\n",
       "      <td>2015-05-23</td>\n",
       "      <td>Dortmund</td>\n",
       "      <td>3</td>\n",
       "      <td>Werder Bremen</td>\n",
       "      <td>2</td>\n",
       "      <td>1.2541</td>\n",
       "      <td>6.4234</td>\n",
       "      <td>9.9490</td>\n",
       "      <td>1.30</td>\n",
       "      <td>7.47</td>\n",
       "      <td>13.00</td>\n",
       "      <td>Interwetten</td>\n",
       "      <td>Pinnacle Sports</td>\n",
       "      <td>William Hill</td>\n",
       "      <td>29</td>\n",
       "      <td>29</td>\n",
       "      <td>29</td>\n",
       "    </tr>\n",
       "    <tr>\n",
       "      <th>474428</th>\n",
       "      <td>870164</td>\n",
       "      <td>Germany: Bundesliga</td>\n",
       "      <td>2015-05-23</td>\n",
       "      <td>Bayern Munich</td>\n",
       "      <td>2</td>\n",
       "      <td>Mainz</td>\n",
       "      <td>0</td>\n",
       "      <td>1.1700</td>\n",
       "      <td>7.9562</td>\n",
       "      <td>13.4545</td>\n",
       "      <td>1.20</td>\n",
       "      <td>9.48</td>\n",
       "      <td>17.00</td>\n",
       "      <td>bwin</td>\n",
       "      <td>Pinnacle Sports</td>\n",
       "      <td>Sportingbet</td>\n",
       "      <td>29</td>\n",
       "      <td>29</td>\n",
       "      <td>29</td>\n",
       "    </tr>\n",
       "    <tr>\n",
       "      <th>474429</th>\n",
       "      <td>870165</td>\n",
       "      <td>Germany: Bundesliga</td>\n",
       "      <td>2015-05-23</td>\n",
       "      <td>B. Monchengladbach</td>\n",
       "      <td>1</td>\n",
       "      <td>Augsburg</td>\n",
       "      <td>3</td>\n",
       "      <td>1.4703</td>\n",
       "      <td>4.5645</td>\n",
       "      <td>6.3879</td>\n",
       "      <td>1.53</td>\n",
       "      <td>5.00</td>\n",
       "      <td>7.16</td>\n",
       "      <td>Coral</td>\n",
       "      <td>Pinnacle Sports</td>\n",
       "      <td>12BET</td>\n",
       "      <td>29</td>\n",
       "      <td>29</td>\n",
       "      <td>29</td>\n",
       "    </tr>\n",
       "    <tr>\n",
       "      <th>475447</th>\n",
       "      <td>871556</td>\n",
       "      <td>Germany: Bundesliga</td>\n",
       "      <td>2015-05-28</td>\n",
       "      <td>Hamburger SV</td>\n",
       "      <td>1</td>\n",
       "      <td>Karlsruher</td>\n",
       "      <td>1</td>\n",
       "      <td>2.2679</td>\n",
       "      <td>3.1768</td>\n",
       "      <td>3.2704</td>\n",
       "      <td>2.46</td>\n",
       "      <td>3.40</td>\n",
       "      <td>3.85</td>\n",
       "      <td>Pinnacle Sports</td>\n",
       "      <td>myBet</td>\n",
       "      <td>myBet</td>\n",
       "      <td>28</td>\n",
       "      <td>28</td>\n",
       "      <td>28</td>\n",
       "    </tr>\n",
       "    <tr>\n",
       "      <th>476364</th>\n",
       "      <td>872810</td>\n",
       "      <td>Germany: Bundesliga</td>\n",
       "      <td>2015-06-01</td>\n",
       "      <td>Karlsruher</td>\n",
       "      <td>1</td>\n",
       "      <td>Hamburger SV</td>\n",
       "      <td>1</td>\n",
       "      <td>2.1682</td>\n",
       "      <td>3.3089</td>\n",
       "      <td>3.3564</td>\n",
       "      <td>2.30</td>\n",
       "      <td>3.45</td>\n",
       "      <td>3.87</td>\n",
       "      <td>BetVictor</td>\n",
       "      <td>SBOBET</td>\n",
       "      <td>Pinnacle Sports</td>\n",
       "      <td>28</td>\n",
       "      <td>28</td>\n",
       "      <td>28</td>\n",
       "    </tr>\n",
       "  </tbody>\n",
       "</table>\n",
       "</div>"
      ],
      "text/plain": [
       "        match_id               league match_date           home_team  \\\n",
       "474430    870166  Germany: Bundesliga 2015-05-23            Dortmund   \n",
       "474428    870164  Germany: Bundesliga 2015-05-23       Bayern Munich   \n",
       "474429    870165  Germany: Bundesliga 2015-05-23  B. Monchengladbach   \n",
       "475447    871556  Germany: Bundesliga 2015-05-28        Hamburger SV   \n",
       "476364    872810  Germany: Bundesliga 2015-06-01          Karlsruher   \n",
       "\n",
       "        home_score      away_team  away_score  avg_odds_home_win  \\\n",
       "474430           3  Werder Bremen           2             1.2541   \n",
       "474428           2          Mainz           0             1.1700   \n",
       "474429           1       Augsburg           3             1.4703   \n",
       "475447           1     Karlsruher           1             2.2679   \n",
       "476364           1   Hamburger SV           1             2.1682   \n",
       "\n",
       "        avg_odds_draw  avg_odds_away_win  max_odds_home_win  max_odds_draw  \\\n",
       "474430         6.4234             9.9490               1.30           7.47   \n",
       "474428         7.9562            13.4545               1.20           9.48   \n",
       "474429         4.5645             6.3879               1.53           5.00   \n",
       "475447         3.1768             3.2704               2.46           3.40   \n",
       "476364         3.3089             3.3564               2.30           3.45   \n",
       "\n",
       "        max_odds_away_win top_bookie_home_win  top_bookie_draw  \\\n",
       "474430              13.00         Interwetten  Pinnacle Sports   \n",
       "474428              17.00                bwin  Pinnacle Sports   \n",
       "474429               7.16               Coral  Pinnacle Sports   \n",
       "475447               3.85     Pinnacle Sports            myBet   \n",
       "476364               3.87           BetVictor           SBOBET   \n",
       "\n",
       "       top_bookie_away_win  n_odds_home_win  n_odds_draw  n_odds_away_win  \n",
       "474430        William Hill               29           29               29  \n",
       "474428         Sportingbet               29           29               29  \n",
       "474429               12BET               29           29               29  \n",
       "475447               myBet               28           28               28  \n",
       "476364     Pinnacle Sports               28           28               28  "
      ]
     },
     "execution_count": 29,
     "metadata": {},
     "output_type": "execute_result"
    }
   ],
   "source": [
    "buli_df.tail()"
   ]
  },
  {
   "cell_type": "code",
   "execution_count": 21,
   "metadata": {},
   "outputs": [
    {
     "data": {
      "text/plain": [
       "2747"
      ]
     },
     "execution_count": 21,
     "metadata": {},
     "output_type": "execute_result"
    }
   ],
   "source": [
    "len(buli_df)"
   ]
  },
  {
   "cell_type": "code",
   "execution_count": 22,
   "metadata": {},
   "outputs": [
    {
     "data": {
      "text/plain": [
       "306"
      ]
     },
     "execution_count": 22,
     "metadata": {},
     "output_type": "execute_result"
    }
   ],
   "source": [
    "17*18"
   ]
  },
  {
   "cell_type": "code",
   "execution_count": 23,
   "metadata": {},
   "outputs": [
    {
     "data": {
      "text/plain": [
       "8.977124183006536"
      ]
     },
     "execution_count": 23,
     "metadata": {},
     "output_type": "execute_result"
    }
   ],
   "source": [
    "2747/306"
   ]
  },
  {
   "cell_type": "code",
   "execution_count": null,
   "metadata": {},
   "outputs": [],
   "source": []
  }
 ],
 "metadata": {
  "kernelspec": {
   "display_name": "Python 3",
   "language": "python",
   "name": "python3"
  },
  "language_info": {
   "codemirror_mode": {
    "name": "ipython",
    "version": 3
   },
   "file_extension": ".py",
   "mimetype": "text/x-python",
   "name": "python",
   "nbconvert_exporter": "python",
   "pygments_lexer": "ipython3",
   "version": "3.8.5"
  }
 },
 "nbformat": 4,
 "nbformat_minor": 4
}
